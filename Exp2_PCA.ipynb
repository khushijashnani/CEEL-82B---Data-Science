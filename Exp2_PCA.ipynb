{
  "nbformat": 4,
  "nbformat_minor": 0,
  "metadata": {
    "colab": {
      "name": "Exp2-PCA.ipynb",
      "provenance": []
    },
    "kernelspec": {
      "name": "python3",
      "display_name": "Python 3"
    },
    "language_info": {
      "name": "python"
    }
  },
  "cells": [
    {
      "cell_type": "markdown",
      "source": [
        "###Experiment 2\n",
        "\n",
        "Name - Khushi Jashnani\n",
        "\n",
        "UID - 2018130017"
      ],
      "metadata": {
        "id": "_TtYomzrEGm4"
      }
    },
    {
      "cell_type": "markdown",
      "source": [
        "###**Objective**: To implement and use Principal Component Analysis using Python Platform\n",
        "\n",
        "#### **Case study** : \n",
        "\n",
        "Auto-MPG prediction – Use Linear Regression to build a Model to predict the mpg of cars in terms of 3 multivalued discrete and 5 continuous\n",
        "attributes.\n",
        "\n",
        "\n",
        "#### **Outcomes** :\n",
        "\n",
        "1. To learn how PCA is to identify an underlying structure or pattern beneath set of multivariate data.\n",
        "\n",
        "2. To interpret the results of evaluated components\n",
        "\n",
        "### Attribute Information:\n",
        "\n",
        "1. mpg: continuous\n",
        "2. cylinders: multi-valued discrete\n",
        "3. displacement: continuous\n",
        "4. horsepower: continuous\n",
        "5. weight: continuous\n",
        "6. acceleration: continuous\n",
        "7. model year: multi-valued discrete\n",
        "8. origin: multi-valued discrete\n",
        "9. car name: string (unique for each instance)"
      ],
      "metadata": {
        "id": "MpUWoaupEE3D"
      }
    },
    {
      "cell_type": "code",
      "execution_count": 1,
      "metadata": {
        "id": "9dzwtzfjATCH"
      },
      "outputs": [],
      "source": [
        "# importing the necessary libraries\n",
        "import numpy as np \n",
        "import pandas as pd \n",
        "import matplotlib.pyplot as plt \n",
        "import seaborn as sns\n",
        "%matplotlib inline"
      ]
    },
    {
      "cell_type": "code",
      "source": [
        "# Connecting/Mounting the drive\n",
        "from google.colab import drive\n",
        "drive.mount('/content/drive')"
      ],
      "metadata": {
        "colab": {
          "base_uri": "https://localhost:8080/"
        },
        "id": "nOvpwpIsLzjA",
        "outputId": "110490d4-39a9-4eb5-c51e-660b3fb6b70e"
      },
      "execution_count": 2,
      "outputs": [
        {
          "output_type": "stream",
          "name": "stdout",
          "text": [
            "Mounted at /content/drive\n"
          ]
        }
      ]
    },
    {
      "cell_type": "code",
      "source": [
        "%cd drive/MyDrive/Colab Notebooks/DS/Labs/Exp1"
      ],
      "metadata": {
        "colab": {
          "base_uri": "https://localhost:8080/"
        },
        "id": "OLrJ-IplMPY-",
        "outputId": "0e850975-79a6-4853-af86-d6f503e47652"
      },
      "execution_count": 3,
      "outputs": [
        {
          "output_type": "stream",
          "name": "stdout",
          "text": [
            "/content/drive/MyDrive/Colab Notebooks/DS/Labs/Exp1\n"
          ]
        }
      ]
    },
    {
      "cell_type": "code",
      "source": [
        "%cd Auto-mpg"
      ],
      "metadata": {
        "colab": {
          "base_uri": "https://localhost:8080/"
        },
        "id": "MXZurfDHUAfC",
        "outputId": "2a3641e0-1038-48b3-c149-0eb3cd7c624e"
      },
      "execution_count": 4,
      "outputs": [
        {
          "output_type": "stream",
          "name": "stdout",
          "text": [
            "/content/drive/MyDrive/Colab Notebooks/DS/Labs/Exp1/Auto-mpg\n"
          ]
        }
      ]
    },
    {
      "cell_type": "markdown",
      "source": [
        "1. Load the dataset (Use pandas )"
      ],
      "metadata": {
        "id": "ttn4wX8PEW7u"
      }
    },
    {
      "cell_type": "code",
      "source": [
        "# Reading the training dataset\n",
        "data = pd.read_csv('auto-mpg.csv')\n",
        "data.head()"
      ],
      "metadata": {
        "colab": {
          "base_uri": "https://localhost:8080/",
          "height": 206
        },
        "id": "K5whDMyDL-5v",
        "outputId": "40627bc0-14bb-4f1a-a03d-13bbcd4063a9"
      },
      "execution_count": 5,
      "outputs": [
        {
          "output_type": "execute_result",
          "data": {
            "text/html": [
              "\n",
              "  <div id=\"df-f3045dd5-6ce7-471c-af07-2b423785054f\">\n",
              "    <div class=\"colab-df-container\">\n",
              "      <div>\n",
              "<style scoped>\n",
              "    .dataframe tbody tr th:only-of-type {\n",
              "        vertical-align: middle;\n",
              "    }\n",
              "\n",
              "    .dataframe tbody tr th {\n",
              "        vertical-align: top;\n",
              "    }\n",
              "\n",
              "    .dataframe thead th {\n",
              "        text-align: right;\n",
              "    }\n",
              "</style>\n",
              "<table border=\"1\" class=\"dataframe\">\n",
              "  <thead>\n",
              "    <tr style=\"text-align: right;\">\n",
              "      <th></th>\n",
              "      <th>mpg</th>\n",
              "      <th>cylinders</th>\n",
              "      <th>displacement</th>\n",
              "      <th>horsepower</th>\n",
              "      <th>weight</th>\n",
              "      <th>acceleration</th>\n",
              "      <th>model year</th>\n",
              "      <th>origin</th>\n",
              "      <th>car name</th>\n",
              "    </tr>\n",
              "  </thead>\n",
              "  <tbody>\n",
              "    <tr>\n",
              "      <th>0</th>\n",
              "      <td>18.0</td>\n",
              "      <td>8</td>\n",
              "      <td>307.0</td>\n",
              "      <td>130</td>\n",
              "      <td>3504</td>\n",
              "      <td>12.0</td>\n",
              "      <td>70</td>\n",
              "      <td>1</td>\n",
              "      <td>chevrolet chevelle malibu</td>\n",
              "    </tr>\n",
              "    <tr>\n",
              "      <th>1</th>\n",
              "      <td>15.0</td>\n",
              "      <td>8</td>\n",
              "      <td>350.0</td>\n",
              "      <td>165</td>\n",
              "      <td>3693</td>\n",
              "      <td>11.5</td>\n",
              "      <td>70</td>\n",
              "      <td>1</td>\n",
              "      <td>buick skylark 320</td>\n",
              "    </tr>\n",
              "    <tr>\n",
              "      <th>2</th>\n",
              "      <td>18.0</td>\n",
              "      <td>8</td>\n",
              "      <td>318.0</td>\n",
              "      <td>150</td>\n",
              "      <td>3436</td>\n",
              "      <td>11.0</td>\n",
              "      <td>70</td>\n",
              "      <td>1</td>\n",
              "      <td>plymouth satellite</td>\n",
              "    </tr>\n",
              "    <tr>\n",
              "      <th>3</th>\n",
              "      <td>16.0</td>\n",
              "      <td>8</td>\n",
              "      <td>304.0</td>\n",
              "      <td>150</td>\n",
              "      <td>3433</td>\n",
              "      <td>12.0</td>\n",
              "      <td>70</td>\n",
              "      <td>1</td>\n",
              "      <td>amc rebel sst</td>\n",
              "    </tr>\n",
              "    <tr>\n",
              "      <th>4</th>\n",
              "      <td>17.0</td>\n",
              "      <td>8</td>\n",
              "      <td>302.0</td>\n",
              "      <td>140</td>\n",
              "      <td>3449</td>\n",
              "      <td>10.5</td>\n",
              "      <td>70</td>\n",
              "      <td>1</td>\n",
              "      <td>ford torino</td>\n",
              "    </tr>\n",
              "  </tbody>\n",
              "</table>\n",
              "</div>\n",
              "      <button class=\"colab-df-convert\" onclick=\"convertToInteractive('df-f3045dd5-6ce7-471c-af07-2b423785054f')\"\n",
              "              title=\"Convert this dataframe to an interactive table.\"\n",
              "              style=\"display:none;\">\n",
              "        \n",
              "  <svg xmlns=\"http://www.w3.org/2000/svg\" height=\"24px\"viewBox=\"0 0 24 24\"\n",
              "       width=\"24px\">\n",
              "    <path d=\"M0 0h24v24H0V0z\" fill=\"none\"/>\n",
              "    <path d=\"M18.56 5.44l.94 2.06.94-2.06 2.06-.94-2.06-.94-.94-2.06-.94 2.06-2.06.94zm-11 1L8.5 8.5l.94-2.06 2.06-.94-2.06-.94L8.5 2.5l-.94 2.06-2.06.94zm10 10l.94 2.06.94-2.06 2.06-.94-2.06-.94-.94-2.06-.94 2.06-2.06.94z\"/><path d=\"M17.41 7.96l-1.37-1.37c-.4-.4-.92-.59-1.43-.59-.52 0-1.04.2-1.43.59L10.3 9.45l-7.72 7.72c-.78.78-.78 2.05 0 2.83L4 21.41c.39.39.9.59 1.41.59.51 0 1.02-.2 1.41-.59l7.78-7.78 2.81-2.81c.8-.78.8-2.07 0-2.86zM5.41 20L4 18.59l7.72-7.72 1.47 1.35L5.41 20z\"/>\n",
              "  </svg>\n",
              "      </button>\n",
              "      \n",
              "  <style>\n",
              "    .colab-df-container {\n",
              "      display:flex;\n",
              "      flex-wrap:wrap;\n",
              "      gap: 12px;\n",
              "    }\n",
              "\n",
              "    .colab-df-convert {\n",
              "      background-color: #E8F0FE;\n",
              "      border: none;\n",
              "      border-radius: 50%;\n",
              "      cursor: pointer;\n",
              "      display: none;\n",
              "      fill: #1967D2;\n",
              "      height: 32px;\n",
              "      padding: 0 0 0 0;\n",
              "      width: 32px;\n",
              "    }\n",
              "\n",
              "    .colab-df-convert:hover {\n",
              "      background-color: #E2EBFA;\n",
              "      box-shadow: 0px 1px 2px rgba(60, 64, 67, 0.3), 0px 1px 3px 1px rgba(60, 64, 67, 0.15);\n",
              "      fill: #174EA6;\n",
              "    }\n",
              "\n",
              "    [theme=dark] .colab-df-convert {\n",
              "      background-color: #3B4455;\n",
              "      fill: #D2E3FC;\n",
              "    }\n",
              "\n",
              "    [theme=dark] .colab-df-convert:hover {\n",
              "      background-color: #434B5C;\n",
              "      box-shadow: 0px 1px 3px 1px rgba(0, 0, 0, 0.15);\n",
              "      filter: drop-shadow(0px 1px 2px rgba(0, 0, 0, 0.3));\n",
              "      fill: #FFFFFF;\n",
              "    }\n",
              "  </style>\n",
              "\n",
              "      <script>\n",
              "        const buttonEl =\n",
              "          document.querySelector('#df-f3045dd5-6ce7-471c-af07-2b423785054f button.colab-df-convert');\n",
              "        buttonEl.style.display =\n",
              "          google.colab.kernel.accessAllowed ? 'block' : 'none';\n",
              "\n",
              "        async function convertToInteractive(key) {\n",
              "          const element = document.querySelector('#df-f3045dd5-6ce7-471c-af07-2b423785054f');\n",
              "          const dataTable =\n",
              "            await google.colab.kernel.invokeFunction('convertToInteractive',\n",
              "                                                     [key], {});\n",
              "          if (!dataTable) return;\n",
              "\n",
              "          const docLinkHtml = 'Like what you see? Visit the ' +\n",
              "            '<a target=\"_blank\" href=https://colab.research.google.com/notebooks/data_table.ipynb>data table notebook</a>'\n",
              "            + ' to learn more about interactive tables.';\n",
              "          element.innerHTML = '';\n",
              "          dataTable['output_type'] = 'display_data';\n",
              "          await google.colab.output.renderOutput(dataTable, element);\n",
              "          const docLink = document.createElement('div');\n",
              "          docLink.innerHTML = docLinkHtml;\n",
              "          element.appendChild(docLink);\n",
              "        }\n",
              "      </script>\n",
              "    </div>\n",
              "  </div>\n",
              "  "
            ],
            "text/plain": [
              "    mpg  cylinders  displacement  ... model year  origin                   car name\n",
              "0  18.0          8         307.0  ...         70       1  chevrolet chevelle malibu\n",
              "1  15.0          8         350.0  ...         70       1          buick skylark 320\n",
              "2  18.0          8         318.0  ...         70       1         plymouth satellite\n",
              "3  16.0          8         304.0  ...         70       1              amc rebel sst\n",
              "4  17.0          8         302.0  ...         70       1                ford torino\n",
              "\n",
              "[5 rows x 9 columns]"
            ]
          },
          "metadata": {},
          "execution_count": 5
        }
      ]
    },
    {
      "cell_type": "code",
      "source": [
        "auto_misspelled = {'chevroelt': 'chevrolet',\n",
        "                   'chevy': 'chevrolet',\n",
        "                   'vokswagen': 'volkswagen',\n",
        "                   'vw': 'volkswagen',\n",
        "                   'hi': 'harvester',\n",
        "                   'maxda': 'mazda',\n",
        "                   'toyouta': 'toyota',\n",
        "                   'mercedes-benz': 'mercedes'}\n",
        "\n",
        "data['brand'] = [auto_misspelled[key].title() if key in auto_misspelled else \\\n",
        "               key.title() for key in [i.split()[0] for i in data['car name']]]\n",
        "\n",
        "data['name'] = [' '.join(i.split()[1:]).title() for i in data['car name']]\n",
        "data = data.drop(columns = 'car name', axis = 0)\n",
        "data.head()"
      ],
      "metadata": {
        "colab": {
          "base_uri": "https://localhost:8080/",
          "height": 206
        },
        "id": "nP5sQflZ4dGJ",
        "outputId": "a6667760-d986-402b-c901-cd3bdf22b480"
      },
      "execution_count": 6,
      "outputs": [
        {
          "output_type": "execute_result",
          "data": {
            "text/html": [
              "\n",
              "  <div id=\"df-290242eb-a393-4ba6-9211-119a6818a632\">\n",
              "    <div class=\"colab-df-container\">\n",
              "      <div>\n",
              "<style scoped>\n",
              "    .dataframe tbody tr th:only-of-type {\n",
              "        vertical-align: middle;\n",
              "    }\n",
              "\n",
              "    .dataframe tbody tr th {\n",
              "        vertical-align: top;\n",
              "    }\n",
              "\n",
              "    .dataframe thead th {\n",
              "        text-align: right;\n",
              "    }\n",
              "</style>\n",
              "<table border=\"1\" class=\"dataframe\">\n",
              "  <thead>\n",
              "    <tr style=\"text-align: right;\">\n",
              "      <th></th>\n",
              "      <th>mpg</th>\n",
              "      <th>cylinders</th>\n",
              "      <th>displacement</th>\n",
              "      <th>horsepower</th>\n",
              "      <th>weight</th>\n",
              "      <th>acceleration</th>\n",
              "      <th>model year</th>\n",
              "      <th>origin</th>\n",
              "      <th>brand</th>\n",
              "      <th>name</th>\n",
              "    </tr>\n",
              "  </thead>\n",
              "  <tbody>\n",
              "    <tr>\n",
              "      <th>0</th>\n",
              "      <td>18.0</td>\n",
              "      <td>8</td>\n",
              "      <td>307.0</td>\n",
              "      <td>130</td>\n",
              "      <td>3504</td>\n",
              "      <td>12.0</td>\n",
              "      <td>70</td>\n",
              "      <td>1</td>\n",
              "      <td>Chevrolet</td>\n",
              "      <td>Chevelle Malibu</td>\n",
              "    </tr>\n",
              "    <tr>\n",
              "      <th>1</th>\n",
              "      <td>15.0</td>\n",
              "      <td>8</td>\n",
              "      <td>350.0</td>\n",
              "      <td>165</td>\n",
              "      <td>3693</td>\n",
              "      <td>11.5</td>\n",
              "      <td>70</td>\n",
              "      <td>1</td>\n",
              "      <td>Buick</td>\n",
              "      <td>Skylark 320</td>\n",
              "    </tr>\n",
              "    <tr>\n",
              "      <th>2</th>\n",
              "      <td>18.0</td>\n",
              "      <td>8</td>\n",
              "      <td>318.0</td>\n",
              "      <td>150</td>\n",
              "      <td>3436</td>\n",
              "      <td>11.0</td>\n",
              "      <td>70</td>\n",
              "      <td>1</td>\n",
              "      <td>Plymouth</td>\n",
              "      <td>Satellite</td>\n",
              "    </tr>\n",
              "    <tr>\n",
              "      <th>3</th>\n",
              "      <td>16.0</td>\n",
              "      <td>8</td>\n",
              "      <td>304.0</td>\n",
              "      <td>150</td>\n",
              "      <td>3433</td>\n",
              "      <td>12.0</td>\n",
              "      <td>70</td>\n",
              "      <td>1</td>\n",
              "      <td>Amc</td>\n",
              "      <td>Rebel Sst</td>\n",
              "    </tr>\n",
              "    <tr>\n",
              "      <th>4</th>\n",
              "      <td>17.0</td>\n",
              "      <td>8</td>\n",
              "      <td>302.0</td>\n",
              "      <td>140</td>\n",
              "      <td>3449</td>\n",
              "      <td>10.5</td>\n",
              "      <td>70</td>\n",
              "      <td>1</td>\n",
              "      <td>Ford</td>\n",
              "      <td>Torino</td>\n",
              "    </tr>\n",
              "  </tbody>\n",
              "</table>\n",
              "</div>\n",
              "      <button class=\"colab-df-convert\" onclick=\"convertToInteractive('df-290242eb-a393-4ba6-9211-119a6818a632')\"\n",
              "              title=\"Convert this dataframe to an interactive table.\"\n",
              "              style=\"display:none;\">\n",
              "        \n",
              "  <svg xmlns=\"http://www.w3.org/2000/svg\" height=\"24px\"viewBox=\"0 0 24 24\"\n",
              "       width=\"24px\">\n",
              "    <path d=\"M0 0h24v24H0V0z\" fill=\"none\"/>\n",
              "    <path d=\"M18.56 5.44l.94 2.06.94-2.06 2.06-.94-2.06-.94-.94-2.06-.94 2.06-2.06.94zm-11 1L8.5 8.5l.94-2.06 2.06-.94-2.06-.94L8.5 2.5l-.94 2.06-2.06.94zm10 10l.94 2.06.94-2.06 2.06-.94-2.06-.94-.94-2.06-.94 2.06-2.06.94z\"/><path d=\"M17.41 7.96l-1.37-1.37c-.4-.4-.92-.59-1.43-.59-.52 0-1.04.2-1.43.59L10.3 9.45l-7.72 7.72c-.78.78-.78 2.05 0 2.83L4 21.41c.39.39.9.59 1.41.59.51 0 1.02-.2 1.41-.59l7.78-7.78 2.81-2.81c.8-.78.8-2.07 0-2.86zM5.41 20L4 18.59l7.72-7.72 1.47 1.35L5.41 20z\"/>\n",
              "  </svg>\n",
              "      </button>\n",
              "      \n",
              "  <style>\n",
              "    .colab-df-container {\n",
              "      display:flex;\n",
              "      flex-wrap:wrap;\n",
              "      gap: 12px;\n",
              "    }\n",
              "\n",
              "    .colab-df-convert {\n",
              "      background-color: #E8F0FE;\n",
              "      border: none;\n",
              "      border-radius: 50%;\n",
              "      cursor: pointer;\n",
              "      display: none;\n",
              "      fill: #1967D2;\n",
              "      height: 32px;\n",
              "      padding: 0 0 0 0;\n",
              "      width: 32px;\n",
              "    }\n",
              "\n",
              "    .colab-df-convert:hover {\n",
              "      background-color: #E2EBFA;\n",
              "      box-shadow: 0px 1px 2px rgba(60, 64, 67, 0.3), 0px 1px 3px 1px rgba(60, 64, 67, 0.15);\n",
              "      fill: #174EA6;\n",
              "    }\n",
              "\n",
              "    [theme=dark] .colab-df-convert {\n",
              "      background-color: #3B4455;\n",
              "      fill: #D2E3FC;\n",
              "    }\n",
              "\n",
              "    [theme=dark] .colab-df-convert:hover {\n",
              "      background-color: #434B5C;\n",
              "      box-shadow: 0px 1px 3px 1px rgba(0, 0, 0, 0.15);\n",
              "      filter: drop-shadow(0px 1px 2px rgba(0, 0, 0, 0.3));\n",
              "      fill: #FFFFFF;\n",
              "    }\n",
              "  </style>\n",
              "\n",
              "      <script>\n",
              "        const buttonEl =\n",
              "          document.querySelector('#df-290242eb-a393-4ba6-9211-119a6818a632 button.colab-df-convert');\n",
              "        buttonEl.style.display =\n",
              "          google.colab.kernel.accessAllowed ? 'block' : 'none';\n",
              "\n",
              "        async function convertToInteractive(key) {\n",
              "          const element = document.querySelector('#df-290242eb-a393-4ba6-9211-119a6818a632');\n",
              "          const dataTable =\n",
              "            await google.colab.kernel.invokeFunction('convertToInteractive',\n",
              "                                                     [key], {});\n",
              "          if (!dataTable) return;\n",
              "\n",
              "          const docLinkHtml = 'Like what you see? Visit the ' +\n",
              "            '<a target=\"_blank\" href=https://colab.research.google.com/notebooks/data_table.ipynb>data table notebook</a>'\n",
              "            + ' to learn more about interactive tables.';\n",
              "          element.innerHTML = '';\n",
              "          dataTable['output_type'] = 'display_data';\n",
              "          await google.colab.output.renderOutput(dataTable, element);\n",
              "          const docLink = document.createElement('div');\n",
              "          docLink.innerHTML = docLinkHtml;\n",
              "          element.appendChild(docLink);\n",
              "        }\n",
              "      </script>\n",
              "    </div>\n",
              "  </div>\n",
              "  "
            ],
            "text/plain": [
              "    mpg  cylinders  displacement  ... origin      brand             name\n",
              "0  18.0          8         307.0  ...      1  Chevrolet  Chevelle Malibu\n",
              "1  15.0          8         350.0  ...      1      Buick      Skylark 320\n",
              "2  18.0          8         318.0  ...      1   Plymouth        Satellite\n",
              "3  16.0          8         304.0  ...      1        Amc        Rebel Sst\n",
              "4  17.0          8         302.0  ...      1       Ford           Torino\n",
              "\n",
              "[5 rows x 10 columns]"
            ]
          },
          "metadata": {},
          "execution_count": 6
        }
      ]
    },
    {
      "cell_type": "markdown",
      "source": [
        "2. and 3. Exploratory Data Analysis of the dataset and Data Preprocessing (Handling NA values)"
      ],
      "metadata": {
        "id": "yQFln2RJCF1q"
      }
    },
    {
      "cell_type": "code",
      "source": [
        "# Checking the shape of the dataset\n",
        "data.shape"
      ],
      "metadata": {
        "colab": {
          "base_uri": "https://localhost:8080/"
        },
        "id": "JRQzbol-WWWw",
        "outputId": "3546ed72-b708-460b-e4f2-b94d4b896bf2"
      },
      "execution_count": 7,
      "outputs": [
        {
          "output_type": "execute_result",
          "data": {
            "text/plain": [
              "(398, 10)"
            ]
          },
          "metadata": {},
          "execution_count": 7
        }
      ]
    },
    {
      "cell_type": "code",
      "source": [
        "# Check for null values\n",
        "data.isnull().sum()"
      ],
      "metadata": {
        "colab": {
          "base_uri": "https://localhost:8080/"
        },
        "id": "dtAlMkGt1TrX",
        "outputId": "69dc26bc-89aa-4c64-ef81-9f408ab509b1"
      },
      "execution_count": 8,
      "outputs": [
        {
          "output_type": "execute_result",
          "data": {
            "text/plain": [
              "mpg             0\n",
              "cylinders       0\n",
              "displacement    0\n",
              "horsepower      0\n",
              "weight          0\n",
              "acceleration    0\n",
              "model year      0\n",
              "origin          0\n",
              "brand           0\n",
              "name            0\n",
              "dtype: int64"
            ]
          },
          "metadata": {},
          "execution_count": 8
        }
      ]
    },
    {
      "cell_type": "code",
      "source": [
        "# Checking the information of the dataset\n",
        "data.info()"
      ],
      "metadata": {
        "colab": {
          "base_uri": "https://localhost:8080/"
        },
        "id": "QJczT1pHUeuj",
        "outputId": "858e1587-3da8-44eb-f1bf-7511adeed18d"
      },
      "execution_count": 9,
      "outputs": [
        {
          "output_type": "stream",
          "name": "stdout",
          "text": [
            "<class 'pandas.core.frame.DataFrame'>\n",
            "RangeIndex: 398 entries, 0 to 397\n",
            "Data columns (total 10 columns):\n",
            " #   Column        Non-Null Count  Dtype  \n",
            "---  ------        --------------  -----  \n",
            " 0   mpg           398 non-null    float64\n",
            " 1   cylinders     398 non-null    int64  \n",
            " 2   displacement  398 non-null    float64\n",
            " 3   horsepower    398 non-null    object \n",
            " 4   weight        398 non-null    int64  \n",
            " 5   acceleration  398 non-null    float64\n",
            " 6   model year    398 non-null    int64  \n",
            " 7   origin        398 non-null    int64  \n",
            " 8   brand         398 non-null    object \n",
            " 9   name          398 non-null    object \n",
            "dtypes: float64(3), int64(4), object(3)\n",
            "memory usage: 31.2+ KB\n"
          ]
        }
      ]
    },
    {
      "cell_type": "code",
      "source": [
        "data['horsepower'].value_counts().to_frame()"
      ],
      "metadata": {
        "id": "XQMtusmWk3E6",
        "colab": {
          "base_uri": "https://localhost:8080/",
          "height": 423
        },
        "outputId": "94ffa6a7-ef23-4895-9d53-9fe03be10c91"
      },
      "execution_count": 10,
      "outputs": [
        {
          "output_type": "execute_result",
          "data": {
            "text/html": [
              "\n",
              "  <div id=\"df-814dfe48-35ee-4979-b258-157c38e8fd44\">\n",
              "    <div class=\"colab-df-container\">\n",
              "      <div>\n",
              "<style scoped>\n",
              "    .dataframe tbody tr th:only-of-type {\n",
              "        vertical-align: middle;\n",
              "    }\n",
              "\n",
              "    .dataframe tbody tr th {\n",
              "        vertical-align: top;\n",
              "    }\n",
              "\n",
              "    .dataframe thead th {\n",
              "        text-align: right;\n",
              "    }\n",
              "</style>\n",
              "<table border=\"1\" class=\"dataframe\">\n",
              "  <thead>\n",
              "    <tr style=\"text-align: right;\">\n",
              "      <th></th>\n",
              "      <th>horsepower</th>\n",
              "    </tr>\n",
              "  </thead>\n",
              "  <tbody>\n",
              "    <tr>\n",
              "      <th>150</th>\n",
              "      <td>22</td>\n",
              "    </tr>\n",
              "    <tr>\n",
              "      <th>90</th>\n",
              "      <td>20</td>\n",
              "    </tr>\n",
              "    <tr>\n",
              "      <th>88</th>\n",
              "      <td>19</td>\n",
              "    </tr>\n",
              "    <tr>\n",
              "      <th>110</th>\n",
              "      <td>18</td>\n",
              "    </tr>\n",
              "    <tr>\n",
              "      <th>100</th>\n",
              "      <td>17</td>\n",
              "    </tr>\n",
              "    <tr>\n",
              "      <th>...</th>\n",
              "      <td>...</td>\n",
              "    </tr>\n",
              "    <tr>\n",
              "      <th>61</th>\n",
              "      <td>1</td>\n",
              "    </tr>\n",
              "    <tr>\n",
              "      <th>93</th>\n",
              "      <td>1</td>\n",
              "    </tr>\n",
              "    <tr>\n",
              "      <th>148</th>\n",
              "      <td>1</td>\n",
              "    </tr>\n",
              "    <tr>\n",
              "      <th>152</th>\n",
              "      <td>1</td>\n",
              "    </tr>\n",
              "    <tr>\n",
              "      <th>82</th>\n",
              "      <td>1</td>\n",
              "    </tr>\n",
              "  </tbody>\n",
              "</table>\n",
              "<p>94 rows × 1 columns</p>\n",
              "</div>\n",
              "      <button class=\"colab-df-convert\" onclick=\"convertToInteractive('df-814dfe48-35ee-4979-b258-157c38e8fd44')\"\n",
              "              title=\"Convert this dataframe to an interactive table.\"\n",
              "              style=\"display:none;\">\n",
              "        \n",
              "  <svg xmlns=\"http://www.w3.org/2000/svg\" height=\"24px\"viewBox=\"0 0 24 24\"\n",
              "       width=\"24px\">\n",
              "    <path d=\"M0 0h24v24H0V0z\" fill=\"none\"/>\n",
              "    <path d=\"M18.56 5.44l.94 2.06.94-2.06 2.06-.94-2.06-.94-.94-2.06-.94 2.06-2.06.94zm-11 1L8.5 8.5l.94-2.06 2.06-.94-2.06-.94L8.5 2.5l-.94 2.06-2.06.94zm10 10l.94 2.06.94-2.06 2.06-.94-2.06-.94-.94-2.06-.94 2.06-2.06.94z\"/><path d=\"M17.41 7.96l-1.37-1.37c-.4-.4-.92-.59-1.43-.59-.52 0-1.04.2-1.43.59L10.3 9.45l-7.72 7.72c-.78.78-.78 2.05 0 2.83L4 21.41c.39.39.9.59 1.41.59.51 0 1.02-.2 1.41-.59l7.78-7.78 2.81-2.81c.8-.78.8-2.07 0-2.86zM5.41 20L4 18.59l7.72-7.72 1.47 1.35L5.41 20z\"/>\n",
              "  </svg>\n",
              "      </button>\n",
              "      \n",
              "  <style>\n",
              "    .colab-df-container {\n",
              "      display:flex;\n",
              "      flex-wrap:wrap;\n",
              "      gap: 12px;\n",
              "    }\n",
              "\n",
              "    .colab-df-convert {\n",
              "      background-color: #E8F0FE;\n",
              "      border: none;\n",
              "      border-radius: 50%;\n",
              "      cursor: pointer;\n",
              "      display: none;\n",
              "      fill: #1967D2;\n",
              "      height: 32px;\n",
              "      padding: 0 0 0 0;\n",
              "      width: 32px;\n",
              "    }\n",
              "\n",
              "    .colab-df-convert:hover {\n",
              "      background-color: #E2EBFA;\n",
              "      box-shadow: 0px 1px 2px rgba(60, 64, 67, 0.3), 0px 1px 3px 1px rgba(60, 64, 67, 0.15);\n",
              "      fill: #174EA6;\n",
              "    }\n",
              "\n",
              "    [theme=dark] .colab-df-convert {\n",
              "      background-color: #3B4455;\n",
              "      fill: #D2E3FC;\n",
              "    }\n",
              "\n",
              "    [theme=dark] .colab-df-convert:hover {\n",
              "      background-color: #434B5C;\n",
              "      box-shadow: 0px 1px 3px 1px rgba(0, 0, 0, 0.15);\n",
              "      filter: drop-shadow(0px 1px 2px rgba(0, 0, 0, 0.3));\n",
              "      fill: #FFFFFF;\n",
              "    }\n",
              "  </style>\n",
              "\n",
              "      <script>\n",
              "        const buttonEl =\n",
              "          document.querySelector('#df-814dfe48-35ee-4979-b258-157c38e8fd44 button.colab-df-convert');\n",
              "        buttonEl.style.display =\n",
              "          google.colab.kernel.accessAllowed ? 'block' : 'none';\n",
              "\n",
              "        async function convertToInteractive(key) {\n",
              "          const element = document.querySelector('#df-814dfe48-35ee-4979-b258-157c38e8fd44');\n",
              "          const dataTable =\n",
              "            await google.colab.kernel.invokeFunction('convertToInteractive',\n",
              "                                                     [key], {});\n",
              "          if (!dataTable) return;\n",
              "\n",
              "          const docLinkHtml = 'Like what you see? Visit the ' +\n",
              "            '<a target=\"_blank\" href=https://colab.research.google.com/notebooks/data_table.ipynb>data table notebook</a>'\n",
              "            + ' to learn more about interactive tables.';\n",
              "          element.innerHTML = '';\n",
              "          dataTable['output_type'] = 'display_data';\n",
              "          await google.colab.output.renderOutput(dataTable, element);\n",
              "          const docLink = document.createElement('div');\n",
              "          docLink.innerHTML = docLinkHtml;\n",
              "          element.appendChild(docLink);\n",
              "        }\n",
              "      </script>\n",
              "    </div>\n",
              "  </div>\n",
              "  "
            ],
            "text/plain": [
              "     horsepower\n",
              "150          22\n",
              "90           20\n",
              "88           19\n",
              "110          18\n",
              "100          17\n",
              "..          ...\n",
              "61            1\n",
              "93            1\n",
              "148           1\n",
              "152           1\n",
              "82            1\n",
              "\n",
              "[94 rows x 1 columns]"
            ]
          },
          "metadata": {},
          "execution_count": 10
        }
      ]
    },
    {
      "cell_type": "code",
      "source": [
        "data.loc[data['horsepower'] == \"?\", 'horsepower'] = 0"
      ],
      "metadata": {
        "id": "kpe4jdWgn-7h"
      },
      "execution_count": 11,
      "outputs": []
    },
    {
      "cell_type": "code",
      "source": [
        "data['horsepower'].value_counts().to_frame()"
      ],
      "metadata": {
        "colab": {
          "base_uri": "https://localhost:8080/",
          "height": 423
        },
        "id": "S7wjblggk2Ze",
        "outputId": "cab59f2d-ae88-4f5c-e32c-3107018d3b8c"
      },
      "execution_count": 12,
      "outputs": [
        {
          "output_type": "execute_result",
          "data": {
            "text/html": [
              "\n",
              "  <div id=\"df-1c78c8de-3114-43e4-8310-a92c23e4205b\">\n",
              "    <div class=\"colab-df-container\">\n",
              "      <div>\n",
              "<style scoped>\n",
              "    .dataframe tbody tr th:only-of-type {\n",
              "        vertical-align: middle;\n",
              "    }\n",
              "\n",
              "    .dataframe tbody tr th {\n",
              "        vertical-align: top;\n",
              "    }\n",
              "\n",
              "    .dataframe thead th {\n",
              "        text-align: right;\n",
              "    }\n",
              "</style>\n",
              "<table border=\"1\" class=\"dataframe\">\n",
              "  <thead>\n",
              "    <tr style=\"text-align: right;\">\n",
              "      <th></th>\n",
              "      <th>horsepower</th>\n",
              "    </tr>\n",
              "  </thead>\n",
              "  <tbody>\n",
              "    <tr>\n",
              "      <th>150</th>\n",
              "      <td>22</td>\n",
              "    </tr>\n",
              "    <tr>\n",
              "      <th>90</th>\n",
              "      <td>20</td>\n",
              "    </tr>\n",
              "    <tr>\n",
              "      <th>88</th>\n",
              "      <td>19</td>\n",
              "    </tr>\n",
              "    <tr>\n",
              "      <th>110</th>\n",
              "      <td>18</td>\n",
              "    </tr>\n",
              "    <tr>\n",
              "      <th>100</th>\n",
              "      <td>17</td>\n",
              "    </tr>\n",
              "    <tr>\n",
              "      <th>...</th>\n",
              "      <td>...</td>\n",
              "    </tr>\n",
              "    <tr>\n",
              "      <th>61</th>\n",
              "      <td>1</td>\n",
              "    </tr>\n",
              "    <tr>\n",
              "      <th>93</th>\n",
              "      <td>1</td>\n",
              "    </tr>\n",
              "    <tr>\n",
              "      <th>148</th>\n",
              "      <td>1</td>\n",
              "    </tr>\n",
              "    <tr>\n",
              "      <th>152</th>\n",
              "      <td>1</td>\n",
              "    </tr>\n",
              "    <tr>\n",
              "      <th>82</th>\n",
              "      <td>1</td>\n",
              "    </tr>\n",
              "  </tbody>\n",
              "</table>\n",
              "<p>94 rows × 1 columns</p>\n",
              "</div>\n",
              "      <button class=\"colab-df-convert\" onclick=\"convertToInteractive('df-1c78c8de-3114-43e4-8310-a92c23e4205b')\"\n",
              "              title=\"Convert this dataframe to an interactive table.\"\n",
              "              style=\"display:none;\">\n",
              "        \n",
              "  <svg xmlns=\"http://www.w3.org/2000/svg\" height=\"24px\"viewBox=\"0 0 24 24\"\n",
              "       width=\"24px\">\n",
              "    <path d=\"M0 0h24v24H0V0z\" fill=\"none\"/>\n",
              "    <path d=\"M18.56 5.44l.94 2.06.94-2.06 2.06-.94-2.06-.94-.94-2.06-.94 2.06-2.06.94zm-11 1L8.5 8.5l.94-2.06 2.06-.94-2.06-.94L8.5 2.5l-.94 2.06-2.06.94zm10 10l.94 2.06.94-2.06 2.06-.94-2.06-.94-.94-2.06-.94 2.06-2.06.94z\"/><path d=\"M17.41 7.96l-1.37-1.37c-.4-.4-.92-.59-1.43-.59-.52 0-1.04.2-1.43.59L10.3 9.45l-7.72 7.72c-.78.78-.78 2.05 0 2.83L4 21.41c.39.39.9.59 1.41.59.51 0 1.02-.2 1.41-.59l7.78-7.78 2.81-2.81c.8-.78.8-2.07 0-2.86zM5.41 20L4 18.59l7.72-7.72 1.47 1.35L5.41 20z\"/>\n",
              "  </svg>\n",
              "      </button>\n",
              "      \n",
              "  <style>\n",
              "    .colab-df-container {\n",
              "      display:flex;\n",
              "      flex-wrap:wrap;\n",
              "      gap: 12px;\n",
              "    }\n",
              "\n",
              "    .colab-df-convert {\n",
              "      background-color: #E8F0FE;\n",
              "      border: none;\n",
              "      border-radius: 50%;\n",
              "      cursor: pointer;\n",
              "      display: none;\n",
              "      fill: #1967D2;\n",
              "      height: 32px;\n",
              "      padding: 0 0 0 0;\n",
              "      width: 32px;\n",
              "    }\n",
              "\n",
              "    .colab-df-convert:hover {\n",
              "      background-color: #E2EBFA;\n",
              "      box-shadow: 0px 1px 2px rgba(60, 64, 67, 0.3), 0px 1px 3px 1px rgba(60, 64, 67, 0.15);\n",
              "      fill: #174EA6;\n",
              "    }\n",
              "\n",
              "    [theme=dark] .colab-df-convert {\n",
              "      background-color: #3B4455;\n",
              "      fill: #D2E3FC;\n",
              "    }\n",
              "\n",
              "    [theme=dark] .colab-df-convert:hover {\n",
              "      background-color: #434B5C;\n",
              "      box-shadow: 0px 1px 3px 1px rgba(0, 0, 0, 0.15);\n",
              "      filter: drop-shadow(0px 1px 2px rgba(0, 0, 0, 0.3));\n",
              "      fill: #FFFFFF;\n",
              "    }\n",
              "  </style>\n",
              "\n",
              "      <script>\n",
              "        const buttonEl =\n",
              "          document.querySelector('#df-1c78c8de-3114-43e4-8310-a92c23e4205b button.colab-df-convert');\n",
              "        buttonEl.style.display =\n",
              "          google.colab.kernel.accessAllowed ? 'block' : 'none';\n",
              "\n",
              "        async function convertToInteractive(key) {\n",
              "          const element = document.querySelector('#df-1c78c8de-3114-43e4-8310-a92c23e4205b');\n",
              "          const dataTable =\n",
              "            await google.colab.kernel.invokeFunction('convertToInteractive',\n",
              "                                                     [key], {});\n",
              "          if (!dataTable) return;\n",
              "\n",
              "          const docLinkHtml = 'Like what you see? Visit the ' +\n",
              "            '<a target=\"_blank\" href=https://colab.research.google.com/notebooks/data_table.ipynb>data table notebook</a>'\n",
              "            + ' to learn more about interactive tables.';\n",
              "          element.innerHTML = '';\n",
              "          dataTable['output_type'] = 'display_data';\n",
              "          await google.colab.output.renderOutput(dataTable, element);\n",
              "          const docLink = document.createElement('div');\n",
              "          docLink.innerHTML = docLinkHtml;\n",
              "          element.appendChild(docLink);\n",
              "        }\n",
              "      </script>\n",
              "    </div>\n",
              "  </div>\n",
              "  "
            ],
            "text/plain": [
              "     horsepower\n",
              "150          22\n",
              "90           20\n",
              "88           19\n",
              "110          18\n",
              "100          17\n",
              "..          ...\n",
              "61            1\n",
              "93            1\n",
              "148           1\n",
              "152           1\n",
              "82            1\n",
              "\n",
              "[94 rows x 1 columns]"
            ]
          },
          "metadata": {},
          "execution_count": 12
        }
      ]
    },
    {
      "cell_type": "code",
      "source": [
        "data.loc[:, 'horsepower'] = pd.to_numeric(data.loc[:, 'horsepower'])"
      ],
      "metadata": {
        "id": "nl6D59uknquZ"
      },
      "execution_count": 13,
      "outputs": []
    },
    {
      "cell_type": "code",
      "source": [
        "plt.figure(figsize=(10,5))\n",
        "plt.hist(data['horsepower'], bins=50)\n",
        "plt.title('horsepower')\n",
        "plt.show()"
      ],
      "metadata": {
        "colab": {
          "base_uri": "https://localhost:8080/",
          "height": 336
        },
        "id": "GNuf6BfznhVM",
        "outputId": "b69a4d81-9df6-4f7f-f3fb-c52de8c276a5"
      },
      "execution_count": 14,
      "outputs": [
        {
          "output_type": "display_data",
          "data": {
            "image/png": "[encoded data removed]",
            "text/plain": [
              "<Figure size 720x360 with 1 Axes>"
            ]
          },
          "metadata": {
            "needs_background": "light"
          }
        }
      ]
    },
    {
      "cell_type": "code",
      "source": [
        "pd.to_numeric(data.loc[data['horsepower'] != 0, 'horsepower']).median()"
      ],
      "metadata": {
        "colab": {
          "base_uri": "https://localhost:8080/"
        },
        "id": "sUiG5d9LorNh",
        "outputId": "3fbca4d6-193c-4ac0-80e4-fdd55b3f1a44"
      },
      "execution_count": 15,
      "outputs": [
        {
          "output_type": "execute_result",
          "data": {
            "text/plain": [
              "93.5"
            ]
          },
          "metadata": {},
          "execution_count": 15
        }
      ]
    },
    {
      "cell_type": "markdown",
      "source": [
        "Inputing the horse power column with the median"
      ],
      "metadata": {
        "id": "0cO-qVOXv92a"
      }
    },
    {
      "cell_type": "code",
      "source": [
        "data.loc[data['horsepower'] == 0, 'horsepower'] = pd.to_numeric(data.loc[data['horsepower'] != 0, 'horsepower']).median()"
      ],
      "metadata": {
        "id": "Xj4Y2Jl4mmXG"
      },
      "execution_count": 16,
      "outputs": []
    },
    {
      "cell_type": "code",
      "source": [
        "plt.figure(figsize=(10,5))\n",
        "plt.hist(data['horsepower'], bins=50)\n",
        "plt.title('horsepower')\n",
        "plt.show()"
      ],
      "metadata": {
        "colab": {
          "base_uri": "https://localhost:8080/",
          "height": 336
        },
        "id": "2byyAv63kEuZ",
        "outputId": "b9bafb28-2dff-4afa-e09d-1ba93ba666c0"
      },
      "execution_count": 17,
      "outputs": [
        {
          "output_type": "display_data",
          "data": {
            "image/png": "[encoded data removed]",
            "text/plain": [
              "<Figure size 720x360 with 1 Axes>"
            ]
          },
          "metadata": {
            "needs_background": "light"
          }
        }
      ]
    },
    {
      "cell_type": "code",
      "source": [
        "data['brand'].value_counts()"
      ],
      "metadata": {
        "colab": {
          "base_uri": "https://localhost:8080/"
        },
        "id": "p8dDfmYJpy4y",
        "outputId": "f82f5dcd-3f62-46f7-a4b8-c40a3c1f6ab1"
      },
      "execution_count": 18,
      "outputs": [
        {
          "output_type": "execute_result",
          "data": {
            "text/plain": [
              "Ford          51\n",
              "Chevrolet     47\n",
              "Plymouth      31\n",
              "Amc           28\n",
              "Dodge         28\n",
              "Toyota        26\n",
              "Datsun        23\n",
              "Volkswagen    22\n",
              "Buick         17\n",
              "Pontiac       16\n",
              "Honda         13\n",
              "Mazda         12\n",
              "Mercury       11\n",
              "Oldsmobile    10\n",
              "Fiat           8\n",
              "Peugeot        8\n",
              "Audi           7\n",
              "Volvo          6\n",
              "Chrysler       6\n",
              "Renault        5\n",
              "Saab           4\n",
              "Opel           4\n",
              "Subaru         4\n",
              "Mercedes       3\n",
              "Cadillac       2\n",
              "Bmw            2\n",
              "Capri          1\n",
              "Harvester      1\n",
              "Triumph        1\n",
              "Nissan         1\n",
              "Name: brand, dtype: int64"
            ]
          },
          "metadata": {},
          "execution_count": 18
        }
      ]
    },
    {
      "cell_type": "code",
      "source": [
        "data.head()"
      ],
      "metadata": {
        "colab": {
          "base_uri": "https://localhost:8080/",
          "height": 206
        },
        "id": "iCk6L5Uo4qZM",
        "outputId": "3fc8b306-79af-4f90-ec86-6870bcb82e97"
      },
      "execution_count": 19,
      "outputs": [
        {
          "output_type": "execute_result",
          "data": {
            "text/html": [
              "\n",
              "  <div id=\"df-30696849-fae6-4c29-b5fe-8f007160a3da\">\n",
              "    <div class=\"colab-df-container\">\n",
              "      <div>\n",
              "<style scoped>\n",
              "    .dataframe tbody tr th:only-of-type {\n",
              "        vertical-align: middle;\n",
              "    }\n",
              "\n",
              "    .dataframe tbody tr th {\n",
              "        vertical-align: top;\n",
              "    }\n",
              "\n",
              "    .dataframe thead th {\n",
              "        text-align: right;\n",
              "    }\n",
              "</style>\n",
              "<table border=\"1\" class=\"dataframe\">\n",
              "  <thead>\n",
              "    <tr style=\"text-align: right;\">\n",
              "      <th></th>\n",
              "      <th>mpg</th>\n",
              "      <th>cylinders</th>\n",
              "      <th>displacement</th>\n",
              "      <th>horsepower</th>\n",
              "      <th>weight</th>\n",
              "      <th>acceleration</th>\n",
              "      <th>model year</th>\n",
              "      <th>origin</th>\n",
              "      <th>brand</th>\n",
              "      <th>name</th>\n",
              "    </tr>\n",
              "  </thead>\n",
              "  <tbody>\n",
              "    <tr>\n",
              "      <th>0</th>\n",
              "      <td>18.0</td>\n",
              "      <td>8</td>\n",
              "      <td>307.0</td>\n",
              "      <td>130.0</td>\n",
              "      <td>3504</td>\n",
              "      <td>12.0</td>\n",
              "      <td>70</td>\n",
              "      <td>1</td>\n",
              "      <td>Chevrolet</td>\n",
              "      <td>Chevelle Malibu</td>\n",
              "    </tr>\n",
              "    <tr>\n",
              "      <th>1</th>\n",
              "      <td>15.0</td>\n",
              "      <td>8</td>\n",
              "      <td>350.0</td>\n",
              "      <td>165.0</td>\n",
              "      <td>3693</td>\n",
              "      <td>11.5</td>\n",
              "      <td>70</td>\n",
              "      <td>1</td>\n",
              "      <td>Buick</td>\n",
              "      <td>Skylark 320</td>\n",
              "    </tr>\n",
              "    <tr>\n",
              "      <th>2</th>\n",
              "      <td>18.0</td>\n",
              "      <td>8</td>\n",
              "      <td>318.0</td>\n",
              "      <td>150.0</td>\n",
              "      <td>3436</td>\n",
              "      <td>11.0</td>\n",
              "      <td>70</td>\n",
              "      <td>1</td>\n",
              "      <td>Plymouth</td>\n",
              "      <td>Satellite</td>\n",
              "    </tr>\n",
              "    <tr>\n",
              "      <th>3</th>\n",
              "      <td>16.0</td>\n",
              "      <td>8</td>\n",
              "      <td>304.0</td>\n",
              "      <td>150.0</td>\n",
              "      <td>3433</td>\n",
              "      <td>12.0</td>\n",
              "      <td>70</td>\n",
              "      <td>1</td>\n",
              "      <td>Amc</td>\n",
              "      <td>Rebel Sst</td>\n",
              "    </tr>\n",
              "    <tr>\n",
              "      <th>4</th>\n",
              "      <td>17.0</td>\n",
              "      <td>8</td>\n",
              "      <td>302.0</td>\n",
              "      <td>140.0</td>\n",
              "      <td>3449</td>\n",
              "      <td>10.5</td>\n",
              "      <td>70</td>\n",
              "      <td>1</td>\n",
              "      <td>Ford</td>\n",
              "      <td>Torino</td>\n",
              "    </tr>\n",
              "  </tbody>\n",
              "</table>\n",
              "</div>\n",
              "      <button class=\"colab-df-convert\" onclick=\"convertToInteractive('df-30696849-fae6-4c29-b5fe-8f007160a3da')\"\n",
              "              title=\"Convert this dataframe to an interactive table.\"\n",
              "              style=\"display:none;\">\n",
              "        \n",
              "  <svg xmlns=\"http://www.w3.org/2000/svg\" height=\"24px\"viewBox=\"0 0 24 24\"\n",
              "       width=\"24px\">\n",
              "    <path d=\"M0 0h24v24H0V0z\" fill=\"none\"/>\n",
              "    <path d=\"M18.56 5.44l.94 2.06.94-2.06 2.06-.94-2.06-.94-.94-2.06-.94 2.06-2.06.94zm-11 1L8.5 8.5l.94-2.06 2.06-.94-2.06-.94L8.5 2.5l-.94 2.06-2.06.94zm10 10l.94 2.06.94-2.06 2.06-.94-2.06-.94-.94-2.06-.94 2.06-2.06.94z\"/><path d=\"M17.41 7.96l-1.37-1.37c-.4-.4-.92-.59-1.43-.59-.52 0-1.04.2-1.43.59L10.3 9.45l-7.72 7.72c-.78.78-.78 2.05 0 2.83L4 21.41c.39.39.9.59 1.41.59.51 0 1.02-.2 1.41-.59l7.78-7.78 2.81-2.81c.8-.78.8-2.07 0-2.86zM5.41 20L4 18.59l7.72-7.72 1.47 1.35L5.41 20z\"/>\n",
              "  </svg>\n",
              "      </button>\n",
              "      \n",
              "  <style>\n",
              "    .colab-df-container {\n",
              "      display:flex;\n",
              "      flex-wrap:wrap;\n",
              "      gap: 12px;\n",
              "    }\n",
              "\n",
              "    .colab-df-convert {\n",
              "      background-color: #E8F0FE;\n",
              "      border: none;\n",
              "      border-radius: 50%;\n",
              "      cursor: pointer;\n",
              "      display: none;\n",
              "      fill: #1967D2;\n",
              "      height: 32px;\n",
              "      padding: 0 0 0 0;\n",
              "      width: 32px;\n",
              "    }\n",
              "\n",
              "    .colab-df-convert:hover {\n",
              "      background-color: #E2EBFA;\n",
              "      box-shadow: 0px 1px 2px rgba(60, 64, 67, 0.3), 0px 1px 3px 1px rgba(60, 64, 67, 0.15);\n",
              "      fill: #174EA6;\n",
              "    }\n",
              "\n",
              "    [theme=dark] .colab-df-convert {\n",
              "      background-color: #3B4455;\n",
              "      fill: #D2E3FC;\n",
              "    }\n",
              "\n",
              "    [theme=dark] .colab-df-convert:hover {\n",
              "      background-color: #434B5C;\n",
              "      box-shadow: 0px 1px 3px 1px rgba(0, 0, 0, 0.15);\n",
              "      filter: drop-shadow(0px 1px 2px rgba(0, 0, 0, 0.3));\n",
              "      fill: #FFFFFF;\n",
              "    }\n",
              "  </style>\n",
              "\n",
              "      <script>\n",
              "        const buttonEl =\n",
              "          document.querySelector('#df-30696849-fae6-4c29-b5fe-8f007160a3da button.colab-df-convert');\n",
              "        buttonEl.style.display =\n",
              "          google.colab.kernel.accessAllowed ? 'block' : 'none';\n",
              "\n",
              "        async function convertToInteractive(key) {\n",
              "          const element = document.querySelector('#df-30696849-fae6-4c29-b5fe-8f007160a3da');\n",
              "          const dataTable =\n",
              "            await google.colab.kernel.invokeFunction('convertToInteractive',\n",
              "                                                     [key], {});\n",
              "          if (!dataTable) return;\n",
              "\n",
              "          const docLinkHtml = 'Like what you see? Visit the ' +\n",
              "            '<a target=\"_blank\" href=https://colab.research.google.com/notebooks/data_table.ipynb>data table notebook</a>'\n",
              "            + ' to learn more about interactive tables.';\n",
              "          element.innerHTML = '';\n",
              "          dataTable['output_type'] = 'display_data';\n",
              "          await google.colab.output.renderOutput(dataTable, element);\n",
              "          const docLink = document.createElement('div');\n",
              "          docLink.innerHTML = docLinkHtml;\n",
              "          element.appendChild(docLink);\n",
              "        }\n",
              "      </script>\n",
              "    </div>\n",
              "  </div>\n",
              "  "
            ],
            "text/plain": [
              "    mpg  cylinders  displacement  ...  origin      brand             name\n",
              "0  18.0          8         307.0  ...       1  Chevrolet  Chevelle Malibu\n",
              "1  15.0          8         350.0  ...       1      Buick      Skylark 320\n",
              "2  18.0          8         318.0  ...       1   Plymouth        Satellite\n",
              "3  16.0          8         304.0  ...       1        Amc        Rebel Sst\n",
              "4  17.0          8         302.0  ...       1       Ford           Torino\n",
              "\n",
              "[5 rows x 10 columns]"
            ]
          },
          "metadata": {},
          "execution_count": 19
        }
      ]
    },
    {
      "cell_type": "code",
      "source": [
        "data.describe()  "
      ],
      "metadata": {
        "id": "Zvw27-BVWZm0",
        "colab": {
          "base_uri": "https://localhost:8080/",
          "height": 300
        },
        "outputId": "2cf9ab36-bde9-4017-9e6f-0b2ebbbc9571"
      },
      "execution_count": 20,
      "outputs": [
        {
          "output_type": "execute_result",
          "data": {
            "text/html": [
              "\n",
              "  <div id=\"df-d91b874e-bc1c-4d16-a475-1f6a23d35be4\">\n",
              "    <div class=\"colab-df-container\">\n",
              "      <div>\n",
              "<style scoped>\n",
              "    .dataframe tbody tr th:only-of-type {\n",
              "        vertical-align: middle;\n",
              "    }\n",
              "\n",
              "    .dataframe tbody tr th {\n",
              "        vertical-align: top;\n",
              "    }\n",
              "\n",
              "    .dataframe thead th {\n",
              "        text-align: right;\n",
              "    }\n",
              "</style>\n",
              "<table border=\"1\" class=\"dataframe\">\n",
              "  <thead>\n",
              "    <tr style=\"text-align: right;\">\n",
              "      <th></th>\n",
              "      <th>mpg</th>\n",
              "      <th>cylinders</th>\n",
              "      <th>displacement</th>\n",
              "      <th>horsepower</th>\n",
              "      <th>weight</th>\n",
              "      <th>acceleration</th>\n",
              "      <th>model year</th>\n",
              "      <th>origin</th>\n",
              "    </tr>\n",
              "  </thead>\n",
              "  <tbody>\n",
              "    <tr>\n",
              "      <th>count</th>\n",
              "      <td>398.000000</td>\n",
              "      <td>398.000000</td>\n",
              "      <td>398.000000</td>\n",
              "      <td>398.000000</td>\n",
              "      <td>398.000000</td>\n",
              "      <td>398.000000</td>\n",
              "      <td>398.000000</td>\n",
              "      <td>398.000000</td>\n",
              "    </tr>\n",
              "    <tr>\n",
              "      <th>mean</th>\n",
              "      <td>23.514573</td>\n",
              "      <td>5.454774</td>\n",
              "      <td>193.425879</td>\n",
              "      <td>104.304020</td>\n",
              "      <td>2970.424623</td>\n",
              "      <td>15.568090</td>\n",
              "      <td>76.010050</td>\n",
              "      <td>1.572864</td>\n",
              "    </tr>\n",
              "    <tr>\n",
              "      <th>std</th>\n",
              "      <td>7.815984</td>\n",
              "      <td>1.701004</td>\n",
              "      <td>104.269838</td>\n",
              "      <td>38.222625</td>\n",
              "      <td>846.841774</td>\n",
              "      <td>2.757689</td>\n",
              "      <td>3.697627</td>\n",
              "      <td>0.802055</td>\n",
              "    </tr>\n",
              "    <tr>\n",
              "      <th>min</th>\n",
              "      <td>9.000000</td>\n",
              "      <td>3.000000</td>\n",
              "      <td>68.000000</td>\n",
              "      <td>46.000000</td>\n",
              "      <td>1613.000000</td>\n",
              "      <td>8.000000</td>\n",
              "      <td>70.000000</td>\n",
              "      <td>1.000000</td>\n",
              "    </tr>\n",
              "    <tr>\n",
              "      <th>25%</th>\n",
              "      <td>17.500000</td>\n",
              "      <td>4.000000</td>\n",
              "      <td>104.250000</td>\n",
              "      <td>76.000000</td>\n",
              "      <td>2223.750000</td>\n",
              "      <td>13.825000</td>\n",
              "      <td>73.000000</td>\n",
              "      <td>1.000000</td>\n",
              "    </tr>\n",
              "    <tr>\n",
              "      <th>50%</th>\n",
              "      <td>23.000000</td>\n",
              "      <td>4.000000</td>\n",
              "      <td>148.500000</td>\n",
              "      <td>93.500000</td>\n",
              "      <td>2803.500000</td>\n",
              "      <td>15.500000</td>\n",
              "      <td>76.000000</td>\n",
              "      <td>1.000000</td>\n",
              "    </tr>\n",
              "    <tr>\n",
              "      <th>75%</th>\n",
              "      <td>29.000000</td>\n",
              "      <td>8.000000</td>\n",
              "      <td>262.000000</td>\n",
              "      <td>125.000000</td>\n",
              "      <td>3608.000000</td>\n",
              "      <td>17.175000</td>\n",
              "      <td>79.000000</td>\n",
              "      <td>2.000000</td>\n",
              "    </tr>\n",
              "    <tr>\n",
              "      <th>max</th>\n",
              "      <td>46.600000</td>\n",
              "      <td>8.000000</td>\n",
              "      <td>455.000000</td>\n",
              "      <td>230.000000</td>\n",
              "      <td>5140.000000</td>\n",
              "      <td>24.800000</td>\n",
              "      <td>82.000000</td>\n",
              "      <td>3.000000</td>\n",
              "    </tr>\n",
              "  </tbody>\n",
              "</table>\n",
              "</div>\n",
              "      <button class=\"colab-df-convert\" onclick=\"convertToInteractive('df-d91b874e-bc1c-4d16-a475-1f6a23d35be4')\"\n",
              "              title=\"Convert this dataframe to an interactive table.\"\n",
              "              style=\"display:none;\">\n",
              "        \n",
              "  <svg xmlns=\"http://www.w3.org/2000/svg\" height=\"24px\"viewBox=\"0 0 24 24\"\n",
              "       width=\"24px\">\n",
              "    <path d=\"M0 0h24v24H0V0z\" fill=\"none\"/>\n",
              "    <path d=\"M18.56 5.44l.94 2.06.94-2.06 2.06-.94-2.06-.94-.94-2.06-.94 2.06-2.06.94zm-11 1L8.5 8.5l.94-2.06 2.06-.94-2.06-.94L8.5 2.5l-.94 2.06-2.06.94zm10 10l.94 2.06.94-2.06 2.06-.94-2.06-.94-.94-2.06-.94 2.06-2.06.94z\"/><path d=\"M17.41 7.96l-1.37-1.37c-.4-.4-.92-.59-1.43-.59-.52 0-1.04.2-1.43.59L10.3 9.45l-7.72 7.72c-.78.78-.78 2.05 0 2.83L4 21.41c.39.39.9.59 1.41.59.51 0 1.02-.2 1.41-.59l7.78-7.78 2.81-2.81c.8-.78.8-2.07 0-2.86zM5.41 20L4 18.59l7.72-7.72 1.47 1.35L5.41 20z\"/>\n",
              "  </svg>\n",
              "      </button>\n",
              "      \n",
              "  <style>\n",
              "    .colab-df-container {\n",
              "      display:flex;\n",
              "      flex-wrap:wrap;\n",
              "      gap: 12px;\n",
              "    }\n",
              "\n",
              "    .colab-df-convert {\n",
              "      background-color: #E8F0FE;\n",
              "      border: none;\n",
              "      border-radius: 50%;\n",
              "      cursor: pointer;\n",
              "      display: none;\n",
              "      fill: #1967D2;\n",
              "      height: 32px;\n",
              "      padding: 0 0 0 0;\n",
              "      width: 32px;\n",
              "    }\n",
              "\n",
              "    .colab-df-convert:hover {\n",
              "      background-color: #E2EBFA;\n",
              "      box-shadow: 0px 1px 2px rgba(60, 64, 67, 0.3), 0px 1px 3px 1px rgba(60, 64, 67, 0.15);\n",
              "      fill: #174EA6;\n",
              "    }\n",
              "\n",
              "    [theme=dark] .colab-df-convert {\n",
              "      background-color: #3B4455;\n",
              "      fill: #D2E3FC;\n",
              "    }\n",
              "\n",
              "    [theme=dark] .colab-df-convert:hover {\n",
              "      background-color: #434B5C;\n",
              "      box-shadow: 0px 1px 3px 1px rgba(0, 0, 0, 0.15);\n",
              "      filter: drop-shadow(0px 1px 2px rgba(0, 0, 0, 0.3));\n",
              "      fill: #FFFFFF;\n",
              "    }\n",
              "  </style>\n",
              "\n",
              "      <script>\n",
              "        const buttonEl =\n",
              "          document.querySelector('#df-d91b874e-bc1c-4d16-a475-1f6a23d35be4 button.colab-df-convert');\n",
              "        buttonEl.style.display =\n",
              "          google.colab.kernel.accessAllowed ? 'block' : 'none';\n",
              "\n",
              "        async function convertToInteractive(key) {\n",
              "          const element = document.querySelector('#df-d91b874e-bc1c-4d16-a475-1f6a23d35be4');\n",
              "          const dataTable =\n",
              "            await google.colab.kernel.invokeFunction('convertToInteractive',\n",
              "                                                     [key], {});\n",
              "          if (!dataTable) return;\n",
              "\n",
              "          const docLinkHtml = 'Like what you see? Visit the ' +\n",
              "            '<a target=\"_blank\" href=https://colab.research.google.com/notebooks/data_table.ipynb>data table notebook</a>'\n",
              "            + ' to learn more about interactive tables.';\n",
              "          element.innerHTML = '';\n",
              "          dataTable['output_type'] = 'display_data';\n",
              "          await google.colab.output.renderOutput(dataTable, element);\n",
              "          const docLink = document.createElement('div');\n",
              "          docLink.innerHTML = docLinkHtml;\n",
              "          element.appendChild(docLink);\n",
              "        }\n",
              "      </script>\n",
              "    </div>\n",
              "  </div>\n",
              "  "
            ],
            "text/plain": [
              "              mpg   cylinders  ...  model year      origin\n",
              "count  398.000000  398.000000  ...  398.000000  398.000000\n",
              "mean    23.514573    5.454774  ...   76.010050    1.572864\n",
              "std      7.815984    1.701004  ...    3.697627    0.802055\n",
              "min      9.000000    3.000000  ...   70.000000    1.000000\n",
              "25%     17.500000    4.000000  ...   73.000000    1.000000\n",
              "50%     23.000000    4.000000  ...   76.000000    1.000000\n",
              "75%     29.000000    8.000000  ...   79.000000    2.000000\n",
              "max     46.600000    8.000000  ...   82.000000    3.000000\n",
              "\n",
              "[8 rows x 8 columns]"
            ]
          },
          "metadata": {},
          "execution_count": 20
        }
      ]
    },
    {
      "cell_type": "code",
      "source": [
        "discrete_columns = []\n",
        "continuous_columns = []\n",
        "for x in data.columns :\n",
        "    if data[x].nunique() < 10 or x in [\"name\", \"brand\"]:\n",
        "        discrete_columns.append(x)\n",
        "    else:\n",
        "        continuous_columns.append(x)\n",
        "print(\"Discrete columns : \", discrete_columns)\n",
        "print(\"Continuous columns : \", continuous_columns)"
      ],
      "metadata": {
        "colab": {
          "base_uri": "https://localhost:8080/"
        },
        "id": "fmToL1ouv-3Y",
        "outputId": "32a06323-3c92-459c-d9a4-4d07d0e07bf1"
      },
      "execution_count": 21,
      "outputs": [
        {
          "output_type": "stream",
          "name": "stdout",
          "text": [
            "Discrete columns :  ['cylinders', 'origin', 'brand', 'name']\n",
            "Continuous columns :  ['mpg', 'displacement', 'horsepower', 'weight', 'acceleration', 'model year']\n"
          ]
        }
      ]
    },
    {
      "cell_type": "code",
      "source": [
        "for x in data.columns:\n",
        "    plt.figure(figsize=(16,8))\n",
        "    if x in [\"name\"]:\n",
        "        continue\n",
        "    if x in discrete_columns :\n",
        "        sns.boxplot(x=data[x], y=data['mpg'])\n",
        "        plt.show()\n",
        "    else:\n",
        "        sns.boxplot(data[x])\n",
        "        plt.show()"
      ],
      "metadata": {
        "colab": {
          "base_uri": "https://localhost:8080/",
          "height": 1000
        },
        "id": "e2h2ulNRwZIs",
        "outputId": "49344739-dd9a-480b-83c2-ec99486610b3"
      },
      "execution_count": 22,
      "outputs": [
        {
          "output_type": "stream",
          "name": "stderr",
          "text": [
            "/usr/local/lib/python3.7/dist-packages/seaborn/_decorators.py:43: FutureWarning: Pass the following variable as a keyword arg: x. From version 0.12, the only valid positional argument will be `data`, and passing other arguments without an explicit keyword will result in an error or misinterpretation.\n",
            "  FutureWarning\n"
          ]
        },
        {
          "output_type": "display_data",
          "data": {
            "image/png": "[encoded data removed]",
            "text/plain": [
              "<Figure size 1152x576 with 1 Axes>"
            ]
          },
          "metadata": {
            "needs_background": "light"
          }
        },
        {
          "output_type": "display_data",
          "data": {
            "image/png": "[encoded data removed]",
            "text/plain": [
              "<Figure size 1152x576 with 1 Axes>"
            ]
          },
          "metadata": {
            "needs_background": "light"
          }
        },
        {
          "output_type": "stream",
          "name": "stderr",
          "text": [
            "/usr/local/lib/python3.7/dist-packages/seaborn/_decorators.py:43: FutureWarning: Pass the following variable as a keyword arg: x. From version 0.12, the only valid positional argument will be `data`, and passing other arguments without an explicit keyword will result in an error or misinterpretation.\n",
            "  FutureWarning\n"
          ]
        },
        {
          "output_type": "display_data",
          "data": {
            "image/png": "[encoded data removed]",
            "text/plain": [
              "<Figure size 1152x576 with 1 Axes>"
            ]
          },
          "metadata": {
            "needs_background": "light"
          }
        },
        {
          "output_type": "stream",
          "name": "stderr",
          "text": [
            "/usr/local/lib/python3.7/dist-packages/seaborn/_decorators.py:43: FutureWarning: Pass the following variable as a keyword arg: x. From version 0.12, the only valid positional argument will be `data`, and passing other arguments without an explicit keyword will result in an error or misinterpretation.\n",
            "  FutureWarning\n"
          ]
        },
        {
          "output_type": "display_data",
          "data": {
            "image/png": "[encoded data removed]",
            "text/plain": [
              "<Figure size 1152x576 with 1 Axes>"
            ]
          },
          "metadata": {
            "needs_background": "light"
          }
        },
        {
          "output_type": "stream",
          "name": "stderr",
          "text": [
            "/usr/local/lib/python3.7/dist-packages/seaborn/_decorators.py:43: FutureWarning: Pass the following variable as a keyword arg: x. From version 0.12, the only valid positional argument will be `data`, and passing other arguments without an explicit keyword will result in an error or misinterpretation.\n",
            "  FutureWarning\n"
          ]
        },
        {
          "output_type": "display_data",
          "data": {
            "image/png": "[encoded data removed]",
            "text/plain": [
              "<Figure size 1152x576 with 1 Axes>"
            ]
          },
          "metadata": {
            "needs_background": "light"
          }
        },
        {
          "output_type": "stream",
          "name": "stderr",
          "text": [
            "/usr/local/lib/python3.7/dist-packages/seaborn/_decorators.py:43: FutureWarning: Pass the following variable as a keyword arg: x. From version 0.12, the only valid positional argument will be `data`, and passing other arguments without an explicit keyword will result in an error or misinterpretation.\n",
            "  FutureWarning\n"
          ]
        },
        {
          "output_type": "display_data",
          "data": {
            "image/png": "[encoded data removed]",
            "text/plain": [
              "<Figure size 1152x576 with 1 Axes>"
            ]
          },
          "metadata": {
            "needs_background": "light"
          }
        },
        {
          "output_type": "stream",
          "name": "stderr",
          "text": [
            "/usr/local/lib/python3.7/dist-packages/seaborn/_decorators.py:43: FutureWarning: Pass the following variable as a keyword arg: x. From version 0.12, the only valid positional argument will be `data`, and passing other arguments without an explicit keyword will result in an error or misinterpretation.\n",
            "  FutureWarning\n"
          ]
        },
        {
          "output_type": "display_data",
          "data": {
            "image/png": "[encoded data removed]",
            "text/plain": [
              "<Figure size 1152x576 with 1 Axes>"
            ]
          },
          "metadata": {
            "needs_background": "light"
          }
        },
        {
          "output_type": "display_data",
          "data": {
            "image/png": "[encoded data removed]",
            "text/plain": [
              "<Figure size 1152x576 with 1 Axes>"
            ]
          },
          "metadata": {
            "needs_background": "light"
          }
        },
        {
          "output_type": "display_data",
          "data": {
            "image/png": "[encoded data removed]",
            "text/plain": [
              "<Figure size 1152x576 with 1 Axes>"
            ]
          },
          "metadata": {
            "needs_background": "light"
          }
        },
        {
          "output_type": "display_data",
          "data": {
            "text/plain": [
              "<Figure size 1152x576 with 0 Axes>"
            ]
          },
          "metadata": {}
        }
      ]
    },
    {
      "cell_type": "code",
      "source": [
        "plt.figure(figsize=(10,5))\n",
        "plt.hist(data['displacement'], bins=50)\n",
        "plt.title('displacement')\n",
        "plt.show()"
      ],
      "metadata": {
        "colab": {
          "base_uri": "https://localhost:8080/",
          "height": 336
        },
        "id": "_KSmXkQzo6Av",
        "outputId": "b69744cb-37c9-4a26-e7e3-7a890479e6b4"
      },
      "execution_count": 23,
      "outputs": [
        {
          "output_type": "display_data",
          "data": {
            "image/png": "[encoded data removed]",
            "text/plain": [
              "<Figure size 720x360 with 1 Axes>"
            ]
          },
          "metadata": {
            "needs_background": "light"
          }
        }
      ]
    },
    {
      "cell_type": "code",
      "source": [
        "plt.figure(figsize=(10,5))\n",
        "plt.hist(data['weight'], bins=50)\n",
        "plt.title('weight')\n",
        "plt.show()"
      ],
      "metadata": {
        "colab": {
          "base_uri": "https://localhost:8080/",
          "height": 336
        },
        "id": "TihnW5fto_cN",
        "outputId": "153eeaa5-de68-4b34-df34-caade5ab3e96"
      },
      "execution_count": 24,
      "outputs": [
        {
          "output_type": "display_data",
          "data": {
            "image/png": "[encoded data removed]",
            "text/plain": [
              "<Figure size 720x360 with 1 Axes>"
            ]
          },
          "metadata": {
            "needs_background": "light"
          }
        }
      ]
    },
    {
      "cell_type": "code",
      "source": [
        "plt.figure(figsize=(10,5))\n",
        "plt.hist(data['acceleration'], bins=50)\n",
        "plt.title('acceleration')\n",
        "plt.show()"
      ],
      "metadata": {
        "colab": {
          "base_uri": "https://localhost:8080/",
          "height": 336
        },
        "id": "bgPV4zf5pG9_",
        "outputId": "d8ff5f6d-71aa-40ff-951f-b016b84fbc36"
      },
      "execution_count": 25,
      "outputs": [
        {
          "output_type": "display_data",
          "data": {
            "image/png": "[encoded data removed]",
            "text/plain": [
              "<Figure size 720x360 with 1 Axes>"
            ]
          },
          "metadata": {
            "needs_background": "light"
          }
        }
      ]
    },
    {
      "cell_type": "code",
      "source": [
        "plt.figure(figsize=(10,5))\n",
        "sns.boxplot(x=data['cylinders'], y=data['mpg'])"
      ],
      "metadata": {
        "colab": {
          "base_uri": "https://localhost:8080/",
          "height": 351
        },
        "id": "nWAaloQhqIrL",
        "outputId": "f51ef630-534d-481a-f407-503de8ace350"
      },
      "execution_count": 26,
      "outputs": [
        {
          "output_type": "execute_result",
          "data": {
            "text/plain": [
              "<matplotlib.axes._subplots.AxesSubplot at 0x7ff863c41090>"
            ]
          },
          "metadata": {},
          "execution_count": 26
        },
        {
          "output_type": "display_data",
          "data": {
            "image/png": "[encoded data removed]",
            "text/plain": [
              "<Figure size 720x360 with 1 Axes>"
            ]
          },
          "metadata": {
            "needs_background": "light"
          }
        }
      ]
    },
    {
      "cell_type": "code",
      "source": [
        "plt.figure(figsize=(10,5))\n",
        "sns.boxplot(x=data['model year'], y=data['mpg'])"
      ],
      "metadata": {
        "colab": {
          "base_uri": "https://localhost:8080/",
          "height": 351
        },
        "id": "Hhh-6HykqTMF",
        "outputId": "25bd148b-2129-4fb4-9764-cae9ec3965c7"
      },
      "execution_count": 27,
      "outputs": [
        {
          "output_type": "execute_result",
          "data": {
            "text/plain": [
              "<matplotlib.axes._subplots.AxesSubplot at 0x7ff8638f1190>"
            ]
          },
          "metadata": {},
          "execution_count": 27
        },
        {
          "output_type": "display_data",
          "data": {
            "image/png": "[encoded data removed]",
            "text/plain": [
              "<Figure size 720x360 with 1 Axes>"
            ]
          },
          "metadata": {
            "needs_background": "light"
          }
        }
      ]
    },
    {
      "cell_type": "code",
      "source": [
        "plt.figure(figsize=(10,5))\n",
        "sns.boxplot(x=data['origin'], y=data['mpg'])"
      ],
      "metadata": {
        "colab": {
          "base_uri": "https://localhost:8080/",
          "height": 351
        },
        "id": "Lf2fDcstqZKe",
        "outputId": "f589bf3b-035a-4120-ce2d-922b1e29f7a0"
      },
      "execution_count": 28,
      "outputs": [
        {
          "output_type": "execute_result",
          "data": {
            "text/plain": [
              "<matplotlib.axes._subplots.AxesSubplot at 0x7ff863735e10>"
            ]
          },
          "metadata": {},
          "execution_count": 28
        },
        {
          "output_type": "display_data",
          "data": {
            "image/png": "[encoded data removed]",
            "text/plain": [
              "<Figure size 720x360 with 1 Axes>"
            ]
          },
          "metadata": {
            "needs_background": "light"
          }
        }
      ]
    },
    {
      "cell_type": "code",
      "source": [
        "data = data.drop(['name'], axis=1)\n",
        "discrete_columns.remove(\"name\")\n",
        "data.head()"
      ],
      "metadata": {
        "colab": {
          "base_uri": "https://localhost:8080/",
          "height": 206
        },
        "id": "GpzUTB-X6nTf",
        "outputId": "42f506f5-dad8-411f-ce31-df87229ec579"
      },
      "execution_count": 29,
      "outputs": [
        {
          "output_type": "execute_result",
          "data": {
            "text/html": [
              "\n",
              "  <div id=\"df-5a02381a-4b90-4d83-b2df-fc7885aa94f8\">\n",
              "    <div class=\"colab-df-container\">\n",
              "      <div>\n",
              "<style scoped>\n",
              "    .dataframe tbody tr th:only-of-type {\n",
              "        vertical-align: middle;\n",
              "    }\n",
              "\n",
              "    .dataframe tbody tr th {\n",
              "        vertical-align: top;\n",
              "    }\n",
              "\n",
              "    .dataframe thead th {\n",
              "        text-align: right;\n",
              "    }\n",
              "</style>\n",
              "<table border=\"1\" class=\"dataframe\">\n",
              "  <thead>\n",
              "    <tr style=\"text-align: right;\">\n",
              "      <th></th>\n",
              "      <th>mpg</th>\n",
              "      <th>cylinders</th>\n",
              "      <th>displacement</th>\n",
              "      <th>horsepower</th>\n",
              "      <th>weight</th>\n",
              "      <th>acceleration</th>\n",
              "      <th>model year</th>\n",
              "      <th>origin</th>\n",
              "      <th>brand</th>\n",
              "    </tr>\n",
              "  </thead>\n",
              "  <tbody>\n",
              "    <tr>\n",
              "      <th>0</th>\n",
              "      <td>18.0</td>\n",
              "      <td>8</td>\n",
              "      <td>307.0</td>\n",
              "      <td>130.0</td>\n",
              "      <td>3504</td>\n",
              "      <td>12.0</td>\n",
              "      <td>70</td>\n",
              "      <td>1</td>\n",
              "      <td>Chevrolet</td>\n",
              "    </tr>\n",
              "    <tr>\n",
              "      <th>1</th>\n",
              "      <td>15.0</td>\n",
              "      <td>8</td>\n",
              "      <td>350.0</td>\n",
              "      <td>165.0</td>\n",
              "      <td>3693</td>\n",
              "      <td>11.5</td>\n",
              "      <td>70</td>\n",
              "      <td>1</td>\n",
              "      <td>Buick</td>\n",
              "    </tr>\n",
              "    <tr>\n",
              "      <th>2</th>\n",
              "      <td>18.0</td>\n",
              "      <td>8</td>\n",
              "      <td>318.0</td>\n",
              "      <td>150.0</td>\n",
              "      <td>3436</td>\n",
              "      <td>11.0</td>\n",
              "      <td>70</td>\n",
              "      <td>1</td>\n",
              "      <td>Plymouth</td>\n",
              "    </tr>\n",
              "    <tr>\n",
              "      <th>3</th>\n",
              "      <td>16.0</td>\n",
              "      <td>8</td>\n",
              "      <td>304.0</td>\n",
              "      <td>150.0</td>\n",
              "      <td>3433</td>\n",
              "      <td>12.0</td>\n",
              "      <td>70</td>\n",
              "      <td>1</td>\n",
              "      <td>Amc</td>\n",
              "    </tr>\n",
              "    <tr>\n",
              "      <th>4</th>\n",
              "      <td>17.0</td>\n",
              "      <td>8</td>\n",
              "      <td>302.0</td>\n",
              "      <td>140.0</td>\n",
              "      <td>3449</td>\n",
              "      <td>10.5</td>\n",
              "      <td>70</td>\n",
              "      <td>1</td>\n",
              "      <td>Ford</td>\n",
              "    </tr>\n",
              "  </tbody>\n",
              "</table>\n",
              "</div>\n",
              "      <button class=\"colab-df-convert\" onclick=\"convertToInteractive('df-5a02381a-4b90-4d83-b2df-fc7885aa94f8')\"\n",
              "              title=\"Convert this dataframe to an interactive table.\"\n",
              "              style=\"display:none;\">\n",
              "        \n",
              "  <svg xmlns=\"http://www.w3.org/2000/svg\" height=\"24px\"viewBox=\"0 0 24 24\"\n",
              "       width=\"24px\">\n",
              "    <path d=\"M0 0h24v24H0V0z\" fill=\"none\"/>\n",
              "    <path d=\"M18.56 5.44l.94 2.06.94-2.06 2.06-.94-2.06-.94-.94-2.06-.94 2.06-2.06.94zm-11 1L8.5 8.5l.94-2.06 2.06-.94-2.06-.94L8.5 2.5l-.94 2.06-2.06.94zm10 10l.94 2.06.94-2.06 2.06-.94-2.06-.94-.94-2.06-.94 2.06-2.06.94z\"/><path d=\"M17.41 7.96l-1.37-1.37c-.4-.4-.92-.59-1.43-.59-.52 0-1.04.2-1.43.59L10.3 9.45l-7.72 7.72c-.78.78-.78 2.05 0 2.83L4 21.41c.39.39.9.59 1.41.59.51 0 1.02-.2 1.41-.59l7.78-7.78 2.81-2.81c.8-.78.8-2.07 0-2.86zM5.41 20L4 18.59l7.72-7.72 1.47 1.35L5.41 20z\"/>\n",
              "  </svg>\n",
              "      </button>\n",
              "      \n",
              "  <style>\n",
              "    .colab-df-container {\n",
              "      display:flex;\n",
              "      flex-wrap:wrap;\n",
              "      gap: 12px;\n",
              "    }\n",
              "\n",
              "    .colab-df-convert {\n",
              "      background-color: #E8F0FE;\n",
              "      border: none;\n",
              "      border-radius: 50%;\n",
              "      cursor: pointer;\n",
              "      display: none;\n",
              "      fill: #1967D2;\n",
              "      height: 32px;\n",
              "      padding: 0 0 0 0;\n",
              "      width: 32px;\n",
              "    }\n",
              "\n",
              "    .colab-df-convert:hover {\n",
              "      background-color: #E2EBFA;\n",
              "      box-shadow: 0px 1px 2px rgba(60, 64, 67, 0.3), 0px 1px 3px 1px rgba(60, 64, 67, 0.15);\n",
              "      fill: #174EA6;\n",
              "    }\n",
              "\n",
              "    [theme=dark] .colab-df-convert {\n",
              "      background-color: #3B4455;\n",
              "      fill: #D2E3FC;\n",
              "    }\n",
              "\n",
              "    [theme=dark] .colab-df-convert:hover {\n",
              "      background-color: #434B5C;\n",
              "      box-shadow: 0px 1px 3px 1px rgba(0, 0, 0, 0.15);\n",
              "      filter: drop-shadow(0px 1px 2px rgba(0, 0, 0, 0.3));\n",
              "      fill: #FFFFFF;\n",
              "    }\n",
              "  </style>\n",
              "\n",
              "      <script>\n",
              "        const buttonEl =\n",
              "          document.querySelector('#df-5a02381a-4b90-4d83-b2df-fc7885aa94f8 button.colab-df-convert');\n",
              "        buttonEl.style.display =\n",
              "          google.colab.kernel.accessAllowed ? 'block' : 'none';\n",
              "\n",
              "        async function convertToInteractive(key) {\n",
              "          const element = document.querySelector('#df-5a02381a-4b90-4d83-b2df-fc7885aa94f8');\n",
              "          const dataTable =\n",
              "            await google.colab.kernel.invokeFunction('convertToInteractive',\n",
              "                                                     [key], {});\n",
              "          if (!dataTable) return;\n",
              "\n",
              "          const docLinkHtml = 'Like what you see? Visit the ' +\n",
              "            '<a target=\"_blank\" href=https://colab.research.google.com/notebooks/data_table.ipynb>data table notebook</a>'\n",
              "            + ' to learn more about interactive tables.';\n",
              "          element.innerHTML = '';\n",
              "          dataTable['output_type'] = 'display_data';\n",
              "          await google.colab.output.renderOutput(dataTable, element);\n",
              "          const docLink = document.createElement('div');\n",
              "          docLink.innerHTML = docLinkHtml;\n",
              "          element.appendChild(docLink);\n",
              "        }\n",
              "      </script>\n",
              "    </div>\n",
              "  </div>\n",
              "  "
            ],
            "text/plain": [
              "    mpg  cylinders  displacement  ...  model year  origin      brand\n",
              "0  18.0          8         307.0  ...          70       1  Chevrolet\n",
              "1  15.0          8         350.0  ...          70       1      Buick\n",
              "2  18.0          8         318.0  ...          70       1   Plymouth\n",
              "3  16.0          8         304.0  ...          70       1        Amc\n",
              "4  17.0          8         302.0  ...          70       1       Ford\n",
              "\n",
              "[5 rows x 9 columns]"
            ]
          },
          "metadata": {},
          "execution_count": 29
        }
      ]
    },
    {
      "cell_type": "markdown",
      "source": [
        "#### Removing the outliers"
      ],
      "metadata": {
        "id": "G8qvP8O6tlUO"
      }
    },
    {
      "cell_type": "code",
      "source": [
        "def outlier_thresholds(dataframe, col_name, q1 = 0.25, q3 = 0.75):\n",
        "    quartile1 = dataframe[col_name].quantile(q1)\n",
        "    quartile3 = dataframe[col_name].quantile(q3)\n",
        "    interquantile_range = quartile3 - quartile1\n",
        "    up_limit = quartile3 + 1.5 * interquantile_range\n",
        "    low_limit = quartile1 - 1.5 * interquantile_range\n",
        "    return low_limit, up_limit\n",
        "\n",
        "def replace_with_thresholds(dataframe, variable, q1 = 0.25, q3 = 0.75):\n",
        "    low_limit, up_limit = outlier_thresholds(dataframe, variable, q1 = q1, q3 = q3)\n",
        "    dataframe.loc[(dataframe[variable] < low_limit), variable] = low_limit\n",
        "    dataframe.loc[(dataframe[variable] > up_limit), variable] = up_limit\n",
        "    return dataframe\n",
        "    \n",
        "for col in continuous_columns:\n",
        "    data = replace_with_thresholds(data, col, q1 = 0.1, q3 = 0.9)"
      ],
      "metadata": {
        "id": "GVklrCXT-bxA"
      },
      "execution_count": 30,
      "outputs": []
    },
    {
      "cell_type": "markdown",
      "source": [
        "#### Transforming the features by converting the categorical columns into one hot vectors"
      ],
      "metadata": {
        "id": "BoHpIQJHtoKw"
      }
    },
    {
      "cell_type": "code",
      "source": [
        "def one_hot_encoder(dataframe, categorical_cols, drop_first=False):\n",
        "    dataframe = pd.get_dummies(dataframe,\n",
        "                               columns = categorical_cols,\n",
        "                               drop_first = drop_first)\n",
        "    return dataframe\n",
        "\n",
        "\n",
        "ohe_cols = discrete_columns\n",
        "print('Multiclass Variables: {}'.format(ohe_cols))\n",
        "data = one_hot_encoder(data, ohe_cols)"
      ],
      "metadata": {
        "colab": {
          "base_uri": "https://localhost:8080/"
        },
        "id": "lbjfwR7Dwswv",
        "outputId": "1bb139b5-d6b4-4362-fe60-cb84804daf7b"
      },
      "execution_count": 31,
      "outputs": [
        {
          "output_type": "stream",
          "name": "stdout",
          "text": [
            "Multiclass Variables: ['cylinders', 'origin', 'brand']\n"
          ]
        }
      ]
    },
    {
      "cell_type": "code",
      "source": [
        "data.head()"
      ],
      "metadata": {
        "colab": {
          "base_uri": "https://localhost:8080/",
          "height": 287
        },
        "id": "i8XiZvu56BYT",
        "outputId": "abad470a-a261-4544-e928-58ceab04be03"
      },
      "execution_count": 32,
      "outputs": [
        {
          "output_type": "execute_result",
          "data": {
            "text/html": [
              "\n",
              "  <div id=\"df-130f810d-8784-40ac-a3ab-113f6e5bc217\">\n",
              "    <div class=\"colab-df-container\">\n",
              "      <div>\n",
              "<style scoped>\n",
              "    .dataframe tbody tr th:only-of-type {\n",
              "        vertical-align: middle;\n",
              "    }\n",
              "\n",
              "    .dataframe tbody tr th {\n",
              "        vertical-align: top;\n",
              "    }\n",
              "\n",
              "    .dataframe thead th {\n",
              "        text-align: right;\n",
              "    }\n",
              "</style>\n",
              "<table border=\"1\" class=\"dataframe\">\n",
              "  <thead>\n",
              "    <tr style=\"text-align: right;\">\n",
              "      <th></th>\n",
              "      <th>mpg</th>\n",
              "      <th>displacement</th>\n",
              "      <th>horsepower</th>\n",
              "      <th>weight</th>\n",
              "      <th>acceleration</th>\n",
              "      <th>model year</th>\n",
              "      <th>cylinders_3</th>\n",
              "      <th>cylinders_4</th>\n",
              "      <th>cylinders_5</th>\n",
              "      <th>cylinders_6</th>\n",
              "      <th>cylinders_8</th>\n",
              "      <th>origin_1</th>\n",
              "      <th>origin_2</th>\n",
              "      <th>origin_3</th>\n",
              "      <th>brand_Amc</th>\n",
              "      <th>brand_Audi</th>\n",
              "      <th>brand_Bmw</th>\n",
              "      <th>brand_Buick</th>\n",
              "      <th>brand_Cadillac</th>\n",
              "      <th>brand_Capri</th>\n",
              "      <th>brand_Chevrolet</th>\n",
              "      <th>brand_Chrysler</th>\n",
              "      <th>brand_Datsun</th>\n",
              "      <th>brand_Dodge</th>\n",
              "      <th>brand_Fiat</th>\n",
              "      <th>brand_Ford</th>\n",
              "      <th>brand_Harvester</th>\n",
              "      <th>brand_Honda</th>\n",
              "      <th>brand_Mazda</th>\n",
              "      <th>brand_Mercedes</th>\n",
              "      <th>brand_Mercury</th>\n",
              "      <th>brand_Nissan</th>\n",
              "      <th>brand_Oldsmobile</th>\n",
              "      <th>brand_Opel</th>\n",
              "      <th>brand_Peugeot</th>\n",
              "      <th>brand_Plymouth</th>\n",
              "      <th>brand_Pontiac</th>\n",
              "      <th>brand_Renault</th>\n",
              "      <th>brand_Saab</th>\n",
              "      <th>brand_Subaru</th>\n",
              "      <th>brand_Toyota</th>\n",
              "      <th>brand_Triumph</th>\n",
              "      <th>brand_Volkswagen</th>\n",
              "      <th>brand_Volvo</th>\n",
              "    </tr>\n",
              "  </thead>\n",
              "  <tbody>\n",
              "    <tr>\n",
              "      <th>0</th>\n",
              "      <td>18.0</td>\n",
              "      <td>307.0</td>\n",
              "      <td>130.0</td>\n",
              "      <td>3504.0</td>\n",
              "      <td>12.0</td>\n",
              "      <td>70</td>\n",
              "      <td>0</td>\n",
              "      <td>0</td>\n",
              "      <td>0</td>\n",
              "      <td>0</td>\n",
              "      <td>1</td>\n",
              "      <td>1</td>\n",
              "      <td>0</td>\n",
              "      <td>0</td>\n",
              "      <td>0</td>\n",
              "      <td>0</td>\n",
              "      <td>0</td>\n",
              "      <td>0</td>\n",
              "      <td>0</td>\n",
              "      <td>0</td>\n",
              "      <td>1</td>\n",
              "      <td>0</td>\n",
              "      <td>0</td>\n",
              "      <td>0</td>\n",
              "      <td>0</td>\n",
              "      <td>0</td>\n",
              "      <td>0</td>\n",
              "      <td>0</td>\n",
              "      <td>0</td>\n",
              "      <td>0</td>\n",
              "      <td>0</td>\n",
              "      <td>0</td>\n",
              "      <td>0</td>\n",
              "      <td>0</td>\n",
              "      <td>0</td>\n",
              "      <td>0</td>\n",
              "      <td>0</td>\n",
              "      <td>0</td>\n",
              "      <td>0</td>\n",
              "      <td>0</td>\n",
              "      <td>0</td>\n",
              "      <td>0</td>\n",
              "      <td>0</td>\n",
              "      <td>0</td>\n",
              "    </tr>\n",
              "    <tr>\n",
              "      <th>1</th>\n",
              "      <td>15.0</td>\n",
              "      <td>350.0</td>\n",
              "      <td>165.0</td>\n",
              "      <td>3693.0</td>\n",
              "      <td>11.5</td>\n",
              "      <td>70</td>\n",
              "      <td>0</td>\n",
              "      <td>0</td>\n",
              "      <td>0</td>\n",
              "      <td>0</td>\n",
              "      <td>1</td>\n",
              "      <td>1</td>\n",
              "      <td>0</td>\n",
              "      <td>0</td>\n",
              "      <td>0</td>\n",
              "      <td>0</td>\n",
              "      <td>0</td>\n",
              "      <td>1</td>\n",
              "      <td>0</td>\n",
              "      <td>0</td>\n",
              "      <td>0</td>\n",
              "      <td>0</td>\n",
              "      <td>0</td>\n",
              "      <td>0</td>\n",
              "      <td>0</td>\n",
              "      <td>0</td>\n",
              "      <td>0</td>\n",
              "      <td>0</td>\n",
              "      <td>0</td>\n",
              "      <td>0</td>\n",
              "      <td>0</td>\n",
              "      <td>0</td>\n",
              "      <td>0</td>\n",
              "      <td>0</td>\n",
              "      <td>0</td>\n",
              "      <td>0</td>\n",
              "      <td>0</td>\n",
              "      <td>0</td>\n",
              "      <td>0</td>\n",
              "      <td>0</td>\n",
              "      <td>0</td>\n",
              "      <td>0</td>\n",
              "      <td>0</td>\n",
              "      <td>0</td>\n",
              "    </tr>\n",
              "    <tr>\n",
              "      <th>2</th>\n",
              "      <td>18.0</td>\n",
              "      <td>318.0</td>\n",
              "      <td>150.0</td>\n",
              "      <td>3436.0</td>\n",
              "      <td>11.0</td>\n",
              "      <td>70</td>\n",
              "      <td>0</td>\n",
              "      <td>0</td>\n",
              "      <td>0</td>\n",
              "      <td>0</td>\n",
              "      <td>1</td>\n",
              "      <td>1</td>\n",
              "      <td>0</td>\n",
              "      <td>0</td>\n",
              "      <td>0</td>\n",
              "      <td>0</td>\n",
              "      <td>0</td>\n",
              "      <td>0</td>\n",
              "      <td>0</td>\n",
              "      <td>0</td>\n",
              "      <td>0</td>\n",
              "      <td>0</td>\n",
              "      <td>0</td>\n",
              "      <td>0</td>\n",
              "      <td>0</td>\n",
              "      <td>0</td>\n",
              "      <td>0</td>\n",
              "      <td>0</td>\n",
              "      <td>0</td>\n",
              "      <td>0</td>\n",
              "      <td>0</td>\n",
              "      <td>0</td>\n",
              "      <td>0</td>\n",
              "      <td>0</td>\n",
              "      <td>0</td>\n",
              "      <td>1</td>\n",
              "      <td>0</td>\n",
              "      <td>0</td>\n",
              "      <td>0</td>\n",
              "      <td>0</td>\n",
              "      <td>0</td>\n",
              "      <td>0</td>\n",
              "      <td>0</td>\n",
              "      <td>0</td>\n",
              "    </tr>\n",
              "    <tr>\n",
              "      <th>3</th>\n",
              "      <td>16.0</td>\n",
              "      <td>304.0</td>\n",
              "      <td>150.0</td>\n",
              "      <td>3433.0</td>\n",
              "      <td>12.0</td>\n",
              "      <td>70</td>\n",
              "      <td>0</td>\n",
              "      <td>0</td>\n",
              "      <td>0</td>\n",
              "      <td>0</td>\n",
              "      <td>1</td>\n",
              "      <td>1</td>\n",
              "      <td>0</td>\n",
              "      <td>0</td>\n",
              "      <td>1</td>\n",
              "      <td>0</td>\n",
              "      <td>0</td>\n",
              "      <td>0</td>\n",
              "      <td>0</td>\n",
              "      <td>0</td>\n",
              "      <td>0</td>\n",
              "      <td>0</td>\n",
              "      <td>0</td>\n",
              "      <td>0</td>\n",
              "      <td>0</td>\n",
              "      <td>0</td>\n",
              "      <td>0</td>\n",
              "      <td>0</td>\n",
              "      <td>0</td>\n",
              "      <td>0</td>\n",
              "      <td>0</td>\n",
              "      <td>0</td>\n",
              "      <td>0</td>\n",
              "      <td>0</td>\n",
              "      <td>0</td>\n",
              "      <td>0</td>\n",
              "      <td>0</td>\n",
              "      <td>0</td>\n",
              "      <td>0</td>\n",
              "      <td>0</td>\n",
              "      <td>0</td>\n",
              "      <td>0</td>\n",
              "      <td>0</td>\n",
              "      <td>0</td>\n",
              "    </tr>\n",
              "    <tr>\n",
              "      <th>4</th>\n",
              "      <td>17.0</td>\n",
              "      <td>302.0</td>\n",
              "      <td>140.0</td>\n",
              "      <td>3449.0</td>\n",
              "      <td>10.5</td>\n",
              "      <td>70</td>\n",
              "      <td>0</td>\n",
              "      <td>0</td>\n",
              "      <td>0</td>\n",
              "      <td>0</td>\n",
              "      <td>1</td>\n",
              "      <td>1</td>\n",
              "      <td>0</td>\n",
              "      <td>0</td>\n",
              "      <td>0</td>\n",
              "      <td>0</td>\n",
              "      <td>0</td>\n",
              "      <td>0</td>\n",
              "      <td>0</td>\n",
              "      <td>0</td>\n",
              "      <td>0</td>\n",
              "      <td>0</td>\n",
              "      <td>0</td>\n",
              "      <td>0</td>\n",
              "      <td>0</td>\n",
              "      <td>1</td>\n",
              "      <td>0</td>\n",
              "      <td>0</td>\n",
              "      <td>0</td>\n",
              "      <td>0</td>\n",
              "      <td>0</td>\n",
              "      <td>0</td>\n",
              "      <td>0</td>\n",
              "      <td>0</td>\n",
              "      <td>0</td>\n",
              "      <td>0</td>\n",
              "      <td>0</td>\n",
              "      <td>0</td>\n",
              "      <td>0</td>\n",
              "      <td>0</td>\n",
              "      <td>0</td>\n",
              "      <td>0</td>\n",
              "      <td>0</td>\n",
              "      <td>0</td>\n",
              "    </tr>\n",
              "  </tbody>\n",
              "</table>\n",
              "</div>\n",
              "      <button class=\"colab-df-convert\" onclick=\"convertToInteractive('df-130f810d-8784-40ac-a3ab-113f6e5bc217')\"\n",
              "              title=\"Convert this dataframe to an interactive table.\"\n",
              "              style=\"display:none;\">\n",
              "        \n",
              "  <svg xmlns=\"http://www.w3.org/2000/svg\" height=\"24px\"viewBox=\"0 0 24 24\"\n",
              "       width=\"24px\">\n",
              "    <path d=\"M0 0h24v24H0V0z\" fill=\"none\"/>\n",
              "    <path d=\"M18.56 5.44l.94 2.06.94-2.06 2.06-.94-2.06-.94-.94-2.06-.94 2.06-2.06.94zm-11 1L8.5 8.5l.94-2.06 2.06-.94-2.06-.94L8.5 2.5l-.94 2.06-2.06.94zm10 10l.94 2.06.94-2.06 2.06-.94-2.06-.94-.94-2.06-.94 2.06-2.06.94z\"/><path d=\"M17.41 7.96l-1.37-1.37c-.4-.4-.92-.59-1.43-.59-.52 0-1.04.2-1.43.59L10.3 9.45l-7.72 7.72c-.78.78-.78 2.05 0 2.83L4 21.41c.39.39.9.59 1.41.59.51 0 1.02-.2 1.41-.59l7.78-7.78 2.81-2.81c.8-.78.8-2.07 0-2.86zM5.41 20L4 18.59l7.72-7.72 1.47 1.35L5.41 20z\"/>\n",
              "  </svg>\n",
              "      </button>\n",
              "      \n",
              "  <style>\n",
              "    .colab-df-container {\n",
              "      display:flex;\n",
              "      flex-wrap:wrap;\n",
              "      gap: 12px;\n",
              "    }\n",
              "\n",
              "    .colab-df-convert {\n",
              "      background-color: #E8F0FE;\n",
              "      border: none;\n",
              "      border-radius: 50%;\n",
              "      cursor: pointer;\n",
              "      display: none;\n",
              "      fill: #1967D2;\n",
              "      height: 32px;\n",
              "      padding: 0 0 0 0;\n",
              "      width: 32px;\n",
              "    }\n",
              "\n",
              "    .colab-df-convert:hover {\n",
              "      background-color: #E2EBFA;\n",
              "      box-shadow: 0px 1px 2px rgba(60, 64, 67, 0.3), 0px 1px 3px 1px rgba(60, 64, 67, 0.15);\n",
              "      fill: #174EA6;\n",
              "    }\n",
              "\n",
              "    [theme=dark] .colab-df-convert {\n",
              "      background-color: #3B4455;\n",
              "      fill: #D2E3FC;\n",
              "    }\n",
              "\n",
              "    [theme=dark] .colab-df-convert:hover {\n",
              "      background-color: #434B5C;\n",
              "      box-shadow: 0px 1px 3px 1px rgba(0, 0, 0, 0.15);\n",
              "      filter: drop-shadow(0px 1px 2px rgba(0, 0, 0, 0.3));\n",
              "      fill: #FFFFFF;\n",
              "    }\n",
              "  </style>\n",
              "\n",
              "      <script>\n",
              "        const buttonEl =\n",
              "          document.querySelector('#df-130f810d-8784-40ac-a3ab-113f6e5bc217 button.colab-df-convert');\n",
              "        buttonEl.style.display =\n",
              "          google.colab.kernel.accessAllowed ? 'block' : 'none';\n",
              "\n",
              "        async function convertToInteractive(key) {\n",
              "          const element = document.querySelector('#df-130f810d-8784-40ac-a3ab-113f6e5bc217');\n",
              "          const dataTable =\n",
              "            await google.colab.kernel.invokeFunction('convertToInteractive',\n",
              "                                                     [key], {});\n",
              "          if (!dataTable) return;\n",
              "\n",
              "          const docLinkHtml = 'Like what you see? Visit the ' +\n",
              "            '<a target=\"_blank\" href=https://colab.research.google.com/notebooks/data_table.ipynb>data table notebook</a>'\n",
              "            + ' to learn more about interactive tables.';\n",
              "          element.innerHTML = '';\n",
              "          dataTable['output_type'] = 'display_data';\n",
              "          await google.colab.output.renderOutput(dataTable, element);\n",
              "          const docLink = document.createElement('div');\n",
              "          docLink.innerHTML = docLinkHtml;\n",
              "          element.appendChild(docLink);\n",
              "        }\n",
              "      </script>\n",
              "    </div>\n",
              "  </div>\n",
              "  "
            ],
            "text/plain": [
              "    mpg  displacement  horsepower  ...  brand_Triumph  brand_Volkswagen  brand_Volvo\n",
              "0  18.0         307.0       130.0  ...              0                 0            0\n",
              "1  15.0         350.0       165.0  ...              0                 0            0\n",
              "2  18.0         318.0       150.0  ...              0                 0            0\n",
              "3  16.0         304.0       150.0  ...              0                 0            0\n",
              "4  17.0         302.0       140.0  ...              0                 0            0\n",
              "\n",
              "[5 rows x 44 columns]"
            ]
          },
          "metadata": {},
          "execution_count": 32
        }
      ]
    },
    {
      "cell_type": "markdown",
      "source": [
        "#### Understanding the correlation between features"
      ],
      "metadata": {
        "id": "cQydJeJCtv4s"
      }
    },
    {
      "cell_type": "code",
      "source": [
        "corr = data.corr()\n",
        "plt.figure(figsize=(14,12))\n",
        "sns.heatmap(corr)"
      ],
      "metadata": {
        "colab": {
          "base_uri": "https://localhost:8080/",
          "height": 806
        },
        "id": "l0YIZzBQtFWx",
        "outputId": "004076a9-d48a-4282-a1c7-b91b134b1568"
      },
      "execution_count": 33,
      "outputs": [
        {
          "output_type": "execute_result",
          "data": {
            "text/plain": [
              "<matplotlib.axes._subplots.AxesSubplot at 0x7ff863686a50>"
            ]
          },
          "metadata": {},
          "execution_count": 33
        },
        {
          "output_type": "display_data",
          "data": {
            "image/png": "[encoded data removed]",
            "text/plain": [
              "<Figure size 1008x864 with 2 Axes>"
            ]
          },
          "metadata": {
            "needs_background": "light"
          }
        }
      ]
    },
    {
      "cell_type": "markdown",
      "source": [
        "#### Defining the independent and dependent variables for the model"
      ],
      "metadata": {
        "id": "iaENocW7t0dI"
      }
    },
    {
      "cell_type": "code",
      "source": [
        "y = data['mpg']\n",
        "X = data.drop(['mpg'], axis=1)"
      ],
      "metadata": {
        "id": "HBZmsJ2lzRpZ"
      },
      "execution_count": 34,
      "outputs": []
    },
    {
      "cell_type": "code",
      "source": [
        "X.shape"
      ],
      "metadata": {
        "colab": {
          "base_uri": "https://localhost:8080/"
        },
        "id": "URMoebfuB8yn",
        "outputId": "13025fe1-89fb-486f-c868-f7940f03622e"
      },
      "execution_count": 35,
      "outputs": [
        {
          "output_type": "execute_result",
          "data": {
            "text/plain": [
              "(398, 43)"
            ]
          },
          "metadata": {},
          "execution_count": 35
        }
      ]
    },
    {
      "cell_type": "code",
      "source": [
        "X.head()"
      ],
      "metadata": {
        "colab": {
          "base_uri": "https://localhost:8080/",
          "height": 287
        },
        "id": "bKmy3zBs9DZG",
        "outputId": "f817f750-abb4-43d7-a03b-1bda00a5ff27"
      },
      "execution_count": 36,
      "outputs": [
        {
          "output_type": "execute_result",
          "data": {
            "text/html": [
              "\n",
              "  <div id=\"df-1e7cb90a-7658-4917-bc99-40ccf1025c2b\">\n",
              "    <div class=\"colab-df-container\">\n",
              "      <div>\n",
              "<style scoped>\n",
              "    .dataframe tbody tr th:only-of-type {\n",
              "        vertical-align: middle;\n",
              "    }\n",
              "\n",
              "    .dataframe tbody tr th {\n",
              "        vertical-align: top;\n",
              "    }\n",
              "\n",
              "    .dataframe thead th {\n",
              "        text-align: right;\n",
              "    }\n",
              "</style>\n",
              "<table border=\"1\" class=\"dataframe\">\n",
              "  <thead>\n",
              "    <tr style=\"text-align: right;\">\n",
              "      <th></th>\n",
              "      <th>displacement</th>\n",
              "      <th>horsepower</th>\n",
              "      <th>weight</th>\n",
              "      <th>acceleration</th>\n",
              "      <th>model year</th>\n",
              "      <th>cylinders_3</th>\n",
              "      <th>cylinders_4</th>\n",
              "      <th>cylinders_5</th>\n",
              "      <th>cylinders_6</th>\n",
              "      <th>cylinders_8</th>\n",
              "      <th>origin_1</th>\n",
              "      <th>origin_2</th>\n",
              "      <th>origin_3</th>\n",
              "      <th>brand_Amc</th>\n",
              "      <th>brand_Audi</th>\n",
              "      <th>brand_Bmw</th>\n",
              "      <th>brand_Buick</th>\n",
              "      <th>brand_Cadillac</th>\n",
              "      <th>brand_Capri</th>\n",
              "      <th>brand_Chevrolet</th>\n",
              "      <th>brand_Chrysler</th>\n",
              "      <th>brand_Datsun</th>\n",
              "      <th>brand_Dodge</th>\n",
              "      <th>brand_Fiat</th>\n",
              "      <th>brand_Ford</th>\n",
              "      <th>brand_Harvester</th>\n",
              "      <th>brand_Honda</th>\n",
              "      <th>brand_Mazda</th>\n",
              "      <th>brand_Mercedes</th>\n",
              "      <th>brand_Mercury</th>\n",
              "      <th>brand_Nissan</th>\n",
              "      <th>brand_Oldsmobile</th>\n",
              "      <th>brand_Opel</th>\n",
              "      <th>brand_Peugeot</th>\n",
              "      <th>brand_Plymouth</th>\n",
              "      <th>brand_Pontiac</th>\n",
              "      <th>brand_Renault</th>\n",
              "      <th>brand_Saab</th>\n",
              "      <th>brand_Subaru</th>\n",
              "      <th>brand_Toyota</th>\n",
              "      <th>brand_Triumph</th>\n",
              "      <th>brand_Volkswagen</th>\n",
              "      <th>brand_Volvo</th>\n",
              "    </tr>\n",
              "  </thead>\n",
              "  <tbody>\n",
              "    <tr>\n",
              "      <th>0</th>\n",
              "      <td>307.0</td>\n",
              "      <td>130.0</td>\n",
              "      <td>3504.0</td>\n",
              "      <td>12.0</td>\n",
              "      <td>70</td>\n",
              "      <td>0</td>\n",
              "      <td>0</td>\n",
              "      <td>0</td>\n",
              "      <td>0</td>\n",
              "      <td>1</td>\n",
              "      <td>1</td>\n",
              "      <td>0</td>\n",
              "      <td>0</td>\n",
              "      <td>0</td>\n",
              "      <td>0</td>\n",
              "      <td>0</td>\n",
              "      <td>0</td>\n",
              "      <td>0</td>\n",
              "      <td>0</td>\n",
              "      <td>1</td>\n",
              "      <td>0</td>\n",
              "      <td>0</td>\n",
              "      <td>0</td>\n",
              "      <td>0</td>\n",
              "      <td>0</td>\n",
              "      <td>0</td>\n",
              "      <td>0</td>\n",
              "      <td>0</td>\n",
              "      <td>0</td>\n",
              "      <td>0</td>\n",
              "      <td>0</td>\n",
              "      <td>0</td>\n",
              "      <td>0</td>\n",
              "      <td>0</td>\n",
              "      <td>0</td>\n",
              "      <td>0</td>\n",
              "      <td>0</td>\n",
              "      <td>0</td>\n",
              "      <td>0</td>\n",
              "      <td>0</td>\n",
              "      <td>0</td>\n",
              "      <td>0</td>\n",
              "      <td>0</td>\n",
              "    </tr>\n",
              "    <tr>\n",
              "      <th>1</th>\n",
              "      <td>350.0</td>\n",
              "      <td>165.0</td>\n",
              "      <td>3693.0</td>\n",
              "      <td>11.5</td>\n",
              "      <td>70</td>\n",
              "      <td>0</td>\n",
              "      <td>0</td>\n",
              "      <td>0</td>\n",
              "      <td>0</td>\n",
              "      <td>1</td>\n",
              "      <td>1</td>\n",
              "      <td>0</td>\n",
              "      <td>0</td>\n",
              "      <td>0</td>\n",
              "      <td>0</td>\n",
              "      <td>0</td>\n",
              "      <td>1</td>\n",
              "      <td>0</td>\n",
              "      <td>0</td>\n",
              "      <td>0</td>\n",
              "      <td>0</td>\n",
              "      <td>0</td>\n",
              "      <td>0</td>\n",
              "      <td>0</td>\n",
              "      <td>0</td>\n",
              "      <td>0</td>\n",
              "      <td>0</td>\n",
              "      <td>0</td>\n",
              "      <td>0</td>\n",
              "      <td>0</td>\n",
              "      <td>0</td>\n",
              "      <td>0</td>\n",
              "      <td>0</td>\n",
              "      <td>0</td>\n",
              "      <td>0</td>\n",
              "      <td>0</td>\n",
              "      <td>0</td>\n",
              "      <td>0</td>\n",
              "      <td>0</td>\n",
              "      <td>0</td>\n",
              "      <td>0</td>\n",
              "      <td>0</td>\n",
              "      <td>0</td>\n",
              "    </tr>\n",
              "    <tr>\n",
              "      <th>2</th>\n",
              "      <td>318.0</td>\n",
              "      <td>150.0</td>\n",
              "      <td>3436.0</td>\n",
              "      <td>11.0</td>\n",
              "      <td>70</td>\n",
              "      <td>0</td>\n",
              "      <td>0</td>\n",
              "      <td>0</td>\n",
              "      <td>0</td>\n",
              "      <td>1</td>\n",
              "      <td>1</td>\n",
              "      <td>0</td>\n",
              "      <td>0</td>\n",
              "      <td>0</td>\n",
              "      <td>0</td>\n",
              "      <td>0</td>\n",
              "      <td>0</td>\n",
              "      <td>0</td>\n",
              "      <td>0</td>\n",
              "      <td>0</td>\n",
              "      <td>0</td>\n",
              "      <td>0</td>\n",
              "      <td>0</td>\n",
              "      <td>0</td>\n",
              "      <td>0</td>\n",
              "      <td>0</td>\n",
              "      <td>0</td>\n",
              "      <td>0</td>\n",
              "      <td>0</td>\n",
              "      <td>0</td>\n",
              "      <td>0</td>\n",
              "      <td>0</td>\n",
              "      <td>0</td>\n",
              "      <td>0</td>\n",
              "      <td>1</td>\n",
              "      <td>0</td>\n",
              "      <td>0</td>\n",
              "      <td>0</td>\n",
              "      <td>0</td>\n",
              "      <td>0</td>\n",
              "      <td>0</td>\n",
              "      <td>0</td>\n",
              "      <td>0</td>\n",
              "    </tr>\n",
              "    <tr>\n",
              "      <th>3</th>\n",
              "      <td>304.0</td>\n",
              "      <td>150.0</td>\n",
              "      <td>3433.0</td>\n",
              "      <td>12.0</td>\n",
              "      <td>70</td>\n",
              "      <td>0</td>\n",
              "      <td>0</td>\n",
              "      <td>0</td>\n",
              "      <td>0</td>\n",
              "      <td>1</td>\n",
              "      <td>1</td>\n",
              "      <td>0</td>\n",
              "      <td>0</td>\n",
              "      <td>1</td>\n",
              "      <td>0</td>\n",
              "      <td>0</td>\n",
              "      <td>0</td>\n",
              "      <td>0</td>\n",
              "      <td>0</td>\n",
              "      <td>0</td>\n",
              "      <td>0</td>\n",
              "      <td>0</td>\n",
              "      <td>0</td>\n",
              "      <td>0</td>\n",
              "      <td>0</td>\n",
              "      <td>0</td>\n",
              "      <td>0</td>\n",
              "      <td>0</td>\n",
              "      <td>0</td>\n",
              "      <td>0</td>\n",
              "      <td>0</td>\n",
              "      <td>0</td>\n",
              "      <td>0</td>\n",
              "      <td>0</td>\n",
              "      <td>0</td>\n",
              "      <td>0</td>\n",
              "      <td>0</td>\n",
              "      <td>0</td>\n",
              "      <td>0</td>\n",
              "      <td>0</td>\n",
              "      <td>0</td>\n",
              "      <td>0</td>\n",
              "      <td>0</td>\n",
              "    </tr>\n",
              "    <tr>\n",
              "      <th>4</th>\n",
              "      <td>302.0</td>\n",
              "      <td>140.0</td>\n",
              "      <td>3449.0</td>\n",
              "      <td>10.5</td>\n",
              "      <td>70</td>\n",
              "      <td>0</td>\n",
              "      <td>0</td>\n",
              "      <td>0</td>\n",
              "      <td>0</td>\n",
              "      <td>1</td>\n",
              "      <td>1</td>\n",
              "      <td>0</td>\n",
              "      <td>0</td>\n",
              "      <td>0</td>\n",
              "      <td>0</td>\n",
              "      <td>0</td>\n",
              "      <td>0</td>\n",
              "      <td>0</td>\n",
              "      <td>0</td>\n",
              "      <td>0</td>\n",
              "      <td>0</td>\n",
              "      <td>0</td>\n",
              "      <td>0</td>\n",
              "      <td>0</td>\n",
              "      <td>1</td>\n",
              "      <td>0</td>\n",
              "      <td>0</td>\n",
              "      <td>0</td>\n",
              "      <td>0</td>\n",
              "      <td>0</td>\n",
              "      <td>0</td>\n",
              "      <td>0</td>\n",
              "      <td>0</td>\n",
              "      <td>0</td>\n",
              "      <td>0</td>\n",
              "      <td>0</td>\n",
              "      <td>0</td>\n",
              "      <td>0</td>\n",
              "      <td>0</td>\n",
              "      <td>0</td>\n",
              "      <td>0</td>\n",
              "      <td>0</td>\n",
              "      <td>0</td>\n",
              "    </tr>\n",
              "  </tbody>\n",
              "</table>\n",
              "</div>\n",
              "      <button class=\"colab-df-convert\" onclick=\"convertToInteractive('df-1e7cb90a-7658-4917-bc99-40ccf1025c2b')\"\n",
              "              title=\"Convert this dataframe to an interactive table.\"\n",
              "              style=\"display:none;\">\n",
              "        \n",
              "  <svg xmlns=\"http://www.w3.org/2000/svg\" height=\"24px\"viewBox=\"0 0 24 24\"\n",
              "       width=\"24px\">\n",
              "    <path d=\"M0 0h24v24H0V0z\" fill=\"none\"/>\n",
              "    <path d=\"M18.56 5.44l.94 2.06.94-2.06 2.06-.94-2.06-.94-.94-2.06-.94 2.06-2.06.94zm-11 1L8.5 8.5l.94-2.06 2.06-.94-2.06-.94L8.5 2.5l-.94 2.06-2.06.94zm10 10l.94 2.06.94-2.06 2.06-.94-2.06-.94-.94-2.06-.94 2.06-2.06.94z\"/><path d=\"M17.41 7.96l-1.37-1.37c-.4-.4-.92-.59-1.43-.59-.52 0-1.04.2-1.43.59L10.3 9.45l-7.72 7.72c-.78.78-.78 2.05 0 2.83L4 21.41c.39.39.9.59 1.41.59.51 0 1.02-.2 1.41-.59l7.78-7.78 2.81-2.81c.8-.78.8-2.07 0-2.86zM5.41 20L4 18.59l7.72-7.72 1.47 1.35L5.41 20z\"/>\n",
              "  </svg>\n",
              "      </button>\n",
              "      \n",
              "  <style>\n",
              "    .colab-df-container {\n",
              "      display:flex;\n",
              "      flex-wrap:wrap;\n",
              "      gap: 12px;\n",
              "    }\n",
              "\n",
              "    .colab-df-convert {\n",
              "      background-color: #E8F0FE;\n",
              "      border: none;\n",
              "      border-radius: 50%;\n",
              "      cursor: pointer;\n",
              "      display: none;\n",
              "      fill: #1967D2;\n",
              "      height: 32px;\n",
              "      padding: 0 0 0 0;\n",
              "      width: 32px;\n",
              "    }\n",
              "\n",
              "    .colab-df-convert:hover {\n",
              "      background-color: #E2EBFA;\n",
              "      box-shadow: 0px 1px 2px rgba(60, 64, 67, 0.3), 0px 1px 3px 1px rgba(60, 64, 67, 0.15);\n",
              "      fill: #174EA6;\n",
              "    }\n",
              "\n",
              "    [theme=dark] .colab-df-convert {\n",
              "      background-color: #3B4455;\n",
              "      fill: #D2E3FC;\n",
              "    }\n",
              "\n",
              "    [theme=dark] .colab-df-convert:hover {\n",
              "      background-color: #434B5C;\n",
              "      box-shadow: 0px 1px 3px 1px rgba(0, 0, 0, 0.15);\n",
              "      filter: drop-shadow(0px 1px 2px rgba(0, 0, 0, 0.3));\n",
              "      fill: #FFFFFF;\n",
              "    }\n",
              "  </style>\n",
              "\n",
              "      <script>\n",
              "        const buttonEl =\n",
              "          document.querySelector('#df-1e7cb90a-7658-4917-bc99-40ccf1025c2b button.colab-df-convert');\n",
              "        buttonEl.style.display =\n",
              "          google.colab.kernel.accessAllowed ? 'block' : 'none';\n",
              "\n",
              "        async function convertToInteractive(key) {\n",
              "          const element = document.querySelector('#df-1e7cb90a-7658-4917-bc99-40ccf1025c2b');\n",
              "          const dataTable =\n",
              "            await google.colab.kernel.invokeFunction('convertToInteractive',\n",
              "                                                     [key], {});\n",
              "          if (!dataTable) return;\n",
              "\n",
              "          const docLinkHtml = 'Like what you see? Visit the ' +\n",
              "            '<a target=\"_blank\" href=https://colab.research.google.com/notebooks/data_table.ipynb>data table notebook</a>'\n",
              "            + ' to learn more about interactive tables.';\n",
              "          element.innerHTML = '';\n",
              "          dataTable['output_type'] = 'display_data';\n",
              "          await google.colab.output.renderOutput(dataTable, element);\n",
              "          const docLink = document.createElement('div');\n",
              "          docLink.innerHTML = docLinkHtml;\n",
              "          element.appendChild(docLink);\n",
              "        }\n",
              "      </script>\n",
              "    </div>\n",
              "  </div>\n",
              "  "
            ],
            "text/plain": [
              "   displacement  horsepower  ...  brand_Volkswagen  brand_Volvo\n",
              "0         307.0       130.0  ...                 0            0\n",
              "1         350.0       165.0  ...                 0            0\n",
              "2         318.0       150.0  ...                 0            0\n",
              "3         304.0       150.0  ...                 0            0\n",
              "4         302.0       140.0  ...                 0            0\n",
              "\n",
              "[5 rows x 43 columns]"
            ]
          },
          "metadata": {},
          "execution_count": 36
        }
      ]
    },
    {
      "cell_type": "code",
      "source": [
        "y.head()"
      ],
      "metadata": {
        "colab": {
          "base_uri": "https://localhost:8080/"
        },
        "id": "SFv78a5k9GLk",
        "outputId": "91e6841d-8423-43c6-e205-6de633a453a7"
      },
      "execution_count": 37,
      "outputs": [
        {
          "output_type": "execute_result",
          "data": {
            "text/plain": [
              "0    18.0\n",
              "1    15.0\n",
              "2    18.0\n",
              "3    16.0\n",
              "4    17.0\n",
              "Name: mpg, dtype: float64"
            ]
          },
          "metadata": {},
          "execution_count": 37
        }
      ]
    },
    {
      "cell_type": "code",
      "source": [
        "from sklearn.linear_model import LinearRegression\n",
        "from sklearn.model_selection import train_test_split\n",
        "from sklearn.preprocessing import StandardScaler, MinMaxScaler\n",
        "from sklearn.metrics import mean_squared_error\n",
        "\n",
        "# Splitting the dataset into train test dataset\n",
        "X_train, X_test, y_train, y_test = train_test_split(X,y,random_state=42)\n",
        "\n",
        "# Applying standard scaling to the train dataset\n",
        "scaler = StandardScaler()"
      ],
      "metadata": {
        "id": "o37_sQg4i-oD"
      },
      "execution_count": 38,
      "outputs": []
    },
    {
      "cell_type": "code",
      "source": [
        "X_train = scaler.fit_transform(X_train) #scaling features!\n",
        "X_test = scaler.transform(X_test) # applyting the same transformation to the test features"
      ],
      "metadata": {
        "id": "QrnOebbi6O-l"
      },
      "execution_count": 39,
      "outputs": []
    },
    {
      "cell_type": "markdown",
      "source": [
        "4. Apply Normalization and Generate Covariance Matrix"
      ],
      "metadata": {
        "id": "tHss6_9iEv5z"
      }
    },
    {
      "cell_type": "code",
      "source": [
        "# Generating the covariance matrix from mean \n",
        "mean_vec = np.mean(X_train,axis=0)\n",
        "cov_mat = (X_train-mean_vec).T.dot((X_train-mean_vec))/(X_train.shape[0]-1)\n",
        "mean_vect = np.mean(X_test,axis=0)\n",
        "cov_matt = (X_test-mean_vec).T.dot((X_test-mean_vec))/(X_test.shape[0]-1)\n",
        "print(cov_mat)"
      ],
      "metadata": {
        "colab": {
          "base_uri": "https://localhost:8080/"
        },
        "id": "ECiLZA74HcSP",
        "outputId": "0e489d62-5956-4764-eaad-3746a0b45fcd"
      },
      "execution_count": 40,
      "outputs": [
        {
          "output_type": "stream",
          "name": "stdout",
          "text": [
            "[[ 1.003367    0.88430299  0.92903922 ... -0.0405814  -0.23436403\n",
            "  -0.07322441]\n",
            " [ 0.88430299  1.003367    0.84627719 ... -0.02399842 -0.26217207\n",
            "  -0.01939002]\n",
            " [ 0.92903922  0.84627719  1.003367   ... -0.03346916 -0.27384445\n",
            "   0.00731465]\n",
            " ...\n",
            " [-0.0405814  -0.02399842 -0.03346916 ...  1.003367   -0.0138681\n",
            "  -0.00679107]\n",
            " [-0.23436403 -0.26217207 -0.27384445 ... -0.0138681   1.003367\n",
            "  -0.02787736]\n",
            " [-0.07322441 -0.01939002  0.00731465 ... -0.00679107 -0.02787736\n",
            "   1.003367  ]]\n"
          ]
        }
      ]
    },
    {
      "cell_type": "code",
      "source": [
        "# Getting the eigen values and eigen vectors\n",
        "cov_mat = np.cov(X_train.T)\n",
        "train_eig_vals, train_eig_vecs = np.linalg.eig(cov_mat)\n",
        "cov_matt = np.cov(X_test.T)\n",
        "eig_vals,eig_vecs = np.linalg.eig(cov_mat)\n",
        "print(eig_vals)\n",
        "print(eig_vecs)"
      ],
      "metadata": {
        "colab": {
          "base_uri": "https://localhost:8080/"
        },
        "id": "QW0GTPsAHidN",
        "outputId": "428a7cbd-124f-44cc-a97a-cd04d42a1687"
      },
      "execution_count": 41,
      "outputs": [
        {
          "output_type": "stream",
          "name": "stdout",
          "text": [
            "[ 6.20618863e+00  2.42240462e+00  2.08004819e+00  1.71117791e+00\n",
            "  2.94518488e-02  5.33600754e-02  1.07115049e-01  1.58004610e+00\n",
            "  3.28003188e-01  3.95747606e-01  4.31204784e-01  5.88737395e-01\n",
            "  1.33457188e+00  7.53208056e-01  1.23091056e+00  1.18410758e+00\n",
            "  9.23838477e-01  1.13634569e+00  1.08851209e+00  1.07961773e+00\n",
            "  1.07443962e+00  1.06121928e+00  1.05056783e+00  1.04267385e+00\n",
            "  1.03975853e+00  1.03649998e+00  1.02705512e+00  1.02435846e+00\n",
            "  1.02005494e+00  1.00729439e+00  1.01763872e+00  1.01588979e+00\n",
            "  1.01532288e+00  1.01406555e+00  1.00892237e+00  1.01022899e+00\n",
            "  1.01082638e+00 -2.18926685e-15  2.08380336e-15 -3.79519041e-16\n",
            "  2.89498931e-16  8.84871703e-16  0.00000000e+00]\n",
            "[[-3.85101005e-01  4.03890994e-03  6.64004216e-02 ...  7.57812973e-16\n",
            "   1.14156725e-15  0.00000000e+00]\n",
            " [-3.48464250e-01 -2.97957584e-02  2.62320097e-01 ... -2.33584677e-15\n",
            "   1.76105722e-15  0.00000000e+00]\n",
            " [-3.63036328e-01  4.73054929e-02  5.18161119e-02 ...  1.07411284e-15\n",
            "   1.08938754e-15  0.00000000e+00]\n",
            " ...\n",
            " [ 2.27831020e-02  5.01543879e-02  3.61498478e-02 ... -7.45179215e-02\n",
            "  -2.03046067e-03  0.00000000e+00]\n",
            " [ 1.21176790e-01  2.38509312e-01  7.51983291e-02 ... -2.90447106e-01\n",
            "  -7.91408850e-03  0.00000000e+00]\n",
            " [ 3.14392454e-02  1.14077733e-01  4.81681175e-02 ... -1.48281226e-01\n",
            "  -4.04035958e-03  0.00000000e+00]]\n"
          ]
        }
      ]
    },
    {
      "cell_type": "markdown",
      "source": [
        "5. Apply PCA"
      ],
      "metadata": {
        "id": "yJjLzVjNEpIN"
      }
    },
    {
      "cell_type": "code",
      "source": [
        "# Using the PCA library to reduce dimensions of the dataset\n",
        "from sklearn.decomposition import PCA \n",
        "pca = PCA(n_components = 17) \n",
        "X_train = pca.fit_transform(X_train) \n",
        "X_test = pca.transform(X_test) \n",
        "X_train.shape"
      ],
      "metadata": {
        "colab": {
          "base_uri": "https://localhost:8080/"
        },
        "id": "jzSLDR5AHniz",
        "outputId": "67b9f0f2-6a7e-46d0-9f50-92ade26c9a10"
      },
      "execution_count": 42,
      "outputs": [
        {
          "output_type": "execute_result",
          "data": {
            "text/plain": [
              "(298, 17)"
            ]
          },
          "metadata": {},
          "execution_count": 42
        }
      ]
    },
    {
      "cell_type": "code",
      "source": [
        "pca.components_"
      ],
      "metadata": {
        "colab": {
          "base_uri": "https://localhost:8080/"
        },
        "id": "Bfw9wp-SHqX2",
        "outputId": "f0ea7070-6e49-4032-beb4-8a58e50718cc"
      },
      "execution_count": 43,
      "outputs": [
        {
          "output_type": "execute_result",
          "data": {
            "text/plain": [
              "array([[ 3.85101005e-01,  3.48464250e-01,  3.63036328e-01,\n",
              "        -2.10527993e-01, -1.65482993e-01, -3.04996030e-02,\n",
              "        -3.33342645e-01, -3.14320754e-02,  8.17335912e-02,\n",
              "         3.20686886e-01,  3.24687955e-01, -1.86831663e-01,\n",
              "        -2.15359040e-01,  5.59701263e-02, -4.54283718e-02,\n",
              "        -2.16302946e-02,  8.57719891e-02,  3.92903365e-02,\n",
              "        -6.01678558e-03,  9.78622767e-02, -8.79344625e-04,\n",
              "        -1.15240848e-01,  6.58392571e-02, -6.43080319e-02,\n",
              "         9.40364575e-02,  3.81055142e-02, -8.09552795e-02,\n",
              "        -6.33545793e-02, -2.48315746e-02,  4.30885704e-02,\n",
              "         0.00000000e+00,  5.21059459e-02, -3.82459961e-02,\n",
              "        -5.51192004e-02,  5.69386644e-02,  5.28123073e-02,\n",
              "        -5.21284126e-02, -2.34582620e-02, -5.65996207e-02,\n",
              "        -1.11036827e-01, -2.27831020e-02, -1.21176790e-01,\n",
              "        -3.14392454e-02],\n",
              "       [ 4.03890994e-03, -2.97957584e-02,  4.73054929e-02,\n",
              "         1.11403010e-01, -7.25933341e-02, -1.99977681e-01,\n",
              "         8.97478726e-03,  2.15426812e-01,  1.04230548e-02,\n",
              "        -2.40805303e-02, -5.78968528e-03,  5.00550736e-01,\n",
              "        -4.73297752e-01,  1.25163880e-02,  2.05383707e-01,\n",
              "         7.17765223e-02, -6.62180114e-03, -7.15007739e-03,\n",
              "        -1.09654189e-03, -1.60176063e-03, -4.56921426e-03,\n",
              "        -2.40990934e-01, -1.44995110e-02,  1.39481750e-01,\n",
              "         4.18368364e-03,  8.77456349e-03, -1.50569268e-01,\n",
              "        -2.31669930e-01,  1.58577887e-01, -2.27886830e-03,\n",
              "         3.55170912e-37,  1.61818443e-03,  9.60203424e-02,\n",
              "         1.68892027e-01, -3.77198568e-03,  9.68366248e-05,\n",
              "         1.09654218e-01,  7.55582557e-02, -9.76202349e-02,\n",
              "        -2.30287207e-01,  5.01543879e-02,  2.38509312e-01,\n",
              "         1.14077733e-01],\n",
              "       [ 6.64004216e-02,  2.62320097e-01,  5.18161119e-02,\n",
              "        -3.48438389e-01, -1.74129350e-01,  1.69092994e-01,\n",
              "         1.08976855e-01,  5.57578902e-02, -5.12667446e-01,\n",
              "         3.19911604e-01, -2.93171984e-01,  2.21585609e-01,\n",
              "         1.43702320e-01, -2.78158722e-01,  1.06013852e-01,\n",
              "         1.12155612e-01, -6.70771437e-03,  8.15848080e-02,\n",
              "        -1.37332317e-02, -3.32817204e-02, -9.92060981e-02,\n",
              "         4.36240075e-02,  2.02436149e-02,  8.89722919e-02,\n",
              "        -7.76359328e-02,  5.83551876e-02,  4.18158506e-02,\n",
              "         1.54200728e-01, -7.98371957e-03, -5.74898635e-02,\n",
              "        -1.09792435e-35, -1.72081222e-03,  8.62653549e-02,\n",
              "         2.07937079e-02, -9.13004508e-02, -1.90452457e-02,\n",
              "         6.03651220e-02,  8.53236594e-02,  1.92132118e-02,\n",
              "         5.63754646e-02,  3.61498478e-02,  7.51983291e-02,\n",
              "         4.81681175e-02],\n",
              "       [ 7.24427356e-03,  1.11345524e-04,  9.30767019e-02,\n",
              "         9.19594324e-02,  2.43983151e-03,  4.57264504e-01,\n",
              "        -2.72811426e-01,  4.36252255e-01,  1.97493096e-01,\n",
              "        -8.25775691e-02, -9.05292526e-02,  4.13282945e-02,\n",
              "         7.03754896e-02,  1.08745668e-01,  3.20129317e-01,\n",
              "        -4.85440323e-02,  1.36982027e-02, -1.10528938e-02,\n",
              "        -5.06225481e-02, -5.85832934e-02, -2.91684557e-03,\n",
              "        -3.82810607e-02, -1.03220016e-01, -7.10740509e-02,\n",
              "        -5.54985721e-02,  9.17372605e-03, -6.90809516e-02,\n",
              "         4.43571281e-01,  2.79158865e-01, -1.46923689e-04,\n",
              "         1.65377949e-32,  1.74876362e-02, -5.12740321e-02,\n",
              "         5.88947897e-03, -2.42351549e-02, -8.24058840e-03,\n",
              "        -5.26057376e-02, -3.56969185e-02, -3.89102716e-02,\n",
              "        -5.60577204e-02, -2.62384196e-02, -1.11775360e-01,\n",
              "         5.83621469e-03],\n",
              "       [ 6.46406989e-02,  4.78486227e-02,  7.86642242e-02,\n",
              "         3.47140931e-02,  1.70333303e-01, -4.26985540e-01,\n",
              "        -9.41718445e-03,  4.30838984e-01, -7.23448794e-02,\n",
              "         8.02805276e-02, -6.87451728e-02, -1.01072448e-01,\n",
              "         1.80547393e-01, -9.45112754e-02,  3.28127836e-01,\n",
              "        -6.98815658e-02,  2.26400579e-02,  3.83267446e-02,\n",
              "        -2.15147977e-02,  4.09481227e-03,  7.54949767e-03,\n",
              "         2.03728542e-01,  1.24572254e-02, -1.28981934e-01,\n",
              "        -4.96963038e-02,  1.95566307e-02,  1.37901498e-01,\n",
              "        -3.98205197e-01,  2.37700731e-01,  1.43337173e-02,\n",
              "        -8.84724068e-33,  6.63705948e-02, -9.06444316e-02,\n",
              "        -8.11924575e-02, -6.01794068e-02, -1.68614422e-03,\n",
              "        -6.90631313e-02, -4.76481727e-02,  8.60387299e-02,\n",
              "         1.96144334e-01, -1.67012326e-02, -1.74707973e-01,\n",
              "        -6.23131134e-02],\n",
              "       [-6.37857669e-02, -1.17534153e-01, -8.56055987e-02,\n",
              "        -3.48921849e-02,  3.73645802e-01,  1.12447168e-01,\n",
              "         1.37179017e-01,  1.30148696e-01, -2.71107446e-01,\n",
              "         4.85329243e-02,  2.47795922e-01, -1.22877651e-01,\n",
              "        -1.83270969e-01, -2.83747608e-01,  1.23590809e-01,\n",
              "        -1.07863121e-01, -8.86342551e-02, -9.05182716e-03,\n",
              "         1.20190577e-01,  1.59445296e-01,  1.82218099e-01,\n",
              "        -2.79532210e-01,  3.51476302e-01, -8.12757028e-02,\n",
              "         9.05213420e-02, -1.43596172e-01,  1.04193307e-01,\n",
              "         1.63504655e-01, -1.14301342e-02,  9.16281355e-02,\n",
              "         1.93270922e-29,  6.00703166e-02, -1.00384723e-01,\n",
              "        -2.00429475e-01,  1.75029977e-02, -3.93015095e-02,\n",
              "         1.81249466e-02, -7.06571741e-02,  6.44400060e-03,\n",
              "        -1.79408307e-01,  5.17390707e-02,  7.98724833e-02,\n",
              "        -1.60180276e-01],\n",
              "       [ 8.27728000e-02,  3.32216726e-02,  1.70821715e-01,\n",
              "         2.94216960e-01,  2.57971920e-01,  1.90340755e-02,\n",
              "        -3.90725643e-02, -1.43979918e-01, -4.49894436e-02,\n",
              "         1.17788932e-01, -8.01683178e-02,  6.46992750e-02,\n",
              "         3.53551004e-02, -1.40001727e-01, -3.07107231e-01,\n",
              "        -1.89934789e-01,  8.71524375e-02,  7.30680320e-02,\n",
              "        -1.02264642e-01,  1.52688697e-01,  7.06096091e-02,\n",
              "         3.59967956e-03, -5.90419066e-02, -1.48835205e-01,\n",
              "        -1.79774623e-01,  1.49366254e-01,  2.02080026e-02,\n",
              "         7.27851118e-02,  1.64019195e-01,  1.25563439e-01,\n",
              "         0.00000000e+00,  3.83909231e-01, -1.43865211e-01,\n",
              "         3.65403201e-01, -3.09338382e-01,  3.54115905e-03,\n",
              "         4.36956442e-02, -2.44263871e-02,  4.56309833e-02,\n",
              "        -2.60877206e-02,  5.66438063e-02,  1.09888668e-01,\n",
              "         1.05715146e-01],\n",
              "       [-1.35700059e-02, -9.12580486e-02,  6.77200775e-03,\n",
              "         1.93674053e-01, -1.85626728e-01,  1.22015899e-02,\n",
              "         2.64285814e-02,  3.65063891e-02, -1.21751456e-01,\n",
              "         7.64242416e-02,  4.23561067e-02, -5.95958431e-02,\n",
              "         5.70679600e-03, -1.36581354e-01,  2.27968865e-02,\n",
              "        -1.22737403e-01, -2.87064724e-01, -8.06956178e-02,\n",
              "         1.95169561e-02,  8.93696091e-03, -1.64373449e-01,\n",
              "         4.16362249e-02, -1.98625113e-01,  2.24897472e-02,\n",
              "         7.36496435e-01,  1.61024880e-01, -9.87289820e-02,\n",
              "         1.38146718e-02,  1.39787295e-02, -7.21993464e-02,\n",
              "         0.00000000e+00,  4.80798752e-02, -1.34100839e-02,\n",
              "         1.22154275e-01, -1.99545071e-01, -8.68057302e-02,\n",
              "        -7.65494673e-02, -9.89939262e-02,  5.06334783e-02,\n",
              "        -1.40567200e-03, -1.20119719e-01,  7.78318677e-03,\n",
              "        -1.33197642e-01],\n",
              "       [-1.96695043e-02, -2.30191734e-02, -2.54333097e-02,\n",
              "         4.28555077e-02, -1.23426393e-01,  7.80458093e-03,\n",
              "         3.33070839e-02,  3.26213953e-02, -3.41890298e-02,\n",
              "        -1.46767109e-02,  3.57893944e-02, -3.67892202e-02,\n",
              "        -8.19715719e-03,  1.31664984e-02,  7.43717410e-02,\n",
              "        -6.08431831e-03, -2.18531789e-01, -8.18452829e-02,\n",
              "         5.08225058e-02,  8.34640154e-01, -1.06082402e-01,\n",
              "         3.53643810e-02, -2.02415760e-01,  6.30583919e-02,\n",
              "        -3.13062291e-01,  5.13276940e-02, -8.24770003e-02,\n",
              "        -6.09309855e-04, -4.96864556e-02, -1.00580165e-01,\n",
              "        -0.00000000e+00, -1.21544819e-01,  4.10008478e-02,\n",
              "        -4.23752895e-03,  6.27115003e-04, -3.99180432e-02,\n",
              "        -4.64402589e-02, -3.55939478e-02,  1.31117274e-02,\n",
              "        -1.64993326e-03, -8.26154212e-02, -2.94968962e-02,\n",
              "        -9.38044918e-02],\n",
              "       [-3.12899485e-02,  1.06375499e-03, -2.25064847e-02,\n",
              "         8.69445022e-02, -1.03212092e-01,  4.14227903e-03,\n",
              "         3.88041168e-04,  1.42525682e-02, -4.31314685e-02,\n",
              "         3.71965660e-02,  2.35294140e-02, -2.63541919e-02,\n",
              "        -3.30923287e-03,  2.46815753e-01,  3.16086369e-02,\n",
              "        -6.82404664e-02, -2.73694792e-01, -5.20747947e-02,\n",
              "         2.88464293e-02, -1.39242201e-01, -1.86997881e-01,\n",
              "         2.45690876e-01,  6.81556940e-01,  6.15181347e-02,\n",
              "        -2.25599743e-01,  2.18176407e-01, -1.95606639e-01,\n",
              "        -2.90844786e-03, -2.70094008e-02, -5.24520444e-02,\n",
              "        -0.00000000e+00,  4.23428394e-02,  2.23059723e-02,\n",
              "         1.44298424e-01, -1.52092313e-01, -3.97548819e-02,\n",
              "        -5.63530548e-02, -6.51091293e-02,  2.09911154e-02,\n",
              "        -1.41447974e-01, -1.27401618e-01, -2.41037630e-02,\n",
              "        -1.21567208e-01],\n",
              "       [-3.05771310e-02,  1.96641137e-02,  3.86037556e-02,\n",
              "         6.95582216e-02, -1.58530959e-02,  7.64034786e-03,\n",
              "         4.02931718e-02,  4.24683960e-03, -2.92525032e-02,\n",
              "        -2.09623836e-02,  2.80643068e-02, -2.28067757e-02,\n",
              "        -1.22253577e-02, -3.82432276e-01, -3.85394571e-02,\n",
              "        -8.48493206e-02, -8.10878651e-02, -3.90996869e-02,\n",
              "         6.59542167e-02, -1.02885146e-01,  3.85874343e-03,\n",
              "         2.69280717e-01, -8.63495433e-02, -5.00682253e-02,\n",
              "        -8.08328410e-02,  1.40423452e-01, -8.64068696e-02,\n",
              "         1.55253002e-02,  6.58777082e-02,  8.16922169e-04,\n",
              "        -0.00000000e+00,  3.21620753e-02, -4.76619601e-02,\n",
              "         2.47440509e-01,  7.29529858e-01,  7.80605226e-02,\n",
              "        -1.59758513e-02, -1.19959983e-02,  3.43721553e-02,\n",
              "        -2.70672195e-01, -3.82192787e-02, -9.66042534e-02,\n",
              "        -1.99988218e-02],\n",
              "       [-8.16352895e-04, -1.62377159e-02,  2.69204968e-02,\n",
              "         4.46531136e-02, -4.30161255e-02,  1.34965773e-03,\n",
              "         1.37175267e-02,  2.04276454e-03, -2.57154676e-02,\n",
              "         8.32006009e-03,  5.29802325e-03, -1.15962281e-02,\n",
              "         4.68835538e-03, -7.46116853e-03, -2.17192194e-02,\n",
              "        -5.81043591e-02, -1.98024170e-01, -1.72369231e-02,\n",
              "         1.35066468e-02, -8.34706317e-02, -8.80123284e-02,\n",
              "        -5.82399703e-01,  9.68958643e-02,  1.26505987e-02,\n",
              "        -1.05401198e-01,  1.38885251e-01, -7.63649201e-02,\n",
              "         2.82331447e-03,  3.63576920e-02, -1.01285491e-02,\n",
              "         0.00000000e+00,  7.45288429e-02, -1.67439468e-03,\n",
              "         1.82800889e-01,  2.75275397e-01,  4.06441027e-02,\n",
              "        -4.82543659e-02, -3.11506584e-02,  4.06025380e-02,\n",
              "         6.47378950e-01, -6.09895654e-02, -6.50844056e-02,\n",
              "        -3.06900277e-02],\n",
              "       [ 4.28517465e-02, -4.96967453e-02, -6.47332582e-02,\n",
              "        -6.10848941e-03, -2.27397749e-02, -8.15040030e-03,\n",
              "        -6.91741413e-02,  4.58507385e-03, -2.30306710e-02,\n",
              "         1.03248315e-01, -2.16871297e-02,  8.24452250e-03,\n",
              "         1.84482809e-02,  1.77803353e-01,  5.28605899e-02,\n",
              "        -8.19895227e-02, -7.32011188e-02,  1.02885509e-01,\n",
              "        -1.23429676e-01, -9.71684795e-02, -1.92740791e-01,\n",
              "         4.76555593e-02, -2.08396026e-01,  5.96785115e-03,\n",
              "        -1.26184026e-01,  5.97181543e-02,  2.67973251e-03,\n",
              "        -1.66598856e-02, -9.22522917e-02,  2.04819210e-01,\n",
              "        -0.00000000e+00,  3.94619713e-01, -1.60239082e-02,\n",
              "        -3.59578700e-01,  2.15338364e-01, -2.07418577e-01,\n",
              "        -9.50709582e-02, -1.51573777e-01, -8.83690777e-04,\n",
              "        -1.08617292e-02, -7.65332623e-02,  5.30646387e-01,\n",
              "        -2.11874549e-01],\n",
              "       [ 1.01988560e-02, -1.77932517e-02,  3.46062992e-02,\n",
              "        -6.65071898e-02,  4.76651413e-02, -1.04364838e-02,\n",
              "        -3.97092583e-02, -2.31222887e-02,  2.71072813e-02,\n",
              "         2.73779267e-02, -4.54726377e-02,  3.77140780e-02,\n",
              "         1.90792429e-02,  1.45402287e-01, -7.48148143e-02,\n",
              "         1.41655581e-01, -6.97202846e-01,  1.82634214e-01,\n",
              "        -1.67343896e-01,  2.70861188e-02,  6.00429362e-02,\n",
              "         1.02564813e-02, -1.76650233e-02,  3.88097886e-02,\n",
              "         5.92706591e-02, -1.23263230e-01,  2.54905376e-01,\n",
              "        -1.33876281e-02,  7.67595454e-02,  1.84019585e-01,\n",
              "         2.77555756e-17,  1.87491482e-01,  4.45354242e-02,\n",
              "        -7.86495150e-02,  7.52040701e-02,  1.23095883e-03,\n",
              "         8.14236349e-02,  1.13546338e-01, -6.58777577e-02,\n",
              "        -1.08932393e-01,  1.49174700e-01, -2.46008368e-01,\n",
              "         3.04154071e-01],\n",
              "       [ 2.01118311e-02,  2.75162048e-03,  6.43404671e-04,\n",
              "         2.19236538e-02, -2.75080893e-02,  3.37008406e-03,\n",
              "         5.20004468e-02,  1.45899963e-02, -4.75712542e-02,\n",
              "        -1.81201150e-02,  2.65736994e-02, -2.60599223e-02,\n",
              "        -7.29182364e-03,  1.02028292e-01,  9.99187075e-02,\n",
              "        -6.77358207e-03, -9.74004253e-02,  4.53381186e-03,\n",
              "         1.96612423e-01, -1.22005799e-01, -3.67082600e-02,\n",
              "        -1.04213220e-01, -1.94151082e-01,  4.41370666e-02,\n",
              "        -1.09849720e-01,  1.48873402e-01,  2.51555962e-01,\n",
              "         9.89078533e-03, -1.24552438e-01,  1.41692540e-01,\n",
              "        -0.00000000e+00,  2.12344342e-02,  3.88523006e-02,\n",
              "         3.47461697e-02, -1.43551335e-01,  7.67047734e-01,\n",
              "        -3.43713837e-02, -8.29862403e-04,  1.78441410e-01,\n",
              "        -1.59320877e-01, -5.64409747e-02,  3.26624720e-02,\n",
              "        -2.19222190e-01],\n",
              "       [-5.46598392e-03,  2.39505806e-03, -1.32822022e-02,\n",
              "         2.36520621e-02, -1.49846205e-02, -6.33986834e-03,\n",
              "         9.38378142e-03,  2.81652318e-03, -3.15569463e-02,\n",
              "         2.06075351e-02,  4.25853080e-03, -9.49086134e-03,\n",
              "         3.93147965e-03,  2.00805063e-01,  5.38761162e-02,\n",
              "        -2.55535088e-02,  1.91288332e-01, -1.69165180e-03,\n",
              "         5.01029549e-02, -1.71527438e-02, -1.28852655e-01,\n",
              "        -2.21244886e-01, -4.16474648e-02,  1.72565373e-01,\n",
              "        -2.08105514e-02,  1.35159773e-01,  5.69985052e-01,\n",
              "        -2.37884487e-03, -7.93318387e-02, -2.00235525e-01,\n",
              "        -1.80411242e-16,  1.10434357e-01,  5.14969803e-02,\n",
              "         2.10397402e-01,  8.40743921e-02, -4.08787371e-01,\n",
              "         6.66518570e-02, -1.01533320e-02,  2.37475707e-01,\n",
              "        -2.49278128e-01, -3.24863547e-02, -2.33147454e-01,\n",
              "        -1.23369885e-01],\n",
              "       [-1.39339612e-02, -9.64905791e-03, -2.10526626e-02,\n",
              "         1.13909983e-02, -1.37360333e-02,  1.99417070e-03,\n",
              "         1.93213324e-03,  1.78473698e-03, -9.21156127e-03,\n",
              "         5.83852871e-03,  1.80392695e-02, -8.23176356e-03,\n",
              "        -1.40266977e-02, -9.29850720e-02,  7.54314889e-02,\n",
              "        -9.73010216e-03,  8.82093886e-02, -8.94307695e-02,\n",
              "         1.05547632e-01, -4.15272856e-02,  1.59739362e-02,\n",
              "         3.11377613e-02, -8.33097295e-02,  3.45012237e-01,\n",
              "        -6.07332437e-02, -4.51047415e-03, -1.67086274e-01,\n",
              "         1.36792169e-03, -1.12215499e-01,  7.77187038e-01,\n",
              "         0.00000000e+00, -4.01285607e-02,  9.12783772e-02,\n",
              "         8.20114582e-02, -9.59818064e-02, -2.08623867e-01,\n",
              "         9.84606853e-02, -3.08501023e-02,  1.98721761e-02,\n",
              "         4.48335179e-02, -2.74830197e-02, -2.91618278e-01,\n",
              "        -1.07077642e-01]])"
            ]
          },
          "metadata": {},
          "execution_count": 43
        }
      ]
    },
    {
      "cell_type": "markdown",
      "source": [
        "6. Build the model, summarize it and evaluate the model and Summarize"
      ],
      "metadata": {
        "id": "pcLphLfqEsDO"
      }
    },
    {
      "cell_type": "code",
      "source": [
        "# Applying linear regression to the target variable\n",
        "linear = LinearRegression()\n",
        "linear.fit(X_train, y_train)"
      ],
      "metadata": {
        "colab": {
          "base_uri": "https://localhost:8080/"
        },
        "id": "wBuQDjoC6GYr",
        "outputId": "d1f045ca-5a6d-4961-a7d5-8c3fe5a9549b"
      },
      "execution_count": 44,
      "outputs": [
        {
          "output_type": "execute_result",
          "data": {
            "text/plain": [
              "LinearRegression()"
            ]
          },
          "metadata": {},
          "execution_count": 44
        }
      ]
    },
    {
      "cell_type": "markdown",
      "source": [
        "6. Prediction"
      ],
      "metadata": {
        "id": "yjwCrFl0sx1v"
      }
    },
    {
      "cell_type": "code",
      "source": [
        "# Predicting the X_test\n",
        "pred = linear.predict(X_test)\n",
        "actual = y_test"
      ],
      "metadata": {
        "id": "SltNXcwD6w49"
      },
      "execution_count": 45,
      "outputs": []
    },
    {
      "cell_type": "code",
      "source": [
        "linear.score(X_test, y_test)"
      ],
      "metadata": {
        "colab": {
          "base_uri": "https://localhost:8080/"
        },
        "id": "TmglBpfWfW2e",
        "outputId": "9ff88d94-cff0-408c-81f6-372b7fd27f65"
      },
      "execution_count": 46,
      "outputs": [
        {
          "output_type": "execute_result",
          "data": {
            "text/plain": [
              "0.8140565756993702"
            ]
          },
          "metadata": {},
          "execution_count": 46
        }
      ]
    },
    {
      "cell_type": "markdown",
      "source": [
        "7. Tuning and Evaluating the model"
      ],
      "metadata": {
        "id": "qYqlxQ9iE4li"
      }
    },
    {
      "cell_type": "code",
      "source": [
        "from sklearn.metrics import mean_absolute_error\n",
        "mae = mean_absolute_error(actual, pred)\n",
        "print(\"Linear Regression MAE:\", mae)"
      ],
      "metadata": {
        "colab": {
          "base_uri": "https://localhost:8080/"
        },
        "id": "ZH8woF0D8vhB",
        "outputId": "63bb9735-18a9-457e-b295-34d0965d4315"
      },
      "execution_count": 47,
      "outputs": [
        {
          "output_type": "stream",
          "name": "stdout",
          "text": [
            "Linear Regression MAE: 2.5775680333803224\n"
          ]
        }
      ]
    },
    {
      "cell_type": "code",
      "source": [
        "mse = mean_squared_error(actual, pred)\n",
        "print(\"Linear Regression MSE:\", mse)"
      ],
      "metadata": {
        "colab": {
          "base_uri": "https://localhost:8080/"
        },
        "id": "Rgcmi-0W9u_8",
        "outputId": "ec0b0890-c378-41f5-b6f3-f3f0fef6497f"
      },
      "execution_count": 48,
      "outputs": [
        {
          "output_type": "stream",
          "name": "stdout",
          "text": [
            "Linear Regression MSE: 10.558521408869604\n"
          ]
        }
      ]
    },
    {
      "cell_type": "code",
      "source": [
        "print(\"LR Coef:\", linear.coef_)"
      ],
      "metadata": {
        "colab": {
          "base_uri": "https://localhost:8080/"
        },
        "id": "fDPdoQNL7ocA",
        "outputId": "3208fa25-b54a-4fd3-95ca-1afb9f5fff8c"
      },
      "execution_count": 49,
      "outputs": [
        {
          "output_type": "stream",
          "name": "stdout",
          "text": [
            "LR Coef: [-2.65383977 -0.35752489 -0.18365545 -0.77759876  0.54819337  1.41251165\n",
            "  0.22832011 -0.57058111 -0.13393462 -0.08620416  0.22612519 -0.30033679\n",
            "  0.72149674 -0.10573847  0.17833134 -0.03595885 -0.21963159]\n"
          ]
        }
      ]
    },
    {
      "cell_type": "markdown",
      "source": [
        "### Conclusion -\n",
        "\n",
        "Through this experiment I understood how to apply PCA and understood how PCA can help us reduce the size of our dataset while retaining the most variant features. I have applied PCA to the Auto-MPG dataset to predict the miles per gallon depending on the various physical features of the car."
      ],
      "metadata": {
        "id": "pXjWdv12DL4S"
      }
    }
  ]
}
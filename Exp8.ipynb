{
  "nbformat": 4,
  "nbformat_minor": 0,
  "metadata": {
    "colab": {
      "name": "Exp8.ipynb",
      "provenance": [],
      "collapsed_sections": [],
      "authorship_tag": "ABX9TyM4NZGqAttbM0u1EBYPdoz5",
      "include_colab_link": true
    },
    "kernelspec": {
      "name": "python3",
      "display_name": "Python 3"
    },
    "language_info": {
      "name": "python"
    }
  },
  "cells": [
    {
      "cell_type": "markdown",
      "metadata": {
        "id": "view-in-github",
        "colab_type": "text"
      },
      "source": [
        "<a href=\"https://colab.research.google.com/github/khushijashnani/CEEL-82B---Data-Science/blob/master/Exp8.ipynb\" target=\"_parent\"><img src=\"https://colab.research.google.com/assets/colab-badge.svg\" alt=\"Open In Colab\"/></a>"
      ]
    },
    {
      "cell_type": "markdown",
      "source": [
        "###**Data Science - Experiment 8**\n",
        "\n",
        "Name - Khushi Jashnani\n",
        "\n",
        "UID - 2018130017"
      ],
      "metadata": {
        "id": "_TtYomzrEGm4"
      }
    },
    {
      "cell_type": "markdown",
      "source": [
        "###**Objective**:\n",
        " \n",
        "Understanding Support Vector Machine algorithm through building SVM algorithm in Python\n",
        "\n",
        "### **Theory** :\n",
        "An SVM is a numeric classifier. That means that all of the features of the data must be numeric, not symbolic. Furthermore, in this class, we'll assume that the SVM is a binary classifier: that is, it classifies points as one of two classifications. We'll typically call the classifications \"+\" and \" -\".\n",
        "\n",
        "A trained SVM is defined by two values:\n",
        "\n",
        "- A normal vector w (also called the weight vector), which solely determines the shape and direction of the decision boundary.\n",
        "\n",
        "- A scalar offset b, which solely determines the position of the decision boundary with respect to the origin.\n",
        "\n",
        "A trained SVM can then classify a point x by computing w · x + b. If this value is positive, x is classified as +; otherwise, x is classified as -.\n",
        "\n",
        "The decision boundary is coerced by support vectors, so called because these vectors (data points) support the boundary: if any of these points are moved or eliminated, the decision boundary changes! All support vectors lie on a gutter, which can be thought of as a line running parallel to the decision boundary. There are two gutters: one gutter hosts positive support vectors, and the other, negative support vectors.\n",
        "\n",
        "Note that, though a support vector is always on a gutter, it's not necessarily true that every data point on a gutter is a support vector.\n",
        "\n",
        "Below are the five principle SVM equations, as taught in lecture and recitation. Equations 1-3 define the decision boundary and the margin width, while Equations 4 and 5 can be used to calculate the alpha (supportiveness) values for the training points.\n",
        "\n",
        "![image.png](data:image/png;base64,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)\n",
        "\n",
        "\n"
      ],
      "metadata": {
        "id": "MpUWoaupEE3D"
      }
    },
    {
      "cell_type": "code",
      "source": [
        "# Importing important libraries\n",
        "import pandas as pd\n",
        "import numpy as np\n",
        "import matplotlib as mpl\n",
        "import matplotlib.pyplot as plt\n",
        "from sklearn.metrics import confusion_matrix\n",
        "%matplotlib inline\n",
        "\n",
        "from sklearn.svm import SVC"
      ],
      "metadata": {
        "id": "JlMu5394fF8x"
      },
      "execution_count": null,
      "outputs": []
    },
    {
      "cell_type": "code",
      "source": [
        "# We'll define a function to draw a nice plot of an SVM\n",
        "def plot_svc(svc, X, y, h=0.02, pad=0.25):\n",
        "    x_min, x_max = X[:, 0].min()-pad, X[:, 0].max()+pad\n",
        "    y_min, y_max = X[:, 1].min()-pad, X[:, 1].max()+pad\n",
        "    xx, yy = np.meshgrid(np.arange(x_min, x_max, h), np.arange(y_min, y_max, h))\n",
        "    Z = svc.predict(np.c_[xx.ravel(), yy.ravel()])\n",
        "    Z = Z.reshape(xx.shape)\n",
        "    plt.contourf(xx, yy, Z, cmap=plt.cm.Paired, alpha=0.2)\n",
        "    plt.scatter(X[:,0], X[:,1], s=70, c=y, cmap=mpl.cm.Paired)\n",
        "\n",
        "    # Support vectors indicated in plot by vertical lines\n",
        "    sv = svc.support_vectors_\n",
        "    plt.scatter(sv[:,0], sv[:,1], c='k', marker='x', s=100, linewidths='1')\n",
        "    plt.xlim(x_min, x_max)\n",
        "    plt.ylim(y_min, y_max)\n",
        "    plt.xlabel('X1')\n",
        "    plt.ylabel('X2')\n",
        "    plt.show()\n",
        "    print('Number of support vectors: ', svc.support_.size)\n",
        "    print('Support vectors: ',svc.support_)"
      ],
      "metadata": {
        "id": "UloVt6v4fBXh"
      },
      "execution_count": null,
      "outputs": []
    },
    {
      "cell_type": "code",
      "source": [
        "# Generating random data: 20 observations of 2 features and divide into two classes\n",
        "np.random.seed(5)\n",
        "X = np.random.randn(20,2)\n",
        "y = np.repeat([1,-1], 10)\n",
        "X[y == -1] = X[y == -1] +1"
      ],
      "metadata": {
        "id": "uexZOmZOgNxt"
      },
      "execution_count": null,
      "outputs": []
    },
    {
      "cell_type": "code",
      "source": [
        "plt.scatter(X[:,0], X[:,1], s=70, c=y, cmap=mpl.cm.Paired)\n",
        "plt.xlabel('X1')\n",
        "plt.ylabel('X2')"
      ],
      "metadata": {
        "colab": {
          "base_uri": "https://localhost:8080/",
          "height": 296
        },
        "id": "iHWefzU1foXh",
        "outputId": "d60597df-209d-4b19-bc0d-d72d5b69a686"
      },
      "execution_count": null,
      "outputs": [
        {
          "output_type": "execute_result",
          "data": {
            "text/plain": [
              "Text(0, 0.5, 'X2')"
            ]
          },
          "metadata": {},
          "execution_count": 44
        },
        {
          "output_type": "display_data",
          "data": {
            "text/plain": [
              "<Figure size 432x288 with 1 Axes>"
            ],
            "image/png": "[encoded data removed]"
          },
          "metadata": {
            "needs_background": "light"
          }
        }
      ]
    },
    {
      "cell_type": "markdown",
      "source": [
        "Here we can see that the 20 data points are randomly placed."
      ],
      "metadata": {
        "id": "aJ3rL9PJOWYC"
      }
    },
    {
      "cell_type": "code",
      "source": [
        "svc = SVC(C=1, kernel='linear')\n",
        "svc.fit(X, y)"
      ],
      "metadata": {
        "colab": {
          "base_uri": "https://localhost:8080/"
        },
        "id": "FbkD-q28gO3_",
        "outputId": "c1decc32-1f92-46f5-d3da-4ad8a4eeccb6"
      },
      "execution_count": null,
      "outputs": [
        {
          "output_type": "execute_result",
          "data": {
            "text/plain": [
              "SVC(C=1, kernel='linear')"
            ]
          },
          "metadata": {},
          "execution_count": 45
        }
      ]
    },
    {
      "cell_type": "code",
      "source": [
        "plot_svc(svc, X, y)"
      ],
      "metadata": {
        "colab": {
          "base_uri": "https://localhost:8080/",
          "height": 314
        },
        "id": "uB2uQfTagtCo",
        "outputId": "430103e6-01bb-4c89-86be-00259f8f1dd5"
      },
      "execution_count": null,
      "outputs": [
        {
          "output_type": "display_data",
          "data": {
            "text/plain": [
              "<Figure size 432x288 with 1 Axes>"
            ],
            "image/png": "[encoded data removed]"
          },
          "metadata": {
            "needs_background": "light"
          }
        },
        {
          "output_type": "stream",
          "name": "stdout",
          "text": [
            "Number of support vectors:  13\n",
            "Support vectors:  [10 11 13 14 15 16 17  0  1  2  4  6  8]\n"
          ]
        }
      ]
    },
    {
      "cell_type": "markdown",
      "source": [
        "Here we can see that 13 datapoints are taken in the soft margin area with 5 misclassifcations"
      ],
      "metadata": {
        "id": "o0H6-20VOjXp"
      }
    },
    {
      "cell_type": "code",
      "source": [
        "y_pred = svc.predict(X)\n",
        "print(\"Accuracy: \", svc.score(X, y))\n",
        "pd.DataFrame(confusion_matrix(y, y_pred), index=[\"Actual -1\",\"Actual 1\"], columns=[\"Predicted -1\",\"Predicted 1\"])"
      ],
      "metadata": {
        "colab": {
          "base_uri": "https://localhost:8080/",
          "height": 130
        },
        "id": "ajQ2rIfQO5EB",
        "outputId": "c20991c4-2b51-4e61-c73e-bd560fe25706"
      },
      "execution_count": null,
      "outputs": [
        {
          "output_type": "stream",
          "name": "stdout",
          "text": [
            "Accuracy:  0.75\n"
          ]
        },
        {
          "output_type": "execute_result",
          "data": {
            "text/plain": [
              "           Predicted -1  Predicted 1\n",
              "Actual -1             8            2\n",
              "Actual 1              3            7"
            ],
            "text/html": [
              "\n",
              "  <div id=\"df-37ad97f7-8105-43d1-aef1-f4141ec46315\">\n",
              "    <div class=\"colab-df-container\">\n",
              "      <div>\n",
              "<style scoped>\n",
              "    .dataframe tbody tr th:only-of-type {\n",
              "        vertical-align: middle;\n",
              "    }\n",
              "\n",
              "    .dataframe tbody tr th {\n",
              "        vertical-align: top;\n",
              "    }\n",
              "\n",
              "    .dataframe thead th {\n",
              "        text-align: right;\n",
              "    }\n",
              "</style>\n",
              "<table border=\"1\" class=\"dataframe\">\n",
              "  <thead>\n",
              "    <tr style=\"text-align: right;\">\n",
              "      <th></th>\n",
              "      <th>Predicted -1</th>\n",
              "      <th>Predicted 1</th>\n",
              "    </tr>\n",
              "  </thead>\n",
              "  <tbody>\n",
              "    <tr>\n",
              "      <th>Actual -1</th>\n",
              "      <td>8</td>\n",
              "      <td>2</td>\n",
              "    </tr>\n",
              "    <tr>\n",
              "      <th>Actual 1</th>\n",
              "      <td>3</td>\n",
              "      <td>7</td>\n",
              "    </tr>\n",
              "  </tbody>\n",
              "</table>\n",
              "</div>\n",
              "      <button class=\"colab-df-convert\" onclick=\"convertToInteractive('df-37ad97f7-8105-43d1-aef1-f4141ec46315')\"\n",
              "              title=\"Convert this dataframe to an interactive table.\"\n",
              "              style=\"display:none;\">\n",
              "        \n",
              "  <svg xmlns=\"http://www.w3.org/2000/svg\" height=\"24px\"viewBox=\"0 0 24 24\"\n",
              "       width=\"24px\">\n",
              "    <path d=\"M0 0h24v24H0V0z\" fill=\"none\"/>\n",
              "    <path d=\"M18.56 5.44l.94 2.06.94-2.06 2.06-.94-2.06-.94-.94-2.06-.94 2.06-2.06.94zm-11 1L8.5 8.5l.94-2.06 2.06-.94-2.06-.94L8.5 2.5l-.94 2.06-2.06.94zm10 10l.94 2.06.94-2.06 2.06-.94-2.06-.94-.94-2.06-.94 2.06-2.06.94z\"/><path d=\"M17.41 7.96l-1.37-1.37c-.4-.4-.92-.59-1.43-.59-.52 0-1.04.2-1.43.59L10.3 9.45l-7.72 7.72c-.78.78-.78 2.05 0 2.83L4 21.41c.39.39.9.59 1.41.59.51 0 1.02-.2 1.41-.59l7.78-7.78 2.81-2.81c.8-.78.8-2.07 0-2.86zM5.41 20L4 18.59l7.72-7.72 1.47 1.35L5.41 20z\"/>\n",
              "  </svg>\n",
              "      </button>\n",
              "      \n",
              "  <style>\n",
              "    .colab-df-container {\n",
              "      display:flex;\n",
              "      flex-wrap:wrap;\n",
              "      gap: 12px;\n",
              "    }\n",
              "\n",
              "    .colab-df-convert {\n",
              "      background-color: #E8F0FE;\n",
              "      border: none;\n",
              "      border-radius: 50%;\n",
              "      cursor: pointer;\n",
              "      display: none;\n",
              "      fill: #1967D2;\n",
              "      height: 32px;\n",
              "      padding: 0 0 0 0;\n",
              "      width: 32px;\n",
              "    }\n",
              "\n",
              "    .colab-df-convert:hover {\n",
              "      background-color: #E2EBFA;\n",
              "      box-shadow: 0px 1px 2px rgba(60, 64, 67, 0.3), 0px 1px 3px 1px rgba(60, 64, 67, 0.15);\n",
              "      fill: #174EA6;\n",
              "    }\n",
              "\n",
              "    [theme=dark] .colab-df-convert {\n",
              "      background-color: #3B4455;\n",
              "      fill: #D2E3FC;\n",
              "    }\n",
              "\n",
              "    [theme=dark] .colab-df-convert:hover {\n",
              "      background-color: #434B5C;\n",
              "      box-shadow: 0px 1px 3px 1px rgba(0, 0, 0, 0.15);\n",
              "      filter: drop-shadow(0px 1px 2px rgba(0, 0, 0, 0.3));\n",
              "      fill: #FFFFFF;\n",
              "    }\n",
              "  </style>\n",
              "\n",
              "      <script>\n",
              "        const buttonEl =\n",
              "          document.querySelector('#df-37ad97f7-8105-43d1-aef1-f4141ec46315 button.colab-df-convert');\n",
              "        buttonEl.style.display =\n",
              "          google.colab.kernel.accessAllowed ? 'block' : 'none';\n",
              "\n",
              "        async function convertToInteractive(key) {\n",
              "          const element = document.querySelector('#df-37ad97f7-8105-43d1-aef1-f4141ec46315');\n",
              "          const dataTable =\n",
              "            await google.colab.kernel.invokeFunction('convertToInteractive',\n",
              "                                                     [key], {});\n",
              "          if (!dataTable) return;\n",
              "\n",
              "          const docLinkHtml = 'Like what you see? Visit the ' +\n",
              "            '<a target=\"_blank\" href=https://colab.research.google.com/notebooks/data_table.ipynb>data table notebook</a>'\n",
              "            + ' to learn more about interactive tables.';\n",
              "          element.innerHTML = '';\n",
              "          dataTable['output_type'] = 'display_data';\n",
              "          await google.colab.output.renderOutput(dataTable, element);\n",
              "          const docLink = document.createElement('div');\n",
              "          docLink.innerHTML = docLinkHtml;\n",
              "          element.appendChild(docLink);\n",
              "        }\n",
              "      </script>\n",
              "    </div>\n",
              "  </div>\n",
              "  "
            ]
          },
          "metadata": {},
          "execution_count": 47
        }
      ]
    },
    {
      "cell_type": "markdown",
      "source": [
        "Here we can see that the above mentional number of misclassifcations can be confirmed with the above confusion matrix"
      ],
      "metadata": {
        "id": "Zj2ivo9RPA2Q"
      }
    },
    {
      "cell_type": "markdown",
      "source": [
        "Now lets try by keeping the parameter C = 0.1"
      ],
      "metadata": {
        "id": "kcDXnqObPuIJ"
      }
    },
    {
      "cell_type": "code",
      "source": [
        "svc2 = SVC(C=0.1, kernel='linear')\n",
        "svc2.fit(X, y)\n",
        "plot_svc(svc2, X, y)"
      ],
      "metadata": {
        "colab": {
          "base_uri": "https://localhost:8080/",
          "height": 314
        },
        "id": "j-iILC0XhrrL",
        "outputId": "53d0d2f6-ed5d-490d-d63b-9842ced4b675"
      },
      "execution_count": null,
      "outputs": [
        {
          "output_type": "display_data",
          "data": {
            "text/plain": [
              "<Figure size 432x288 with 1 Axes>"
            ],
            "image/png": "[encoded data removed]"
          },
          "metadata": {
            "needs_background": "light"
          }
        },
        {
          "output_type": "stream",
          "name": "stdout",
          "text": [
            "Number of support vectors:  16\n",
            "Support vectors:  [10 11 13 14 15 16 17 19  0  1  2  3  4  6  8  9]\n"
          ]
        }
      ]
    },
    {
      "cell_type": "code",
      "source": [
        "y_pred = svc2.predict(X)\n",
        "print(\"Accuracy: \", svc2.score(X, y))\n",
        "pd.DataFrame(confusion_matrix(y, y_pred), index=[\"Actual -1\",\"Actual 1\"], columns=[\"Predicted -1\",\"Predicted 1\"])"
      ],
      "metadata": {
        "colab": {
          "base_uri": "https://localhost:8080/",
          "height": 130
        },
        "id": "XhYtUUxQP1Lr",
        "outputId": "c650477b-fb8c-483c-81be-41daec7645b9"
      },
      "execution_count": null,
      "outputs": [
        {
          "output_type": "stream",
          "name": "stdout",
          "text": [
            "Accuracy:  0.75\n"
          ]
        },
        {
          "output_type": "execute_result",
          "data": {
            "text/plain": [
              "           Predicted -1  Predicted 1\n",
              "Actual -1             8            2\n",
              "Actual 1              3            7"
            ],
            "text/html": [
              "\n",
              "  <div id=\"df-2074f4f9-e19a-4382-8001-638c6e2ecb7e\">\n",
              "    <div class=\"colab-df-container\">\n",
              "      <div>\n",
              "<style scoped>\n",
              "    .dataframe tbody tr th:only-of-type {\n",
              "        vertical-align: middle;\n",
              "    }\n",
              "\n",
              "    .dataframe tbody tr th {\n",
              "        vertical-align: top;\n",
              "    }\n",
              "\n",
              "    .dataframe thead th {\n",
              "        text-align: right;\n",
              "    }\n",
              "</style>\n",
              "<table border=\"1\" class=\"dataframe\">\n",
              "  <thead>\n",
              "    <tr style=\"text-align: right;\">\n",
              "      <th></th>\n",
              "      <th>Predicted -1</th>\n",
              "      <th>Predicted 1</th>\n",
              "    </tr>\n",
              "  </thead>\n",
              "  <tbody>\n",
              "    <tr>\n",
              "      <th>Actual -1</th>\n",
              "      <td>8</td>\n",
              "      <td>2</td>\n",
              "    </tr>\n",
              "    <tr>\n",
              "      <th>Actual 1</th>\n",
              "      <td>3</td>\n",
              "      <td>7</td>\n",
              "    </tr>\n",
              "  </tbody>\n",
              "</table>\n",
              "</div>\n",
              "      <button class=\"colab-df-convert\" onclick=\"convertToInteractive('df-2074f4f9-e19a-4382-8001-638c6e2ecb7e')\"\n",
              "              title=\"Convert this dataframe to an interactive table.\"\n",
              "              style=\"display:none;\">\n",
              "        \n",
              "  <svg xmlns=\"http://www.w3.org/2000/svg\" height=\"24px\"viewBox=\"0 0 24 24\"\n",
              "       width=\"24px\">\n",
              "    <path d=\"M0 0h24v24H0V0z\" fill=\"none\"/>\n",
              "    <path d=\"M18.56 5.44l.94 2.06.94-2.06 2.06-.94-2.06-.94-.94-2.06-.94 2.06-2.06.94zm-11 1L8.5 8.5l.94-2.06 2.06-.94-2.06-.94L8.5 2.5l-.94 2.06-2.06.94zm10 10l.94 2.06.94-2.06 2.06-.94-2.06-.94-.94-2.06-.94 2.06-2.06.94z\"/><path d=\"M17.41 7.96l-1.37-1.37c-.4-.4-.92-.59-1.43-.59-.52 0-1.04.2-1.43.59L10.3 9.45l-7.72 7.72c-.78.78-.78 2.05 0 2.83L4 21.41c.39.39.9.59 1.41.59.51 0 1.02-.2 1.41-.59l7.78-7.78 2.81-2.81c.8-.78.8-2.07 0-2.86zM5.41 20L4 18.59l7.72-7.72 1.47 1.35L5.41 20z\"/>\n",
              "  </svg>\n",
              "      </button>\n",
              "      \n",
              "  <style>\n",
              "    .colab-df-container {\n",
              "      display:flex;\n",
              "      flex-wrap:wrap;\n",
              "      gap: 12px;\n",
              "    }\n",
              "\n",
              "    .colab-df-convert {\n",
              "      background-color: #E8F0FE;\n",
              "      border: none;\n",
              "      border-radius: 50%;\n",
              "      cursor: pointer;\n",
              "      display: none;\n",
              "      fill: #1967D2;\n",
              "      height: 32px;\n",
              "      padding: 0 0 0 0;\n",
              "      width: 32px;\n",
              "    }\n",
              "\n",
              "    .colab-df-convert:hover {\n",
              "      background-color: #E2EBFA;\n",
              "      box-shadow: 0px 1px 2px rgba(60, 64, 67, 0.3), 0px 1px 3px 1px rgba(60, 64, 67, 0.15);\n",
              "      fill: #174EA6;\n",
              "    }\n",
              "\n",
              "    [theme=dark] .colab-df-convert {\n",
              "      background-color: #3B4455;\n",
              "      fill: #D2E3FC;\n",
              "    }\n",
              "\n",
              "    [theme=dark] .colab-df-convert:hover {\n",
              "      background-color: #434B5C;\n",
              "      box-shadow: 0px 1px 3px 1px rgba(0, 0, 0, 0.15);\n",
              "      filter: drop-shadow(0px 1px 2px rgba(0, 0, 0, 0.3));\n",
              "      fill: #FFFFFF;\n",
              "    }\n",
              "  </style>\n",
              "\n",
              "      <script>\n",
              "        const buttonEl =\n",
              "          document.querySelector('#df-2074f4f9-e19a-4382-8001-638c6e2ecb7e button.colab-df-convert');\n",
              "        buttonEl.style.display =\n",
              "          google.colab.kernel.accessAllowed ? 'block' : 'none';\n",
              "\n",
              "        async function convertToInteractive(key) {\n",
              "          const element = document.querySelector('#df-2074f4f9-e19a-4382-8001-638c6e2ecb7e');\n",
              "          const dataTable =\n",
              "            await google.colab.kernel.invokeFunction('convertToInteractive',\n",
              "                                                     [key], {});\n",
              "          if (!dataTable) return;\n",
              "\n",
              "          const docLinkHtml = 'Like what you see? Visit the ' +\n",
              "            '<a target=\"_blank\" href=https://colab.research.google.com/notebooks/data_table.ipynb>data table notebook</a>'\n",
              "            + ' to learn more about interactive tables.';\n",
              "          element.innerHTML = '';\n",
              "          dataTable['output_type'] = 'display_data';\n",
              "          await google.colab.output.renderOutput(dataTable, element);\n",
              "          const docLink = document.createElement('div');\n",
              "          docLink.innerHTML = docLinkHtml;\n",
              "          element.appendChild(docLink);\n",
              "        }\n",
              "      </script>\n",
              "    </div>\n",
              "  </div>\n",
              "  "
            ]
          },
          "metadata": {},
          "execution_count": 49
        }
      ]
    },
    {
      "cell_type": "markdown",
      "source": [
        "Here we can see that the soft margin has widened with an increase in the number of support vectors but the miscalssifcation rate remains the same."
      ],
      "metadata": {
        "id": "mpd_r_Y8QDOY"
      }
    },
    {
      "cell_type": "markdown",
      "source": [
        "Now lets perform a grid search the determine the optimal value of C for our data points"
      ],
      "metadata": {
        "id": "9ZlmJTmgQR2I"
      }
    },
    {
      "cell_type": "code",
      "source": [
        "from sklearn.model_selection import GridSearchCV\n",
        "\n",
        "# Select the optimal C parameter by cross-validation\n",
        "tuned_parameters = [{'C': [0.001, 0.01, 0.1, 1, 5, 10, 100]}]\n",
        "clf = GridSearchCV(SVC(kernel='linear'), tuned_parameters, cv=10, scoring=\"accuracy\")\n",
        "clf.fit(X, y)"
      ],
      "metadata": {
        "colab": {
          "base_uri": "https://localhost:8080/"
        },
        "id": "sPCO40HJhw3S",
        "outputId": "f74d6f1a-c72d-433c-e6f6-bb53dffb1d03"
      },
      "execution_count": null,
      "outputs": [
        {
          "output_type": "execute_result",
          "data": {
            "text/plain": [
              "GridSearchCV(cv=10, estimator=SVC(kernel='linear'),\n",
              "             param_grid=[{'C': [0.001, 0.01, 0.1, 1, 5, 10, 100]}],\n",
              "             scoring='accuracy')"
            ]
          },
          "metadata": {},
          "execution_count": 50
        }
      ]
    },
    {
      "cell_type": "code",
      "source": [
        "clf.best_params_"
      ],
      "metadata": {
        "colab": {
          "base_uri": "https://localhost:8080/"
        },
        "id": "5WIbjzgliWd3",
        "outputId": "8b933019-a122-4ebf-9439-c99b00d3afbe"
      },
      "execution_count": null,
      "outputs": [
        {
          "output_type": "execute_result",
          "data": {
            "text/plain": [
              "{'C': 0.001}"
            ]
          },
          "metadata": {},
          "execution_count": 51
        }
      ]
    },
    {
      "cell_type": "code",
      "source": [
        "plot_svc(clf.best_estimator_, X, y)"
      ],
      "metadata": {
        "colab": {
          "base_uri": "https://localhost:8080/",
          "height": 314
        },
        "id": "UjDXqFB1ihd0",
        "outputId": "d6f6640b-98d2-42cb-88e9-ef79504dc458"
      },
      "execution_count": null,
      "outputs": [
        {
          "output_type": "display_data",
          "data": {
            "text/plain": [
              "<Figure size 432x288 with 1 Axes>"
            ],
            "image/png": "[encoded data removed]"
          },
          "metadata": {
            "needs_background": "light"
          }
        },
        {
          "output_type": "stream",
          "name": "stdout",
          "text": [
            "Number of support vectors:  20\n",
            "Support vectors:  [10 11 12 13 14 15 16 17 18 19  0  1  2  3  4  5  6  7  8  9]\n"
          ]
        }
      ]
    },
    {
      "cell_type": "code",
      "source": [
        "y_pred = clf.best_estimator_.predict(X)\n",
        "print(\"Accuracy: \", clf.best_estimator_.score(X, y))\n",
        "pd.DataFrame(confusion_matrix(y, y_pred), index=[\"Actual -1\",\"Actual 1\"], columns=[\"Predicted -1\",\"Predicted 1\"])"
      ],
      "metadata": {
        "colab": {
          "base_uri": "https://localhost:8080/",
          "height": 130
        },
        "id": "KjwBGlrUidfr",
        "outputId": "7f689a1a-586b-4d58-f059-6b1238b88949"
      },
      "execution_count": null,
      "outputs": [
        {
          "output_type": "stream",
          "name": "stdout",
          "text": [
            "Accuracy:  0.8\n"
          ]
        },
        {
          "output_type": "execute_result",
          "data": {
            "text/plain": [
              "           Predicted -1  Predicted 1\n",
              "Actual -1             9            1\n",
              "Actual 1              3            7"
            ],
            "text/html": [
              "\n",
              "  <div id=\"df-4f567c3b-38dd-4951-916b-2e0cef725407\">\n",
              "    <div class=\"colab-df-container\">\n",
              "      <div>\n",
              "<style scoped>\n",
              "    .dataframe tbody tr th:only-of-type {\n",
              "        vertical-align: middle;\n",
              "    }\n",
              "\n",
              "    .dataframe tbody tr th {\n",
              "        vertical-align: top;\n",
              "    }\n",
              "\n",
              "    .dataframe thead th {\n",
              "        text-align: right;\n",
              "    }\n",
              "</style>\n",
              "<table border=\"1\" class=\"dataframe\">\n",
              "  <thead>\n",
              "    <tr style=\"text-align: right;\">\n",
              "      <th></th>\n",
              "      <th>Predicted -1</th>\n",
              "      <th>Predicted 1</th>\n",
              "    </tr>\n",
              "  </thead>\n",
              "  <tbody>\n",
              "    <tr>\n",
              "      <th>Actual -1</th>\n",
              "      <td>9</td>\n",
              "      <td>1</td>\n",
              "    </tr>\n",
              "    <tr>\n",
              "      <th>Actual 1</th>\n",
              "      <td>3</td>\n",
              "      <td>7</td>\n",
              "    </tr>\n",
              "  </tbody>\n",
              "</table>\n",
              "</div>\n",
              "      <button class=\"colab-df-convert\" onclick=\"convertToInteractive('df-4f567c3b-38dd-4951-916b-2e0cef725407')\"\n",
              "              title=\"Convert this dataframe to an interactive table.\"\n",
              "              style=\"display:none;\">\n",
              "        \n",
              "  <svg xmlns=\"http://www.w3.org/2000/svg\" height=\"24px\"viewBox=\"0 0 24 24\"\n",
              "       width=\"24px\">\n",
              "    <path d=\"M0 0h24v24H0V0z\" fill=\"none\"/>\n",
              "    <path d=\"M18.56 5.44l.94 2.06.94-2.06 2.06-.94-2.06-.94-.94-2.06-.94 2.06-2.06.94zm-11 1L8.5 8.5l.94-2.06 2.06-.94-2.06-.94L8.5 2.5l-.94 2.06-2.06.94zm10 10l.94 2.06.94-2.06 2.06-.94-2.06-.94-.94-2.06-.94 2.06-2.06.94z\"/><path d=\"M17.41 7.96l-1.37-1.37c-.4-.4-.92-.59-1.43-.59-.52 0-1.04.2-1.43.59L10.3 9.45l-7.72 7.72c-.78.78-.78 2.05 0 2.83L4 21.41c.39.39.9.59 1.41.59.51 0 1.02-.2 1.41-.59l7.78-7.78 2.81-2.81c.8-.78.8-2.07 0-2.86zM5.41 20L4 18.59l7.72-7.72 1.47 1.35L5.41 20z\"/>\n",
              "  </svg>\n",
              "      </button>\n",
              "      \n",
              "  <style>\n",
              "    .colab-df-container {\n",
              "      display:flex;\n",
              "      flex-wrap:wrap;\n",
              "      gap: 12px;\n",
              "    }\n",
              "\n",
              "    .colab-df-convert {\n",
              "      background-color: #E8F0FE;\n",
              "      border: none;\n",
              "      border-radius: 50%;\n",
              "      cursor: pointer;\n",
              "      display: none;\n",
              "      fill: #1967D2;\n",
              "      height: 32px;\n",
              "      padding: 0 0 0 0;\n",
              "      width: 32px;\n",
              "    }\n",
              "\n",
              "    .colab-df-convert:hover {\n",
              "      background-color: #E2EBFA;\n",
              "      box-shadow: 0px 1px 2px rgba(60, 64, 67, 0.3), 0px 1px 3px 1px rgba(60, 64, 67, 0.15);\n",
              "      fill: #174EA6;\n",
              "    }\n",
              "\n",
              "    [theme=dark] .colab-df-convert {\n",
              "      background-color: #3B4455;\n",
              "      fill: #D2E3FC;\n",
              "    }\n",
              "\n",
              "    [theme=dark] .colab-df-convert:hover {\n",
              "      background-color: #434B5C;\n",
              "      box-shadow: 0px 1px 3px 1px rgba(0, 0, 0, 0.15);\n",
              "      filter: drop-shadow(0px 1px 2px rgba(0, 0, 0, 0.3));\n",
              "      fill: #FFFFFF;\n",
              "    }\n",
              "  </style>\n",
              "\n",
              "      <script>\n",
              "        const buttonEl =\n",
              "          document.querySelector('#df-4f567c3b-38dd-4951-916b-2e0cef725407 button.colab-df-convert');\n",
              "        buttonEl.style.display =\n",
              "          google.colab.kernel.accessAllowed ? 'block' : 'none';\n",
              "\n",
              "        async function convertToInteractive(key) {\n",
              "          const element = document.querySelector('#df-4f567c3b-38dd-4951-916b-2e0cef725407');\n",
              "          const dataTable =\n",
              "            await google.colab.kernel.invokeFunction('convertToInteractive',\n",
              "                                                     [key], {});\n",
              "          if (!dataTable) return;\n",
              "\n",
              "          const docLinkHtml = 'Like what you see? Visit the ' +\n",
              "            '<a target=\"_blank\" href=https://colab.research.google.com/notebooks/data_table.ipynb>data table notebook</a>'\n",
              "            + ' to learn more about interactive tables.';\n",
              "          element.innerHTML = '';\n",
              "          dataTable['output_type'] = 'display_data';\n",
              "          await google.colab.output.renderOutput(dataTable, element);\n",
              "          const docLink = document.createElement('div');\n",
              "          docLink.innerHTML = docLinkHtml;\n",
              "          element.appendChild(docLink);\n",
              "        }\n",
              "      </script>\n",
              "    </div>\n",
              "  </div>\n",
              "  "
            ]
          },
          "metadata": {},
          "execution_count": 53
        }
      ]
    },
    {
      "cell_type": "markdown",
      "source": [
        "Here we can see that the optimal value for C came to be around 0.001 which gave an accuracy of 80% but the margin has taken up all the data points."
      ],
      "metadata": {
        "id": "dxnpm_wdQnVz"
      }
    },
    {
      "cell_type": "markdown",
      "source": [
        "Now lets prepare a test dataset the test our model"
      ],
      "metadata": {
        "id": "OC8K8XM1TF27"
      }
    },
    {
      "cell_type": "code",
      "source": [
        "np.random.seed(1)\n",
        "X_test = np.random.randn(20,2)\n",
        "y_test = np.random.choice([-1,1], 20)\n",
        "X_test[y_test == 1] = X_test[y_test == 1] -1"
      ],
      "metadata": {
        "id": "0gijN8Z-jLQV"
      },
      "execution_count": null,
      "outputs": []
    },
    {
      "cell_type": "code",
      "source": [
        "plt.scatter(X_test[:,0], X_test[:,1], s=70, c=y_test, cmap=mpl.cm.Paired)\n",
        "plt.xlabel('X1')\n",
        "plt.ylabel('X2')"
      ],
      "metadata": {
        "colab": {
          "base_uri": "https://localhost:8080/",
          "height": 296
        },
        "id": "BNsTSPyrR_W9",
        "outputId": "fb6e2385-e1e8-44b5-fac3-0efaf19606b2"
      },
      "execution_count": null,
      "outputs": [
        {
          "output_type": "execute_result",
          "data": {
            "text/plain": [
              "Text(0, 0.5, 'X2')"
            ]
          },
          "metadata": {},
          "execution_count": 64
        },
        {
          "output_type": "display_data",
          "data": {
            "text/plain": [
              "<Figure size 432x288 with 1 Axes>"
            ],
            "image/png": "[encoded data removed]"
          },
          "metadata": {
            "needs_background": "light"
          }
        }
      ]
    },
    {
      "cell_type": "code",
      "source": [
        "svc2 = SVC(C=0.001, kernel='linear')\n",
        "svc2.fit(X, y)\n",
        "plot_svc(svc2, X_test, y_test)"
      ],
      "metadata": {
        "colab": {
          "base_uri": "https://localhost:8080/",
          "height": 314
        },
        "id": "TQ_VXBIljw-i",
        "outputId": "7366ce18-a276-4b8a-bcfa-666cbb59fc9c"
      },
      "execution_count": null,
      "outputs": [
        {
          "output_type": "display_data",
          "data": {
            "text/plain": [
              "<Figure size 432x288 with 1 Axes>"
            ],
            "image/png": "[encoded data removed]"
          },
          "metadata": {
            "needs_background": "light"
          }
        },
        {
          "output_type": "stream",
          "name": "stdout",
          "text": [
            "Number of support vectors:  20\n",
            "Support vectors:  [10 11 12 13 14 15 16 17 18 19  0  1  2  3  4  5  6  7  8  9]\n"
          ]
        }
      ]
    },
    {
      "cell_type": "code",
      "source": [
        "y_pred = svc2.predict(X_test)\n",
        "print(\"Accuracy: \", svc2.score(X_test, y_test))\n",
        "pd.DataFrame(confusion_matrix(y_test, y_pred), index=[\"Actual -1\",\"Actual 1\"], columns=[\"Predicted -1\",\"Predicted 1\"])"
      ],
      "metadata": {
        "colab": {
          "base_uri": "https://localhost:8080/",
          "height": 130
        },
        "id": "uUf4XaydkJGZ",
        "outputId": "ab4100d7-4281-4365-88f1-9ff471aecabc"
      },
      "execution_count": null,
      "outputs": [
        {
          "output_type": "stream",
          "name": "stdout",
          "text": [
            "Accuracy:  0.7\n"
          ]
        },
        {
          "output_type": "execute_result",
          "data": {
            "text/plain": [
              "           Predicted -1  Predicted 1\n",
              "Actual -1             2            6\n",
              "Actual 1              0           12"
            ],
            "text/html": [
              "\n",
              "  <div id=\"df-da9c21b5-1a17-407b-9c20-f409b0a87b9e\">\n",
              "    <div class=\"colab-df-container\">\n",
              "      <div>\n",
              "<style scoped>\n",
              "    .dataframe tbody tr th:only-of-type {\n",
              "        vertical-align: middle;\n",
              "    }\n",
              "\n",
              "    .dataframe tbody tr th {\n",
              "        vertical-align: top;\n",
              "    }\n",
              "\n",
              "    .dataframe thead th {\n",
              "        text-align: right;\n",
              "    }\n",
              "</style>\n",
              "<table border=\"1\" class=\"dataframe\">\n",
              "  <thead>\n",
              "    <tr style=\"text-align: right;\">\n",
              "      <th></th>\n",
              "      <th>Predicted -1</th>\n",
              "      <th>Predicted 1</th>\n",
              "    </tr>\n",
              "  </thead>\n",
              "  <tbody>\n",
              "    <tr>\n",
              "      <th>Actual -1</th>\n",
              "      <td>2</td>\n",
              "      <td>6</td>\n",
              "    </tr>\n",
              "    <tr>\n",
              "      <th>Actual 1</th>\n",
              "      <td>0</td>\n",
              "      <td>12</td>\n",
              "    </tr>\n",
              "  </tbody>\n",
              "</table>\n",
              "</div>\n",
              "      <button class=\"colab-df-convert\" onclick=\"convertToInteractive('df-da9c21b5-1a17-407b-9c20-f409b0a87b9e')\"\n",
              "              title=\"Convert this dataframe to an interactive table.\"\n",
              "              style=\"display:none;\">\n",
              "        \n",
              "  <svg xmlns=\"http://www.w3.org/2000/svg\" height=\"24px\"viewBox=\"0 0 24 24\"\n",
              "       width=\"24px\">\n",
              "    <path d=\"M0 0h24v24H0V0z\" fill=\"none\"/>\n",
              "    <path d=\"M18.56 5.44l.94 2.06.94-2.06 2.06-.94-2.06-.94-.94-2.06-.94 2.06-2.06.94zm-11 1L8.5 8.5l.94-2.06 2.06-.94-2.06-.94L8.5 2.5l-.94 2.06-2.06.94zm10 10l.94 2.06.94-2.06 2.06-.94-2.06-.94-.94-2.06-.94 2.06-2.06.94z\"/><path d=\"M17.41 7.96l-1.37-1.37c-.4-.4-.92-.59-1.43-.59-.52 0-1.04.2-1.43.59L10.3 9.45l-7.72 7.72c-.78.78-.78 2.05 0 2.83L4 21.41c.39.39.9.59 1.41.59.51 0 1.02-.2 1.41-.59l7.78-7.78 2.81-2.81c.8-.78.8-2.07 0-2.86zM5.41 20L4 18.59l7.72-7.72 1.47 1.35L5.41 20z\"/>\n",
              "  </svg>\n",
              "      </button>\n",
              "      \n",
              "  <style>\n",
              "    .colab-df-container {\n",
              "      display:flex;\n",
              "      flex-wrap:wrap;\n",
              "      gap: 12px;\n",
              "    }\n",
              "\n",
              "    .colab-df-convert {\n",
              "      background-color: #E8F0FE;\n",
              "      border: none;\n",
              "      border-radius: 50%;\n",
              "      cursor: pointer;\n",
              "      display: none;\n",
              "      fill: #1967D2;\n",
              "      height: 32px;\n",
              "      padding: 0 0 0 0;\n",
              "      width: 32px;\n",
              "    }\n",
              "\n",
              "    .colab-df-convert:hover {\n",
              "      background-color: #E2EBFA;\n",
              "      box-shadow: 0px 1px 2px rgba(60, 64, 67, 0.3), 0px 1px 3px 1px rgba(60, 64, 67, 0.15);\n",
              "      fill: #174EA6;\n",
              "    }\n",
              "\n",
              "    [theme=dark] .colab-df-convert {\n",
              "      background-color: #3B4455;\n",
              "      fill: #D2E3FC;\n",
              "    }\n",
              "\n",
              "    [theme=dark] .colab-df-convert:hover {\n",
              "      background-color: #434B5C;\n",
              "      box-shadow: 0px 1px 3px 1px rgba(0, 0, 0, 0.15);\n",
              "      filter: drop-shadow(0px 1px 2px rgba(0, 0, 0, 0.3));\n",
              "      fill: #FFFFFF;\n",
              "    }\n",
              "  </style>\n",
              "\n",
              "      <script>\n",
              "        const buttonEl =\n",
              "          document.querySelector('#df-da9c21b5-1a17-407b-9c20-f409b0a87b9e button.colab-df-convert');\n",
              "        buttonEl.style.display =\n",
              "          google.colab.kernel.accessAllowed ? 'block' : 'none';\n",
              "\n",
              "        async function convertToInteractive(key) {\n",
              "          const element = document.querySelector('#df-da9c21b5-1a17-407b-9c20-f409b0a87b9e');\n",
              "          const dataTable =\n",
              "            await google.colab.kernel.invokeFunction('convertToInteractive',\n",
              "                                                     [key], {});\n",
              "          if (!dataTable) return;\n",
              "\n",
              "          const docLinkHtml = 'Like what you see? Visit the ' +\n",
              "            '<a target=\"_blank\" href=https://colab.research.google.com/notebooks/data_table.ipynb>data table notebook</a>'\n",
              "            + ' to learn more about interactive tables.';\n",
              "          element.innerHTML = '';\n",
              "          dataTable['output_type'] = 'display_data';\n",
              "          await google.colab.output.renderOutput(dataTable, element);\n",
              "          const docLink = document.createElement('div');\n",
              "          docLink.innerHTML = docLinkHtml;\n",
              "          element.appendChild(docLink);\n",
              "        }\n",
              "      </script>\n",
              "    </div>\n",
              "  </div>\n",
              "  "
            ]
          },
          "metadata": {},
          "execution_count": 66
        }
      ]
    },
    {
      "cell_type": "markdown",
      "source": [
        "With this value of c, 14 of the test observations are correctly classified."
      ],
      "metadata": {
        "id": "fSJ0J2HZTiGp"
      }
    },
    {
      "cell_type": "markdown",
      "source": [
        "Now lets prepare the dataset which is just linearly separable by giving out test dataset a little nudge"
      ],
      "metadata": {
        "id": "mg2euqZzR6L9"
      }
    },
    {
      "cell_type": "code",
      "source": [
        "X_test[y_test == 1] = X_test[y_test == 1] -1\n",
        "plt.scatter(X_test[:,0], X_test[:,1], s=70, c=y_test, cmap=mpl.cm.Paired)\n",
        "plt.xlabel('X1')\n",
        "plt.ylabel('X2')"
      ],
      "metadata": {
        "colab": {
          "base_uri": "https://localhost:8080/",
          "height": 296
        },
        "id": "MMUHNywTkn0q",
        "outputId": "b0bc68d7-5149-4eb1-dd96-8005e6aafa85"
      },
      "execution_count": null,
      "outputs": [
        {
          "output_type": "execute_result",
          "data": {
            "text/plain": [
              "Text(0, 0.5, 'X2')"
            ]
          },
          "metadata": {},
          "execution_count": 67
        },
        {
          "output_type": "display_data",
          "data": {
            "text/plain": [
              "<Figure size 432x288 with 1 Axes>"
            ],
            "image/png": "[encoded data removed]"
          },
          "metadata": {
            "needs_background": "light"
          }
        }
      ]
    },
    {
      "cell_type": "code",
      "source": [
        "svc3 = SVC(C=1e5, kernel='linear')\n",
        "svc3.fit(X_test, y_test)\n",
        "plot_svc(svc3, X_test, y_test)"
      ],
      "metadata": {
        "colab": {
          "base_uri": "https://localhost:8080/",
          "height": 314
        },
        "id": "Sp0754DFlPCU",
        "outputId": "a7bb68c2-eac6-43c3-992c-e002f62c3ce8"
      },
      "execution_count": null,
      "outputs": [
        {
          "output_type": "display_data",
          "data": {
            "text/plain": [
              "<Figure size 432x288 with 1 Axes>"
            ],
            "image/png": "[encoded data removed]"
          },
          "metadata": {
            "needs_background": "light"
          }
        },
        {
          "output_type": "stream",
          "name": "stdout",
          "text": [
            "Number of support vectors:  3\n",
            "Support vectors:  [16 10 19]\n"
          ]
        }
      ]
    },
    {
      "cell_type": "code",
      "source": [
        "y_pred = svc3.predict(X_test)\n",
        "print(\"Accuracy: \", svc3.score(X_test, y_test))\n",
        "pd.DataFrame(confusion_matrix(y_test, y_pred), index=[\"Actual -1\",\"Actual 1\"], columns=[\"Predicted -1\",\"Predicted 1\"])"
      ],
      "metadata": {
        "colab": {
          "base_uri": "https://localhost:8080/",
          "height": 130
        },
        "id": "MFq-pN4qTtl1",
        "outputId": "933639fd-e570-4979-dfff-5ef79e580af2"
      },
      "execution_count": null,
      "outputs": [
        {
          "output_type": "stream",
          "name": "stdout",
          "text": [
            "Accuracy:  1.0\n"
          ]
        },
        {
          "output_type": "execute_result",
          "data": {
            "text/plain": [
              "           Predicted -1  Predicted 1\n",
              "Actual -1             8            0\n",
              "Actual 1              0           12"
            ],
            "text/html": [
              "\n",
              "  <div id=\"df-a72cd4df-6780-4576-a2a5-5ca46bcbc4fe\">\n",
              "    <div class=\"colab-df-container\">\n",
              "      <div>\n",
              "<style scoped>\n",
              "    .dataframe tbody tr th:only-of-type {\n",
              "        vertical-align: middle;\n",
              "    }\n",
              "\n",
              "    .dataframe tbody tr th {\n",
              "        vertical-align: top;\n",
              "    }\n",
              "\n",
              "    .dataframe thead th {\n",
              "        text-align: right;\n",
              "    }\n",
              "</style>\n",
              "<table border=\"1\" class=\"dataframe\">\n",
              "  <thead>\n",
              "    <tr style=\"text-align: right;\">\n",
              "      <th></th>\n",
              "      <th>Predicted -1</th>\n",
              "      <th>Predicted 1</th>\n",
              "    </tr>\n",
              "  </thead>\n",
              "  <tbody>\n",
              "    <tr>\n",
              "      <th>Actual -1</th>\n",
              "      <td>8</td>\n",
              "      <td>0</td>\n",
              "    </tr>\n",
              "    <tr>\n",
              "      <th>Actual 1</th>\n",
              "      <td>0</td>\n",
              "      <td>12</td>\n",
              "    </tr>\n",
              "  </tbody>\n",
              "</table>\n",
              "</div>\n",
              "      <button class=\"colab-df-convert\" onclick=\"convertToInteractive('df-a72cd4df-6780-4576-a2a5-5ca46bcbc4fe')\"\n",
              "              title=\"Convert this dataframe to an interactive table.\"\n",
              "              style=\"display:none;\">\n",
              "        \n",
              "  <svg xmlns=\"http://www.w3.org/2000/svg\" height=\"24px\"viewBox=\"0 0 24 24\"\n",
              "       width=\"24px\">\n",
              "    <path d=\"M0 0h24v24H0V0z\" fill=\"none\"/>\n",
              "    <path d=\"M18.56 5.44l.94 2.06.94-2.06 2.06-.94-2.06-.94-.94-2.06-.94 2.06-2.06.94zm-11 1L8.5 8.5l.94-2.06 2.06-.94-2.06-.94L8.5 2.5l-.94 2.06-2.06.94zm10 10l.94 2.06.94-2.06 2.06-.94-2.06-.94-.94-2.06-.94 2.06-2.06.94z\"/><path d=\"M17.41 7.96l-1.37-1.37c-.4-.4-.92-.59-1.43-.59-.52 0-1.04.2-1.43.59L10.3 9.45l-7.72 7.72c-.78.78-.78 2.05 0 2.83L4 21.41c.39.39.9.59 1.41.59.51 0 1.02-.2 1.41-.59l7.78-7.78 2.81-2.81c.8-.78.8-2.07 0-2.86zM5.41 20L4 18.59l7.72-7.72 1.47 1.35L5.41 20z\"/>\n",
              "  </svg>\n",
              "      </button>\n",
              "      \n",
              "  <style>\n",
              "    .colab-df-container {\n",
              "      display:flex;\n",
              "      flex-wrap:wrap;\n",
              "      gap: 12px;\n",
              "    }\n",
              "\n",
              "    .colab-df-convert {\n",
              "      background-color: #E8F0FE;\n",
              "      border: none;\n",
              "      border-radius: 50%;\n",
              "      cursor: pointer;\n",
              "      display: none;\n",
              "      fill: #1967D2;\n",
              "      height: 32px;\n",
              "      padding: 0 0 0 0;\n",
              "      width: 32px;\n",
              "    }\n",
              "\n",
              "    .colab-df-convert:hover {\n",
              "      background-color: #E2EBFA;\n",
              "      box-shadow: 0px 1px 2px rgba(60, 64, 67, 0.3), 0px 1px 3px 1px rgba(60, 64, 67, 0.15);\n",
              "      fill: #174EA6;\n",
              "    }\n",
              "\n",
              "    [theme=dark] .colab-df-convert {\n",
              "      background-color: #3B4455;\n",
              "      fill: #D2E3FC;\n",
              "    }\n",
              "\n",
              "    [theme=dark] .colab-df-convert:hover {\n",
              "      background-color: #434B5C;\n",
              "      box-shadow: 0px 1px 3px 1px rgba(0, 0, 0, 0.15);\n",
              "      filter: drop-shadow(0px 1px 2px rgba(0, 0, 0, 0.3));\n",
              "      fill: #FFFFFF;\n",
              "    }\n",
              "  </style>\n",
              "\n",
              "      <script>\n",
              "        const buttonEl =\n",
              "          document.querySelector('#df-a72cd4df-6780-4576-a2a5-5ca46bcbc4fe button.colab-df-convert');\n",
              "        buttonEl.style.display =\n",
              "          google.colab.kernel.accessAllowed ? 'block' : 'none';\n",
              "\n",
              "        async function convertToInteractive(key) {\n",
              "          const element = document.querySelector('#df-a72cd4df-6780-4576-a2a5-5ca46bcbc4fe');\n",
              "          const dataTable =\n",
              "            await google.colab.kernel.invokeFunction('convertToInteractive',\n",
              "                                                     [key], {});\n",
              "          if (!dataTable) return;\n",
              "\n",
              "          const docLinkHtml = 'Like what you see? Visit the ' +\n",
              "            '<a target=\"_blank\" href=https://colab.research.google.com/notebooks/data_table.ipynb>data table notebook</a>'\n",
              "            + ' to learn more about interactive tables.';\n",
              "          element.innerHTML = '';\n",
              "          dataTable['output_type'] = 'display_data';\n",
              "          await google.colab.output.renderOutput(dataTable, element);\n",
              "          const docLink = document.createElement('div');\n",
              "          docLink.innerHTML = docLinkHtml;\n",
              "          element.appendChild(docLink);\n",
              "        }\n",
              "      </script>\n",
              "    </div>\n",
              "  </div>\n",
              "  "
            ]
          },
          "metadata": {},
          "execution_count": 69
        }
      ]
    },
    {
      "cell_type": "markdown",
      "source": [
        "Here we can see from the graph that the margin is very narrow (because the observations that are not support vectors, indicated as circles, are very close to the decision boundary). It seems likely that this model will perform poorly on test data."
      ],
      "metadata": {
        "id": "A1PWP9krgEOV"
      }
    },
    {
      "cell_type": "markdown",
      "source": [
        "Now lets try by increasing the margin i.e increasing the value of C"
      ],
      "metadata": {
        "id": "__xTaMn4dOoO"
      }
    },
    {
      "cell_type": "code",
      "source": [
        "svc4 = SVC(C=1, kernel='linear')\n",
        "svc4.fit(X_test, y_test)\n",
        "plot_svc(svc4, X_test, y_test)"
      ],
      "metadata": {
        "colab": {
          "base_uri": "https://localhost:8080/",
          "height": 314
        },
        "id": "yIYbCR9PlUFZ",
        "outputId": "76563fd9-c579-4fd2-8d6f-2b652fb3b234"
      },
      "execution_count": null,
      "outputs": [
        {
          "output_type": "display_data",
          "data": {
            "text/plain": [
              "<Figure size 432x288 with 1 Axes>"
            ],
            "image/png": "[encoded data removed]"
          },
          "metadata": {
            "needs_background": "light"
          }
        },
        {
          "output_type": "stream",
          "name": "stdout",
          "text": [
            "Number of support vectors:  5\n",
            "Support vectors:  [ 8 16  3  9 19]\n"
          ]
        }
      ]
    },
    {
      "cell_type": "code",
      "source": [
        "y_pred = svc4.predict(X_test)\n",
        "print(\"Accuracy: \", svc4.score(X_test, y_test))\n",
        "pd.DataFrame(confusion_matrix(y_test, y_pred), index=[\"Actual -1\",\"Actual 1\"], columns=[\"Predicted -1\",\"Predicted 1\"])"
      ],
      "metadata": {
        "colab": {
          "base_uri": "https://localhost:8080/",
          "height": 130
        },
        "id": "Qswuy_dhUoTc",
        "outputId": "a582cc92-82eb-44df-e48c-2825a0e4e2de"
      },
      "execution_count": null,
      "outputs": [
        {
          "output_type": "stream",
          "name": "stdout",
          "text": [
            "Accuracy:  0.95\n"
          ]
        },
        {
          "output_type": "execute_result",
          "data": {
            "text/plain": [
              "           Predicted -1  Predicted 1\n",
              "Actual -1             8            0\n",
              "Actual 1              1           11"
            ],
            "text/html": [
              "\n",
              "  <div id=\"df-66a3a421-2ec9-41fb-95d6-75ee04bbe0e5\">\n",
              "    <div class=\"colab-df-container\">\n",
              "      <div>\n",
              "<style scoped>\n",
              "    .dataframe tbody tr th:only-of-type {\n",
              "        vertical-align: middle;\n",
              "    }\n",
              "\n",
              "    .dataframe tbody tr th {\n",
              "        vertical-align: top;\n",
              "    }\n",
              "\n",
              "    .dataframe thead th {\n",
              "        text-align: right;\n",
              "    }\n",
              "</style>\n",
              "<table border=\"1\" class=\"dataframe\">\n",
              "  <thead>\n",
              "    <tr style=\"text-align: right;\">\n",
              "      <th></th>\n",
              "      <th>Predicted -1</th>\n",
              "      <th>Predicted 1</th>\n",
              "    </tr>\n",
              "  </thead>\n",
              "  <tbody>\n",
              "    <tr>\n",
              "      <th>Actual -1</th>\n",
              "      <td>8</td>\n",
              "      <td>0</td>\n",
              "    </tr>\n",
              "    <tr>\n",
              "      <th>Actual 1</th>\n",
              "      <td>1</td>\n",
              "      <td>11</td>\n",
              "    </tr>\n",
              "  </tbody>\n",
              "</table>\n",
              "</div>\n",
              "      <button class=\"colab-df-convert\" onclick=\"convertToInteractive('df-66a3a421-2ec9-41fb-95d6-75ee04bbe0e5')\"\n",
              "              title=\"Convert this dataframe to an interactive table.\"\n",
              "              style=\"display:none;\">\n",
              "        \n",
              "  <svg xmlns=\"http://www.w3.org/2000/svg\" height=\"24px\"viewBox=\"0 0 24 24\"\n",
              "       width=\"24px\">\n",
              "    <path d=\"M0 0h24v24H0V0z\" fill=\"none\"/>\n",
              "    <path d=\"M18.56 5.44l.94 2.06.94-2.06 2.06-.94-2.06-.94-.94-2.06-.94 2.06-2.06.94zm-11 1L8.5 8.5l.94-2.06 2.06-.94-2.06-.94L8.5 2.5l-.94 2.06-2.06.94zm10 10l.94 2.06.94-2.06 2.06-.94-2.06-.94-.94-2.06-.94 2.06-2.06.94z\"/><path d=\"M17.41 7.96l-1.37-1.37c-.4-.4-.92-.59-1.43-.59-.52 0-1.04.2-1.43.59L10.3 9.45l-7.72 7.72c-.78.78-.78 2.05 0 2.83L4 21.41c.39.39.9.59 1.41.59.51 0 1.02-.2 1.41-.59l7.78-7.78 2.81-2.81c.8-.78.8-2.07 0-2.86zM5.41 20L4 18.59l7.72-7.72 1.47 1.35L5.41 20z\"/>\n",
              "  </svg>\n",
              "      </button>\n",
              "      \n",
              "  <style>\n",
              "    .colab-df-container {\n",
              "      display:flex;\n",
              "      flex-wrap:wrap;\n",
              "      gap: 12px;\n",
              "    }\n",
              "\n",
              "    .colab-df-convert {\n",
              "      background-color: #E8F0FE;\n",
              "      border: none;\n",
              "      border-radius: 50%;\n",
              "      cursor: pointer;\n",
              "      display: none;\n",
              "      fill: #1967D2;\n",
              "      height: 32px;\n",
              "      padding: 0 0 0 0;\n",
              "      width: 32px;\n",
              "    }\n",
              "\n",
              "    .colab-df-convert:hover {\n",
              "      background-color: #E2EBFA;\n",
              "      box-shadow: 0px 1px 2px rgba(60, 64, 67, 0.3), 0px 1px 3px 1px rgba(60, 64, 67, 0.15);\n",
              "      fill: #174EA6;\n",
              "    }\n",
              "\n",
              "    [theme=dark] .colab-df-convert {\n",
              "      background-color: #3B4455;\n",
              "      fill: #D2E3FC;\n",
              "    }\n",
              "\n",
              "    [theme=dark] .colab-df-convert:hover {\n",
              "      background-color: #434B5C;\n",
              "      box-shadow: 0px 1px 3px 1px rgba(0, 0, 0, 0.15);\n",
              "      filter: drop-shadow(0px 1px 2px rgba(0, 0, 0, 0.3));\n",
              "      fill: #FFFFFF;\n",
              "    }\n",
              "  </style>\n",
              "\n",
              "      <script>\n",
              "        const buttonEl =\n",
              "          document.querySelector('#df-66a3a421-2ec9-41fb-95d6-75ee04bbe0e5 button.colab-df-convert');\n",
              "        buttonEl.style.display =\n",
              "          google.colab.kernel.accessAllowed ? 'block' : 'none';\n",
              "\n",
              "        async function convertToInteractive(key) {\n",
              "          const element = document.querySelector('#df-66a3a421-2ec9-41fb-95d6-75ee04bbe0e5');\n",
              "          const dataTable =\n",
              "            await google.colab.kernel.invokeFunction('convertToInteractive',\n",
              "                                                     [key], {});\n",
              "          if (!dataTable) return;\n",
              "\n",
              "          const docLinkHtml = 'Like what you see? Visit the ' +\n",
              "            '<a target=\"_blank\" href=https://colab.research.google.com/notebooks/data_table.ipynb>data table notebook</a>'\n",
              "            + ' to learn more about interactive tables.';\n",
              "          element.innerHTML = '';\n",
              "          dataTable['output_type'] = 'display_data';\n",
              "          await google.colab.output.renderOutput(dataTable, element);\n",
              "          const docLink = document.createElement('div');\n",
              "          docLink.innerHTML = docLinkHtml;\n",
              "          element.appendChild(docLink);\n",
              "        }\n",
              "      </script>\n",
              "    </div>\n",
              "  </div>\n",
              "  "
            ]
          },
          "metadata": {},
          "execution_count": 72
        }
      ]
    },
    {
      "cell_type": "markdown",
      "source": [
        "Here we can see that by increasing the margin, although the misclassification rate has increased the variance has reduced and now it may be better performant on the test data."
      ],
      "metadata": {
        "id": "CPqLkjPFdVCI"
      }
    },
    {
      "cell_type": "markdown",
      "source": [
        "Now lets generate a dataset with a non-linear class boundary"
      ],
      "metadata": {
        "id": "2f-6EpvPglp-"
      }
    },
    {
      "cell_type": "code",
      "source": [
        "np.random.seed(8)\n",
        "X = np.random.randn(200,2)\n",
        "X[:100] = X[:100] +2\n",
        "X[101:150] = X[101:150] -2\n",
        "y = np.concatenate([np.repeat(-1, 150), np.repeat(1,50)])\n",
        "\n",
        "plt.scatter(X[:,0], X[:,1], s=70, c=y, cmap=mpl.cm.Paired)\n",
        "plt.xlabel('X1')\n",
        "plt.ylabel('X2')"
      ],
      "metadata": {
        "colab": {
          "base_uri": "https://localhost:8080/",
          "height": 296
        },
        "id": "4dzb6Ua9mkjO",
        "outputId": "1e247e4e-6a46-46e4-83b7-0315bad00ce8"
      },
      "execution_count": null,
      "outputs": [
        {
          "output_type": "execute_result",
          "data": {
            "text/plain": [
              "Text(0, 0.5, 'X2')"
            ]
          },
          "metadata": {},
          "execution_count": 73
        },
        {
          "output_type": "display_data",
          "data": {
            "text/plain": [
              "<Figure size 432x288 with 1 Axes>"
            ],
            "image/png": "[encoded data removed]"
          },
          "metadata": {
            "needs_background": "light"
          }
        }
      ]
    },
    {
      "cell_type": "markdown",
      "source": [
        "Here we can see that data points belonging to one class are in the middle of the other class. Hence, the normal linear SVC won't work. For this we need a different kernel called Radial kernel which operates with a radial basis function.\n",
        "\n",
        "![image.png](data:image/png;base64,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)"
      ],
      "metadata": {
        "id": "zfVUsRzEg3mp"
      }
    },
    {
      "cell_type": "markdown",
      "source": [
        "Lets split this data into train set and test set"
      ],
      "metadata": {
        "id": "DZH13elJgucm"
      }
    },
    {
      "cell_type": "code",
      "source": [
        "from sklearn.model_selection import train_test_split\n",
        "X_train, X_test, y_train, y_test = train_test_split(X, y, train_size=0.5, random_state=42)"
      ],
      "metadata": {
        "id": "qI7lnmKOdIfF"
      },
      "execution_count": null,
      "outputs": []
    },
    {
      "cell_type": "code",
      "source": [
        "print(\"No. of training data points: \", X_train.shape[0])\n",
        "print(\"No. of testing data points: \", X_test.shape[0])"
      ],
      "metadata": {
        "colab": {
          "base_uri": "https://localhost:8080/"
        },
        "id": "QvKx9WERiPq_",
        "outputId": "3828ed4e-4374-4715-cf27-985d765f1722"
      },
      "execution_count": null,
      "outputs": [
        {
          "output_type": "stream",
          "name": "stdout",
          "text": [
            "No. of training data points:  100\n",
            "No. of testing data points:  100\n"
          ]
        }
      ]
    },
    {
      "cell_type": "markdown",
      "source": [
        "Hence putting the rbf kernel instead of linear here and setting the gamma to 1 (gamma refers to cross validation scale which can increase or decerease the amount of influence of neighbors)"
      ],
      "metadata": {
        "id": "HLFbwXC-hQhG"
      }
    },
    {
      "cell_type": "code",
      "source": [
        "svm = SVC(C=1.0, kernel='rbf', gamma=1)\n",
        "svm.fit(X_train, y_train)\n",
        "plot_svc(svm, X_test, y_test)"
      ],
      "metadata": {
        "colab": {
          "base_uri": "https://localhost:8080/",
          "height": 349
        },
        "id": "TbmT0g3Nm6cI",
        "outputId": "cc21ab0e-5fd6-4397-d5d4-3dec5783e750"
      },
      "execution_count": null,
      "outputs": [
        {
          "output_type": "display_data",
          "data": {
            "text/plain": [
              "<Figure size 432x288 with 1 Axes>"
            ],
            "image/png": "[encoded data removed]"
          },
          "metadata": {
            "needs_background": "light"
          }
        },
        {
          "output_type": "stream",
          "name": "stdout",
          "text": [
            "Number of support vectors:  59\n",
            "Support vectors:  [ 3  4  5  6  9 15 19 21 24 28 31 32 34 36 37 38 39 43 44 45 54 58 64 65\n",
            " 66 67 70 72 73 80 82 83 85 86 88 89 90 95 99 10 13 18 22 23 26 30 40 50\n",
            " 60 62 63 74 75 78 79 84 91 93 98]\n"
          ]
        }
      ]
    },
    {
      "cell_type": "code",
      "source": [
        "y_pred = svm.predict(X_test)\n",
        "print(\"Accuracy: \", svm.score(X_test, y_test))\n",
        "pd.DataFrame(confusion_matrix(y_test, y_pred), index=[\"Actual -1\",\"Actual 1\"], columns=[\"Predicted -1\",\"Predicted 1\"])"
      ],
      "metadata": {
        "colab": {
          "base_uri": "https://localhost:8080/",
          "height": 130
        },
        "id": "9Yv9Vll9iBqC",
        "outputId": "68f89aa9-3854-499d-da51-39f645743922"
      },
      "execution_count": null,
      "outputs": [
        {
          "output_type": "stream",
          "name": "stdout",
          "text": [
            "Accuracy:  0.86\n"
          ]
        },
        {
          "output_type": "execute_result",
          "data": {
            "text/plain": [
              "           Predicted -1  Predicted 1\n",
              "Actual -1            70            7\n",
              "Actual 1              7           16"
            ],
            "text/html": [
              "\n",
              "  <div id=\"df-f184aa41-be1c-48e4-935e-b7d1551cad74\">\n",
              "    <div class=\"colab-df-container\">\n",
              "      <div>\n",
              "<style scoped>\n",
              "    .dataframe tbody tr th:only-of-type {\n",
              "        vertical-align: middle;\n",
              "    }\n",
              "\n",
              "    .dataframe tbody tr th {\n",
              "        vertical-align: top;\n",
              "    }\n",
              "\n",
              "    .dataframe thead th {\n",
              "        text-align: right;\n",
              "    }\n",
              "</style>\n",
              "<table border=\"1\" class=\"dataframe\">\n",
              "  <thead>\n",
              "    <tr style=\"text-align: right;\">\n",
              "      <th></th>\n",
              "      <th>Predicted -1</th>\n",
              "      <th>Predicted 1</th>\n",
              "    </tr>\n",
              "  </thead>\n",
              "  <tbody>\n",
              "    <tr>\n",
              "      <th>Actual -1</th>\n",
              "      <td>70</td>\n",
              "      <td>7</td>\n",
              "    </tr>\n",
              "    <tr>\n",
              "      <th>Actual 1</th>\n",
              "      <td>7</td>\n",
              "      <td>16</td>\n",
              "    </tr>\n",
              "  </tbody>\n",
              "</table>\n",
              "</div>\n",
              "      <button class=\"colab-df-convert\" onclick=\"convertToInteractive('df-f184aa41-be1c-48e4-935e-b7d1551cad74')\"\n",
              "              title=\"Convert this dataframe to an interactive table.\"\n",
              "              style=\"display:none;\">\n",
              "        \n",
              "  <svg xmlns=\"http://www.w3.org/2000/svg\" height=\"24px\"viewBox=\"0 0 24 24\"\n",
              "       width=\"24px\">\n",
              "    <path d=\"M0 0h24v24H0V0z\" fill=\"none\"/>\n",
              "    <path d=\"M18.56 5.44l.94 2.06.94-2.06 2.06-.94-2.06-.94-.94-2.06-.94 2.06-2.06.94zm-11 1L8.5 8.5l.94-2.06 2.06-.94-2.06-.94L8.5 2.5l-.94 2.06-2.06.94zm10 10l.94 2.06.94-2.06 2.06-.94-2.06-.94-.94-2.06-.94 2.06-2.06.94z\"/><path d=\"M17.41 7.96l-1.37-1.37c-.4-.4-.92-.59-1.43-.59-.52 0-1.04.2-1.43.59L10.3 9.45l-7.72 7.72c-.78.78-.78 2.05 0 2.83L4 21.41c.39.39.9.59 1.41.59.51 0 1.02-.2 1.41-.59l7.78-7.78 2.81-2.81c.8-.78.8-2.07 0-2.86zM5.41 20L4 18.59l7.72-7.72 1.47 1.35L5.41 20z\"/>\n",
              "  </svg>\n",
              "      </button>\n",
              "      \n",
              "  <style>\n",
              "    .colab-df-container {\n",
              "      display:flex;\n",
              "      flex-wrap:wrap;\n",
              "      gap: 12px;\n",
              "    }\n",
              "\n",
              "    .colab-df-convert {\n",
              "      background-color: #E8F0FE;\n",
              "      border: none;\n",
              "      border-radius: 50%;\n",
              "      cursor: pointer;\n",
              "      display: none;\n",
              "      fill: #1967D2;\n",
              "      height: 32px;\n",
              "      padding: 0 0 0 0;\n",
              "      width: 32px;\n",
              "    }\n",
              "\n",
              "    .colab-df-convert:hover {\n",
              "      background-color: #E2EBFA;\n",
              "      box-shadow: 0px 1px 2px rgba(60, 64, 67, 0.3), 0px 1px 3px 1px rgba(60, 64, 67, 0.15);\n",
              "      fill: #174EA6;\n",
              "    }\n",
              "\n",
              "    [theme=dark] .colab-df-convert {\n",
              "      background-color: #3B4455;\n",
              "      fill: #D2E3FC;\n",
              "    }\n",
              "\n",
              "    [theme=dark] .colab-df-convert:hover {\n",
              "      background-color: #434B5C;\n",
              "      box-shadow: 0px 1px 3px 1px rgba(0, 0, 0, 0.15);\n",
              "      filter: drop-shadow(0px 1px 2px rgba(0, 0, 0, 0.3));\n",
              "      fill: #FFFFFF;\n",
              "    }\n",
              "  </style>\n",
              "\n",
              "      <script>\n",
              "        const buttonEl =\n",
              "          document.querySelector('#df-f184aa41-be1c-48e4-935e-b7d1551cad74 button.colab-df-convert');\n",
              "        buttonEl.style.display =\n",
              "          google.colab.kernel.accessAllowed ? 'block' : 'none';\n",
              "\n",
              "        async function convertToInteractive(key) {\n",
              "          const element = document.querySelector('#df-f184aa41-be1c-48e4-935e-b7d1551cad74');\n",
              "          const dataTable =\n",
              "            await google.colab.kernel.invokeFunction('convertToInteractive',\n",
              "                                                     [key], {});\n",
              "          if (!dataTable) return;\n",
              "\n",
              "          const docLinkHtml = 'Like what you see? Visit the ' +\n",
              "            '<a target=\"_blank\" href=https://colab.research.google.com/notebooks/data_table.ipynb>data table notebook</a>'\n",
              "            + ' to learn more about interactive tables.';\n",
              "          element.innerHTML = '';\n",
              "          dataTable['output_type'] = 'display_data';\n",
              "          await google.colab.output.renderOutput(dataTable, element);\n",
              "          const docLink = document.createElement('div');\n",
              "          docLink.innerHTML = docLinkHtml;\n",
              "          element.appendChild(docLink);\n",
              "        }\n",
              "      </script>\n",
              "    </div>\n",
              "  </div>\n",
              "  "
            ]
          },
          "metadata": {},
          "execution_count": 76
        }
      ]
    },
    {
      "cell_type": "markdown",
      "source": [
        "Here we can see that we have acheived 86% accuracy with 59 support vectors and 14 misclassifications on the test dataset."
      ],
      "metadata": {
        "id": "kljoZ0KPieWM"
      }
    },
    {
      "cell_type": "markdown",
      "source": [
        "Lets try for a bigger cost value"
      ],
      "metadata": {
        "id": "3Ymgy2sfjGqg"
      }
    },
    {
      "cell_type": "code",
      "source": [
        "# Increasing C parameter, allowing more flexibility\n",
        "svm2 = SVC(C=100, kernel='rbf', gamma=1.0)\n",
        "svm2.fit(X_train, y_train)\n",
        "plot_svc(svm2, X_test, y_test)"
      ],
      "metadata": {
        "colab": {
          "base_uri": "https://localhost:8080/",
          "height": 331
        },
        "id": "trvfuQSnnXEa",
        "outputId": "55d2aa75-931e-4e9e-93d0-0b0955bf375c"
      },
      "execution_count": null,
      "outputs": [
        {
          "output_type": "display_data",
          "data": {
            "text/plain": [
              "<Figure size 432x288 with 1 Axes>"
            ],
            "image/png": "[encoded data removed]"
          },
          "metadata": {
            "needs_background": "light"
          }
        },
        {
          "output_type": "stream",
          "name": "stdout",
          "text": [
            "Number of support vectors:  40\n",
            "Support vectors:  [ 9 15 21 24 28 31 34 36 37 38 44 45 54 64 65 69 70 77 80 82 85 86 88 89\n",
            " 90 95 97 10 13 18 22 23 33 62 63 75 79 84 91 98]\n"
          ]
        }
      ]
    },
    {
      "cell_type": "code",
      "source": [
        "y_pred = svm2.predict(X_test)\n",
        "print(\"Accuracy: \", svm2.score(X_test, y_test))\n",
        "pd.DataFrame(confusion_matrix(y_test, y_pred), index=[\"Actual -1\",\"Actual 1\"], columns=[\"Predicted -1\",\"Predicted 1\"])"
      ],
      "metadata": {
        "colab": {
          "base_uri": "https://localhost:8080/",
          "height": 130
        },
        "id": "wTSxTKWJi33W",
        "outputId": "0a3680ec-ed03-4440-9795-6d2bb6e5f281"
      },
      "execution_count": null,
      "outputs": [
        {
          "output_type": "stream",
          "name": "stdout",
          "text": [
            "Accuracy:  0.8\n"
          ]
        },
        {
          "output_type": "execute_result",
          "data": {
            "text/plain": [
              "           Predicted -1  Predicted 1\n",
              "Actual -1            68            9\n",
              "Actual 1             11           12"
            ],
            "text/html": [
              "\n",
              "  <div id=\"df-f43c8519-6c34-4623-8b06-864aff50bfa5\">\n",
              "    <div class=\"colab-df-container\">\n",
              "      <div>\n",
              "<style scoped>\n",
              "    .dataframe tbody tr th:only-of-type {\n",
              "        vertical-align: middle;\n",
              "    }\n",
              "\n",
              "    .dataframe tbody tr th {\n",
              "        vertical-align: top;\n",
              "    }\n",
              "\n",
              "    .dataframe thead th {\n",
              "        text-align: right;\n",
              "    }\n",
              "</style>\n",
              "<table border=\"1\" class=\"dataframe\">\n",
              "  <thead>\n",
              "    <tr style=\"text-align: right;\">\n",
              "      <th></th>\n",
              "      <th>Predicted -1</th>\n",
              "      <th>Predicted 1</th>\n",
              "    </tr>\n",
              "  </thead>\n",
              "  <tbody>\n",
              "    <tr>\n",
              "      <th>Actual -1</th>\n",
              "      <td>68</td>\n",
              "      <td>9</td>\n",
              "    </tr>\n",
              "    <tr>\n",
              "      <th>Actual 1</th>\n",
              "      <td>11</td>\n",
              "      <td>12</td>\n",
              "    </tr>\n",
              "  </tbody>\n",
              "</table>\n",
              "</div>\n",
              "      <button class=\"colab-df-convert\" onclick=\"convertToInteractive('df-f43c8519-6c34-4623-8b06-864aff50bfa5')\"\n",
              "              title=\"Convert this dataframe to an interactive table.\"\n",
              "              style=\"display:none;\">\n",
              "        \n",
              "  <svg xmlns=\"http://www.w3.org/2000/svg\" height=\"24px\"viewBox=\"0 0 24 24\"\n",
              "       width=\"24px\">\n",
              "    <path d=\"M0 0h24v24H0V0z\" fill=\"none\"/>\n",
              "    <path d=\"M18.56 5.44l.94 2.06.94-2.06 2.06-.94-2.06-.94-.94-2.06-.94 2.06-2.06.94zm-11 1L8.5 8.5l.94-2.06 2.06-.94-2.06-.94L8.5 2.5l-.94 2.06-2.06.94zm10 10l.94 2.06.94-2.06 2.06-.94-2.06-.94-.94-2.06-.94 2.06-2.06.94z\"/><path d=\"M17.41 7.96l-1.37-1.37c-.4-.4-.92-.59-1.43-.59-.52 0-1.04.2-1.43.59L10.3 9.45l-7.72 7.72c-.78.78-.78 2.05 0 2.83L4 21.41c.39.39.9.59 1.41.59.51 0 1.02-.2 1.41-.59l7.78-7.78 2.81-2.81c.8-.78.8-2.07 0-2.86zM5.41 20L4 18.59l7.72-7.72 1.47 1.35L5.41 20z\"/>\n",
              "  </svg>\n",
              "      </button>\n",
              "      \n",
              "  <style>\n",
              "    .colab-df-container {\n",
              "      display:flex;\n",
              "      flex-wrap:wrap;\n",
              "      gap: 12px;\n",
              "    }\n",
              "\n",
              "    .colab-df-convert {\n",
              "      background-color: #E8F0FE;\n",
              "      border: none;\n",
              "      border-radius: 50%;\n",
              "      cursor: pointer;\n",
              "      display: none;\n",
              "      fill: #1967D2;\n",
              "      height: 32px;\n",
              "      padding: 0 0 0 0;\n",
              "      width: 32px;\n",
              "    }\n",
              "\n",
              "    .colab-df-convert:hover {\n",
              "      background-color: #E2EBFA;\n",
              "      box-shadow: 0px 1px 2px rgba(60, 64, 67, 0.3), 0px 1px 3px 1px rgba(60, 64, 67, 0.15);\n",
              "      fill: #174EA6;\n",
              "    }\n",
              "\n",
              "    [theme=dark] .colab-df-convert {\n",
              "      background-color: #3B4455;\n",
              "      fill: #D2E3FC;\n",
              "    }\n",
              "\n",
              "    [theme=dark] .colab-df-convert:hover {\n",
              "      background-color: #434B5C;\n",
              "      box-shadow: 0px 1px 3px 1px rgba(0, 0, 0, 0.15);\n",
              "      filter: drop-shadow(0px 1px 2px rgba(0, 0, 0, 0.3));\n",
              "      fill: #FFFFFF;\n",
              "    }\n",
              "  </style>\n",
              "\n",
              "      <script>\n",
              "        const buttonEl =\n",
              "          document.querySelector('#df-f43c8519-6c34-4623-8b06-864aff50bfa5 button.colab-df-convert');\n",
              "        buttonEl.style.display =\n",
              "          google.colab.kernel.accessAllowed ? 'block' : 'none';\n",
              "\n",
              "        async function convertToInteractive(key) {\n",
              "          const element = document.querySelector('#df-f43c8519-6c34-4623-8b06-864aff50bfa5');\n",
              "          const dataTable =\n",
              "            await google.colab.kernel.invokeFunction('convertToInteractive',\n",
              "                                                     [key], {});\n",
              "          if (!dataTable) return;\n",
              "\n",
              "          const docLinkHtml = 'Like what you see? Visit the ' +\n",
              "            '<a target=\"_blank\" href=https://colab.research.google.com/notebooks/data_table.ipynb>data table notebook</a>'\n",
              "            + ' to learn more about interactive tables.';\n",
              "          element.innerHTML = '';\n",
              "          dataTable['output_type'] = 'display_data';\n",
              "          await google.colab.output.renderOutput(dataTable, element);\n",
              "          const docLink = document.createElement('div');\n",
              "          docLink.innerHTML = docLinkHtml;\n",
              "          element.appendChild(docLink);\n",
              "        }\n",
              "      </script>\n",
              "    </div>\n",
              "  </div>\n",
              "  "
            ]
          },
          "metadata": {},
          "execution_count": 80
        }
      ]
    },
    {
      "cell_type": "markdown",
      "source": [
        "Here we can see that by increasing the cost, the misclassification rate has increased but from the graph we can observe that maybe the model is trying to overfit the data. Lets perform hypertuning"
      ],
      "metadata": {
        "id": "E6uFUsdHjKAE"
      }
    },
    {
      "cell_type": "code",
      "source": [
        "tuned_parameters = [{'C': [0.01, 0.1, 1, 10, 100], 'gamma': [0.5, 1,2,3,4]}]\n",
        "clf = GridSearchCV(SVC(kernel='rbf'), tuned_parameters, cv=10, scoring=\"accuracy\")\n",
        "clf.fit(X_train, y_train)\n",
        "\n",
        "plot_svc(clf.best_estimator_, X_test, y_test)\n",
        "print(\"Best Parameters = \",clf.best_params_)"
      ],
      "metadata": {
        "colab": {
          "base_uri": "https://localhost:8080/",
          "height": 349
        },
        "id": "PJqAgOjIn31j",
        "outputId": "2c2ab332-005d-4ff5-bb6e-8e6182e9f968"
      },
      "execution_count": null,
      "outputs": [
        {
          "output_type": "display_data",
          "data": {
            "text/plain": [
              "<Figure size 432x288 with 1 Axes>"
            ],
            "image/png": "[encoded data removed]"
          },
          "metadata": {
            "needs_background": "light"
          }
        },
        {
          "output_type": "stream",
          "name": "stdout",
          "text": [
            "Number of support vectors:  46\n",
            "Support vectors:  [ 0  3  5  9 15 16 19 21 24 31 32 34 36 37 38 39 45 64 65 70 80 82 83 85\n",
            " 86 89 90 10 13 18 22 23 26 40 50 51 62 63 74 75 78 79 84 91 93 98]\n",
            "Best Parameters =  {'C': 1, 'gamma': 0.5}\n"
          ]
        }
      ]
    },
    {
      "cell_type": "code",
      "source": [
        "print(\"Accuracy = \",clf.best_estimator_.score(X_test, y_test))\n",
        "pd.DataFrame(confusion_matrix(y_test, clf.best_estimator_.predict(X_test)), index=[\"Actual -1\",\"Actual 1\"], columns=[\"Predicted -1\",\"Predicted 1\"])"
      ],
      "metadata": {
        "colab": {
          "base_uri": "https://localhost:8080/",
          "height": 130
        },
        "id": "ZYeOHWmpjm-z",
        "outputId": "946c7fac-52e2-4108-cd1c-7a9a6831d148"
      },
      "execution_count": null,
      "outputs": [
        {
          "output_type": "stream",
          "name": "stdout",
          "text": [
            "Accuracy =  0.86\n"
          ]
        },
        {
          "output_type": "execute_result",
          "data": {
            "text/plain": [
              "           Predicted -1  Predicted 1\n",
              "Actual -1            71            6\n",
              "Actual 1              8           15"
            ],
            "text/html": [
              "\n",
              "  <div id=\"df-8b7cd619-3ad5-4f78-afbd-c3e8f3093b43\">\n",
              "    <div class=\"colab-df-container\">\n",
              "      <div>\n",
              "<style scoped>\n",
              "    .dataframe tbody tr th:only-of-type {\n",
              "        vertical-align: middle;\n",
              "    }\n",
              "\n",
              "    .dataframe tbody tr th {\n",
              "        vertical-align: top;\n",
              "    }\n",
              "\n",
              "    .dataframe thead th {\n",
              "        text-align: right;\n",
              "    }\n",
              "</style>\n",
              "<table border=\"1\" class=\"dataframe\">\n",
              "  <thead>\n",
              "    <tr style=\"text-align: right;\">\n",
              "      <th></th>\n",
              "      <th>Predicted -1</th>\n",
              "      <th>Predicted 1</th>\n",
              "    </tr>\n",
              "  </thead>\n",
              "  <tbody>\n",
              "    <tr>\n",
              "      <th>Actual -1</th>\n",
              "      <td>71</td>\n",
              "      <td>6</td>\n",
              "    </tr>\n",
              "    <tr>\n",
              "      <th>Actual 1</th>\n",
              "      <td>8</td>\n",
              "      <td>15</td>\n",
              "    </tr>\n",
              "  </tbody>\n",
              "</table>\n",
              "</div>\n",
              "      <button class=\"colab-df-convert\" onclick=\"convertToInteractive('df-8b7cd619-3ad5-4f78-afbd-c3e8f3093b43')\"\n",
              "              title=\"Convert this dataframe to an interactive table.\"\n",
              "              style=\"display:none;\">\n",
              "        \n",
              "  <svg xmlns=\"http://www.w3.org/2000/svg\" height=\"24px\"viewBox=\"0 0 24 24\"\n",
              "       width=\"24px\">\n",
              "    <path d=\"M0 0h24v24H0V0z\" fill=\"none\"/>\n",
              "    <path d=\"M18.56 5.44l.94 2.06.94-2.06 2.06-.94-2.06-.94-.94-2.06-.94 2.06-2.06.94zm-11 1L8.5 8.5l.94-2.06 2.06-.94-2.06-.94L8.5 2.5l-.94 2.06-2.06.94zm10 10l.94 2.06.94-2.06 2.06-.94-2.06-.94-.94-2.06-.94 2.06-2.06.94z\"/><path d=\"M17.41 7.96l-1.37-1.37c-.4-.4-.92-.59-1.43-.59-.52 0-1.04.2-1.43.59L10.3 9.45l-7.72 7.72c-.78.78-.78 2.05 0 2.83L4 21.41c.39.39.9.59 1.41.59.51 0 1.02-.2 1.41-.59l7.78-7.78 2.81-2.81c.8-.78.8-2.07 0-2.86zM5.41 20L4 18.59l7.72-7.72 1.47 1.35L5.41 20z\"/>\n",
              "  </svg>\n",
              "      </button>\n",
              "      \n",
              "  <style>\n",
              "    .colab-df-container {\n",
              "      display:flex;\n",
              "      flex-wrap:wrap;\n",
              "      gap: 12px;\n",
              "    }\n",
              "\n",
              "    .colab-df-convert {\n",
              "      background-color: #E8F0FE;\n",
              "      border: none;\n",
              "      border-radius: 50%;\n",
              "      cursor: pointer;\n",
              "      display: none;\n",
              "      fill: #1967D2;\n",
              "      height: 32px;\n",
              "      padding: 0 0 0 0;\n",
              "      width: 32px;\n",
              "    }\n",
              "\n",
              "    .colab-df-convert:hover {\n",
              "      background-color: #E2EBFA;\n",
              "      box-shadow: 0px 1px 2px rgba(60, 64, 67, 0.3), 0px 1px 3px 1px rgba(60, 64, 67, 0.15);\n",
              "      fill: #174EA6;\n",
              "    }\n",
              "\n",
              "    [theme=dark] .colab-df-convert {\n",
              "      background-color: #3B4455;\n",
              "      fill: #D2E3FC;\n",
              "    }\n",
              "\n",
              "    [theme=dark] .colab-df-convert:hover {\n",
              "      background-color: #434B5C;\n",
              "      box-shadow: 0px 1px 3px 1px rgba(0, 0, 0, 0.15);\n",
              "      filter: drop-shadow(0px 1px 2px rgba(0, 0, 0, 0.3));\n",
              "      fill: #FFFFFF;\n",
              "    }\n",
              "  </style>\n",
              "\n",
              "      <script>\n",
              "        const buttonEl =\n",
              "          document.querySelector('#df-8b7cd619-3ad5-4f78-afbd-c3e8f3093b43 button.colab-df-convert');\n",
              "        buttonEl.style.display =\n",
              "          google.colab.kernel.accessAllowed ? 'block' : 'none';\n",
              "\n",
              "        async function convertToInteractive(key) {\n",
              "          const element = document.querySelector('#df-8b7cd619-3ad5-4f78-afbd-c3e8f3093b43');\n",
              "          const dataTable =\n",
              "            await google.colab.kernel.invokeFunction('convertToInteractive',\n",
              "                                                     [key], {});\n",
              "          if (!dataTable) return;\n",
              "\n",
              "          const docLinkHtml = 'Like what you see? Visit the ' +\n",
              "            '<a target=\"_blank\" href=https://colab.research.google.com/notebooks/data_table.ipynb>data table notebook</a>'\n",
              "            + ' to learn more about interactive tables.';\n",
              "          element.innerHTML = '';\n",
              "          dataTable['output_type'] = 'display_data';\n",
              "          await google.colab.output.renderOutput(dataTable, element);\n",
              "          const docLink = document.createElement('div');\n",
              "          docLink.innerHTML = docLinkHtml;\n",
              "          element.appendChild(docLink);\n",
              "        }\n",
              "      </script>\n",
              "    </div>\n",
              "  </div>\n",
              "  "
            ]
          },
          "metadata": {},
          "execution_count": 98
        }
      ]
    },
    {
      "cell_type": "markdown",
      "source": [
        "Here after fine tuning the SVM we can see that the model has much stable results with cost of 1 and gamma of 0.5. It has sufficient support vectors and has achieved an accuracy of 86%. This gives us a sign of lower variance which tells us that this model will generalise well.\n"
      ],
      "metadata": {
        "id": "b-ijH9jhjzW5"
      }
    },
    {
      "cell_type": "markdown",
      "source": [
        "Now lets try using another kernel which is Polynomial kernel\n",
        "\n",
        "The polynomial kernel is a kernel function commonly used with support vector machines (SVMs) and other kernelized models, that represents the similarity of vectors (training samples) in a feature space over polynomials of the original variables, allowing learning of non-linear models.\n",
        "\n",
        "![image.png](data:image/png;base64,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)"
      ],
      "metadata": {
        "id": "GfPw8XI8w00o"
      }
    },
    {
      "cell_type": "code",
      "source": [
        "tuned_parameters = [{'C': [0.01, 0.1, 1, 10, 100], 'degree':[1,2,3,4,5]}]\n",
        "clf = GridSearchCV(SVC(kernel='poly',probability=True), tuned_parameters, cv=10, scoring=\"accuracy\")\n",
        "clf.fit(X_train, y_train)\n",
        "\n",
        "plot_svc(clf.best_estimator_, X_test, y_test)\n",
        "print(\"Best Parameters = \", clf.best_params_)"
      ],
      "metadata": {
        "id": "gA7X63qSo61C",
        "colab": {
          "base_uri": "https://localhost:8080/",
          "height": 349
        },
        "outputId": "00cc7009-3874-4765-be13-3602a037318c"
      },
      "execution_count": null,
      "outputs": [
        {
          "output_type": "display_data",
          "data": {
            "text/plain": [
              "<Figure size 432x288 with 1 Axes>"
            ],
            "image/png": "[encoded data removed]"
          },
          "metadata": {
            "needs_background": "light"
          }
        },
        {
          "output_type": "stream",
          "name": "stdout",
          "text": [
            "Number of support vectors:  43\n",
            "Support vectors:  [ 3  9 16 17 19 21 24 32 37 38 39 44 46 55 64 69 80 86 89 90 92 12 13 18\n",
            " 22 23 26 30 33 41 50 51 56 62 63 74 75 78 79 84 91 93 98]\n",
            "Best Parameters =  {'C': 1, 'degree': 2}\n"
          ]
        }
      ]
    },
    {
      "cell_type": "code",
      "source": [
        "print(\"Accuracy = \",clf.best_estimator_.score(X_test, y_test))\n",
        "pd.DataFrame(confusion_matrix(y_test, clf.best_estimator_.predict(X_test)), index=[\"Actual -1\",\"Actual 1\"], columns=[\"Predicted -1\",\"Predicted 1\"])"
      ],
      "metadata": {
        "colab": {
          "base_uri": "https://localhost:8080/",
          "height": 130
        },
        "id": "grA23g1Hkh_c",
        "outputId": "7bbf15e5-55e7-4c80-b93f-633c9381361a"
      },
      "execution_count": null,
      "outputs": [
        {
          "output_type": "stream",
          "name": "stdout",
          "text": [
            "Accuracy =  0.87\n"
          ]
        },
        {
          "output_type": "execute_result",
          "data": {
            "text/plain": [
              "           Predicted -1  Predicted 1\n",
              "Actual -1            66           11\n",
              "Actual 1              2           21"
            ],
            "text/html": [
              "\n",
              "  <div id=\"df-79eb3675-d28f-4214-a684-963966f6907e\">\n",
              "    <div class=\"colab-df-container\">\n",
              "      <div>\n",
              "<style scoped>\n",
              "    .dataframe tbody tr th:only-of-type {\n",
              "        vertical-align: middle;\n",
              "    }\n",
              "\n",
              "    .dataframe tbody tr th {\n",
              "        vertical-align: top;\n",
              "    }\n",
              "\n",
              "    .dataframe thead th {\n",
              "        text-align: right;\n",
              "    }\n",
              "</style>\n",
              "<table border=\"1\" class=\"dataframe\">\n",
              "  <thead>\n",
              "    <tr style=\"text-align: right;\">\n",
              "      <th></th>\n",
              "      <th>Predicted -1</th>\n",
              "      <th>Predicted 1</th>\n",
              "    </tr>\n",
              "  </thead>\n",
              "  <tbody>\n",
              "    <tr>\n",
              "      <th>Actual -1</th>\n",
              "      <td>66</td>\n",
              "      <td>11</td>\n",
              "    </tr>\n",
              "    <tr>\n",
              "      <th>Actual 1</th>\n",
              "      <td>2</td>\n",
              "      <td>21</td>\n",
              "    </tr>\n",
              "  </tbody>\n",
              "</table>\n",
              "</div>\n",
              "      <button class=\"colab-df-convert\" onclick=\"convertToInteractive('df-79eb3675-d28f-4214-a684-963966f6907e')\"\n",
              "              title=\"Convert this dataframe to an interactive table.\"\n",
              "              style=\"display:none;\">\n",
              "        \n",
              "  <svg xmlns=\"http://www.w3.org/2000/svg\" height=\"24px\"viewBox=\"0 0 24 24\"\n",
              "       width=\"24px\">\n",
              "    <path d=\"M0 0h24v24H0V0z\" fill=\"none\"/>\n",
              "    <path d=\"M18.56 5.44l.94 2.06.94-2.06 2.06-.94-2.06-.94-.94-2.06-.94 2.06-2.06.94zm-11 1L8.5 8.5l.94-2.06 2.06-.94-2.06-.94L8.5 2.5l-.94 2.06-2.06.94zm10 10l.94 2.06.94-2.06 2.06-.94-2.06-.94-.94-2.06-.94 2.06-2.06.94z\"/><path d=\"M17.41 7.96l-1.37-1.37c-.4-.4-.92-.59-1.43-.59-.52 0-1.04.2-1.43.59L10.3 9.45l-7.72 7.72c-.78.78-.78 2.05 0 2.83L4 21.41c.39.39.9.59 1.41.59.51 0 1.02-.2 1.41-.59l7.78-7.78 2.81-2.81c.8-.78.8-2.07 0-2.86zM5.41 20L4 18.59l7.72-7.72 1.47 1.35L5.41 20z\"/>\n",
              "  </svg>\n",
              "      </button>\n",
              "      \n",
              "  <style>\n",
              "    .colab-df-container {\n",
              "      display:flex;\n",
              "      flex-wrap:wrap;\n",
              "      gap: 12px;\n",
              "    }\n",
              "\n",
              "    .colab-df-convert {\n",
              "      background-color: #E8F0FE;\n",
              "      border: none;\n",
              "      border-radius: 50%;\n",
              "      cursor: pointer;\n",
              "      display: none;\n",
              "      fill: #1967D2;\n",
              "      height: 32px;\n",
              "      padding: 0 0 0 0;\n",
              "      width: 32px;\n",
              "    }\n",
              "\n",
              "    .colab-df-convert:hover {\n",
              "      background-color: #E2EBFA;\n",
              "      box-shadow: 0px 1px 2px rgba(60, 64, 67, 0.3), 0px 1px 3px 1px rgba(60, 64, 67, 0.15);\n",
              "      fill: #174EA6;\n",
              "    }\n",
              "\n",
              "    [theme=dark] .colab-df-convert {\n",
              "      background-color: #3B4455;\n",
              "      fill: #D2E3FC;\n",
              "    }\n",
              "\n",
              "    [theme=dark] .colab-df-convert:hover {\n",
              "      background-color: #434B5C;\n",
              "      box-shadow: 0px 1px 3px 1px rgba(0, 0, 0, 0.15);\n",
              "      filter: drop-shadow(0px 1px 2px rgba(0, 0, 0, 0.3));\n",
              "      fill: #FFFFFF;\n",
              "    }\n",
              "  </style>\n",
              "\n",
              "      <script>\n",
              "        const buttonEl =\n",
              "          document.querySelector('#df-79eb3675-d28f-4214-a684-963966f6907e button.colab-df-convert');\n",
              "        buttonEl.style.display =\n",
              "          google.colab.kernel.accessAllowed ? 'block' : 'none';\n",
              "\n",
              "        async function convertToInteractive(key) {\n",
              "          const element = document.querySelector('#df-79eb3675-d28f-4214-a684-963966f6907e');\n",
              "          const dataTable =\n",
              "            await google.colab.kernel.invokeFunction('convertToInteractive',\n",
              "                                                     [key], {});\n",
              "          if (!dataTable) return;\n",
              "\n",
              "          const docLinkHtml = 'Like what you see? Visit the ' +\n",
              "            '<a target=\"_blank\" href=https://colab.research.google.com/notebooks/data_table.ipynb>data table notebook</a>'\n",
              "            + ' to learn more about interactive tables.';\n",
              "          element.innerHTML = '';\n",
              "          dataTable['output_type'] = 'display_data';\n",
              "          await google.colab.output.renderOutput(dataTable, element);\n",
              "          const docLink = document.createElement('div');\n",
              "          docLink.innerHTML = docLinkHtml;\n",
              "          element.appendChild(docLink);\n",
              "        }\n",
              "      </script>\n",
              "    </div>\n",
              "  </div>\n",
              "  "
            ]
          },
          "metadata": {},
          "execution_count": 90
        }
      ]
    },
    {
      "cell_type": "markdown",
      "source": [
        "Here we can see that SVM performs even better with a polynomial kernel with cost as 1 and degree as 2 having 43 support vectors.\n",
        "\n",
        "It achieved an accuracy of 87%"
      ],
      "metadata": {
        "id": "Lrmku8nYxC43"
      }
    },
    {
      "cell_type": "markdown",
      "source": [
        "Since using polynomial kernel gave us the best results, lets its AUC ROC curve."
      ],
      "metadata": {
        "id": "0CaBvi2qyi5j"
      }
    },
    {
      "cell_type": "code",
      "source": [
        "!pip install scikit-plot"
      ],
      "metadata": {
        "colab": {
          "base_uri": "https://localhost:8080/"
        },
        "id": "WSc-M_l-xR19",
        "outputId": "4bf5e236-e4a6-47ca-870f-8441b134d347"
      },
      "execution_count": null,
      "outputs": [
        {
          "output_type": "stream",
          "name": "stdout",
          "text": [
            "Collecting scikit-plot\n",
            "  Downloading scikit_plot-0.3.7-py3-none-any.whl (33 kB)\n",
            "Requirement already satisfied: scikit-learn>=0.18 in /usr/local/lib/python3.7/dist-packages (from scikit-plot) (1.0.2)\n",
            "Requirement already satisfied: matplotlib>=1.4.0 in /usr/local/lib/python3.7/dist-packages (from scikit-plot) (3.2.2)\n",
            "Requirement already satisfied: joblib>=0.10 in /usr/local/lib/python3.7/dist-packages (from scikit-plot) (1.1.0)\n",
            "Requirement already satisfied: scipy>=0.9 in /usr/local/lib/python3.7/dist-packages (from scikit-plot) (1.4.1)\n",
            "Requirement already satisfied: python-dateutil>=2.1 in /usr/local/lib/python3.7/dist-packages (from matplotlib>=1.4.0->scikit-plot) (2.8.2)\n",
            "Requirement already satisfied: cycler>=0.10 in /usr/local/lib/python3.7/dist-packages (from matplotlib>=1.4.0->scikit-plot) (0.11.0)\n",
            "Requirement already satisfied: numpy>=1.11 in /usr/local/lib/python3.7/dist-packages (from matplotlib>=1.4.0->scikit-plot) (1.21.5)\n",
            "Requirement already satisfied: kiwisolver>=1.0.1 in /usr/local/lib/python3.7/dist-packages (from matplotlib>=1.4.0->scikit-plot) (1.4.0)\n",
            "Requirement already satisfied: pyparsing!=2.0.4,!=2.1.2,!=2.1.6,>=2.0.1 in /usr/local/lib/python3.7/dist-packages (from matplotlib>=1.4.0->scikit-plot) (3.0.7)\n",
            "Requirement already satisfied: typing-extensions in /usr/local/lib/python3.7/dist-packages (from kiwisolver>=1.0.1->matplotlib>=1.4.0->scikit-plot) (3.10.0.2)\n",
            "Requirement already satisfied: six>=1.5 in /usr/local/lib/python3.7/dist-packages (from python-dateutil>=2.1->matplotlib>=1.4.0->scikit-plot) (1.15.0)\n",
            "Requirement already satisfied: threadpoolctl>=2.0.0 in /usr/local/lib/python3.7/dist-packages (from scikit-learn>=0.18->scikit-plot) (3.1.0)\n",
            "Installing collected packages: scikit-plot\n",
            "Successfully installed scikit-plot-0.3.7\n"
          ]
        }
      ]
    },
    {
      "cell_type": "code",
      "source": [
        "import scikitplot as skplt\n",
        "\n",
        "# plotting ROC curve for SVM\n",
        "logit_scores_proba = clf.best_estimator_.predict_proba(X_train)\n",
        "skplt.metrics.plot_roc(y_train, logit_scores_proba)\n",
        "plt.show()"
      ],
      "metadata": {
        "colab": {
          "base_uri": "https://localhost:8080/",
          "height": 295
        },
        "id": "EFiLEprhx06T",
        "outputId": "2ee49d49-bd9d-42df-d997-50a4cd764c24"
      },
      "execution_count": null,
      "outputs": [
        {
          "output_type": "display_data",
          "data": {
            "text/plain": [
              "<Figure size 432x288 with 1 Axes>"
            ],
            "image/png": "[encoded data removed]"
          },
          "metadata": {
            "needs_background": "light"
          }
        }
      ]
    },
    {
      "cell_type": "markdown",
      "source": [
        "Here we can see that the SVM has acheived a great AUC score with an area of 95% which confirms its accuracy.\n",
        "\n",
        "Lets see other metrics as well"
      ],
      "metadata": {
        "id": "Mk4vzSe5yYWg"
      }
    },
    {
      "cell_type": "code",
      "source": [
        "from sklearn.metrics import classification_report\n",
        "\n",
        "print(classification_report(y_test, y_pred, target_names=['-1','+1']))"
      ],
      "metadata": {
        "colab": {
          "base_uri": "https://localhost:8080/"
        },
        "id": "hNFAp3zsy2n0",
        "outputId": "8dcfc6a8-b23a-458d-f676-bd037f27a800"
      },
      "execution_count": null,
      "outputs": [
        {
          "output_type": "stream",
          "name": "stdout",
          "text": [
            "              precision    recall  f1-score   support\n",
            "\n",
            "          -1       0.86      0.88      0.87        77\n",
            "          +1       0.57      0.52      0.55        23\n",
            "\n",
            "    accuracy                           0.80       100\n",
            "   macro avg       0.72      0.70      0.71       100\n",
            "weighted avg       0.79      0.80      0.80       100\n",
            "\n"
          ]
        }
      ]
    },
    {
      "cell_type": "markdown",
      "source": [
        "Here we can see that we have achieved a decent precision, recall and f1 score for this classifier."
      ],
      "metadata": {
        "id": "LoQiCBGJzsZi"
      }
    },
    {
      "cell_type": "markdown",
      "source": [
        "**Conclusion -**\n",
        "\n",
        "Through this experiment, I understood how Support Vector Machines work internally and how SVM uses different kernels to define a SVC after determining the relationship between data points in the high dimensional space. \n",
        "\n",
        "I got a deeper understanding of the three kernels namely linear, radial and polynomial.\n",
        "\n",
        "I also got to understand how different kernels cater to different distribution of data points and which one can perform the best in various scenarios. \n",
        "\n",
        "In the end, SVM with polynomial kernel gave the best results and confirmed it by various metrics such as AUC ROC curve, Precision, Recall and F1-score.\n"
      ],
      "metadata": {
        "id": "hkrFJkrNz_Fg"
      }
    }
  ]
}
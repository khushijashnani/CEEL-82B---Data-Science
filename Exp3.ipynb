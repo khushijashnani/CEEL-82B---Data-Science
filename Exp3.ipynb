{
  "cells": [
    {
      "cell_type": "markdown",
      "metadata": {
        "id": "view-in-github",
        "colab_type": "text"
      },
      "source": [
        "<a href=\"https://colab.research.google.com/github/khushijashnani/CEEL-82B---Data-Science/blob/master/Exp3.ipynb\" target=\"_parent\"><img src=\"https://colab.research.google.com/assets/colab-badge.svg\" alt=\"Open In Colab\"/></a>"
      ]
    },
    {
      "cell_type": "markdown",
      "id": "46edfQbjhapJ",
      "metadata": {
        "gradient": {
          "editing": false,
          "id": "46edfQbjhapJ",
          "kernelId": "d1bfc924-61a6-48a4-b370-40dbb13a3636"
        },
        "id": "46edfQbjhapJ"
      },
      "source": [
        "###Experiment 3\n",
        "\n",
        "\n",
        "Name - Khushi Jashnani\n",
        "\n",
        "UID - 2018130017"
      ]
    },
    {
      "cell_type": "markdown",
      "id": "Ik2yxCkED2sS",
      "metadata": {
        "gradient": {
          "editing": false,
          "id": "Ik2yxCkED2sS",
          "kernelId": "d1bfc924-61a6-48a4-b370-40dbb13a3636"
        },
        "id": "Ik2yxCkED2sS"
      },
      "source": [
        "###**Objective**: \n",
        "\n",
        "1. Apply Naive bayes classifier for given data see Naive_bayes_handout.zip file in edmodo.\n",
        "\n",
        "2. Apply and compare Linear Discriminating Analysis with Naive bayes classifiers w.r.t. error, specificity and sensitivity\n",
        "\n"
      ]
    },
    {
      "cell_type": "markdown",
      "id": "692a75a5",
      "metadata": {
        "gradient": {
          "editing": false,
          "id": "692a75a5",
          "kernelId": "d1bfc924-61a6-48a4-b370-40dbb13a3636"
        },
        "id": "692a75a5"
      },
      "source": [
        "### Description:\n",
        "\n",
        "The dataset is comprised of tab-separated files with phrases from the IMDB Movie Ratings. The train/test split has been preserved for the purposes of benchmarking, but the sentences have been shuffled from their original order. Each Sentence has been parsed into many phrases by the Stanford parser. Each phrase has a PhraseId. Each sentence has a SentenceId. Phrases that are repeated (such as short/common words) are only included once in the data.\n",
        "\n",
        "The sentiment labels are:\n",
        "\n",
        "0 - negative\n",
        "1 - positive\n"
      ]
    },
    {
      "cell_type": "markdown",
      "id": "8c9a1495",
      "metadata": {
        "gradient": {
          "editing": false,
          "id": "8c9a1495",
          "kernelId": "d1bfc924-61a6-48a4-b370-40dbb13a3636"
        },
        "id": "8c9a1495"
      },
      "source": [
        "## 1. Loading the Dataset"
      ]
    },
    {
      "cell_type": "code",
      "execution_count": null,
      "id": "v2Xt2yriIzRy",
      "metadata": {
        "colab": {
          "base_uri": "https://localhost:8080/"
        },
        "gradient": {
          "editing": false,
          "id": "v2Xt2yriIzRy",
          "kernelId": "d1bfc924-61a6-48a4-b370-40dbb13a3636"
        },
        "id": "v2Xt2yriIzRy",
        "outputId": "236a07c6-33ae-4dc8-ed4c-262891aadce8"
      },
      "outputs": [
        {
          "name": "stdout",
          "output_type": "stream",
          "text": [
            "Collecting scikit-plot\n",
            "  Downloading scikit_plot-0.3.7-py3-none-any.whl (33 kB)\n",
            "Requirement already satisfied: joblib>=0.10 in /usr/local/lib/python3.6/dist-packages (from scikit-plot) (1.0.1)\n",
            "Requirement already satisfied: scipy>=0.9 in /usr/local/lib/python3.6/dist-packages (from scikit-plot) (1.5.4)\n",
            "Requirement already satisfied: matplotlib>=1.4.0 in /usr/local/lib/python3.6/dist-packages (from scikit-plot) (3.3.4)\n",
            "Requirement already satisfied: scikit-learn>=0.18 in /usr/local/lib/python3.6/dist-packages (from scikit-plot) (0.24.1)\n",
            "Requirement already satisfied: cycler>=0.10 in /usr/local/lib/python3.6/dist-packages (from matplotlib>=1.4.0->scikit-plot) (0.10.0)\n",
            "Requirement already satisfied: python-dateutil>=2.1 in /usr/local/lib/python3.6/dist-packages (from matplotlib>=1.4.0->scikit-plot) (2.8.1)\n",
            "Requirement already satisfied: pyparsing!=2.0.4,!=2.1.2,!=2.1.6,>=2.0.3 in /usr/local/lib/python3.6/dist-packages (from matplotlib>=1.4.0->scikit-plot) (2.4.7)\n",
            "Requirement already satisfied: numpy>=1.15 in /usr/local/lib/python3.6/dist-packages (from matplotlib>=1.4.0->scikit-plot) (1.19.5)\n",
            "Requirement already satisfied: kiwisolver>=1.0.1 in /usr/local/lib/python3.6/dist-packages (from matplotlib>=1.4.0->scikit-plot) (1.3.1)\n",
            "Requirement already satisfied: pillow>=6.2.0 in /usr/local/lib/python3.6/dist-packages (from matplotlib>=1.4.0->scikit-plot) (8.2.0)\n",
            "Requirement already satisfied: six in /usr/local/lib/python3.6/dist-packages (from cycler>=0.10->matplotlib>=1.4.0->scikit-plot) (1.15.0)\n",
            "Requirement already satisfied: threadpoolctl>=2.0.0 in /usr/local/lib/python3.6/dist-packages (from scikit-learn>=0.18->scikit-plot) (2.1.0)\n",
            "Installing collected packages: scikit-plot\n",
            "Successfully installed scikit-plot-0.3.7\n",
            "\u001b[33mWARNING: You are using pip version 21.0.1; however, version 21.3.1 is available.\n",
            "You should consider upgrading via the '/usr/bin/python3.6 -m pip install --upgrade pip' command.\u001b[0m\n"
          ]
        }
      ],
      "source": [
        "!pip install scikit-plot"
      ]
    },
    {
      "cell_type": "code",
      "execution_count": null,
      "id": "fd208808-abc4-4fa8-920f-9cb80d3926c1",
      "metadata": {
        "gradient": {
          "editing": false,
          "id": "fd208808-abc4-4fa8-920f-9cb80d3926c1",
          "kernelId": "d1bfc924-61a6-48a4-b370-40dbb13a3636",
          "source_hidden": false
        },
        "jupyter": {
          "outputs_hidden": false
        },
        "id": "fd208808-abc4-4fa8-920f-9cb80d3926c1",
        "outputId": "b4481813-7463-4284-ff01-1de931f12a15"
      },
      "outputs": [
        {
          "name": "stdout",
          "output_type": "stream",
          "text": [
            "Collecting seaborn\n",
            "  Downloading seaborn-0.11.2-py3-none-any.whl (292 kB)\n",
            "\u001b[K     |████████████████████████████████| 292 kB 14.1 MB/s eta 0:00:01\n",
            "\u001b[?25hRequirement already satisfied: pandas>=0.23 in /usr/local/lib/python3.6/dist-packages (from seaborn) (1.1.5)\n",
            "Requirement already satisfied: matplotlib>=2.2 in /usr/local/lib/python3.6/dist-packages (from seaborn) (3.3.4)\n",
            "Requirement already satisfied: numpy>=1.15 in /usr/local/lib/python3.6/dist-packages (from seaborn) (1.19.5)\n",
            "Requirement already satisfied: scipy>=1.0 in /usr/local/lib/python3.6/dist-packages (from seaborn) (1.5.4)\n",
            "Requirement already satisfied: cycler>=0.10 in /usr/local/lib/python3.6/dist-packages (from matplotlib>=2.2->seaborn) (0.10.0)\n",
            "Requirement already satisfied: python-dateutil>=2.1 in /usr/local/lib/python3.6/dist-packages (from matplotlib>=2.2->seaborn) (2.8.1)\n",
            "Requirement already satisfied: kiwisolver>=1.0.1 in /usr/local/lib/python3.6/dist-packages (from matplotlib>=2.2->seaborn) (1.3.1)\n",
            "Requirement already satisfied: pyparsing!=2.0.4,!=2.1.2,!=2.1.6,>=2.0.3 in /usr/local/lib/python3.6/dist-packages (from matplotlib>=2.2->seaborn) (2.4.7)\n",
            "Requirement already satisfied: pillow>=6.2.0 in /usr/local/lib/python3.6/dist-packages (from matplotlib>=2.2->seaborn) (8.2.0)\n",
            "Requirement already satisfied: six in /usr/local/lib/python3.6/dist-packages (from cycler>=0.10->matplotlib>=2.2->seaborn) (1.15.0)\n",
            "Requirement already satisfied: pytz>=2017.2 in /usr/local/lib/python3.6/dist-packages (from pandas>=0.23->seaborn) (2021.1)\n",
            "Installing collected packages: seaborn\n",
            "Successfully installed seaborn-0.11.2\n",
            "\u001b[33mWARNING: You are using pip version 21.0.1; however, version 21.3.1 is available.\n",
            "You should consider upgrading via the '/usr/bin/python3.6 -m pip install --upgrade pip' command.\u001b[0m\n"
          ]
        }
      ],
      "source": [
        "!pip install seaborn"
      ]
    },
    {
      "cell_type": "code",
      "execution_count": null,
      "id": "77443384-7cfa-4dc6-a25b-920594aefc90",
      "metadata": {
        "gradient": {
          "editing": false,
          "id": "77443384-7cfa-4dc6-a25b-920594aefc90",
          "kernelId": "d1bfc924-61a6-48a4-b370-40dbb13a3636",
          "source_hidden": false
        },
        "jupyter": {
          "outputs_hidden": false
        },
        "id": "77443384-7cfa-4dc6-a25b-920594aefc90",
        "outputId": "d6383882-90ed-441c-a535-28263121caa2"
      },
      "outputs": [
        {
          "name": "stdout",
          "output_type": "stream",
          "text": [
            "Collecting nltk\n",
            "  Downloading nltk-3.6.7-py3-none-any.whl (1.5 MB)\n",
            "\u001b[K     |████████████████████████████████| 1.5 MB 14.6 MB/s eta 0:00:01\n",
            "\u001b[?25hRequirement already satisfied: joblib in /usr/local/lib/python3.6/dist-packages (from nltk) (1.0.1)\n",
            "Requirement already satisfied: tqdm in /usr/local/lib/python3.6/dist-packages (from nltk) (4.60.0)\n",
            "Collecting regex>=2021.8.3\n",
            "  Downloading regex-2022.1.18-cp36-cp36m-manylinux_2_17_x86_64.manylinux2014_x86_64.whl (748 kB)\n",
            "\u001b[K     |████████████████████████████████| 748 kB 44.8 MB/s eta 0:00:01\n",
            "\u001b[?25hCollecting click\n",
            "  Downloading click-8.0.4-py3-none-any.whl (97 kB)\n",
            "\u001b[K     |████████████████████████████████| 97 kB 9.3 MB/s  eta 0:00:01\n",
            "\u001b[?25hRequirement already satisfied: importlib-metadata in /usr/local/lib/python3.6/dist-packages (from click->nltk) (3.10.0)\n",
            "Requirement already satisfied: zipp>=0.5 in /usr/local/lib/python3.6/dist-packages (from importlib-metadata->click->nltk) (3.4.1)\n",
            "Requirement already satisfied: typing-extensions>=3.6.4 in /usr/local/lib/python3.6/dist-packages (from importlib-metadata->click->nltk) (3.7.4.3)\n",
            "Installing collected packages: regex, click, nltk\n",
            "Successfully installed click-8.0.4 nltk-3.6.7 regex-2022.1.18\n",
            "\u001b[33mWARNING: You are using pip version 21.0.1; however, version 21.3.1 is available.\n",
            "You should consider upgrading via the '/usr/bin/python3.6 -m pip install --upgrade pip' command.\u001b[0m\n"
          ]
        }
      ],
      "source": [
        "!pip install nltk"
      ]
    },
    {
      "cell_type": "code",
      "execution_count": null,
      "id": "05338b87",
      "metadata": {
        "gradient": {
          "editing": false,
          "id": "05338b87",
          "kernelId": "d1bfc924-61a6-48a4-b370-40dbb13a3636"
        },
        "id": "05338b87"
      },
      "outputs": [],
      "source": [
        "#Importing the necessary librarires\n",
        "\n",
        "import math\n",
        "import nltk\n",
        "import scipy\n",
        "import string\n",
        "import numpy as np\n",
        "import pandas as pd\n",
        "import seaborn as sns\n",
        "\n",
        "from tqdm import tqdm\n",
        "from scipy.stats import randint\n",
        "from nltk.corpus import stopwords\n",
        "from scipy.stats import loguniform\n",
        "\n",
        "from sklearn.decomposition import PCA\n",
        "from nltk.stem.porter import PorterStemmer\n",
        "from sklearn.preprocessing import StandardScaler\n",
        "from sklearn.model_selection import train_test_split\n",
        "\n",
        "from sklearn.pipeline import Pipeline\n",
        "from sklearn.feature_extraction.text import TfidfVectorizer\n",
        "from sklearn.naive_bayes import MultinomialNB\n",
        "from sklearn.discriminant_analysis import LinearDiscriminantAnalysis\n",
        "from sklearn.model_selection import GridSearchCV\n",
        "from scikitplot.metrics import plot_roc_curve as auc_roc\n",
        "from sklearn.metrics import accuracy_score, confusion_matrix, classification_report, f1_score, roc_auc_score, roc_curve, precision_score, recall_score\n",
        "from IPython.display import display\n",
        "\n",
        "import matplotlib.pyplot as plt\n",
        "plt.rcParams['figure.figsize'] = [10,6]\n",
        "\n",
        "import warnings \n",
        "warnings.filterwarnings('ignore')"
      ]
    },
    {
      "cell_type": "code",
      "execution_count": null,
      "id": "y5NT-7mHjNnR",
      "metadata": {
        "colab": {
          "base_uri": "https://localhost:8080/"
        },
        "gradient": {
          "editing": false,
          "id": "y5NT-7mHjNnR",
          "kernelId": "d1bfc924-61a6-48a4-b370-40dbb13a3636"
        },
        "id": "y5NT-7mHjNnR",
        "outputId": "e611c0c6-fd41-4d9d-db55-273869794445"
      },
      "outputs": [
        {
          "output_type": "stream",
          "name": "stdout",
          "text": [
            "Mounted at /content/drive\n",
            "/content/drive/MyDrive/Colab Notebooks/DS/Labs/Exp3\n"
          ]
        }
      ],
      "source": [
        "# Connecting/Mounting the drive\n",
        "from google.colab import drive\n",
        "drive.mount('/content/drive')\n",
        "\n",
        "%cd drive/MyDrive/Colab Notebooks/DS/Labs/Exp3"
      ]
    },
    {
      "cell_type": "code",
      "execution_count": null,
      "id": "ca75bf0f",
      "metadata": {
        "colab": {
          "base_uri": "https://localhost:8080/",
          "height": 241
        },
        "gradient": {
          "editing": false,
          "id": "ca75bf0f",
          "kernelId": "d1bfc924-61a6-48a4-b370-40dbb13a3636"
        },
        "id": "ca75bf0f",
        "outputId": "5430e0cb-0923-4fb5-a9ed-d70a13c418d3"
      },
      "outputs": [
        {
          "data": {
            "text/html": [
              "<div>\n",
              "<style scoped>\n",
              "    .dataframe tbody tr th:only-of-type {\n",
              "        vertical-align: middle;\n",
              "    }\n",
              "\n",
              "    .dataframe tbody tr th {\n",
              "        vertical-align: top;\n",
              "    }\n",
              "\n",
              "    .dataframe thead th {\n",
              "        text-align: right;\n",
              "    }\n",
              "</style>\n",
              "<table border=\"1\" class=\"dataframe\">\n",
              "  <thead>\n",
              "    <tr style=\"text-align: right;\">\n",
              "      <th></th>\n",
              "      <th>text</th>\n",
              "      <th>label</th>\n",
              "    </tr>\n",
              "  </thead>\n",
              "  <tbody>\n",
              "    <tr>\n",
              "      <th>0</th>\n",
              "      <td>I grew up (b. 1965) watching and loving the Th...</td>\n",
              "      <td>0</td>\n",
              "    </tr>\n",
              "    <tr>\n",
              "      <th>1</th>\n",
              "      <td>When I put this movie in my DVD player, and sa...</td>\n",
              "      <td>0</td>\n",
              "    </tr>\n",
              "    <tr>\n",
              "      <th>2</th>\n",
              "      <td>Why do people who do not know what a particula...</td>\n",
              "      <td>0</td>\n",
              "    </tr>\n",
              "    <tr>\n",
              "      <th>3</th>\n",
              "      <td>Even though I have great interest in Biblical ...</td>\n",
              "      <td>0</td>\n",
              "    </tr>\n",
              "    <tr>\n",
              "      <th>4</th>\n",
              "      <td>Im a die hard Dads Army fan and nothing will e...</td>\n",
              "      <td>1</td>\n",
              "    </tr>\n",
              "  </tbody>\n",
              "</table>\n",
              "</div>"
            ],
            "text/plain": [
              "                                                text  label\n",
              "0  I grew up (b. 1965) watching and loving the Th...      0\n",
              "1  When I put this movie in my DVD player, and sa...      0\n",
              "2  Why do people who do not know what a particula...      0\n",
              "3  Even though I have great interest in Biblical ...      0\n",
              "4  Im a die hard Dads Army fan and nothing will e...      1"
            ]
          },
          "metadata": {},
          "output_type": "display_data"
        },
        {
          "name": "stdout",
          "output_type": "stream",
          "text": [
            "\n",
            "Size of the dataset is :  (40000, 2)\n"
          ]
        }
      ],
      "source": [
        "# Loading the dataset\n",
        "\n",
        "df = pd.read_csv('movie.csv')\n",
        "target = 'label'\n",
        "df.reset_index(drop=True, inplace=True)\n",
        "original_df = df.copy(deep=True)\n",
        "display(df.head())\n",
        "print(\"\\nSize of the dataset is : \", df.shape)"
      ]
    },
    {
      "cell_type": "markdown",
      "id": "N2ueBz9lJRVJ",
      "metadata": {
        "gradient": {
          "editing": false,
          "id": "N2ueBz9lJRVJ",
          "kernelId": "d1bfc924-61a6-48a4-b370-40dbb13a3636"
        },
        "id": "N2ueBz9lJRVJ"
      },
      "source": [
        "**Analysis:** The Dataset consists of 2 features & 40000 samples."
      ]
    },
    {
      "cell_type": "code",
      "execution_count": null,
      "id": "0b4e979e",
      "metadata": {
        "colab": {
          "base_uri": "https://localhost:8080/"
        },
        "gradient": {
          "editing": false,
          "id": "0b4e979e",
          "kernelId": "d1bfc924-61a6-48a4-b370-40dbb13a3636"
        },
        "id": "0b4e979e",
        "outputId": "28f943ee-045c-4a13-fec4-de054211bbf7"
      },
      "outputs": [
        {
          "name": "stdout",
          "output_type": "stream",
          "text": [
            "<class 'pandas.core.frame.DataFrame'>\n",
            "RangeIndex: 40000 entries, 0 to 39999\n",
            "Data columns (total 2 columns):\n",
            " #   Column  Non-Null Count  Dtype \n",
            "---  ------  --------------  ----- \n",
            " 0   text    40000 non-null  object\n",
            " 1   label   40000 non-null  int64 \n",
            "dtypes: int64(1), object(1)\n",
            "memory usage: 625.1+ KB\n"
          ]
        }
      ],
      "source": [
        "#Checking the dtypes of all the columns\n",
        "\n",
        "df.info()"
      ]
    },
    {
      "cell_type": "code",
      "execution_count": null,
      "id": "dc84d173",
      "metadata": {
        "colab": {
          "base_uri": "https://localhost:8080/",
          "height": 300
        },
        "gradient": {
          "editing": false,
          "id": "dc84d173",
          "kernelId": "d1bfc924-61a6-48a4-b370-40dbb13a3636"
        },
        "id": "dc84d173",
        "outputId": "33480574-ad8f-4c6c-e222-4d5432ba9435"
      },
      "outputs": [
        {
          "data": {
            "text/html": [
              "<div>\n",
              "<style scoped>\n",
              "    .dataframe tbody tr th:only-of-type {\n",
              "        vertical-align: middle;\n",
              "    }\n",
              "\n",
              "    .dataframe tbody tr th {\n",
              "        vertical-align: top;\n",
              "    }\n",
              "\n",
              "    .dataframe thead th {\n",
              "        text-align: right;\n",
              "    }\n",
              "</style>\n",
              "<table border=\"1\" class=\"dataframe\">\n",
              "  <thead>\n",
              "    <tr style=\"text-align: right;\">\n",
              "      <th></th>\n",
              "      <th>label</th>\n",
              "    </tr>\n",
              "  </thead>\n",
              "  <tbody>\n",
              "    <tr>\n",
              "      <th>count</th>\n",
              "      <td>40000.000000</td>\n",
              "    </tr>\n",
              "    <tr>\n",
              "      <th>mean</th>\n",
              "      <td>0.499525</td>\n",
              "    </tr>\n",
              "    <tr>\n",
              "      <th>std</th>\n",
              "      <td>0.500006</td>\n",
              "    </tr>\n",
              "    <tr>\n",
              "      <th>min</th>\n",
              "      <td>0.000000</td>\n",
              "    </tr>\n",
              "    <tr>\n",
              "      <th>25%</th>\n",
              "      <td>0.000000</td>\n",
              "    </tr>\n",
              "    <tr>\n",
              "      <th>50%</th>\n",
              "      <td>0.000000</td>\n",
              "    </tr>\n",
              "    <tr>\n",
              "      <th>75%</th>\n",
              "      <td>1.000000</td>\n",
              "    </tr>\n",
              "    <tr>\n",
              "      <th>max</th>\n",
              "      <td>1.000000</td>\n",
              "    </tr>\n",
              "  </tbody>\n",
              "</table>\n",
              "</div>"
            ],
            "text/plain": [
              "              label\n",
              "count  40000.000000\n",
              "mean       0.499525\n",
              "std        0.500006\n",
              "min        0.000000\n",
              "25%        0.000000\n",
              "50%        0.000000\n",
              "75%        1.000000\n",
              "max        1.000000"
            ]
          },
          "metadata": {},
          "output_type": "display_data"
        }
      ],
      "source": [
        "#Checking the stats of all the columns\n",
        "\n",
        "display(df.describe())"
      ]
    },
    {
      "cell_type": "markdown",
      "id": "80d96188",
      "metadata": {
        "gradient": {
          "editing": false,
          "id": "80d96188",
          "kernelId": "d1bfc924-61a6-48a4-b370-40dbb13a3636"
        },
        "id": "80d96188"
      },
      "source": [
        "**Analysis:** The stats seem to be fine, let us gain more undestanding by visualising the dataset."
      ]
    },
    {
      "cell_type": "markdown",
      "id": "48ffa157",
      "metadata": {
        "gradient": {
          "editing": false,
          "id": "48ffa157",
          "kernelId": "d1bfc924-61a6-48a4-b370-40dbb13a3636"
        },
        "id": "48ffa157"
      },
      "source": [
        "##2. Data Preprocessing"
      ]
    },
    {
      "cell_type": "code",
      "execution_count": null,
      "id": "5cac0cb7",
      "metadata": {
        "colab": {
          "base_uri": "https://localhost:8080/"
        },
        "gradient": {
          "editing": false,
          "id": "5cac0cb7",
          "kernelId": "d1bfc924-61a6-48a4-b370-40dbb13a3636"
        },
        "id": "5cac0cb7",
        "outputId": "2ec0472b-d881-41cc-a5e0-448b65c8a422"
      },
      "outputs": [
        {
          "name": "stdout",
          "output_type": "stream",
          "text": [
            "text     0\n",
            "label    0\n",
            "dtype: int64\n"
          ]
        }
      ],
      "source": [
        "#Check for empty elements\n",
        "\n",
        "print(df.isnull().sum())"
      ]
    },
    {
      "cell_type": "markdown",
      "id": "XhaCrkQ-J1Yf",
      "metadata": {
        "gradient": {
          "editing": false,
          "id": "XhaCrkQ-J1Yf",
          "kernelId": "d1bfc924-61a6-48a4-b370-40dbb13a3636"
        },
        "id": "XhaCrkQ-J1Yf"
      },
      "source": [
        "**Analysis:** The dataset doesn't have any null elements"
      ]
    },
    {
      "cell_type": "code",
      "execution_count": null,
      "id": "fffa9040",
      "metadata": {
        "colab": {
          "base_uri": "https://localhost:8080/"
        },
        "gradient": {
          "editing": false,
          "id": "fffa9040",
          "kernelId": "d1bfc924-61a6-48a4-b370-40dbb13a3636"
        },
        "id": "fffa9040",
        "outputId": "b78a855e-2175-4638-afdc-9707d5614dd5"
      },
      "outputs": [
        {
          "name": "stdout",
          "output_type": "stream",
          "text": [
            "\n",
            "Analysis: Number of duplicates dropped/fixed ---> 277\n"
          ]
        }
      ],
      "source": [
        "#Removal of any Duplicate rows (if any)\n",
        "\n",
        "counter = 0\n",
        "r,c = original_df.shape\n",
        "\n",
        "df1 = df.drop_duplicates()\n",
        "df1.reset_index(drop=True, inplace=True)\n",
        "\n",
        "if df1.shape==(r,c):\n",
        "    print('\\nAnalysis: The dataset doesn\\'t have any duplicates')\n",
        "else:\n",
        "    print(f'\\nAnalysis: Number of duplicates dropped/fixed ---> {r-df1.shape[0]}')"
      ]
    },
    {
      "cell_type": "code",
      "execution_count": null,
      "id": "X1EbRBKIj_TB",
      "metadata": {
        "colab": {
          "base_uri": "https://localhost:8080/"
        },
        "gradient": {
          "editing": false,
          "id": "X1EbRBKIj_TB",
          "kernelId": "d1bfc924-61a6-48a4-b370-40dbb13a3636"
        },
        "id": "X1EbRBKIj_TB",
        "outputId": "0b8a6602-7a3c-4a10-89fe-a1386f628e16"
      },
      "outputs": [
        {
          "name": "stderr",
          "output_type": "stream",
          "text": [
            "[nltk_data] Downloading package stopwords to /root/nltk_data...\n",
            "[nltk_data]   Unzipping corpora/stopwords.zip.\n"
          ]
        },
        {
          "data": {
            "text/plain": [
              "True"
            ]
          },
          "execution_count": 10,
          "metadata": {},
          "output_type": "execute_result"
        }
      ],
      "source": [
        "# Downloading the stop words\n",
        "\n",
        "import nltk\n",
        "nltk.download(\"stopwords\")"
      ]
    },
    {
      "cell_type": "code",
      "execution_count": null,
      "id": "dffedf52",
      "metadata": {
        "colab": {
          "base_uri": "https://localhost:8080/",
          "height": 434
        },
        "gradient": {
          "editing": true,
          "id": "dffedf52",
          "kernelId": "d1bfc924-61a6-48a4-b370-40dbb13a3636"
        },
        "id": "dffedf52",
        "outputId": "a95256c7-08c6-4ed3-ff39-0d97e6356e97"
      },
      "outputs": [
        {
          "name": "stderr",
          "output_type": "stream",
          "text": [
            "100%|██████████| 39723/39723 [27:49<00:00, 23.80it/s]"
          ]
        },
        {
          "name": "stdout",
          "output_type": "stream",
          "text": [
            "\n",
            "For example :\n",
            "\n",
            "why would this film be so good, but only gross an estimated $95,000,000 and have no award nominations? john travolta knows what he's doing. he knows he's michael, a cigar smoking, womanizing, magical arch angel that came down to live with a dying lady and is now in a car with the staff of \"the national mirror\" and their dog, sparky, on the way to chicago. it then turns into a road trip that's both horrible and great. i don't even think the death scenes (3 to be exact) make this a tearjerker. the soundtrack is the best with \"heaven is my home\", \"up around the bend\", and \"chains of fools\". i have very great expectations about this and i say that it should have had a little more respect in the 90's. read my comment. bye!\n",
            "\n",
            "why would this film be so good but only gross an estimated  and have no award nominations john travolta knows what hes doing he knows hes michael a cigar smoking womanizing magical arch angel that came down to live with a dying lady and is now in a car with the staff of the national mirror and their dog sparky on the way to chicago it then turns into a road trip thats both horrible and great i dont even think the death scenes  to be exact make this a tearjerker the soundtrack is the best with heaven is my home up around the bend and chains of fools i have very great expectations about this and i say that it should have had a little more respect in the s read my comment bye\n",
            "\n",
            "whi would thi film be so good but onli gross an estim and have no award nomin john travolta know what he do he know he michael a cigar smoke woman magic arch angel that came down to live with a die ladi and is now in a car with the staff of the nation mirror and their dog sparki on the way to chicago it then turn into a road trip that both horribl and great i dont even think the death scene to be exact make thi a tearjerk the soundtrack is the best with heaven is my home up around the bend and chain of fool i have veri great expect about thi and i say that it should have had a littl more respect in the s read my comment bye\n",
            "\n",
            "whi would thi film good onli gross estim award nomin john travolta know know michael cigar smoke woman magic arch angel came live die ladi car staff nation mirror dog sparki way chicago turn road trip horribl great dont even think death scene exact make thi tearjerk soundtrack best heaven home around bend chain fool veri great expect thi say littl respect read comment bye\n",
            "\n"
          ]
        },
        {
          "name": "stderr",
          "output_type": "stream",
          "text": [
            "\n"
          ]
        },
        {
          "data": {
            "text/html": [
              "<div>\n",
              "<style scoped>\n",
              "    .dataframe tbody tr th:only-of-type {\n",
              "        vertical-align: middle;\n",
              "    }\n",
              "\n",
              "    .dataframe tbody tr th {\n",
              "        vertical-align: top;\n",
              "    }\n",
              "\n",
              "    .dataframe thead th {\n",
              "        text-align: right;\n",
              "    }\n",
              "</style>\n",
              "<table border=\"1\" class=\"dataframe\">\n",
              "  <thead>\n",
              "    <tr style=\"text-align: right;\">\n",
              "      <th></th>\n",
              "      <th>text</th>\n",
              "      <th>label</th>\n",
              "    </tr>\n",
              "  </thead>\n",
              "  <tbody>\n",
              "    <tr>\n",
              "      <th>0</th>\n",
              "      <td>grew b watch love thunderbird mate school watc...</td>\n",
              "      <td>0</td>\n",
              "    </tr>\n",
              "    <tr>\n",
              "      <th>1</th>\n",
              "      <td>put thi movi dvd player sat coke chip expect w...</td>\n",
              "      <td>0</td>\n",
              "    </tr>\n",
              "    <tr>\n",
              "      <th>2</th>\n",
              "      <td>whi peopl know particular time past wa like fe...</td>\n",
              "      <td>0</td>\n",
              "    </tr>\n",
              "    <tr>\n",
              "      <th>3</th>\n",
              "      <td>even though great interest biblic movi wa bore...</td>\n",
              "      <td>0</td>\n",
              "    </tr>\n",
              "    <tr>\n",
              "      <th>4</th>\n",
              "      <td>im die hard dad armi fan noth ever chang got t...</td>\n",
              "      <td>1</td>\n",
              "    </tr>\n",
              "  </tbody>\n",
              "</table>\n",
              "</div>"
            ],
            "text/plain": [
              "                                                text  label\n",
              "0  grew b watch love thunderbird mate school watc...      0\n",
              "1  put thi movi dvd player sat coke chip expect w...      0\n",
              "2  whi peopl know particular time past wa like fe...      0\n",
              "3  even though great interest biblic movi wa bore...      0\n",
              "4  im die hard dad armi fan noth ever chang got t...      1"
            ]
          },
          "execution_count": 11,
          "metadata": {},
          "output_type": "execute_result"
        }
      ],
      "source": [
        "#Filtering the text/ Text Preprocessing\n",
        "\n",
        "\n",
        "from nltk.corpus import stopwords\n",
        "from nltk.stem.porter import PorterStemmer\n",
        "\n",
        "df = df1.copy()\n",
        "\n",
        "def preprocessor(i, text):\n",
        "    \n",
        "    text = text.lower()\n",
        "    if i == df.shape[0] - 1:\n",
        "        print(\"\\nFor example :\\n\")\n",
        "        print(text+\"\\n\")\n",
        "    # Converting the text into lowercase \n",
        "    text = ''.join([i for i in text if i in string.ascii_lowercase+' '])\n",
        "    if i == df.shape[0] - 1:\n",
        "        print(text+\"\\n\")\n",
        "    # Converting every word in the text into it's root word\n",
        "    text = ' '.join([PorterStemmer().stem(word) for word in text.split()])\n",
        "    if i == df.shape[0] - 1:\n",
        "        print(text+\"\\n\")\n",
        "    # Removal of stop words from the text\n",
        "    text = ' '.join([word for word in text.split() if word not in stopwords.words('english')])\n",
        "    if i == df.shape[0] - 1:\n",
        "        print(text+\"\\n\")\n",
        "    i = i + 1\n",
        "    return text\n",
        "\n",
        "for i in tqdm(range(df.shape[0])):\n",
        "    df.loc[i,'text'] = preprocessor(i, df['text'][i])\n",
        "\n",
        "df.head()"
      ]
    },
    {
      "cell_type": "markdown",
      "id": "8f3a6b96",
      "metadata": {
        "gradient": {
          "editing": false,
          "id": "8f3a6b96",
          "kernelId": "d1bfc924-61a6-48a4-b370-40dbb13a3636"
        },
        "id": "8f3a6b96"
      },
      "source": [
        "**Analysis:** The text is now clean up with the removal of all punctuations, stopwords & stemming. "
      ]
    },
    {
      "cell_type": "markdown",
      "id": "3304ed7e",
      "metadata": {
        "gradient": {
          "editing": false,
          "id": "3304ed7e",
          "kernelId": "d1bfc924-61a6-48a4-b370-40dbb13a3636"
        },
        "id": "3304ed7e"
      },
      "source": [
        "##3. Exploratory Data Analysis (EDA)"
      ]
    },
    {
      "cell_type": "code",
      "execution_count": null,
      "id": "88817c0f",
      "metadata": {
        "colab": {
          "base_uri": "https://localhost:8080/"
        },
        "gradient": {
          "editing": false,
          "id": "88817c0f",
          "kernelId": "d1bfc924-61a6-48a4-b370-40dbb13a3636"
        },
        "id": "88817c0f",
        "outputId": "4ac527db-a9f9-4b25-991e-f4b67978dfd5"
      },
      "outputs": [
        {
          "name": "stdout",
          "output_type": "stream",
          "text": [
            "            \u001b[1mTarget Variable Distribution           \n"
          ]
        },
        {
          "data": {
            "image/png": "[encoded data removed]",
            "text/plain": [
              "<Figure size 720x432 with 1 Axes>"
            ]
          },
          "metadata": {},
          "output_type": "display_data"
        }
      ],
      "source": [
        "#Let us first analyze the distribution of the target variable\n",
        "\n",
        "print('\\033[1mTarget Variable Distribution'.center(55))\n",
        "plt.pie(df[target].value_counts(), labels=['Positive','Negative'], counterclock=False, shadow=True, \n",
        "        explode=[0,0.1], autopct='%1.1f%%', radius=1, startangle=215)\n",
        "plt.title('\\033[1mTarget Variable Distribution')\n",
        "plt.show()"
      ]
    },
    {
      "cell_type": "markdown",
      "id": "52d1b646",
      "metadata": {
        "gradient": {
          "editing": false,
          "id": "52d1b646",
          "kernelId": "d1bfc924-61a6-48a4-b370-40dbb13a3636"
        },
        "id": "52d1b646"
      },
      "source": [
        "**Analysis:** The Target Variable seems to be perfectly balanced!"
      ]
    },
    {
      "cell_type": "code",
      "execution_count": null,
      "id": "bc146008",
      "metadata": {
        "colab": {
          "base_uri": "https://localhost:8080/",
          "height": 530
        },
        "gradient": {
          "editing": false,
          "id": "bc146008",
          "kernelId": "d1bfc924-61a6-48a4-b370-40dbb13a3636"
        },
        "id": "bc146008",
        "outputId": "dbc97270-c617-46b0-fe4c-a6fb634c81c7"
      },
      "outputs": [
        {
          "name": "stderr",
          "output_type": "stream",
          "text": [
            "100%|██████████| 39723/39723 [00:14<00:00, 2707.89it/s]\n"
          ]
        },
        {
          "data": {
            "image/png": "[encoded data removed]",
            "text/plain": [
              "<Figure size 576x576 with 1 Axes>"
            ]
          },
          "metadata": {
            "needs_background": "light"
          },
          "output_type": "display_data"
        }
      ],
      "source": [
        "#Visualising the average text length\n",
        "\n",
        "df2 = df.copy()\n",
        "df2['review_length'] = 0\n",
        "\n",
        "for i in tqdm(range(df.shape[0])):\n",
        "    df2['review_length'][i] = len(df2['text'][i])\n",
        "\n",
        "plt.figure(figsize=[8,8])\n",
        "sns.boxplot(x='label',y='review_length', data=df2, hue='label')\n",
        "plt.title('Text Sequence Length')\n",
        "plt.show()"
      ]
    },
    {
      "cell_type": "markdown",
      "id": "549dfe87",
      "metadata": {
        "gradient": {
          "editing": false,
          "id": "549dfe87",
          "kernelId": "d1bfc924-61a6-48a4-b370-40dbb13a3636"
        },
        "id": "549dfe87"
      },
      "source": [
        "**Analysis:** The Positive reviews are slightly longer on an average, compared to those with negative reviews."
      ]
    },
    {
      "cell_type": "code",
      "execution_count": null,
      "id": "7a8702d9",
      "metadata": {
        "colab": {
          "base_uri": "https://localhost:8080/"
        },
        "gradient": {
          "editing": false,
          "id": "7a8702d9",
          "kernelId": "d1bfc924-61a6-48a4-b370-40dbb13a3636"
        },
        "id": "7a8702d9",
        "outputId": "a5dfa8d1-d4f4-4044-d181-b221b82b1daf"
      },
      "outputs": [
        {
          "name": "stdout",
          "output_type": "stream",
          "text": [
            "Most-common Positive words [('thi', 55011), ('br', 44570), ('film', 39084), ('movi', 34494), ('wa', 34422), ('hi', 26726), ('one', 21826), ('like', 16070), ('ha', 14355), ('veri', 12750), ('time', 12332), ('see', 11834), ('good', 11671), ('charact', 10989), ('stori', 10885), ('make', 10586), ('great', 10250), ('get', 10140), ('watch', 10020), ('love', 9780)]\n",
            "Most-common Negative words [('thi', 63912), ('br', 46727), ('movi', 44353), ('wa', 41279), ('film', 34153), ('one', 20600), ('like', 19013), ('hi', 18650), ('make', 12252), ('even', 12123), ('ha', 12043), ('get', 12011), ('watch', 11632), ('good', 11514), ('time', 11382), ('bad', 11197), ('charact', 11009), ('would', 10789), ('onli', 10564), ('see', 10184)]\n"
          ]
        }
      ],
      "source": [
        "#Visualising the most frequent words\n",
        "\n",
        "positivedata = df[df['label']== 1]\n",
        "positivedata =positivedata['text']\n",
        "negdata = df[df['label']== 0]\n",
        "negdata= negdata['text']\n",
        "\n",
        "def most_frequent_words(data):\n",
        "    words = ' '.join(data)\n",
        "    map = {}\n",
        "    for word in words.split():\n",
        "        if word in map:\n",
        "            map[word] = map[word] + 1\n",
        "        else:\n",
        "            map[word] = 0\n",
        "    map = sorted(map.items(), key=lambda item: item[1], reverse=True)\n",
        "    # print(map)\n",
        "    return map[:20]\n",
        "        \n",
        "\n",
        "print('Most-common Positive words', most_frequent_words(positivedata))\n",
        "print('Most-common Negative words', most_frequent_words(negdata))\n"
      ]
    },
    {
      "cell_type": "markdown",
      "id": "JSxkMtOvlhh9",
      "metadata": {
        "gradient": {
          "editing": false,
          "id": "JSxkMtOvlhh9",
          "kernelId": "d1bfc924-61a6-48a4-b370-40dbb13a3636"
        },
        "id": "JSxkMtOvlhh9"
      },
      "source": [
        "## 4. Building pipelines"
      ]
    },
    {
      "cell_type": "code",
      "execution_count": null,
      "id": "YaejzWrPKLDo",
      "metadata": {
        "gradient": {
          "editing": false,
          "id": "YaejzWrPKLDo",
          "kernelId": "d1bfc924-61a6-48a4-b370-40dbb13a3636"
        },
        "id": "YaejzWrPKLDo"
      },
      "outputs": [],
      "source": [
        "from sklearn.base import TransformerMixin\n",
        "\n",
        "class DenseTransformer(TransformerMixin):\n",
        "\n",
        "    def fit(self, X, y=None, **fit_params):\n",
        "        return self\n",
        "\n",
        "    def transform(self, X, y=None, **fit_params):\n",
        "        return X.todense()"
      ]
    },
    {
      "cell_type": "code",
      "execution_count": null,
      "id": "7QLqOG3TlhCQ",
      "metadata": {
        "gradient": {
          "editing": false,
          "id": "7QLqOG3TlhCQ",
          "kernelId": "d1bfc924-61a6-48a4-b370-40dbb13a3636"
        },
        "id": "7QLqOG3TlhCQ"
      },
      "outputs": [],
      "source": [
        "MNB_clf = Pipeline([\n",
        "    ('tfidf', TfidfVectorizer()),\n",
        "    ('clf', MultinomialNB()),\n",
        "])"
      ]
    },
    {
      "cell_type": "code",
      "execution_count": null,
      "id": "OGHWnPupGQyt",
      "metadata": {
        "gradient": {
          "editing": false,
          "id": "OGHWnPupGQyt",
          "kernelId": "d1bfc924-61a6-48a4-b370-40dbb13a3636"
        },
        "id": "OGHWnPupGQyt"
      },
      "outputs": [],
      "source": [
        "LDA_clf = Pipeline([\n",
        "    ('tfidf', TfidfVectorizer(ngram_range = (1,2), use_idf = False, max_features = 5000)),\n",
        "    ('to_dense', DenseTransformer()), \n",
        "    ('clf', LinearDiscriminantAnalysis()),\n",
        "])"
      ]
    },
    {
      "cell_type": "markdown",
      "id": "OeovTfoTinXb",
      "metadata": {
        "gradient": {
          "editing": false,
          "id": "OeovTfoTinXb",
          "kernelId": "d1bfc924-61a6-48a4-b370-40dbb13a3636"
        },
        "id": "OeovTfoTinXb"
      },
      "source": [
        "First we convert the processed text to a matrix of TF-IDF features using TfidfVectorizer which is equivalent to CountVectorizer followed by TfidfTransformer."
      ]
    },
    {
      "cell_type": "markdown",
      "id": "9e218b28",
      "metadata": {
        "gradient": {
          "editing": false,
          "id": "9e218b28",
          "kernelId": "d1bfc924-61a6-48a4-b370-40dbb13a3636"
        },
        "id": "9e218b28"
      },
      "source": [
        "## 5. Predictive modeling and Evaluation metrics"
      ]
    },
    {
      "cell_type": "code",
      "execution_count": null,
      "id": "6a19bbb6",
      "metadata": {
        "colab": {
          "base_uri": "https://localhost:8080/"
        },
        "gradient": {
          "editing": true,
          "id": "6a19bbb6",
          "kernelId": "d1bfc924-61a6-48a4-b370-40dbb13a3636"
        },
        "id": "6a19bbb6",
        "outputId": "eafd58a0-f16f-4ef3-b35c-f4cb01e50f94"
      },
      "outputs": [
        {
          "name": "stdout",
          "output_type": "stream",
          "text": [
            "Original set  --->  (39723, 1) (39723,) \n",
            "Training set  --->  (31778,) (31778,) \n",
            "Testing set   --->  (7945,)  (7945,)\n"
          ]
        }
      ],
      "source": [
        "#Splitting the data intro training & testing sets\n",
        "\n",
        "X = df.drop(['label'],axis=1)\n",
        "Y = df['label']\n",
        "Train_X, Test_X, Train_Y, Test_Y = train_test_split(X['text'], Y, train_size=0.8, test_size=0.2, random_state=0)\n",
        "\n",
        "print('Original set  ---> ',X.shape,Y.shape,'\\nTraining set  ---> ',Train_X.shape,Train_Y.shape,'\\nTesting set   ---> ', Test_X.shape,'', Test_Y.shape)"
      ]
    },
    {
      "cell_type": "code",
      "execution_count": null,
      "id": "B22X2BQCnIlJ",
      "metadata": {
        "colab": {
          "base_uri": "https://localhost:8080/"
        },
        "gradient": {
          "editing": false,
          "id": "B22X2BQCnIlJ",
          "kernelId": "d1bfc924-61a6-48a4-b370-40dbb13a3636"
        },
        "id": "B22X2BQCnIlJ",
        "outputId": "f08b6929-ba05-48a3-9450-c81b7bd0a33f"
      },
      "outputs": [
        {
          "data": {
            "text/plain": [
              "0    grew b watch love thunderbird mate school watc...\n",
              "1    put thi movi dvd player sat coke chip expect w...\n",
              "2    whi peopl know particular time past wa like fe...\n",
              "3    even though great interest biblic movi wa bore...\n",
              "4    im die hard dad armi fan noth ever chang got t...\n",
              "Name: text, dtype: object"
            ]
          },
          "execution_count": 16,
          "metadata": {},
          "output_type": "execute_result"
        }
      ],
      "source": [
        "X['text'].head()"
      ]
    },
    {
      "cell_type": "code",
      "execution_count": null,
      "id": "Gw_zpbrcn6L2",
      "metadata": {
        "colab": {
          "base_uri": "https://localhost:8080/"
        },
        "gradient": {
          "editing": false,
          "id": "Gw_zpbrcn6L2",
          "kernelId": "d1bfc924-61a6-48a4-b370-40dbb13a3636"
        },
        "id": "Gw_zpbrcn6L2",
        "outputId": "4a4e701d-4044-498b-9696-a14de2c476e8"
      },
      "outputs": [
        {
          "data": {
            "text/plain": [
              "0    0\n",
              "1    0\n",
              "2    0\n",
              "3    0\n",
              "4    1\n",
              "Name: label, dtype: int64"
            ]
          },
          "execution_count": 17,
          "metadata": {},
          "output_type": "execute_result"
        }
      ],
      "source": [
        "Y.head()"
      ]
    },
    {
      "cell_type": "code",
      "execution_count": null,
      "id": "4cfcbf09",
      "metadata": {
        "colab": {
          "base_uri": "https://localhost:8080/",
          "height": 112
        },
        "gradient": {
          "editing": false,
          "id": "4cfcbf09",
          "kernelId": "d1bfc924-61a6-48a4-b370-40dbb13a3636"
        },
        "id": "4cfcbf09",
        "outputId": "f8f3ef49-4c2d-4414-82e2-1e555f49288e"
      },
      "outputs": [
        {
          "data": {
            "text/html": [
              "<div>\n",
              "<style scoped>\n",
              "    .dataframe tbody tr th:only-of-type {\n",
              "        vertical-align: middle;\n",
              "    }\n",
              "\n",
              "    .dataframe tbody tr th {\n",
              "        vertical-align: top;\n",
              "    }\n",
              "\n",
              "    .dataframe thead th {\n",
              "        text-align: right;\n",
              "    }\n",
              "</style>\n",
              "<table border=\"1\" class=\"dataframe\">\n",
              "  <thead>\n",
              "    <tr style=\"text-align: right;\">\n",
              "      <th></th>\n",
              "      <th>Accuracy</th>\n",
              "      <th>Precision</th>\n",
              "      <th>Recall</th>\n",
              "      <th>F1-score</th>\n",
              "      <th>AUC-ROC score</th>\n",
              "    </tr>\n",
              "  </thead>\n",
              "  <tbody>\n",
              "    <tr>\n",
              "      <th>Multinomial Naïve Bayes Classifier (NB)</th>\n",
              "      <td>0.0</td>\n",
              "      <td>0.0</td>\n",
              "      <td>0.0</td>\n",
              "      <td>0.0</td>\n",
              "      <td>0.0</td>\n",
              "    </tr>\n",
              "    <tr>\n",
              "      <th>Linear Discriminant Analysis (LDA)</th>\n",
              "      <td>0.0</td>\n",
              "      <td>0.0</td>\n",
              "      <td>0.0</td>\n",
              "      <td>0.0</td>\n",
              "      <td>0.0</td>\n",
              "    </tr>\n",
              "  </tbody>\n",
              "</table>\n",
              "</div>"
            ],
            "text/plain": [
              "                                         Accuracy  Precision  Recall  \\\n",
              "Multinomial Naïve Bayes Classifier (NB)       0.0        0.0     0.0   \n",
              "Linear Discriminant Analysis (LDA)            0.0        0.0     0.0   \n",
              "\n",
              "                                         F1-score  AUC-ROC score  \n",
              "Multinomial Naïve Bayes Classifier (NB)       0.0            0.0  \n",
              "Linear Discriminant Analysis (LDA)            0.0            0.0  "
            ]
          },
          "execution_count": 18,
          "metadata": {},
          "output_type": "execute_result"
        }
      ],
      "source": [
        "#Lets create a table to store the results of various models \n",
        "\n",
        "metrics = pd.DataFrame(np.zeros((2,5)), columns=['Accuracy', 'Precision','Recall','F1-score','AUC-ROC score'])\n",
        "metrics.index=['Multinomial Naïve Bayes Classifier (NB)','Linear Discriminant Analysis (LDA)']\n",
        "metrics\n"
      ]
    },
    {
      "cell_type": "code",
      "execution_count": null,
      "id": "0bf1735b",
      "metadata": {
        "gradient": {
          "editing": false,
          "id": "0bf1735b",
          "kernelId": "d1bfc924-61a6-48a4-b370-40dbb13a3636"
        },
        "id": "0bf1735b"
      },
      "outputs": [],
      "source": [
        "#Classification Summary Function\n",
        "def Classification_Summary(pred,pred_prob,i):\n",
        "    metrics.iloc[i]['Accuracy']=round(accuracy_score(Test_Y, pred),3)*100   \n",
        "    metrics.iloc[i]['Precision']=round(precision_score(Test_Y, pred),3)*100 #, average='weighted'\n",
        "    metrics.iloc[i]['Recall']=round(recall_score(Test_Y, pred),3)*100 #, average='weighted'\n",
        "    metrics.iloc[i]['F1-score']=round(f1_score(Test_Y, pred),3)*100 #, average='weighted'\n",
        "    metrics.iloc[i]['AUC-ROC score']=round(roc_auc_score(Test_Y, pred),3)*100 #, multi_class='ovr'\n",
        "    print('{}{}\\033[1m Evaluating {} \\033[0m{}{}\\n'.format('<'*3,'-'*35,metrics.index[i], '-'*35,'>'*3))\n",
        "    print('Accuracy = {}%'.format(round(accuracy_score(Test_Y, pred),3)*100))\n",
        "    print('F1 Score = {}%'.format(round(f1_score(Test_Y, pred),3)*100)) #, average='weighted'\n",
        "    print('\\n \\033[1mConfusiton Matrix:\\033[0m\\n',confusion_matrix(Test_Y, pred))\n",
        "    print('\\n\\033[1mClassification Report:\\033[0m\\n',classification_report(Test_Y, pred))\n",
        "    \n",
        "    auc_roc(Test_Y, pred_prob, curves=['each_class'])\n",
        "    plt.show()\n"
      ]
    },
    {
      "cell_type": "markdown",
      "id": "3b572ffe",
      "metadata": {
        "gradient": {
          "editing": false,
          "id": "3b572ffe",
          "kernelId": "d1bfc924-61a6-48a4-b370-40dbb13a3636"
        },
        "id": "3b572ffe"
      },
      "source": [
        "## 1. Multinomial Naive Bayes Classfier:"
      ]
    },
    {
      "cell_type": "markdown",
      "id": "UOL-U6i54Zfn",
      "metadata": {
        "gradient": {
          "editing": false,
          "id": "UOL-U6i54Zfn",
          "kernelId": "d1bfc924-61a6-48a4-b370-40dbb13a3636"
        },
        "id": "UOL-U6i54Zfn"
      },
      "source": [
        "### Buiding pipeline and evaluation"
      ]
    },
    {
      "cell_type": "code",
      "execution_count": null,
      "id": "1f3116a4",
      "metadata": {
        "colab": {
          "base_uri": "https://localhost:8080/",
          "height": 734
        },
        "gradient": {
          "editing": false,
          "id": "1f3116a4",
          "kernelId": "d1bfc924-61a6-48a4-b370-40dbb13a3636"
        },
        "id": "1f3116a4",
        "outputId": "32e87c4b-ba06-4052-ee35-8622c21a78fe"
      },
      "outputs": [
        {
          "name": "stdout",
          "output_type": "stream",
          "text": [
            "<<<-----------------------------------\u001b[1m Evaluating Multinomial Naïve Bayes Classifier (NB) \u001b[0m----------------------------------->>>\n",
            "\n",
            "Accuracy = 85.7%\n",
            "F1 Score = 85.3%\n",
            "\n",
            " \u001b[1mConfusiton Matrix:\u001b[0m\n",
            " [[3525  559]\n",
            " [ 575 3286]]\n",
            "\n",
            "\u001b[1mClassification Report:\u001b[0m\n",
            "               precision    recall  f1-score   support\n",
            "\n",
            "           0       0.86      0.86      0.86      4084\n",
            "           1       0.85      0.85      0.85      3861\n",
            "\n",
            "    accuracy                           0.86      7945\n",
            "   macro avg       0.86      0.86      0.86      7945\n",
            "weighted avg       0.86      0.86      0.86      7945\n",
            "\n"
          ]
        },
        {
          "data": {
            "image/png": "[encoded data removed]",
            "text/plain": [
              "<Figure size 720x432 with 1 Axes>"
            ]
          },
          "metadata": {
            "needs_background": "light"
          },
          "output_type": "display_data"
        }
      ],
      "source": [
        "# Fitting the Multinomial Naive Bayes Classifier\n",
        "\n",
        "MNB = MNB_clf.fit(Train_X, Train_Y)\n",
        "pred = MNB.predict(Test_X)\n",
        "pred_prob = MNB.predict_proba(Test_X)\n",
        "Classification_Summary(pred,pred_prob,0)"
      ]
    },
    {
      "cell_type": "markdown",
      "id": "fa368706",
      "metadata": {
        "gradient": {
          "editing": false,
          "id": "fa368706",
          "kernelId": "d1bfc924-61a6-48a4-b370-40dbb13a3636"
        },
        "id": "fa368706"
      },
      "source": [
        "**Insights:** For the current problem statement, it is more important to focus on the F1-score. Except Decision Tree Classifier, most of the algorithms perform well. The best performing algorithm is Logistic Regression..."
      ]
    },
    {
      "cell_type": "markdown",
      "id": "63hlDzZck30k",
      "metadata": {
        "gradient": {
          "editing": false,
          "id": "63hlDzZck30k",
          "kernelId": "d1bfc924-61a6-48a4-b370-40dbb13a3636"
        },
        "id": "63hlDzZck30k"
      },
      "source": [
        "### Tuning the model/pipeline"
      ]
    },
    {
      "cell_type": "code",
      "execution_count": null,
      "id": "vhzyq9NYk78O",
      "metadata": {
        "gradient": {
          "editing": false,
          "id": "vhzyq9NYk78O",
          "kernelId": "d1bfc924-61a6-48a4-b370-40dbb13a3636"
        },
        "id": "vhzyq9NYk78O"
      },
      "outputs": [],
      "source": [
        "parameters = {\n",
        "    'tfidf__ngram_range': [(1, 1), (1, 2)],\n",
        "    'tfidf__use_idf': (True, False),\n",
        "    'clf__alpha': (1e-2, 1e-3),\n",
        "}\n",
        "\n",
        "gs_clf = GridSearchCV(MNB_clf, parameters, cv=5, n_jobs=-1)"
      ]
    },
    {
      "cell_type": "code",
      "execution_count": null,
      "id": "21sNe7xeqnEO",
      "metadata": {
        "colab": {
          "base_uri": "https://localhost:8080/",
          "height": 734
        },
        "gradient": {
          "editing": false,
          "id": "21sNe7xeqnEO",
          "kernelId": "d1bfc924-61a6-48a4-b370-40dbb13a3636"
        },
        "id": "21sNe7xeqnEO",
        "outputId": "f784cd9f-eb9b-4fb4-8be8-e413f0e45e84"
      },
      "outputs": [
        {
          "name": "stdout",
          "output_type": "stream",
          "text": [
            "<<<-----------------------------------\u001b[1m Evaluating Multinomial Naïve Bayes Classifier (NB) \u001b[0m----------------------------------->>>\n",
            "\n",
            "Accuracy = 88.6%\n",
            "F1 Score = 88.2%\n",
            "\n",
            " \u001b[1mConfusiton Matrix:\u001b[0m\n",
            " [[3652  432]\n",
            " [ 475 3386]]\n",
            "\n",
            "\u001b[1mClassification Report:\u001b[0m\n",
            "               precision    recall  f1-score   support\n",
            "\n",
            "           0       0.88      0.89      0.89      4084\n",
            "           1       0.89      0.88      0.88      3861\n",
            "\n",
            "    accuracy                           0.89      7945\n",
            "   macro avg       0.89      0.89      0.89      7945\n",
            "weighted avg       0.89      0.89      0.89      7945\n",
            "\n"
          ]
        },
        {
          "data": {
            "image/png": "[encoded data removed]",
            "text/plain": [
              "<Figure size 720x432 with 1 Axes>"
            ]
          },
          "metadata": {
            "needs_background": "light"
          },
          "output_type": "display_data"
        }
      ],
      "source": [
        "gs_clf = gs_clf.fit(Train_X, Train_Y)\n",
        "pred = gs_clf.predict(Test_X)\n",
        "pred_prob = gs_clf.predict_proba(Test_X)\n",
        "Classification_Summary(pred,pred_prob,0)"
      ]
    },
    {
      "cell_type": "code",
      "execution_count": null,
      "id": "1sa9N8worS8U",
      "metadata": {
        "colab": {
          "base_uri": "https://localhost:8080/"
        },
        "gradient": {
          "editing": false,
          "id": "1sa9N8worS8U",
          "kernelId": "d1bfc924-61a6-48a4-b370-40dbb13a3636"
        },
        "id": "1sa9N8worS8U",
        "outputId": "a3ca1724-a3f5-4c08-b555-91c8a4f24a75"
      },
      "outputs": [
        {
          "data": {
            "text/plain": [
              "{'clf__alpha': 0.01, 'tfidf__ngram_range': (1, 2), 'tfidf__use_idf': False}"
            ]
          },
          "execution_count": 28,
          "metadata": {},
          "output_type": "execute_result"
        }
      ],
      "source": [
        "gs_clf.best_params_"
      ]
    },
    {
      "cell_type": "markdown",
      "id": "E0THpC9aTfc0",
      "metadata": {
        "gradient": {
          "editing": false,
          "id": "E0THpC9aTfc0",
          "kernelId": "d1bfc924-61a6-48a4-b370-40dbb13a3636"
        },
        "id": "E0THpC9aTfc0"
      },
      "source": [
        "## 2. LDA"
      ]
    },
    {
      "cell_type": "markdown",
      "id": "a7sPbSV_FkAA",
      "metadata": {
        "gradient": {
          "editing": false,
          "id": "a7sPbSV_FkAA",
          "kernelId": "d1bfc924-61a6-48a4-b370-40dbb13a3636"
        },
        "id": "a7sPbSV_FkAA"
      },
      "source": [
        "Principal Component Analysis (PCA) when applied identifies the combination of attributes (principal components, or directions in the feature space) that account for the most variance in the data.\n",
        "\n",
        "Whereas Linear Discriminant Analysis (LDA) tries to identify attributes that account for the most variance between classes. In particular, LDA, in contrast to PCA, is a supervised method, using known class labels."
      ]
    },
    {
      "cell_type": "code",
      "execution_count": null,
      "id": "bxhJCbRZSVlt",
      "metadata": {
        "colab": {
          "base_uri": "https://localhost:8080/",
          "height": 734
        },
        "gradient": {
          "editing": false,
          "id": "bxhJCbRZSVlt",
          "kernelId": "d1bfc924-61a6-48a4-b370-40dbb13a3636"
        },
        "id": "bxhJCbRZSVlt",
        "outputId": "8023a725-3739-4e08-8bd5-db0457acfb7a"
      },
      "outputs": [
        {
          "name": "stdout",
          "output_type": "stream",
          "text": [
            "<<<-----------------------------------\u001b[1m Evaluating Linear Discriminant Analysis (LDA) \u001b[0m----------------------------------->>>\n",
            "\n",
            "Accuracy = 86.9%\n",
            "F1 Score = 86.6%\n",
            "\n",
            " \u001b[1mConfusiton Matrix:\u001b[0m\n",
            " [[3519  565]\n",
            " [ 478 3383]]\n",
            "\n",
            "\u001b[1mClassification Report:\u001b[0m\n",
            "               precision    recall  f1-score   support\n",
            "\n",
            "           0       0.88      0.86      0.87      4084\n",
            "           1       0.86      0.88      0.87      3861\n",
            "\n",
            "    accuracy                           0.87      7945\n",
            "   macro avg       0.87      0.87      0.87      7945\n",
            "weighted avg       0.87      0.87      0.87      7945\n",
            "\n"
          ]
        },
        {
          "data": {
            "image/png": "[encoded data removed]",
            "text/plain": [
              "<Figure size 720x432 with 1 Axes>"
            ]
          },
          "metadata": {
            "needs_background": "light"
          },
          "output_type": "display_data"
        }
      ],
      "source": [
        "# Fitting the Linear Discriminant Analysis Classifier\n",
        "\n",
        "LDA = LDA_clf.fit(Train_X, Train_Y)\n",
        "pred = LDA.predict(Test_X)\n",
        "pred_prob = LDA.predict_proba(Test_X)\n",
        "Classification_Summary(pred,pred_prob,1)"
      ]
    },
    {
      "cell_type": "markdown",
      "id": "02csCYOpOIF3",
      "metadata": {
        "gradient": {
          "editing": false,
          "id": "02csCYOpOIF3",
          "kernelId": "d1bfc924-61a6-48a4-b370-40dbb13a3636"
        },
        "id": "02csCYOpOIF3"
      },
      "source": [
        "### Tuning the model/pipeline"
      ]
    },
    {
      "cell_type": "code",
      "execution_count": null,
      "id": "jo8gLBAxOIF-",
      "metadata": {
        "gradient": {
          "editing": true,
          "id": "jo8gLBAxOIF-",
          "kernelId": "d1bfc924-61a6-48a4-b370-40dbb13a3636"
        },
        "id": "jo8gLBAxOIF-"
      },
      "outputs": [],
      "source": [
        "parameters = {\n",
        "    'tfidf__max_features': (3000, 4000)\n",
        "}\n",
        "\n",
        "lda_clf = GridSearchCV(LDA_clf, parameters, cv=5)"
      ]
    },
    {
      "cell_type": "code",
      "execution_count": null,
      "id": "Lo_VOk_ROIF-",
      "metadata": {
        "gradient": {
          "editing": false,
          "id": "Lo_VOk_ROIF-",
          "kernelId": "d1bfc924-61a6-48a4-b370-40dbb13a3636"
        },
        "id": "Lo_VOk_ROIF-",
        "outputId": "2026a556-0a46-41d4-f429-792ecd55595c"
      },
      "outputs": [
        {
          "name": "stdout",
          "output_type": "stream",
          "text": [
            "GridSearchCV(cv=5,\n",
            "             estimator=Pipeline(steps=[('tfidf',\n",
            "                                        TfidfVectorizer(max_features=5000,\n",
            "                                                        ngram_range=(1, 2),\n",
            "                                                        use_idf=False)),\n",
            "                                       ('to_dense',\n",
            "                                        <__main__.DenseTransformer object at 0x7fd9d4db5a20>),\n",
            "                                       ('clf', LinearDiscriminantAnalysis())]),\n",
            "             param_grid={'tfidf__max_features': (3000, 4000)})\n",
            "<<<-----------------------------------\u001b[1m Evaluating Linear Discriminant Analysis (LDA) \u001b[0m----------------------------------->>>\n",
            "\n",
            "Accuracy = 87.0%\n",
            "F1 Score = 86.8%\n",
            "\n",
            " \u001b[1mConfusiton Matrix:\u001b[0m\n",
            " [[3516  568]\n",
            " [ 466 3395]]\n",
            "\n",
            "\u001b[1mClassification Report:\u001b[0m\n",
            "               precision    recall  f1-score   support\n",
            "\n",
            "           0       0.88      0.86      0.87      4084\n",
            "           1       0.86      0.88      0.87      3861\n",
            "\n",
            "    accuracy                           0.87      7945\n",
            "   macro avg       0.87      0.87      0.87      7945\n",
            "weighted avg       0.87      0.87      0.87      7945\n",
            "\n"
          ]
        },
        {
          "data": {
            "image/png": "[encoded data removed]",
            "text/plain": [
              "<Figure size 720x432 with 1 Axes>"
            ]
          },
          "metadata": {
            "needs_background": "light"
          },
          "output_type": "display_data"
        }
      ],
      "source": [
        "lda_clf = lda_clf.fit(Train_X, Train_Y)\n",
        "print(lda_clf)\n",
        "pred = lda_clf.predict(Test_X)\n",
        "pred_prob = lda_clf.predict_proba(Test_X)\n",
        "Classification_Summary(pred,pred_prob,1)"
      ]
    },
    {
      "cell_type": "code",
      "execution_count": null,
      "id": "MPJg46tvOIF_",
      "metadata": {
        "gradient": {
          "editing": false,
          "id": "MPJg46tvOIF_",
          "kernelId": "d1bfc924-61a6-48a4-b370-40dbb13a3636"
        },
        "id": "MPJg46tvOIF_",
        "outputId": "8ae9f2f2-bd5b-4e9c-fd83-0572e04ee3d6"
      },
      "outputs": [
        {
          "data": {
            "text/plain": [
              "{'tfidf__max_features': 3000}"
            ]
          },
          "execution_count": 23,
          "metadata": {},
          "output_type": "execute_result"
        }
      ],
      "source": [
        "lda_clf.best_params_"
      ]
    },
    {
      "cell_type": "code",
      "execution_count": null,
      "id": "79ae1f62-3ea2-400e-af4f-ca864c65589e",
      "metadata": {
        "gradient": {
          "editing": false,
          "id": "79ae1f62-3ea2-400e-af4f-ca864c65589e",
          "kernelId": "d1bfc924-61a6-48a4-b370-40dbb13a3636",
          "source_hidden": false
        },
        "jupyter": {
          "outputs_hidden": false
        },
        "id": "79ae1f62-3ea2-400e-af4f-ca864c65589e"
      },
      "outputs": [],
      "source": [
        "parameters = {\n",
        "    'tfidf__max_features': (6000, 7000)\n",
        "}\n",
        "\n",
        "lda_clf = GridSearchCV(LDA_clf, parameters, cv=5)"
      ]
    },
    {
      "cell_type": "code",
      "execution_count": null,
      "id": "bca4b3ac-845c-4805-b9f7-3dfa15a3b88b",
      "metadata": {
        "gradient": {
          "editing": false,
          "id": "bca4b3ac-845c-4805-b9f7-3dfa15a3b88b",
          "kernelId": "d1bfc924-61a6-48a4-b370-40dbb13a3636",
          "source_hidden": false
        },
        "jupyter": {
          "outputs_hidden": false
        },
        "id": "bca4b3ac-845c-4805-b9f7-3dfa15a3b88b",
        "outputId": "ac603eb6-ef8d-4d44-9303-9eaf9f5d21a7"
      },
      "outputs": [
        {
          "name": "stdout",
          "output_type": "stream",
          "text": [
            "GridSearchCV(cv=5,\n",
            "             estimator=Pipeline(steps=[('tfidf',\n",
            "                                        TfidfVectorizer(ngram_range=(1, 2),\n",
            "                                                        use_idf=False)),\n",
            "                                       ('to_dense',\n",
            "                                        <__main__.DenseTransformer object at 0x7faaafb3e630>),\n",
            "                                       ('clf', LinearDiscriminantAnalysis())]),\n",
            "             param_grid={'tfidf__max_features': (6000, 7000)})\n",
            "<<<-----------------------------------\u001b[1m Evaluating Linear Discriminant Analysis (LDA) \u001b[0m----------------------------------->>>\n",
            "\n",
            "Accuracy = 86.9%\n",
            "F1 Score = 86.6%\n",
            "\n",
            " \u001b[1mConfusiton Matrix:\u001b[0m\n",
            " [[3524  560]\n",
            " [ 484 3377]]\n",
            "\n",
            "\u001b[1mClassification Report:\u001b[0m\n",
            "               precision    recall  f1-score   support\n",
            "\n",
            "           0       0.88      0.86      0.87      4084\n",
            "           1       0.86      0.87      0.87      3861\n",
            "\n",
            "    accuracy                           0.87      7945\n",
            "   macro avg       0.87      0.87      0.87      7945\n",
            "weighted avg       0.87      0.87      0.87      7945\n",
            "\n"
          ]
        },
        {
          "data": {
            "image/png": "[encoded data removed]",
            "text/plain": [
              "<Figure size 720x432 with 1 Axes>"
            ]
          },
          "metadata": {
            "needs_background": "light"
          },
          "output_type": "display_data"
        }
      ],
      "source": [
        "lda_clf = lda_clf.fit(Train_X, Train_Y)\n",
        "print(lda_clf)\n",
        "pred = lda_clf.predict(Test_X)\n",
        "pred_prob = lda_clf.predict_proba(Test_X)\n",
        "Classification_Summary(pred,pred_prob,1)"
      ]
    },
    {
      "cell_type": "code",
      "execution_count": null,
      "id": "5fb665cb-0a2a-4725-b90d-1f844261d4ec",
      "metadata": {
        "gradient": {
          "editing": false,
          "id": "5fb665cb-0a2a-4725-b90d-1f844261d4ec",
          "kernelId": "d1bfc924-61a6-48a4-b370-40dbb13a3636",
          "source_hidden": false
        },
        "jupyter": {
          "outputs_hidden": false
        },
        "id": "5fb665cb-0a2a-4725-b90d-1f844261d4ec",
        "outputId": "e3a784a3-d2dd-4f5c-c5b5-2da8631c4529"
      },
      "outputs": [
        {
          "data": {
            "text/plain": [
              "{'tfidf__max_features': 6000}"
            ]
          },
          "execution_count": 35,
          "metadata": {},
          "output_type": "execute_result"
        }
      ],
      "source": [
        "lda_clf.best_params_"
      ]
    },
    {
      "cell_type": "code",
      "execution_count": null,
      "id": "F_OdjvX6zGBl",
      "metadata": {
        "colab": {
          "base_uri": "https://localhost:8080/",
          "height": 378
        },
        "gradient": {
          "editing": false,
          "id": "F_OdjvX6zGBl",
          "kernelId": "d1bfc924-61a6-48a4-b370-40dbb13a3636"
        },
        "id": "F_OdjvX6zGBl",
        "outputId": "0d64b677-f4e0-4029-e137-4d1426d7cdf2"
      },
      "outputs": [
        {
          "data": {
            "image/png": "[encoded data removed]",
            "text/plain": [
              "<Figure size 720x432 with 2 Axes>"
            ]
          },
          "metadata": {
            "needs_background": "light"
          },
          "output_type": "display_data"
        }
      ],
      "source": [
        "#Comparing all the models Scores\n",
        "\n",
        "sns.heatmap(metrics, annot=True, vmin=60, vmax=100.0, cmap='YlGnBu', fmt='.1f')\n",
        "plt.show()"
      ]
    },
    {
      "cell_type": "markdown",
      "id": "7ed21714",
      "metadata": {
        "gradient": {
          "editing": false,
          "id": "7ed21714",
          "kernelId": "d1bfc924-61a6-48a4-b370-40dbb13a3636"
        },
        "id": "7ed21714"
      },
      "source": [
        "## Conclusion :"
      ]
    },
    {
      "cell_type": "markdown",
      "id": "dc38b2de",
      "metadata": {
        "gradient": {
          "editing": false,
          "id": "dc38b2de",
          "kernelId": "d1bfc924-61a6-48a4-b370-40dbb13a3636"
        },
        "id": "dc38b2de"
      },
      "source": [
        "Through this experiment, I understood that the dataset is balanced by visualising the distribution of the target variable and gained various insights like the frequent words and average length belonging to them. Further more, I applied Naive Bayes and Linear Discriminant Analysis which on further fine-tuning gave 89% and 87% accuracy respectively. I also understood the difference between PCA and LDA such that PCA accounts for the most variance in the data while LDA accounts for the most variance between classes. LDA being a supervised learning method was able reduce the dimensionality of the input by projecting it to the most discriminative directions and hence we were able to the predict the reviews as positive or negative."
      ]
    },
    {
      "cell_type": "markdown",
      "id": "P-wrTRfwFvWp",
      "metadata": {
        "gradient": {
          "editing": false,
          "id": "P-wrTRfwFvWp",
          "kernelId": "d1bfc924-61a6-48a4-b370-40dbb13a3636"
        },
        "id": "P-wrTRfwFvWp"
      },
      "source": [
        "**References** -\n",
        "\n",
        "1. https://scikit-learn.org/stable/tutorial/text_analytics/working_with_text_data.html#tutorial-setup\n",
        "2. https://scikit-learn.org/stable/auto_examples/neighbors/plot_nca_dim_reduction.html?highlight=lda\n",
        "3. https://www.geeksforgeeks.org/python-stemming-words-with-nltk/\n",
        "4. https://scikit-learn.org/stable/auto_examples/model_selection/grid_search_text_feature_extraction.html\n",
        "5. https://scikit-learn.org/stable/modules/generated/sklearn.feature_extraction.text.TfidfVectorizer.html\n",
        "6. https://scikit-learn.org/stable/modules/generated/sklearn.discriminant_analysis.LinearDiscriminantAnalysis.html"
      ]
    }
  ],
  "metadata": {
    "colab": {
      "collapsed_sections": [],
      "name": "Exp3.ipynb",
      "provenance": [],
      "include_colab_link": true
    },
    "kernelspec": {
      "display_name": "Python 3",
      "language": "python",
      "name": "python3"
    },
    "language_info": {
      "codemirror_mode": {
        "name": "ipython",
        "version": 3
      },
      "file_extension": ".py",
      "mimetype": "text/x-python",
      "name": "python",
      "nbconvert_exporter": "python",
      "pygments_lexer": "ipython3",
      "version": "3.6.9"
    },
    "papermill": {
      "default_parameters": {},
      "duration": 1957.223262,
      "end_time": "2022-01-21T16:07:22.648596",
      "environment_variables": {},
      "exception": null,
      "input_path": "__notebook__.ipynb",
      "output_path": "__notebook__.ipynb",
      "parameters": {},
      "start_time": "2022-01-21T15:34:45.425334",
      "version": "2.3.3"
    }
  },
  "nbformat": 4,
  "nbformat_minor": 5
}
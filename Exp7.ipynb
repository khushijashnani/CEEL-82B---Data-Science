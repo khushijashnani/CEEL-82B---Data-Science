{
  "nbformat": 4,
  "nbformat_minor": 0,
  "metadata": {
    "colab": {
      "name": "Exp7.ipynb",
      "provenance": [],
      "collapsed_sections": []
    },
    "kernelspec": {
      "name": "python3",
      "display_name": "Python 3"
    },
    "language_info": {
      "name": "python"
    }
  },
  "cells": [
    {
      "cell_type": "markdown",
      "source": [
        "###**Data Science - Experiment 7**\n",
        "\n",
        "Name - Khushi Jashnani\n",
        "\n",
        "UID - 2018130017"
      ],
      "metadata": {
        "id": "_TtYomzrEGm4"
      }
    },
    {
      "cell_type": "markdown",
      "source": [
        "###**Objective**: \n",
        "\n",
        "Separating Spam From Ham using Text Analysis\n",
        "\n",
        "\n",
        "#### **Case study** : \n",
        "\n",
        "Using a emails dataset to identify whether an email is spam or not.\n"
      ],
      "metadata": {
        "id": "MpUWoaupEE3D"
      }
    },
    {
      "cell_type": "code",
      "source": [
        "!pip install scikit-plot"
      ],
      "metadata": {
        "colab": {
          "base_uri": "https://localhost:8080/"
        },
        "id": "9cNesbBzfFUY",
        "outputId": "3c0e45c1-a5ab-4bbb-8b15-91d8ed2a1cf6"
      },
      "execution_count": null,
      "outputs": [
        {
          "output_type": "stream",
          "name": "stdout",
          "text": [
            "Collecting scikit-plot\n",
            "  Downloading scikit_plot-0.3.7-py3-none-any.whl (33 kB)\n",
            "Requirement already satisfied: matplotlib>=1.4.0 in /usr/local/lib/python3.7/dist-packages (from scikit-plot) (3.2.2)\n",
            "Requirement already satisfied: joblib>=0.10 in /usr/local/lib/python3.7/dist-packages (from scikit-plot) (1.1.0)\n",
            "Requirement already satisfied: scipy>=0.9 in /usr/local/lib/python3.7/dist-packages (from scikit-plot) (1.4.1)\n",
            "Requirement already satisfied: scikit-learn>=0.18 in /usr/local/lib/python3.7/dist-packages (from scikit-plot) (1.0.2)\n",
            "Requirement already satisfied: numpy>=1.11 in /usr/local/lib/python3.7/dist-packages (from matplotlib>=1.4.0->scikit-plot) (1.21.5)\n",
            "Requirement already satisfied: cycler>=0.10 in /usr/local/lib/python3.7/dist-packages (from matplotlib>=1.4.0->scikit-plot) (0.11.0)\n",
            "Requirement already satisfied: kiwisolver>=1.0.1 in /usr/local/lib/python3.7/dist-packages (from matplotlib>=1.4.0->scikit-plot) (1.4.0)\n",
            "Requirement already satisfied: pyparsing!=2.0.4,!=2.1.2,!=2.1.6,>=2.0.1 in /usr/local/lib/python3.7/dist-packages (from matplotlib>=1.4.0->scikit-plot) (3.0.7)\n",
            "Requirement already satisfied: python-dateutil>=2.1 in /usr/local/lib/python3.7/dist-packages (from matplotlib>=1.4.0->scikit-plot) (2.8.2)\n",
            "Requirement already satisfied: typing-extensions in /usr/local/lib/python3.7/dist-packages (from kiwisolver>=1.0.1->matplotlib>=1.4.0->scikit-plot) (3.10.0.2)\n",
            "Requirement already satisfied: six>=1.5 in /usr/local/lib/python3.7/dist-packages (from python-dateutil>=2.1->matplotlib>=1.4.0->scikit-plot) (1.15.0)\n",
            "Requirement already satisfied: threadpoolctl>=2.0.0 in /usr/local/lib/python3.7/dist-packages (from scikit-learn>=0.18->scikit-plot) (3.1.0)\n",
            "Installing collected packages: scikit-plot\n",
            "Successfully installed scikit-plot-0.3.7\n"
          ]
        }
      ]
    },
    {
      "cell_type": "code",
      "execution_count": null,
      "metadata": {
        "id": "9dzwtzfjATCH"
      },
      "outputs": [],
      "source": [
        "# importing the necessary libraries\n",
        "\n",
        "import seaborn as sns\n",
        "from datetime import datetime\n",
        "import numpy as np             #for numerical computations like log,exp,sqrt etc\n",
        "import pandas as pd            #for reading & storing data, pre-processing\n",
        "import matplotlib.pylab as plt #for visualization\n",
        "#for making sure matplotlib plots are generated in Jupyter notebook itself\n",
        "%matplotlib inline \n",
        "\n",
        "from tqdm import tqdm\n",
        "from scipy.stats import randint\n",
        "from nltk.corpus import stopwords\n",
        "from scipy.stats import loguniform\n",
        "\n",
        "from sklearn.decomposition import PCA\n",
        "from nltk.stem.porter import PorterStemmer\n",
        "from sklearn.preprocessing import StandardScaler\n",
        "from sklearn.model_selection import train_test_split\n",
        "\n",
        "from sklearn.pipeline import Pipeline\n",
        "from sklearn.feature_extraction.text import TfidfVectorizer\n",
        "from sklearn.tree import DecisionTreeClassifier\n",
        "from sklearn.tree import plot_tree\n",
        "from sklearn.ensemble import RandomForestClassifier\n",
        "from sklearn.model_selection import GridSearchCV\n",
        "from scikitplot.metrics import plot_roc_curve as auc_roc\n",
        "from sklearn.metrics import accuracy_score, confusion_matrix, classification_report, f1_score, roc_auc_score, roc_curve, precision_score, recall_score\n",
        "from IPython.display import display \n",
        "\n",
        "from sklearn.metrics import mean_absolute_error\n",
        "from matplotlib.pylab import rcParams\n",
        "rcParams['figure.figsize'] = 15, 8"
      ]
    },
    {
      "cell_type": "code",
      "source": [
        "# Connecting/Mounting the drive\n",
        "from google.colab import drive\n",
        "drive.mount('/content/drive')"
      ],
      "metadata": {
        "colab": {
          "base_uri": "https://localhost:8080/"
        },
        "id": "nOvpwpIsLzjA",
        "outputId": "c551f71c-7dee-48b4-a145-b614d1783ffe"
      },
      "execution_count": null,
      "outputs": [
        {
          "output_type": "stream",
          "name": "stdout",
          "text": [
            "Mounted at /content/drive\n"
          ]
        }
      ]
    },
    {
      "cell_type": "code",
      "source": [
        "%cd drive/MyDrive/Colab Notebooks/DS/Labs/Exp7"
      ],
      "metadata": {
        "colab": {
          "base_uri": "https://localhost:8080/"
        },
        "id": "OLrJ-IplMPY-",
        "outputId": "696fd1c5-1d65-40b9-da9b-ae2298163976"
      },
      "execution_count": null,
      "outputs": [
        {
          "output_type": "stream",
          "name": "stdout",
          "text": [
            "/content/drive/MyDrive/Colab Notebooks/DS/Labs/Exp7\n"
          ]
        }
      ]
    },
    {
      "cell_type": "markdown",
      "source": [
        "### **1.1 Load the dataset (Use pandas )**"
      ],
      "metadata": {
        "id": "ttn4wX8PEW7u"
      }
    },
    {
      "cell_type": "code",
      "source": [
        "# Reading the training dataset\n",
        "data = pd.read_csv('emails.csv')\n",
        "data.head()"
      ],
      "metadata": {
        "colab": {
          "base_uri": "https://localhost:8080/",
          "height": 206
        },
        "id": "K5whDMyDL-5v",
        "outputId": "6091691c-c82a-4197-de3c-be561ef435af"
      },
      "execution_count": null,
      "outputs": [
        {
          "output_type": "execute_result",
          "data": {
            "text/plain": [
              "                                                text  spam\n",
              "0  Subject: naturally irresistible your corporate...     1\n",
              "1  Subject: the stock trading gunslinger  fanny i...     1\n",
              "2  Subject: unbelievable new homes made easy  im ...     1\n",
              "3  Subject: 4 color printing special  request add...     1\n",
              "4  Subject: do not have money , get software cds ...     1"
            ],
            "text/html": [
              "\n",
              "  <div id=\"df-785e041e-1c0c-4174-997c-4babe5a68a8f\">\n",
              "    <div class=\"colab-df-container\">\n",
              "      <div>\n",
              "<style scoped>\n",
              "    .dataframe tbody tr th:only-of-type {\n",
              "        vertical-align: middle;\n",
              "    }\n",
              "\n",
              "    .dataframe tbody tr th {\n",
              "        vertical-align: top;\n",
              "    }\n",
              "\n",
              "    .dataframe thead th {\n",
              "        text-align: right;\n",
              "    }\n",
              "</style>\n",
              "<table border=\"1\" class=\"dataframe\">\n",
              "  <thead>\n",
              "    <tr style=\"text-align: right;\">\n",
              "      <th></th>\n",
              "      <th>text</th>\n",
              "      <th>spam</th>\n",
              "    </tr>\n",
              "  </thead>\n",
              "  <tbody>\n",
              "    <tr>\n",
              "      <th>0</th>\n",
              "      <td>Subject: naturally irresistible your corporate...</td>\n",
              "      <td>1</td>\n",
              "    </tr>\n",
              "    <tr>\n",
              "      <th>1</th>\n",
              "      <td>Subject: the stock trading gunslinger  fanny i...</td>\n",
              "      <td>1</td>\n",
              "    </tr>\n",
              "    <tr>\n",
              "      <th>2</th>\n",
              "      <td>Subject: unbelievable new homes made easy  im ...</td>\n",
              "      <td>1</td>\n",
              "    </tr>\n",
              "    <tr>\n",
              "      <th>3</th>\n",
              "      <td>Subject: 4 color printing special  request add...</td>\n",
              "      <td>1</td>\n",
              "    </tr>\n",
              "    <tr>\n",
              "      <th>4</th>\n",
              "      <td>Subject: do not have money , get software cds ...</td>\n",
              "      <td>1</td>\n",
              "    </tr>\n",
              "  </tbody>\n",
              "</table>\n",
              "</div>\n",
              "      <button class=\"colab-df-convert\" onclick=\"convertToInteractive('df-785e041e-1c0c-4174-997c-4babe5a68a8f')\"\n",
              "              title=\"Convert this dataframe to an interactive table.\"\n",
              "              style=\"display:none;\">\n",
              "        \n",
              "  <svg xmlns=\"http://www.w3.org/2000/svg\" height=\"24px\"viewBox=\"0 0 24 24\"\n",
              "       width=\"24px\">\n",
              "    <path d=\"M0 0h24v24H0V0z\" fill=\"none\"/>\n",
              "    <path d=\"M18.56 5.44l.94 2.06.94-2.06 2.06-.94-2.06-.94-.94-2.06-.94 2.06-2.06.94zm-11 1L8.5 8.5l.94-2.06 2.06-.94-2.06-.94L8.5 2.5l-.94 2.06-2.06.94zm10 10l.94 2.06.94-2.06 2.06-.94-2.06-.94-.94-2.06-.94 2.06-2.06.94z\"/><path d=\"M17.41 7.96l-1.37-1.37c-.4-.4-.92-.59-1.43-.59-.52 0-1.04.2-1.43.59L10.3 9.45l-7.72 7.72c-.78.78-.78 2.05 0 2.83L4 21.41c.39.39.9.59 1.41.59.51 0 1.02-.2 1.41-.59l7.78-7.78 2.81-2.81c.8-.78.8-2.07 0-2.86zM5.41 20L4 18.59l7.72-7.72 1.47 1.35L5.41 20z\"/>\n",
              "  </svg>\n",
              "      </button>\n",
              "      \n",
              "  <style>\n",
              "    .colab-df-container {\n",
              "      display:flex;\n",
              "      flex-wrap:wrap;\n",
              "      gap: 12px;\n",
              "    }\n",
              "\n",
              "    .colab-df-convert {\n",
              "      background-color: #E8F0FE;\n",
              "      border: none;\n",
              "      border-radius: 50%;\n",
              "      cursor: pointer;\n",
              "      display: none;\n",
              "      fill: #1967D2;\n",
              "      height: 32px;\n",
              "      padding: 0 0 0 0;\n",
              "      width: 32px;\n",
              "    }\n",
              "\n",
              "    .colab-df-convert:hover {\n",
              "      background-color: #E2EBFA;\n",
              "      box-shadow: 0px 1px 2px rgba(60, 64, 67, 0.3), 0px 1px 3px 1px rgba(60, 64, 67, 0.15);\n",
              "      fill: #174EA6;\n",
              "    }\n",
              "\n",
              "    [theme=dark] .colab-df-convert {\n",
              "      background-color: #3B4455;\n",
              "      fill: #D2E3FC;\n",
              "    }\n",
              "\n",
              "    [theme=dark] .colab-df-convert:hover {\n",
              "      background-color: #434B5C;\n",
              "      box-shadow: 0px 1px 3px 1px rgba(0, 0, 0, 0.15);\n",
              "      filter: drop-shadow(0px 1px 2px rgba(0, 0, 0, 0.3));\n",
              "      fill: #FFFFFF;\n",
              "    }\n",
              "  </style>\n",
              "\n",
              "      <script>\n",
              "        const buttonEl =\n",
              "          document.querySelector('#df-785e041e-1c0c-4174-997c-4babe5a68a8f button.colab-df-convert');\n",
              "        buttonEl.style.display =\n",
              "          google.colab.kernel.accessAllowed ? 'block' : 'none';\n",
              "\n",
              "        async function convertToInteractive(key) {\n",
              "          const element = document.querySelector('#df-785e041e-1c0c-4174-997c-4babe5a68a8f');\n",
              "          const dataTable =\n",
              "            await google.colab.kernel.invokeFunction('convertToInteractive',\n",
              "                                                     [key], {});\n",
              "          if (!dataTable) return;\n",
              "\n",
              "          const docLinkHtml = 'Like what you see? Visit the ' +\n",
              "            '<a target=\"_blank\" href=https://colab.research.google.com/notebooks/data_table.ipynb>data table notebook</a>'\n",
              "            + ' to learn more about interactive tables.';\n",
              "          element.innerHTML = '';\n",
              "          dataTable['output_type'] = 'display_data';\n",
              "          await google.colab.output.renderOutput(dataTable, element);\n",
              "          const docLink = document.createElement('div');\n",
              "          docLink.innerHTML = docLinkHtml;\n",
              "          element.appendChild(docLink);\n",
              "        }\n",
              "      </script>\n",
              "    </div>\n",
              "  </div>\n",
              "  "
            ]
          },
          "metadata": {},
          "execution_count": 5
        }
      ]
    },
    {
      "cell_type": "code",
      "source": [
        "data.tail()"
      ],
      "metadata": {
        "colab": {
          "base_uri": "https://localhost:8080/",
          "height": 206
        },
        "id": "yq6WS8PZctSA",
        "outputId": "bee1b0ec-e42a-4c06-fea6-9249fd38ddd6"
      },
      "execution_count": null,
      "outputs": [
        {
          "output_type": "execute_result",
          "data": {
            "text/plain": [
              "                                                   text  spam\n",
              "5723  Subject: re : research and development charges...     0\n",
              "5724  Subject: re : receipts from visit  jim ,  than...     0\n",
              "5725  Subject: re : enron case study update  wow ! a...     0\n",
              "5726  Subject: re : interest  david ,  please , call...     0\n",
              "5727  Subject: news : aurora 5 . 2 update  aurora ve...     0"
            ],
            "text/html": [
              "\n",
              "  <div id=\"df-27dd669b-d583-4fa3-a92c-7d936e4b83ba\">\n",
              "    <div class=\"colab-df-container\">\n",
              "      <div>\n",
              "<style scoped>\n",
              "    .dataframe tbody tr th:only-of-type {\n",
              "        vertical-align: middle;\n",
              "    }\n",
              "\n",
              "    .dataframe tbody tr th {\n",
              "        vertical-align: top;\n",
              "    }\n",
              "\n",
              "    .dataframe thead th {\n",
              "        text-align: right;\n",
              "    }\n",
              "</style>\n",
              "<table border=\"1\" class=\"dataframe\">\n",
              "  <thead>\n",
              "    <tr style=\"text-align: right;\">\n",
              "      <th></th>\n",
              "      <th>text</th>\n",
              "      <th>spam</th>\n",
              "    </tr>\n",
              "  </thead>\n",
              "  <tbody>\n",
              "    <tr>\n",
              "      <th>5723</th>\n",
              "      <td>Subject: re : research and development charges...</td>\n",
              "      <td>0</td>\n",
              "    </tr>\n",
              "    <tr>\n",
              "      <th>5724</th>\n",
              "      <td>Subject: re : receipts from visit  jim ,  than...</td>\n",
              "      <td>0</td>\n",
              "    </tr>\n",
              "    <tr>\n",
              "      <th>5725</th>\n",
              "      <td>Subject: re : enron case study update  wow ! a...</td>\n",
              "      <td>0</td>\n",
              "    </tr>\n",
              "    <tr>\n",
              "      <th>5726</th>\n",
              "      <td>Subject: re : interest  david ,  please , call...</td>\n",
              "      <td>0</td>\n",
              "    </tr>\n",
              "    <tr>\n",
              "      <th>5727</th>\n",
              "      <td>Subject: news : aurora 5 . 2 update  aurora ve...</td>\n",
              "      <td>0</td>\n",
              "    </tr>\n",
              "  </tbody>\n",
              "</table>\n",
              "</div>\n",
              "      <button class=\"colab-df-convert\" onclick=\"convertToInteractive('df-27dd669b-d583-4fa3-a92c-7d936e4b83ba')\"\n",
              "              title=\"Convert this dataframe to an interactive table.\"\n",
              "              style=\"display:none;\">\n",
              "        \n",
              "  <svg xmlns=\"http://www.w3.org/2000/svg\" height=\"24px\"viewBox=\"0 0 24 24\"\n",
              "       width=\"24px\">\n",
              "    <path d=\"M0 0h24v24H0V0z\" fill=\"none\"/>\n",
              "    <path d=\"M18.56 5.44l.94 2.06.94-2.06 2.06-.94-2.06-.94-.94-2.06-.94 2.06-2.06.94zm-11 1L8.5 8.5l.94-2.06 2.06-.94-2.06-.94L8.5 2.5l-.94 2.06-2.06.94zm10 10l.94 2.06.94-2.06 2.06-.94-2.06-.94-.94-2.06-.94 2.06-2.06.94z\"/><path d=\"M17.41 7.96l-1.37-1.37c-.4-.4-.92-.59-1.43-.59-.52 0-1.04.2-1.43.59L10.3 9.45l-7.72 7.72c-.78.78-.78 2.05 0 2.83L4 21.41c.39.39.9.59 1.41.59.51 0 1.02-.2 1.41-.59l7.78-7.78 2.81-2.81c.8-.78.8-2.07 0-2.86zM5.41 20L4 18.59l7.72-7.72 1.47 1.35L5.41 20z\"/>\n",
              "  </svg>\n",
              "      </button>\n",
              "      \n",
              "  <style>\n",
              "    .colab-df-container {\n",
              "      display:flex;\n",
              "      flex-wrap:wrap;\n",
              "      gap: 12px;\n",
              "    }\n",
              "\n",
              "    .colab-df-convert {\n",
              "      background-color: #E8F0FE;\n",
              "      border: none;\n",
              "      border-radius: 50%;\n",
              "      cursor: pointer;\n",
              "      display: none;\n",
              "      fill: #1967D2;\n",
              "      height: 32px;\n",
              "      padding: 0 0 0 0;\n",
              "      width: 32px;\n",
              "    }\n",
              "\n",
              "    .colab-df-convert:hover {\n",
              "      background-color: #E2EBFA;\n",
              "      box-shadow: 0px 1px 2px rgba(60, 64, 67, 0.3), 0px 1px 3px 1px rgba(60, 64, 67, 0.15);\n",
              "      fill: #174EA6;\n",
              "    }\n",
              "\n",
              "    [theme=dark] .colab-df-convert {\n",
              "      background-color: #3B4455;\n",
              "      fill: #D2E3FC;\n",
              "    }\n",
              "\n",
              "    [theme=dark] .colab-df-convert:hover {\n",
              "      background-color: #434B5C;\n",
              "      box-shadow: 0px 1px 3px 1px rgba(0, 0, 0, 0.15);\n",
              "      filter: drop-shadow(0px 1px 2px rgba(0, 0, 0, 0.3));\n",
              "      fill: #FFFFFF;\n",
              "    }\n",
              "  </style>\n",
              "\n",
              "      <script>\n",
              "        const buttonEl =\n",
              "          document.querySelector('#df-27dd669b-d583-4fa3-a92c-7d936e4b83ba button.colab-df-convert');\n",
              "        buttonEl.style.display =\n",
              "          google.colab.kernel.accessAllowed ? 'block' : 'none';\n",
              "\n",
              "        async function convertToInteractive(key) {\n",
              "          const element = document.querySelector('#df-27dd669b-d583-4fa3-a92c-7d936e4b83ba');\n",
              "          const dataTable =\n",
              "            await google.colab.kernel.invokeFunction('convertToInteractive',\n",
              "                                                     [key], {});\n",
              "          if (!dataTable) return;\n",
              "\n",
              "          const docLinkHtml = 'Like what you see? Visit the ' +\n",
              "            '<a target=\"_blank\" href=https://colab.research.google.com/notebooks/data_table.ipynb>data table notebook</a>'\n",
              "            + ' to learn more about interactive tables.';\n",
              "          element.innerHTML = '';\n",
              "          dataTable['output_type'] = 'display_data';\n",
              "          await google.colab.output.renderOutput(dataTable, element);\n",
              "          const docLink = document.createElement('div');\n",
              "          docLink.innerHTML = docLinkHtml;\n",
              "          element.appendChild(docLink);\n",
              "        }\n",
              "      </script>\n",
              "    </div>\n",
              "  </div>\n",
              "  "
            ]
          },
          "metadata": {},
          "execution_count": 6
        }
      ]
    },
    {
      "cell_type": "markdown",
      "source": [
        "#### **Exploratory Data Analysis of the dataset**"
      ],
      "metadata": {
        "id": "yQFln2RJCF1q"
      }
    },
    {
      "cell_type": "markdown",
      "source": [
        "How many emails are in the dataset?"
      ],
      "metadata": {
        "id": "UQCMJ44_rW3e"
      }
    },
    {
      "cell_type": "code",
      "source": [
        "data.shape"
      ],
      "metadata": {
        "colab": {
          "base_uri": "https://localhost:8080/"
        },
        "id": "YzbwYuYcdz7u",
        "outputId": "6af1d19f-03e8-47a4-d84e-75e298465c81"
      },
      "execution_count": null,
      "outputs": [
        {
          "output_type": "execute_result",
          "data": {
            "text/plain": [
              "(5728, 2)"
            ]
          },
          "metadata": {},
          "execution_count": 7
        }
      ]
    },
    {
      "cell_type": "markdown",
      "source": [
        "**Answer:**  There are 5728 emails present in the dataset."
      ],
      "metadata": {
        "id": "lUl9Prny5XiX"
      }
    },
    {
      "cell_type": "markdown",
      "source": [
        "How many of the emails are spam?\n"
      ],
      "metadata": {
        "id": "D62wKEnbraL9"
      }
    },
    {
      "cell_type": "code",
      "source": [
        "data[data['spam'] == 1]"
      ],
      "metadata": {
        "colab": {
          "base_uri": "https://localhost:8080/",
          "height": 423
        },
        "id": "ud0UZHnbd11s",
        "outputId": "4b90c831-7d6c-428e-8fee-eec39d1873a2"
      },
      "execution_count": null,
      "outputs": [
        {
          "output_type": "execute_result",
          "data": {
            "text/plain": [
              "                                                   text  spam\n",
              "0     Subject: naturally irresistible your corporate...     1\n",
              "1     Subject: the stock trading gunslinger  fanny i...     1\n",
              "2     Subject: unbelievable new homes made easy  im ...     1\n",
              "3     Subject: 4 color printing special  request add...     1\n",
              "4     Subject: do not have money , get software cds ...     1\n",
              "...                                                 ...   ...\n",
              "1363  Subject: are you ready to get it ?  hello !  v...     1\n",
              "1364  Subject: would you like a $ 250 gas card ?  do...     1\n",
              "1365  Subject: immediate reply needed  dear sir ,  i...     1\n",
              "1366  Subject: wanna see me get fisted ?  fist  bang...     1\n",
              "1367  Subject: hot stock info : drgv announces anoth...     1\n",
              "\n",
              "[1368 rows x 2 columns]"
            ],
            "text/html": [
              "\n",
              "  <div id=\"df-d6bacab9-a92c-4d83-b532-1b9be29a1087\">\n",
              "    <div class=\"colab-df-container\">\n",
              "      <div>\n",
              "<style scoped>\n",
              "    .dataframe tbody tr th:only-of-type {\n",
              "        vertical-align: middle;\n",
              "    }\n",
              "\n",
              "    .dataframe tbody tr th {\n",
              "        vertical-align: top;\n",
              "    }\n",
              "\n",
              "    .dataframe thead th {\n",
              "        text-align: right;\n",
              "    }\n",
              "</style>\n",
              "<table border=\"1\" class=\"dataframe\">\n",
              "  <thead>\n",
              "    <tr style=\"text-align: right;\">\n",
              "      <th></th>\n",
              "      <th>text</th>\n",
              "      <th>spam</th>\n",
              "    </tr>\n",
              "  </thead>\n",
              "  <tbody>\n",
              "    <tr>\n",
              "      <th>0</th>\n",
              "      <td>Subject: naturally irresistible your corporate...</td>\n",
              "      <td>1</td>\n",
              "    </tr>\n",
              "    <tr>\n",
              "      <th>1</th>\n",
              "      <td>Subject: the stock trading gunslinger  fanny i...</td>\n",
              "      <td>1</td>\n",
              "    </tr>\n",
              "    <tr>\n",
              "      <th>2</th>\n",
              "      <td>Subject: unbelievable new homes made easy  im ...</td>\n",
              "      <td>1</td>\n",
              "    </tr>\n",
              "    <tr>\n",
              "      <th>3</th>\n",
              "      <td>Subject: 4 color printing special  request add...</td>\n",
              "      <td>1</td>\n",
              "    </tr>\n",
              "    <tr>\n",
              "      <th>4</th>\n",
              "      <td>Subject: do not have money , get software cds ...</td>\n",
              "      <td>1</td>\n",
              "    </tr>\n",
              "    <tr>\n",
              "      <th>...</th>\n",
              "      <td>...</td>\n",
              "      <td>...</td>\n",
              "    </tr>\n",
              "    <tr>\n",
              "      <th>1363</th>\n",
              "      <td>Subject: are you ready to get it ?  hello !  v...</td>\n",
              "      <td>1</td>\n",
              "    </tr>\n",
              "    <tr>\n",
              "      <th>1364</th>\n",
              "      <td>Subject: would you like a $ 250 gas card ?  do...</td>\n",
              "      <td>1</td>\n",
              "    </tr>\n",
              "    <tr>\n",
              "      <th>1365</th>\n",
              "      <td>Subject: immediate reply needed  dear sir ,  i...</td>\n",
              "      <td>1</td>\n",
              "    </tr>\n",
              "    <tr>\n",
              "      <th>1366</th>\n",
              "      <td>Subject: wanna see me get fisted ?  fist  bang...</td>\n",
              "      <td>1</td>\n",
              "    </tr>\n",
              "    <tr>\n",
              "      <th>1367</th>\n",
              "      <td>Subject: hot stock info : drgv announces anoth...</td>\n",
              "      <td>1</td>\n",
              "    </tr>\n",
              "  </tbody>\n",
              "</table>\n",
              "<p>1368 rows × 2 columns</p>\n",
              "</div>\n",
              "      <button class=\"colab-df-convert\" onclick=\"convertToInteractive('df-d6bacab9-a92c-4d83-b532-1b9be29a1087')\"\n",
              "              title=\"Convert this dataframe to an interactive table.\"\n",
              "              style=\"display:none;\">\n",
              "        \n",
              "  <svg xmlns=\"http://www.w3.org/2000/svg\" height=\"24px\"viewBox=\"0 0 24 24\"\n",
              "       width=\"24px\">\n",
              "    <path d=\"M0 0h24v24H0V0z\" fill=\"none\"/>\n",
              "    <path d=\"M18.56 5.44l.94 2.06.94-2.06 2.06-.94-2.06-.94-.94-2.06-.94 2.06-2.06.94zm-11 1L8.5 8.5l.94-2.06 2.06-.94-2.06-.94L8.5 2.5l-.94 2.06-2.06.94zm10 10l.94 2.06.94-2.06 2.06-.94-2.06-.94-.94-2.06-.94 2.06-2.06.94z\"/><path d=\"M17.41 7.96l-1.37-1.37c-.4-.4-.92-.59-1.43-.59-.52 0-1.04.2-1.43.59L10.3 9.45l-7.72 7.72c-.78.78-.78 2.05 0 2.83L4 21.41c.39.39.9.59 1.41.59.51 0 1.02-.2 1.41-.59l7.78-7.78 2.81-2.81c.8-.78.8-2.07 0-2.86zM5.41 20L4 18.59l7.72-7.72 1.47 1.35L5.41 20z\"/>\n",
              "  </svg>\n",
              "      </button>\n",
              "      \n",
              "  <style>\n",
              "    .colab-df-container {\n",
              "      display:flex;\n",
              "      flex-wrap:wrap;\n",
              "      gap: 12px;\n",
              "    }\n",
              "\n",
              "    .colab-df-convert {\n",
              "      background-color: #E8F0FE;\n",
              "      border: none;\n",
              "      border-radius: 50%;\n",
              "      cursor: pointer;\n",
              "      display: none;\n",
              "      fill: #1967D2;\n",
              "      height: 32px;\n",
              "      padding: 0 0 0 0;\n",
              "      width: 32px;\n",
              "    }\n",
              "\n",
              "    .colab-df-convert:hover {\n",
              "      background-color: #E2EBFA;\n",
              "      box-shadow: 0px 1px 2px rgba(60, 64, 67, 0.3), 0px 1px 3px 1px rgba(60, 64, 67, 0.15);\n",
              "      fill: #174EA6;\n",
              "    }\n",
              "\n",
              "    [theme=dark] .colab-df-convert {\n",
              "      background-color: #3B4455;\n",
              "      fill: #D2E3FC;\n",
              "    }\n",
              "\n",
              "    [theme=dark] .colab-df-convert:hover {\n",
              "      background-color: #434B5C;\n",
              "      box-shadow: 0px 1px 3px 1px rgba(0, 0, 0, 0.15);\n",
              "      filter: drop-shadow(0px 1px 2px rgba(0, 0, 0, 0.3));\n",
              "      fill: #FFFFFF;\n",
              "    }\n",
              "  </style>\n",
              "\n",
              "      <script>\n",
              "        const buttonEl =\n",
              "          document.querySelector('#df-d6bacab9-a92c-4d83-b532-1b9be29a1087 button.colab-df-convert');\n",
              "        buttonEl.style.display =\n",
              "          google.colab.kernel.accessAllowed ? 'block' : 'none';\n",
              "\n",
              "        async function convertToInteractive(key) {\n",
              "          const element = document.querySelector('#df-d6bacab9-a92c-4d83-b532-1b9be29a1087');\n",
              "          const dataTable =\n",
              "            await google.colab.kernel.invokeFunction('convertToInteractive',\n",
              "                                                     [key], {});\n",
              "          if (!dataTable) return;\n",
              "\n",
              "          const docLinkHtml = 'Like what you see? Visit the ' +\n",
              "            '<a target=\"_blank\" href=https://colab.research.google.com/notebooks/data_table.ipynb>data table notebook</a>'\n",
              "            + ' to learn more about interactive tables.';\n",
              "          element.innerHTML = '';\n",
              "          dataTable['output_type'] = 'display_data';\n",
              "          await google.colab.output.renderOutput(dataTable, element);\n",
              "          const docLink = document.createElement('div');\n",
              "          docLink.innerHTML = docLinkHtml;\n",
              "          element.appendChild(docLink);\n",
              "        }\n",
              "      </script>\n",
              "    </div>\n",
              "  </div>\n",
              "  "
            ]
          },
          "metadata": {},
          "execution_count": 8
        }
      ]
    },
    {
      "cell_type": "markdown",
      "source": [
        "**Answer:**  There are 1368 spam emails present in the dataset."
      ],
      "metadata": {
        "id": "LPUjYYab5d7Q"
      }
    },
    {
      "cell_type": "markdown",
      "source": [
        "**Question:**\n",
        "\n",
        "Which word appears at the beginning of every email in the dataset?\n",
        "\n",
        "\n",
        "**Answer:** \n",
        "\n",
        "Subject is the word which is in the beginning of every text in the email dataset"
      ],
      "metadata": {
        "id": "S7fKLmiNre7p"
      }
    },
    {
      "cell_type": "markdown",
      "source": [
        "**Question:**\n",
        "\n",
        "Could a spam classifier potentially benefit from including the frequency of the word that appears in every email?\n",
        "\n",
        "**Answer:** \n",
        "\n",
        "Yes - the number of times the word appears might help us differentiate spam from ham."
      ],
      "metadata": {
        "id": "YSD3D4oD4PlE"
      }
    },
    {
      "cell_type": "markdown",
      "source": [
        "**Question:**\n",
        "\n",
        "How many characters are in the longest email in the dataset (where longest is measured in terms of the maximum number of characters)?\n",
        "\n",
        "**Answer:** "
      ],
      "metadata": {
        "id": "phDVtQSI4sbM"
      }
    },
    {
      "cell_type": "code",
      "source": [
        "longest_email_char_count = 0\n",
        "for email in data['text']:\n",
        "    if len(email) > longest_email_char_count:\n",
        "        longest_email_char_count = len(email)\n",
        "\n",
        "print(\"Longest email in the dataset consists of \",longest_email_char_count, \" characters.\")"
      ],
      "metadata": {
        "colab": {
          "base_uri": "https://localhost:8080/"
        },
        "id": "sxNv3G555rGf",
        "outputId": "5e3d1a33-0347-4151-a416-083d8c734e36"
      },
      "execution_count": null,
      "outputs": [
        {
          "output_type": "stream",
          "name": "stdout",
          "text": [
            "Longest email in the dataset consists of  43952  characters.\n"
          ]
        }
      ]
    },
    {
      "cell_type": "code",
      "source": [
        "# Check for null values\n",
        "data.isnull().sum()"
      ],
      "metadata": {
        "colab": {
          "base_uri": "https://localhost:8080/"
        },
        "id": "dtAlMkGt1TrX",
        "outputId": "0636a0bb-94be-4c54-8d51-2007a08a9715"
      },
      "execution_count": null,
      "outputs": [
        {
          "output_type": "execute_result",
          "data": {
            "text/plain": [
              "text    0\n",
              "spam    0\n",
              "dtype: int64"
            ]
          },
          "metadata": {},
          "execution_count": 17
        }
      ]
    },
    {
      "cell_type": "code",
      "source": [
        "# Checking the information of the dataset\n",
        "data.info()"
      ],
      "metadata": {
        "colab": {
          "base_uri": "https://localhost:8080/"
        },
        "id": "QJczT1pHUeuj",
        "outputId": "f386b990-66c7-48a5-a9dc-70438de7fa74"
      },
      "execution_count": null,
      "outputs": [
        {
          "output_type": "stream",
          "name": "stdout",
          "text": [
            "<class 'pandas.core.frame.DataFrame'>\n",
            "RangeIndex: 5728 entries, 0 to 5727\n",
            "Data columns (total 2 columns):\n",
            " #   Column  Non-Null Count  Dtype \n",
            "---  ------  --------------  ----- \n",
            " 0   text    5728 non-null   object\n",
            " 1   spam    5728 non-null   int64 \n",
            "dtypes: int64(1), object(1)\n",
            "memory usage: 89.6+ KB\n"
          ]
        }
      ]
    },
    {
      "cell_type": "code",
      "source": [
        "#Removal of any Duplicate rows (if any)\n",
        "\n",
        "counter = 0\n",
        "r,c = data.shape\n",
        "\n",
        "df1 = data.drop_duplicates()\n",
        "df1.reset_index(drop=True, inplace=True)\n",
        "\n",
        "if df1.shape==(r,c):\n",
        "    print('\\nAnalysis: The dataset doesn\\'t have any duplicates')\n",
        "else:\n",
        "    print(f'\\nAnalysis: Number of duplicates dropped/fixed ---> {r-df1.shape[0]}')"
      ],
      "metadata": {
        "colab": {
          "base_uri": "https://localhost:8080/"
        },
        "id": "FjZl-dcPeNDp",
        "outputId": "a7b5b526-fe4a-476a-f308-9a2dcc120145"
      },
      "execution_count": null,
      "outputs": [
        {
          "output_type": "stream",
          "name": "stdout",
          "text": [
            "\n",
            "Analysis: Number of duplicates dropped/fixed ---> 33\n"
          ]
        }
      ]
    },
    {
      "cell_type": "code",
      "source": [
        "df1.head()"
      ],
      "metadata": {
        "colab": {
          "base_uri": "https://localhost:8080/",
          "height": 206
        },
        "id": "r2T4chHIfa97",
        "outputId": "a41b0294-67ab-4068-e6bd-4b205c22280e"
      },
      "execution_count": null,
      "outputs": [
        {
          "output_type": "execute_result",
          "data": {
            "text/plain": [
              "                                                text  spam\n",
              "0  Subject: naturally irresistible your corporate...     1\n",
              "1  Subject: the stock trading gunslinger  fanny i...     1\n",
              "2  Subject: unbelievable new homes made easy  im ...     1\n",
              "3  Subject: 4 color printing special  request add...     1\n",
              "4  Subject: do not have money , get software cds ...     1"
            ],
            "text/html": [
              "\n",
              "  <div id=\"df-5ab2a2c5-504f-4dec-aafe-4838f78dfacd\">\n",
              "    <div class=\"colab-df-container\">\n",
              "      <div>\n",
              "<style scoped>\n",
              "    .dataframe tbody tr th:only-of-type {\n",
              "        vertical-align: middle;\n",
              "    }\n",
              "\n",
              "    .dataframe tbody tr th {\n",
              "        vertical-align: top;\n",
              "    }\n",
              "\n",
              "    .dataframe thead th {\n",
              "        text-align: right;\n",
              "    }\n",
              "</style>\n",
              "<table border=\"1\" class=\"dataframe\">\n",
              "  <thead>\n",
              "    <tr style=\"text-align: right;\">\n",
              "      <th></th>\n",
              "      <th>text</th>\n",
              "      <th>spam</th>\n",
              "    </tr>\n",
              "  </thead>\n",
              "  <tbody>\n",
              "    <tr>\n",
              "      <th>0</th>\n",
              "      <td>Subject: naturally irresistible your corporate...</td>\n",
              "      <td>1</td>\n",
              "    </tr>\n",
              "    <tr>\n",
              "      <th>1</th>\n",
              "      <td>Subject: the stock trading gunslinger  fanny i...</td>\n",
              "      <td>1</td>\n",
              "    </tr>\n",
              "    <tr>\n",
              "      <th>2</th>\n",
              "      <td>Subject: unbelievable new homes made easy  im ...</td>\n",
              "      <td>1</td>\n",
              "    </tr>\n",
              "    <tr>\n",
              "      <th>3</th>\n",
              "      <td>Subject: 4 color printing special  request add...</td>\n",
              "      <td>1</td>\n",
              "    </tr>\n",
              "    <tr>\n",
              "      <th>4</th>\n",
              "      <td>Subject: do not have money , get software cds ...</td>\n",
              "      <td>1</td>\n",
              "    </tr>\n",
              "  </tbody>\n",
              "</table>\n",
              "</div>\n",
              "      <button class=\"colab-df-convert\" onclick=\"convertToInteractive('df-5ab2a2c5-504f-4dec-aafe-4838f78dfacd')\"\n",
              "              title=\"Convert this dataframe to an interactive table.\"\n",
              "              style=\"display:none;\">\n",
              "        \n",
              "  <svg xmlns=\"http://www.w3.org/2000/svg\" height=\"24px\"viewBox=\"0 0 24 24\"\n",
              "       width=\"24px\">\n",
              "    <path d=\"M0 0h24v24H0V0z\" fill=\"none\"/>\n",
              "    <path d=\"M18.56 5.44l.94 2.06.94-2.06 2.06-.94-2.06-.94-.94-2.06-.94 2.06-2.06.94zm-11 1L8.5 8.5l.94-2.06 2.06-.94-2.06-.94L8.5 2.5l-.94 2.06-2.06.94zm10 10l.94 2.06.94-2.06 2.06-.94-2.06-.94-.94-2.06-.94 2.06-2.06.94z\"/><path d=\"M17.41 7.96l-1.37-1.37c-.4-.4-.92-.59-1.43-.59-.52 0-1.04.2-1.43.59L10.3 9.45l-7.72 7.72c-.78.78-.78 2.05 0 2.83L4 21.41c.39.39.9.59 1.41.59.51 0 1.02-.2 1.41-.59l7.78-7.78 2.81-2.81c.8-.78.8-2.07 0-2.86zM5.41 20L4 18.59l7.72-7.72 1.47 1.35L5.41 20z\"/>\n",
              "  </svg>\n",
              "      </button>\n",
              "      \n",
              "  <style>\n",
              "    .colab-df-container {\n",
              "      display:flex;\n",
              "      flex-wrap:wrap;\n",
              "      gap: 12px;\n",
              "    }\n",
              "\n",
              "    .colab-df-convert {\n",
              "      background-color: #E8F0FE;\n",
              "      border: none;\n",
              "      border-radius: 50%;\n",
              "      cursor: pointer;\n",
              "      display: none;\n",
              "      fill: #1967D2;\n",
              "      height: 32px;\n",
              "      padding: 0 0 0 0;\n",
              "      width: 32px;\n",
              "    }\n",
              "\n",
              "    .colab-df-convert:hover {\n",
              "      background-color: #E2EBFA;\n",
              "      box-shadow: 0px 1px 2px rgba(60, 64, 67, 0.3), 0px 1px 3px 1px rgba(60, 64, 67, 0.15);\n",
              "      fill: #174EA6;\n",
              "    }\n",
              "\n",
              "    [theme=dark] .colab-df-convert {\n",
              "      background-color: #3B4455;\n",
              "      fill: #D2E3FC;\n",
              "    }\n",
              "\n",
              "    [theme=dark] .colab-df-convert:hover {\n",
              "      background-color: #434B5C;\n",
              "      box-shadow: 0px 1px 3px 1px rgba(0, 0, 0, 0.15);\n",
              "      filter: drop-shadow(0px 1px 2px rgba(0, 0, 0, 0.3));\n",
              "      fill: #FFFFFF;\n",
              "    }\n",
              "  </style>\n",
              "\n",
              "      <script>\n",
              "        const buttonEl =\n",
              "          document.querySelector('#df-5ab2a2c5-504f-4dec-aafe-4838f78dfacd button.colab-df-convert');\n",
              "        buttonEl.style.display =\n",
              "          google.colab.kernel.accessAllowed ? 'block' : 'none';\n",
              "\n",
              "        async function convertToInteractive(key) {\n",
              "          const element = document.querySelector('#df-5ab2a2c5-504f-4dec-aafe-4838f78dfacd');\n",
              "          const dataTable =\n",
              "            await google.colab.kernel.invokeFunction('convertToInteractive',\n",
              "                                                     [key], {});\n",
              "          if (!dataTable) return;\n",
              "\n",
              "          const docLinkHtml = 'Like what you see? Visit the ' +\n",
              "            '<a target=\"_blank\" href=https://colab.research.google.com/notebooks/data_table.ipynb>data table notebook</a>'\n",
              "            + ' to learn more about interactive tables.';\n",
              "          element.innerHTML = '';\n",
              "          dataTable['output_type'] = 'display_data';\n",
              "          await google.colab.output.renderOutput(dataTable, element);\n",
              "          const docLink = document.createElement('div');\n",
              "          docLink.innerHTML = docLinkHtml;\n",
              "          element.appendChild(docLink);\n",
              "        }\n",
              "      </script>\n",
              "    </div>\n",
              "  </div>\n",
              "  "
            ]
          },
          "metadata": {},
          "execution_count": 109
        }
      ]
    },
    {
      "cell_type": "markdown",
      "source": [
        "### **2.1 -Preparing the Corpus**"
      ],
      "metadata": {
        "id": "uvI07MGw642F"
      }
    },
    {
      "cell_type": "code",
      "source": [
        "stopWords = [\"i\", \"me\", \"my\", \"myself\", \"we\", \"our\", \"ours\", \"ourselves\", \"you\", \"your\", \"yours\", \"yourself\", \"yourselves\", \"he\", \"him\", \"his\", \"himself\", \"she\", \"her\", \"hers\", \"herself\", \"it\", \"its\", \"itself\", \"they\", \"them\", \"their\", \"theirs\", \"themselves\", \"what\", \"which\", \"who\", \"whom\", \"this\", \"that\", \"these\", \"those\", \"am\", \"is\", \"are\", \"was\", \"were\", \"be\", \"been\", \"being\", \"have\", \"has\", \"had\", \"having\", \"do\", \"does\", \"did\", \"doing\", \"would\", \"should\", \"could\", \"ought\", \"i'm\", \"you're\", \"he's\", \"she's\", \"it's\", \"we're\", \"they're\", \"i've\", \"you've\", \"we've\", \"they've\", \"i'd\", \"you'd\", \"he'd\", \"she'd\", \"we'd\", \"they'd\", \"i'll\", \"you'll\", \"he'll\", \"she'll\", \"we'll\", \"they'll\", \"isn't\", \"aren't\", \"wasn't\", \"weren't\", \"hasn't\", \"haven't\", \"hadn't\", \"doesn't\", \"don't\", \"didn't\", \"won't\", \"wouldn't\", \"shan't\", \"shouldn't\", \"can't\", \"cannot\", \"couldn't\", \"mustn't\", \"let's\", \"that's\", \"who's\", \"what's\", \"here's\", \"there's\", \"when's\", \"where's\", \"why's\", \"how's\", \"a\", \"an\", \"the\", \"and\", \"but\", \"if\", \"or\", \"because\", \"as\", \"until\", \"while\", \"of\", \"at\", \"by\", \"for\", \"with\", \"about\", \"against\", \"between\", \"into\", \"through\", \"during\", \"before\", \"after\", \"above\", \"below\", \"to\", \"from\", \"up\", \"down\", \"in\", \"out\", \"on\", \"off\", \"over\", \"under\", \"again\", \"further\", \"then\", \"once\", \"here\", \"there\", \"when\", \"where\", \"why\", \"how\", \"all\", \"any\", \"both\", \"each\", \"few\", \"more\", \"most\", \"other\", \"some\", \"such\", \"no\", \"nor\", \"not\", \"only\", \"own\", \"same\", \"so\", \"than\", \"too\", \"very\"]"
      ],
      "metadata": {
        "id": "5JvaQUpkfqNH"
      },
      "execution_count": null,
      "outputs": []
    },
    {
      "cell_type": "code",
      "source": [
        "len(stopWords)"
      ],
      "metadata": {
        "colab": {
          "base_uri": "https://localhost:8080/"
        },
        "id": "KlRmqa2njs9H",
        "outputId": "756d887d-6c0d-4174-fe52-cceac2a5fbeb"
      },
      "execution_count": null,
      "outputs": [
        {
          "output_type": "execute_result",
          "data": {
            "text/plain": [
              "174"
            ]
          },
          "metadata": {},
          "execution_count": 23
        }
      ]
    },
    {
      "cell_type": "code",
      "source": [
        "!pip install nltk"
      ],
      "metadata": {
        "colab": {
          "base_uri": "https://localhost:8080/"
        },
        "id": "oxeZcclZgJpX",
        "outputId": "71e66136-8b4f-40ca-e07b-1c24735e5f80"
      },
      "execution_count": null,
      "outputs": [
        {
          "output_type": "stream",
          "name": "stdout",
          "text": [
            "Requirement already satisfied: nltk in /usr/local/lib/python3.7/dist-packages (3.2.5)\n",
            "Requirement already satisfied: six in /usr/local/lib/python3.7/dist-packages (from nltk) (1.15.0)\n"
          ]
        }
      ]
    },
    {
      "cell_type": "code",
      "source": [
        "#Filtering the text/ Text Preprocessing\n",
        "import string\n",
        "from nltk.stem.porter import PorterStemmer\n",
        "\n",
        "corpus = df1.copy()\n",
        "\n",
        "def preprocessor(i, text):\n",
        "    \n",
        "    text = text.lower()\n",
        "    if i == corpus.shape[0] - 1:\n",
        "        print(\"\\nFor example :\\n\")\n",
        "        print(text+\"\\n\")\n",
        "    # Converting the text into lowercase \n",
        "    text = ''.join([i for i in text if i in string.ascii_lowercase+' '])\n",
        "    if i == corpus.shape[0] - 1:\n",
        "        print(text+\"\\n\")\n",
        "    # Removal of punctuations from the corpus\n",
        "    text = ' '.join([word for word in text.split() if word not in string.punctuation])\n",
        "    if i == corpus.shape[0] - 1:\n",
        "        print(text+\"\\n\")\n",
        "    # Removal of stop words from the text\n",
        "    text = ' '.join([word for word in text.split() if word not in stopWords])\n",
        "    # Converting every word in the text into it's root word\n",
        "    text = ' '.join([PorterStemmer().stem(word) for word in text.split()])\n",
        "    if i == corpus.shape[0] - 1:\n",
        "        print(text+\"\\n\")\n",
        "    if i == corpus.shape[0] - 1:\n",
        "        print(text+\"\\n\")\n",
        "    i = i + 1\n",
        "    return text\n",
        "\n",
        "for i in tqdm(range(corpus.shape[0])):\n",
        "    corpus.loc[i,'text'] = preprocessor(i, corpus['text'][i])\n",
        "\n",
        "corpus.head()"
      ],
      "metadata": {
        "colab": {
          "base_uri": "https://localhost:8080/"
        },
        "id": "-ea9cuBHfqHI",
        "outputId": "9c9f1820-623e-458c-80e8-32d491334c01"
      },
      "execution_count": null,
      "outputs": [
        {
          "output_type": "stream",
          "name": "stderr",
          "text": [
            "100%|██████████| 5695/5695 [00:59<00:00, 96.07it/s] "
          ]
        },
        {
          "output_type": "stream",
          "name": "stdout",
          "text": [
            "\n",
            "For example :\n",
            "\n",
            "subject: news : aurora 5 . 2 update  aurora version 5 . 2  - the fastest model just got faster -  epis announces the release of aurora , version 5 . 2  aurora the electric market price forecasting tool is already  legendary for power and speed . we ' ve combined a powerful chronological  dispatch model with the capability to simulate the market from 1  day to 25 + years . add to that a risk analysis section , powered by user  selectable monte carlo & / or latin hypercube modeling , enough  portfolio analysis power to please the toughest critic , & inputs and  outputs from standard excel & access tables and you ' ve got one of most  powerful tools in the market .  just a few months ago we expanded our emissions modeling  capabilities , added our quarterly database update , increased the speed  of the entire model , and made  but that wasn ' t enough .  we ' ve done it again . some of the operations that we ' ve  included . . .  two new reporting enhancements .  the first is marginal reporting  for fuels , resources and groups of resources .  the second is the ability to  display resource stack information in graphical and dispatch order form .  other enhancements include dual fuel modeling , improved  transmission modeling , greater access to hourly results , and the ability  to model monthly emission rates . moreover , the databases for  central and eastern , texas , and western markets have been updated to use  the new modeling capabilities .  we continue to make aurora easier to use . this version enhances  user control over modeling , editing inputs , and viewing of aurora  output . clients desiring to exploit the power of aurora now have  greater control over the inputs and outputs through vb scripting in  aurora . the new \" update data \" capability provides a means to  universally change any data element .  attached is more information on the fastest and most flexible  tool of its kind .  for additional information , please visit our website ( www . epis . com ) or  contact our sales department at ( 503 ) 722 - 2023 . ask about our special  7 - day demo !  v . todd wheeler  sales manager  epis , inc .  ( 503 ) 722 - 2023 tel .  ( 503 ) 722 - 7130 fax  www . epis . com  todd @ epis . com  > >  - what ' s new - version 5 . 2 information . doc  - technical information aurora v 5 - 2 . doc\n",
            "\n",
            "subject news  aurora    update  aurora version      the fastest model just got faster   epis announces the release of aurora  version     aurora the electric market price forecasting tool is already  legendary for power and speed  we  ve combined a powerful chronological  dispatch model with the capability to simulate the market from   day to   years  add to that a risk analysis section  powered by user  selectable monte carlo   or latin hypercube modeling  enough  portfolio analysis power to please the toughest critic   inputs and  outputs from standard excel  access tables and you  ve got one of most  powerful tools in the market   just a few months ago we expanded our emissions modeling  capabilities  added our quarterly database update  increased the speed  of the entire model  and made  but that wasn  t enough   we  ve done it again  some of the operations that we  ve  included     two new reporting enhancements   the first is marginal reporting  for fuels  resources and groups of resources   the second is the ability to  display resource stack information in graphical and dispatch order form   other enhancements include dual fuel modeling  improved  transmission modeling  greater access to hourly results  and the ability  to model monthly emission rates  moreover  the databases for  central and eastern  texas  and western markets have been updated to use  the new modeling capabilities   we continue to make aurora easier to use  this version enhances  user control over modeling  editing inputs  and viewing of aurora  output  clients desiring to exploit the power of aurora now have  greater control over the inputs and outputs through vb scripting in  aurora  the new  update data  capability provides a means to  universally change any data element   attached is more information on the fastest and most flexible  tool of its kind   for additional information  please visit our website  www  epis  com  or  contact our sales department at        ask about our special    day demo   v  todd wheeler  sales manager  epis  inc         tel         fax  www  epis  com  todd  epis  com      what  s new  version    information  doc   technical information aurora v     doc\n",
            "\n",
            "subject news aurora update aurora version the fastest model just got faster epis announces the release of aurora version aurora the electric market price forecasting tool is already legendary for power and speed we ve combined a powerful chronological dispatch model with the capability to simulate the market from day to years add to that a risk analysis section powered by user selectable monte carlo or latin hypercube modeling enough portfolio analysis power to please the toughest critic inputs and outputs from standard excel access tables and you ve got one of most powerful tools in the market just a few months ago we expanded our emissions modeling capabilities added our quarterly database update increased the speed of the entire model and made but that wasn t enough we ve done it again some of the operations that we ve included two new reporting enhancements the first is marginal reporting for fuels resources and groups of resources the second is the ability to display resource stack information in graphical and dispatch order form other enhancements include dual fuel modeling improved transmission modeling greater access to hourly results and the ability to model monthly emission rates moreover the databases for central and eastern texas and western markets have been updated to use the new modeling capabilities we continue to make aurora easier to use this version enhances user control over modeling editing inputs and viewing of aurora output clients desiring to exploit the power of aurora now have greater control over the inputs and outputs through vb scripting in aurora the new update data capability provides a means to universally change any data element attached is more information on the fastest and most flexible tool of its kind for additional information please visit our website www epis com or contact our sales department at ask about our special day demo v todd wheeler sales manager epis inc tel fax www epis com todd epis com what s new version information doc technical information aurora v doc\n",
            "\n",
            "subject news aurora updat aurora version fastest model just got faster epi announc releas aurora version aurora electr market price forecast tool alreadi legendari power speed ve combin power chronolog dispatch model capabl simul market day year add risk analysi section power user select mont carlo latin hypercub model enough portfolio analysi power pleas toughest critic input output standard excel access tabl ve got one power tool market just month ago expand emiss model capabl ad quarterli databas updat increas speed entir model made wasn t enough ve done oper ve includ two new report enhanc first margin report fuel resourc group resourc second abil display resourc stack inform graphic dispatch order form enhanc includ dual fuel model improv transmiss model greater access hourli result abil model monthli emiss rate moreov databas central eastern texa western market updat use new model capabl continu make aurora easier use version enhanc user control model edit input view aurora output client desir exploit power aurora now greater control input output vb script aurora new updat data capabl provid mean univers chang data element attach inform fastest flexibl tool kind addit inform pleas visit websit www epi com contact sale depart ask special day demo v todd wheeler sale manag epi inc tel fax www epi com todd epi com s new version inform doc technic inform aurora v doc\n",
            "\n",
            "subject news aurora updat aurora version fastest model just got faster epi announc releas aurora version aurora electr market price forecast tool alreadi legendari power speed ve combin power chronolog dispatch model capabl simul market day year add risk analysi section power user select mont carlo latin hypercub model enough portfolio analysi power pleas toughest critic input output standard excel access tabl ve got one power tool market just month ago expand emiss model capabl ad quarterli databas updat increas speed entir model made wasn t enough ve done oper ve includ two new report enhanc first margin report fuel resourc group resourc second abil display resourc stack inform graphic dispatch order form enhanc includ dual fuel model improv transmiss model greater access hourli result abil model monthli emiss rate moreov databas central eastern texa western market updat use new model capabl continu make aurora easier use version enhanc user control model edit input view aurora output client desir exploit power aurora now greater control input output vb script aurora new updat data capabl provid mean univers chang data element attach inform fastest flexibl tool kind addit inform pleas visit websit www epi com contact sale depart ask special day demo v todd wheeler sale manag epi inc tel fax www epi com todd epi com s new version inform doc technic inform aurora v doc\n",
            "\n"
          ]
        },
        {
          "output_type": "stream",
          "name": "stderr",
          "text": [
            "\n"
          ]
        },
        {
          "output_type": "execute_result",
          "data": {
            "text/plain": [
              "                                                text  spam\n",
              "0  subject natur irresist corpor ident lt realli ...     1\n",
              "1  subject stock trade gunsling fanni merril muzo...     1\n",
              "2  subject unbeliev new home made easi im want sh...     1\n",
              "3  subject color print special request addit info...     1\n",
              "4  subject money get softwar cd softwar compat ai...     1"
            ],
            "text/html": [
              "\n",
              "  <div id=\"df-8c53fa5e-80f3-4a75-9017-b7b1b4fcbd7f\">\n",
              "    <div class=\"colab-df-container\">\n",
              "      <div>\n",
              "<style scoped>\n",
              "    .dataframe tbody tr th:only-of-type {\n",
              "        vertical-align: middle;\n",
              "    }\n",
              "\n",
              "    .dataframe tbody tr th {\n",
              "        vertical-align: top;\n",
              "    }\n",
              "\n",
              "    .dataframe thead th {\n",
              "        text-align: right;\n",
              "    }\n",
              "</style>\n",
              "<table border=\"1\" class=\"dataframe\">\n",
              "  <thead>\n",
              "    <tr style=\"text-align: right;\">\n",
              "      <th></th>\n",
              "      <th>text</th>\n",
              "      <th>spam</th>\n",
              "    </tr>\n",
              "  </thead>\n",
              "  <tbody>\n",
              "    <tr>\n",
              "      <th>0</th>\n",
              "      <td>subject natur irresist corpor ident lt realli ...</td>\n",
              "      <td>1</td>\n",
              "    </tr>\n",
              "    <tr>\n",
              "      <th>1</th>\n",
              "      <td>subject stock trade gunsling fanni merril muzo...</td>\n",
              "      <td>1</td>\n",
              "    </tr>\n",
              "    <tr>\n",
              "      <th>2</th>\n",
              "      <td>subject unbeliev new home made easi im want sh...</td>\n",
              "      <td>1</td>\n",
              "    </tr>\n",
              "    <tr>\n",
              "      <th>3</th>\n",
              "      <td>subject color print special request addit info...</td>\n",
              "      <td>1</td>\n",
              "    </tr>\n",
              "    <tr>\n",
              "      <th>4</th>\n",
              "      <td>subject money get softwar cd softwar compat ai...</td>\n",
              "      <td>1</td>\n",
              "    </tr>\n",
              "  </tbody>\n",
              "</table>\n",
              "</div>\n",
              "      <button class=\"colab-df-convert\" onclick=\"convertToInteractive('df-8c53fa5e-80f3-4a75-9017-b7b1b4fcbd7f')\"\n",
              "              title=\"Convert this dataframe to an interactive table.\"\n",
              "              style=\"display:none;\">\n",
              "        \n",
              "  <svg xmlns=\"http://www.w3.org/2000/svg\" height=\"24px\"viewBox=\"0 0 24 24\"\n",
              "       width=\"24px\">\n",
              "    <path d=\"M0 0h24v24H0V0z\" fill=\"none\"/>\n",
              "    <path d=\"M18.56 5.44l.94 2.06.94-2.06 2.06-.94-2.06-.94-.94-2.06-.94 2.06-2.06.94zm-11 1L8.5 8.5l.94-2.06 2.06-.94-2.06-.94L8.5 2.5l-.94 2.06-2.06.94zm10 10l.94 2.06.94-2.06 2.06-.94-2.06-.94-.94-2.06-.94 2.06-2.06.94z\"/><path d=\"M17.41 7.96l-1.37-1.37c-.4-.4-.92-.59-1.43-.59-.52 0-1.04.2-1.43.59L10.3 9.45l-7.72 7.72c-.78.78-.78 2.05 0 2.83L4 21.41c.39.39.9.59 1.41.59.51 0 1.02-.2 1.41-.59l7.78-7.78 2.81-2.81c.8-.78.8-2.07 0-2.86zM5.41 20L4 18.59l7.72-7.72 1.47 1.35L5.41 20z\"/>\n",
              "  </svg>\n",
              "      </button>\n",
              "      \n",
              "  <style>\n",
              "    .colab-df-container {\n",
              "      display:flex;\n",
              "      flex-wrap:wrap;\n",
              "      gap: 12px;\n",
              "    }\n",
              "\n",
              "    .colab-df-convert {\n",
              "      background-color: #E8F0FE;\n",
              "      border: none;\n",
              "      border-radius: 50%;\n",
              "      cursor: pointer;\n",
              "      display: none;\n",
              "      fill: #1967D2;\n",
              "      height: 32px;\n",
              "      padding: 0 0 0 0;\n",
              "      width: 32px;\n",
              "    }\n",
              "\n",
              "    .colab-df-convert:hover {\n",
              "      background-color: #E2EBFA;\n",
              "      box-shadow: 0px 1px 2px rgba(60, 64, 67, 0.3), 0px 1px 3px 1px rgba(60, 64, 67, 0.15);\n",
              "      fill: #174EA6;\n",
              "    }\n",
              "\n",
              "    [theme=dark] .colab-df-convert {\n",
              "      background-color: #3B4455;\n",
              "      fill: #D2E3FC;\n",
              "    }\n",
              "\n",
              "    [theme=dark] .colab-df-convert:hover {\n",
              "      background-color: #434B5C;\n",
              "      box-shadow: 0px 1px 3px 1px rgba(0, 0, 0, 0.15);\n",
              "      filter: drop-shadow(0px 1px 2px rgba(0, 0, 0, 0.3));\n",
              "      fill: #FFFFFF;\n",
              "    }\n",
              "  </style>\n",
              "\n",
              "      <script>\n",
              "        const buttonEl =\n",
              "          document.querySelector('#df-8c53fa5e-80f3-4a75-9017-b7b1b4fcbd7f button.colab-df-convert');\n",
              "        buttonEl.style.display =\n",
              "          google.colab.kernel.accessAllowed ? 'block' : 'none';\n",
              "\n",
              "        async function convertToInteractive(key) {\n",
              "          const element = document.querySelector('#df-8c53fa5e-80f3-4a75-9017-b7b1b4fcbd7f');\n",
              "          const dataTable =\n",
              "            await google.colab.kernel.invokeFunction('convertToInteractive',\n",
              "                                                     [key], {});\n",
              "          if (!dataTable) return;\n",
              "\n",
              "          const docLinkHtml = 'Like what you see? Visit the ' +\n",
              "            '<a target=\"_blank\" href=https://colab.research.google.com/notebooks/data_table.ipynb>data table notebook</a>'\n",
              "            + ' to learn more about interactive tables.';\n",
              "          element.innerHTML = '';\n",
              "          dataTable['output_type'] = 'display_data';\n",
              "          await google.colab.output.renderOutput(dataTable, element);\n",
              "          const docLink = document.createElement('div');\n",
              "          docLink.innerHTML = docLinkHtml;\n",
              "          element.appendChild(docLink);\n",
              "        }\n",
              "      </script>\n",
              "    </div>\n",
              "  </div>\n",
              "  "
            ]
          },
          "metadata": {},
          "execution_count": 25
        }
      ]
    },
    {
      "cell_type": "markdown",
      "source": [
        "**After step 1, 2, 3, 4, 5 :**The text is now clean up with the removal of all punctuations, stopwords and then by stemming"
      ],
      "metadata": {
        "id": "TPkwPlMggnss"
      }
    },
    {
      "cell_type": "markdown",
      "source": [
        "#### **A little more EDA**"
      ],
      "metadata": {
        "id": "rnozOocT7tjc"
      }
    },
    {
      "cell_type": "code",
      "source": [
        "corpus['spam'].value_counts()"
      ],
      "metadata": {
        "colab": {
          "base_uri": "https://localhost:8080/"
        },
        "id": "Tov_VDFyhikS",
        "outputId": "80b8eb28-2eb5-4778-c4f3-9b30da5b9150"
      },
      "execution_count": null,
      "outputs": [
        {
          "output_type": "execute_result",
          "data": {
            "text/plain": [
              "0    4327\n",
              "1    1368\n",
              "Name: spam, dtype: int64"
            ]
          },
          "metadata": {},
          "execution_count": 26
        }
      ]
    },
    {
      "cell_type": "code",
      "execution_count": null,
      "metadata": {
        "colab": {
          "base_uri": "https://localhost:8080/"
        },
        "gradient": {
          "editing": false,
          "id": "88817c0f",
          "kernelId": "d1bfc924-61a6-48a4-b370-40dbb13a3636"
        },
        "id": "88817c0f",
        "outputId": "6b4b9ffa-84ee-4e1c-cb84-d86c8915f8c3"
      },
      "outputs": [
        {
          "output_type": "stream",
          "name": "stdout",
          "text": [
            "            \u001b[1mTarget Variable Distribution           \n"
          ]
        },
        {
          "output_type": "stream",
          "name": "stderr",
          "text": [
            "/usr/local/lib/python3.7/dist-packages/matplotlib/backends/backend_agg.py:214: RuntimeWarning: Glyph 27 missing from current font.\n",
            "  font.set_text(s, 0.0, flags=flags)\n",
            "/usr/local/lib/python3.7/dist-packages/matplotlib/backends/backend_agg.py:183: RuntimeWarning: Glyph 27 missing from current font.\n",
            "  font.set_text(s, 0, flags=flags)\n"
          ]
        },
        {
          "output_type": "display_data",
          "data": {
            "text/plain": [
              "<Figure size 1080x576 with 1 Axes>"
            ],
            "image/png": "[encoded data removed]"
          },
          "metadata": {}
        }
      ],
      "source": [
        "#Let us first analyze the distribution of the target variable\n",
        "\n",
        "print('\\033[1mTarget Variable Distribution'.center(55))\n",
        "plt.pie(corpus['spam'].value_counts(), labels=['Ham','Spam'], counterclock=False, shadow=True, \n",
        "        explode=[0,0.1], autopct='%1.1f%%', radius=1, startangle=215)\n",
        "plt.title('\\033[1mTarget Variable Distribution')\n",
        "plt.show()"
      ]
    },
    {
      "cell_type": "markdown",
      "source": [
        "Here we can see that the target column in not balanced. This is the case of imbalanced dataset"
      ],
      "metadata": {
        "id": "EqsjZDpChpJ8"
      }
    },
    {
      "cell_type": "code",
      "source": [
        "#Visualising the most frequent words\n",
        "\n",
        "spamdata = corpus[corpus['spam']== 1]\n",
        "spamdata = spamdata['text']\n",
        "hamdata = corpus[corpus['spam']== 0]\n",
        "hamdata= hamdata['text']\n",
        "\n",
        "def most_frequent_words(data):\n",
        "    words = ' '.join(data)\n",
        "    map = {}\n",
        "    for word in words.split():\n",
        "        if word in map:\n",
        "            map[word] = map[word] + 1\n",
        "        else:\n",
        "            map[word] = 0\n",
        "    map = sorted(map.items(), key=lambda item: item[1], reverse=True)\n",
        "    # print(map)\n",
        "    return map[:20]\n",
        "        \n",
        "\n",
        "print('Most-common spam words', most_frequent_words(spamdata))\n",
        "print('Most-common ham words', most_frequent_words(hamdata))"
      ],
      "metadata": {
        "colab": {
          "base_uri": "https://localhost:8080/"
        },
        "id": "ta9rjXmQfp7T",
        "outputId": "2dfee2f5-26b3-4e5a-929d-1c168296f85e"
      },
      "execution_count": null,
      "outputs": [
        {
          "output_type": "stream",
          "name": "stdout",
          "text": [
            "Most-common spam words [('subject', 1576), ('will', 1449), ('s', 1332), ('compani', 1064), ('com', 998), ('mail', 916), ('busi', 896), ('email', 864), ('can', 830), ('inform', 817), ('receiv', 726), ('e', 697), ('get', 693), ('money', 661), ('pleas', 618), ('free', 605), ('make', 602), ('http', 602), ('market', 599), ('time', 592)]\n",
            "Most-common ham words [('enron', 13334), ('ect', 11409), ('subject', 8564), ('vinc', 8467), ('will', 6757), ('hou', 5566), ('s', 5145), ('kaminski', 4753), ('pleas', 4439), ('com', 4396), ('cc', 3861), ('re', 3806), ('j', 3668), ('thank', 3536), ('can', 3401), ('pm', 3246), ('forward', 2942), ('research', 2712), ('time', 2533), ('meet', 2519)]\n"
          ]
        }
      ]
    },
    {
      "cell_type": "markdown",
      "source": [
        "#### **Step 6 - Building the Document Term Matrix**"
      ],
      "metadata": {
        "id": "jaRc0rPHnrAa"
      }
    },
    {
      "cell_type": "code",
      "source": [
        "corpus"
      ],
      "metadata": {
        "colab": {
          "base_uri": "https://localhost:8080/",
          "height": 423
        },
        "id": "QIkKidaro--K",
        "outputId": "b3db354a-d114-424d-cbe3-6b546019edfd"
      },
      "execution_count": null,
      "outputs": [
        {
          "output_type": "execute_result",
          "data": {
            "text/plain": [
              "                                                   text  spam\n",
              "0     subject natur irresist corpor ident lt realli ...     1\n",
              "1     subject stock trade gunsling fanni merril muzo...     1\n",
              "2     subject unbeliev new home made easi im want sh...     1\n",
              "3     subject color print special request addit info...     1\n",
              "4     subject money get softwar cd softwar compat ai...     1\n",
              "...                                                 ...   ...\n",
              "5690  subject re research develop charg gpg forward ...     0\n",
              "5691  subject re receipt visit jim thank invit visit...     0\n",
              "5692  subject re enron case studi updat wow day s su...     0\n",
              "5693  subject re interest david pleas call shirley c...     0\n",
              "5694  subject news aurora updat aurora version faste...     0\n",
              "\n",
              "[5695 rows x 2 columns]"
            ],
            "text/html": [
              "\n",
              "  <div id=\"df-361be97f-8437-4326-ba1d-6318de60d7e9\">\n",
              "    <div class=\"colab-df-container\">\n",
              "      <div>\n",
              "<style scoped>\n",
              "    .dataframe tbody tr th:only-of-type {\n",
              "        vertical-align: middle;\n",
              "    }\n",
              "\n",
              "    .dataframe tbody tr th {\n",
              "        vertical-align: top;\n",
              "    }\n",
              "\n",
              "    .dataframe thead th {\n",
              "        text-align: right;\n",
              "    }\n",
              "</style>\n",
              "<table border=\"1\" class=\"dataframe\">\n",
              "  <thead>\n",
              "    <tr style=\"text-align: right;\">\n",
              "      <th></th>\n",
              "      <th>text</th>\n",
              "      <th>spam</th>\n",
              "    </tr>\n",
              "  </thead>\n",
              "  <tbody>\n",
              "    <tr>\n",
              "      <th>0</th>\n",
              "      <td>subject natur irresist corpor ident lt realli ...</td>\n",
              "      <td>1</td>\n",
              "    </tr>\n",
              "    <tr>\n",
              "      <th>1</th>\n",
              "      <td>subject stock trade gunsling fanni merril muzo...</td>\n",
              "      <td>1</td>\n",
              "    </tr>\n",
              "    <tr>\n",
              "      <th>2</th>\n",
              "      <td>subject unbeliev new home made easi im want sh...</td>\n",
              "      <td>1</td>\n",
              "    </tr>\n",
              "    <tr>\n",
              "      <th>3</th>\n",
              "      <td>subject color print special request addit info...</td>\n",
              "      <td>1</td>\n",
              "    </tr>\n",
              "    <tr>\n",
              "      <th>4</th>\n",
              "      <td>subject money get softwar cd softwar compat ai...</td>\n",
              "      <td>1</td>\n",
              "    </tr>\n",
              "    <tr>\n",
              "      <th>...</th>\n",
              "      <td>...</td>\n",
              "      <td>...</td>\n",
              "    </tr>\n",
              "    <tr>\n",
              "      <th>5690</th>\n",
              "      <td>subject re research develop charg gpg forward ...</td>\n",
              "      <td>0</td>\n",
              "    </tr>\n",
              "    <tr>\n",
              "      <th>5691</th>\n",
              "      <td>subject re receipt visit jim thank invit visit...</td>\n",
              "      <td>0</td>\n",
              "    </tr>\n",
              "    <tr>\n",
              "      <th>5692</th>\n",
              "      <td>subject re enron case studi updat wow day s su...</td>\n",
              "      <td>0</td>\n",
              "    </tr>\n",
              "    <tr>\n",
              "      <th>5693</th>\n",
              "      <td>subject re interest david pleas call shirley c...</td>\n",
              "      <td>0</td>\n",
              "    </tr>\n",
              "    <tr>\n",
              "      <th>5694</th>\n",
              "      <td>subject news aurora updat aurora version faste...</td>\n",
              "      <td>0</td>\n",
              "    </tr>\n",
              "  </tbody>\n",
              "</table>\n",
              "<p>5695 rows × 2 columns</p>\n",
              "</div>\n",
              "      <button class=\"colab-df-convert\" onclick=\"convertToInteractive('df-361be97f-8437-4326-ba1d-6318de60d7e9')\"\n",
              "              title=\"Convert this dataframe to an interactive table.\"\n",
              "              style=\"display:none;\">\n",
              "        \n",
              "  <svg xmlns=\"http://www.w3.org/2000/svg\" height=\"24px\"viewBox=\"0 0 24 24\"\n",
              "       width=\"24px\">\n",
              "    <path d=\"M0 0h24v24H0V0z\" fill=\"none\"/>\n",
              "    <path d=\"M18.56 5.44l.94 2.06.94-2.06 2.06-.94-2.06-.94-.94-2.06-.94 2.06-2.06.94zm-11 1L8.5 8.5l.94-2.06 2.06-.94-2.06-.94L8.5 2.5l-.94 2.06-2.06.94zm10 10l.94 2.06.94-2.06 2.06-.94-2.06-.94-.94-2.06-.94 2.06-2.06.94z\"/><path d=\"M17.41 7.96l-1.37-1.37c-.4-.4-.92-.59-1.43-.59-.52 0-1.04.2-1.43.59L10.3 9.45l-7.72 7.72c-.78.78-.78 2.05 0 2.83L4 21.41c.39.39.9.59 1.41.59.51 0 1.02-.2 1.41-.59l7.78-7.78 2.81-2.81c.8-.78.8-2.07 0-2.86zM5.41 20L4 18.59l7.72-7.72 1.47 1.35L5.41 20z\"/>\n",
              "  </svg>\n",
              "      </button>\n",
              "      \n",
              "  <style>\n",
              "    .colab-df-container {\n",
              "      display:flex;\n",
              "      flex-wrap:wrap;\n",
              "      gap: 12px;\n",
              "    }\n",
              "\n",
              "    .colab-df-convert {\n",
              "      background-color: #E8F0FE;\n",
              "      border: none;\n",
              "      border-radius: 50%;\n",
              "      cursor: pointer;\n",
              "      display: none;\n",
              "      fill: #1967D2;\n",
              "      height: 32px;\n",
              "      padding: 0 0 0 0;\n",
              "      width: 32px;\n",
              "    }\n",
              "\n",
              "    .colab-df-convert:hover {\n",
              "      background-color: #E2EBFA;\n",
              "      box-shadow: 0px 1px 2px rgba(60, 64, 67, 0.3), 0px 1px 3px 1px rgba(60, 64, 67, 0.15);\n",
              "      fill: #174EA6;\n",
              "    }\n",
              "\n",
              "    [theme=dark] .colab-df-convert {\n",
              "      background-color: #3B4455;\n",
              "      fill: #D2E3FC;\n",
              "    }\n",
              "\n",
              "    [theme=dark] .colab-df-convert:hover {\n",
              "      background-color: #434B5C;\n",
              "      box-shadow: 0px 1px 3px 1px rgba(0, 0, 0, 0.15);\n",
              "      filter: drop-shadow(0px 1px 2px rgba(0, 0, 0, 0.3));\n",
              "      fill: #FFFFFF;\n",
              "    }\n",
              "  </style>\n",
              "\n",
              "      <script>\n",
              "        const buttonEl =\n",
              "          document.querySelector('#df-361be97f-8437-4326-ba1d-6318de60d7e9 button.colab-df-convert');\n",
              "        buttonEl.style.display =\n",
              "          google.colab.kernel.accessAllowed ? 'block' : 'none';\n",
              "\n",
              "        async function convertToInteractive(key) {\n",
              "          const element = document.querySelector('#df-361be97f-8437-4326-ba1d-6318de60d7e9');\n",
              "          const dataTable =\n",
              "            await google.colab.kernel.invokeFunction('convertToInteractive',\n",
              "                                                     [key], {});\n",
              "          if (!dataTable) return;\n",
              "\n",
              "          const docLinkHtml = 'Like what you see? Visit the ' +\n",
              "            '<a target=\"_blank\" href=https://colab.research.google.com/notebooks/data_table.ipynb>data table notebook</a>'\n",
              "            + ' to learn more about interactive tables.';\n",
              "          element.innerHTML = '';\n",
              "          dataTable['output_type'] = 'display_data';\n",
              "          await google.colab.output.renderOutput(dataTable, element);\n",
              "          const docLink = document.createElement('div');\n",
              "          docLink.innerHTML = docLinkHtml;\n",
              "          element.appendChild(docLink);\n",
              "        }\n",
              "      </script>\n",
              "    </div>\n",
              "  </div>\n",
              "  "
            ]
          },
          "metadata": {},
          "execution_count": 181
        }
      ]
    },
    {
      "cell_type": "code",
      "source": [
        "vec = TfidfVectorizer()\n",
        "vec_data = vec.fit_transform(corpus['text'])\n",
        "\n",
        "dtm = pd.DataFrame(vec_data.toarray(), columns = vec.get_feature_names())\n",
        "dtm"
      ],
      "metadata": {
        "colab": {
          "base_uri": "https://localhost:8080/"
        },
        "id": "erQgLqUmnp_r",
        "outputId": "c73a5989-bca1-4e8b-b57d-3af6a70072d6"
      },
      "execution_count": null,
      "outputs": [
        {
          "output_type": "stream",
          "name": "stderr",
          "text": [
            "/usr/local/lib/python3.7/dist-packages/sklearn/utils/deprecation.py:87: FutureWarning: Function get_feature_names is deprecated; get_feature_names is deprecated in 1.0 and will be removed in 1.2. Please use get_feature_names_out instead.\n",
            "  warnings.warn(msg, category=FutureWarning)\n"
          ]
        },
        {
          "output_type": "execute_result",
          "data": {
            "text/plain": [
              "       aa  aaa  aaaenerfax  aadedeji  aagraw  aal  aaldou  aaliyah  aall  \\\n",
              "0     0.0  0.0         0.0       0.0     0.0  0.0     0.0      0.0   0.0   \n",
              "1     0.0  0.0         0.0       0.0     0.0  0.0     0.0      0.0   0.0   \n",
              "2     0.0  0.0         0.0       0.0     0.0  0.0     0.0      0.0   0.0   \n",
              "3     0.0  0.0         0.0       0.0     0.0  0.0     0.0      0.0   0.0   \n",
              "4     0.0  0.0         0.0       0.0     0.0  0.0     0.0      0.0   0.0   \n",
              "...   ...  ...         ...       ...     ...  ...     ...      ...   ...   \n",
              "5690  0.0  0.0         0.0       0.0     0.0  0.0     0.0      0.0   0.0   \n",
              "5691  0.0  0.0         0.0       0.0     0.0  0.0     0.0      0.0   0.0   \n",
              "5692  0.0  0.0         0.0       0.0     0.0  0.0     0.0      0.0   0.0   \n",
              "5693  0.0  0.0         0.0       0.0     0.0  0.0     0.0      0.0   0.0   \n",
              "5694  0.0  0.0         0.0       0.0     0.0  0.0     0.0      0.0   0.0   \n",
              "\n",
              "      aanalysi  ...  zwzm  zxghlajf  zyban  zyc  zygoma  zymg  zzmacmac  zzn  \\\n",
              "0          0.0  ...   0.0       0.0    0.0  0.0     0.0   0.0       0.0  0.0   \n",
              "1          0.0  ...   0.0       0.0    0.0  0.0     0.0   0.0       0.0  0.0   \n",
              "2          0.0  ...   0.0       0.0    0.0  0.0     0.0   0.0       0.0  0.0   \n",
              "3          0.0  ...   0.0       0.0    0.0  0.0     0.0   0.0       0.0  0.0   \n",
              "4          0.0  ...   0.0       0.0    0.0  0.0     0.0   0.0       0.0  0.0   \n",
              "...        ...  ...   ...       ...    ...  ...     ...   ...       ...  ...   \n",
              "5690       0.0  ...   0.0       0.0    0.0  0.0     0.0   0.0       0.0  0.0   \n",
              "5691       0.0  ...   0.0       0.0    0.0  0.0     0.0   0.0       0.0  0.0   \n",
              "5692       0.0  ...   0.0       0.0    0.0  0.0     0.0   0.0       0.0  0.0   \n",
              "5693       0.0  ...   0.0       0.0    0.0  0.0     0.0   0.0       0.0  0.0   \n",
              "5694       0.0  ...   0.0       0.0    0.0  0.0     0.0   0.0       0.0  0.0   \n",
              "\n",
              "      zzncacst  zzzz  \n",
              "0          0.0   0.0  \n",
              "1          0.0   0.0  \n",
              "2          0.0   0.0  \n",
              "3          0.0   0.0  \n",
              "4          0.0   0.0  \n",
              "...        ...   ...  \n",
              "5690       0.0   0.0  \n",
              "5691       0.0   0.0  \n",
              "5692       0.0   0.0  \n",
              "5693       0.0   0.0  \n",
              "5694       0.0   0.0  \n",
              "\n",
              "[5695 rows x 25653 columns]"
            ],
            "text/html": [
              "\n",
              "  <div id=\"df-2c1be136-f448-417f-8e46-c34aa07166d3\">\n",
              "    <div class=\"colab-df-container\">\n",
              "      <div>\n",
              "<style scoped>\n",
              "    .dataframe tbody tr th:only-of-type {\n",
              "        vertical-align: middle;\n",
              "    }\n",
              "\n",
              "    .dataframe tbody tr th {\n",
              "        vertical-align: top;\n",
              "    }\n",
              "\n",
              "    .dataframe thead th {\n",
              "        text-align: right;\n",
              "    }\n",
              "</style>\n",
              "<table border=\"1\" class=\"dataframe\">\n",
              "  <thead>\n",
              "    <tr style=\"text-align: right;\">\n",
              "      <th></th>\n",
              "      <th>aa</th>\n",
              "      <th>aaa</th>\n",
              "      <th>aaaenerfax</th>\n",
              "      <th>aadedeji</th>\n",
              "      <th>aagraw</th>\n",
              "      <th>aal</th>\n",
              "      <th>aaldou</th>\n",
              "      <th>aaliyah</th>\n",
              "      <th>aall</th>\n",
              "      <th>aanalysi</th>\n",
              "      <th>...</th>\n",
              "      <th>zwzm</th>\n",
              "      <th>zxghlajf</th>\n",
              "      <th>zyban</th>\n",
              "      <th>zyc</th>\n",
              "      <th>zygoma</th>\n",
              "      <th>zymg</th>\n",
              "      <th>zzmacmac</th>\n",
              "      <th>zzn</th>\n",
              "      <th>zzncacst</th>\n",
              "      <th>zzzz</th>\n",
              "    </tr>\n",
              "  </thead>\n",
              "  <tbody>\n",
              "    <tr>\n",
              "      <th>0</th>\n",
              "      <td>0.0</td>\n",
              "      <td>0.0</td>\n",
              "      <td>0.0</td>\n",
              "      <td>0.0</td>\n",
              "      <td>0.0</td>\n",
              "      <td>0.0</td>\n",
              "      <td>0.0</td>\n",
              "      <td>0.0</td>\n",
              "      <td>0.0</td>\n",
              "      <td>0.0</td>\n",
              "      <td>...</td>\n",
              "      <td>0.0</td>\n",
              "      <td>0.0</td>\n",
              "      <td>0.0</td>\n",
              "      <td>0.0</td>\n",
              "      <td>0.0</td>\n",
              "      <td>0.0</td>\n",
              "      <td>0.0</td>\n",
              "      <td>0.0</td>\n",
              "      <td>0.0</td>\n",
              "      <td>0.0</td>\n",
              "    </tr>\n",
              "    <tr>\n",
              "      <th>1</th>\n",
              "      <td>0.0</td>\n",
              "      <td>0.0</td>\n",
              "      <td>0.0</td>\n",
              "      <td>0.0</td>\n",
              "      <td>0.0</td>\n",
              "      <td>0.0</td>\n",
              "      <td>0.0</td>\n",
              "      <td>0.0</td>\n",
              "      <td>0.0</td>\n",
              "      <td>0.0</td>\n",
              "      <td>...</td>\n",
              "      <td>0.0</td>\n",
              "      <td>0.0</td>\n",
              "      <td>0.0</td>\n",
              "      <td>0.0</td>\n",
              "      <td>0.0</td>\n",
              "      <td>0.0</td>\n",
              "      <td>0.0</td>\n",
              "      <td>0.0</td>\n",
              "      <td>0.0</td>\n",
              "      <td>0.0</td>\n",
              "    </tr>\n",
              "    <tr>\n",
              "      <th>2</th>\n",
              "      <td>0.0</td>\n",
              "      <td>0.0</td>\n",
              "      <td>0.0</td>\n",
              "      <td>0.0</td>\n",
              "      <td>0.0</td>\n",
              "      <td>0.0</td>\n",
              "      <td>0.0</td>\n",
              "      <td>0.0</td>\n",
              "      <td>0.0</td>\n",
              "      <td>0.0</td>\n",
              "      <td>...</td>\n",
              "      <td>0.0</td>\n",
              "      <td>0.0</td>\n",
              "      <td>0.0</td>\n",
              "      <td>0.0</td>\n",
              "      <td>0.0</td>\n",
              "      <td>0.0</td>\n",
              "      <td>0.0</td>\n",
              "      <td>0.0</td>\n",
              "      <td>0.0</td>\n",
              "      <td>0.0</td>\n",
              "    </tr>\n",
              "    <tr>\n",
              "      <th>3</th>\n",
              "      <td>0.0</td>\n",
              "      <td>0.0</td>\n",
              "      <td>0.0</td>\n",
              "      <td>0.0</td>\n",
              "      <td>0.0</td>\n",
              "      <td>0.0</td>\n",
              "      <td>0.0</td>\n",
              "      <td>0.0</td>\n",
              "      <td>0.0</td>\n",
              "      <td>0.0</td>\n",
              "      <td>...</td>\n",
              "      <td>0.0</td>\n",
              "      <td>0.0</td>\n",
              "      <td>0.0</td>\n",
              "      <td>0.0</td>\n",
              "      <td>0.0</td>\n",
              "      <td>0.0</td>\n",
              "      <td>0.0</td>\n",
              "      <td>0.0</td>\n",
              "      <td>0.0</td>\n",
              "      <td>0.0</td>\n",
              "    </tr>\n",
              "    <tr>\n",
              "      <th>4</th>\n",
              "      <td>0.0</td>\n",
              "      <td>0.0</td>\n",
              "      <td>0.0</td>\n",
              "      <td>0.0</td>\n",
              "      <td>0.0</td>\n",
              "      <td>0.0</td>\n",
              "      <td>0.0</td>\n",
              "      <td>0.0</td>\n",
              "      <td>0.0</td>\n",
              "      <td>0.0</td>\n",
              "      <td>...</td>\n",
              "      <td>0.0</td>\n",
              "      <td>0.0</td>\n",
              "      <td>0.0</td>\n",
              "      <td>0.0</td>\n",
              "      <td>0.0</td>\n",
              "      <td>0.0</td>\n",
              "      <td>0.0</td>\n",
              "      <td>0.0</td>\n",
              "      <td>0.0</td>\n",
              "      <td>0.0</td>\n",
              "    </tr>\n",
              "    <tr>\n",
              "      <th>...</th>\n",
              "      <td>...</td>\n",
              "      <td>...</td>\n",
              "      <td>...</td>\n",
              "      <td>...</td>\n",
              "      <td>...</td>\n",
              "      <td>...</td>\n",
              "      <td>...</td>\n",
              "      <td>...</td>\n",
              "      <td>...</td>\n",
              "      <td>...</td>\n",
              "      <td>...</td>\n",
              "      <td>...</td>\n",
              "      <td>...</td>\n",
              "      <td>...</td>\n",
              "      <td>...</td>\n",
              "      <td>...</td>\n",
              "      <td>...</td>\n",
              "      <td>...</td>\n",
              "      <td>...</td>\n",
              "      <td>...</td>\n",
              "      <td>...</td>\n",
              "    </tr>\n",
              "    <tr>\n",
              "      <th>5690</th>\n",
              "      <td>0.0</td>\n",
              "      <td>0.0</td>\n",
              "      <td>0.0</td>\n",
              "      <td>0.0</td>\n",
              "      <td>0.0</td>\n",
              "      <td>0.0</td>\n",
              "      <td>0.0</td>\n",
              "      <td>0.0</td>\n",
              "      <td>0.0</td>\n",
              "      <td>0.0</td>\n",
              "      <td>...</td>\n",
              "      <td>0.0</td>\n",
              "      <td>0.0</td>\n",
              "      <td>0.0</td>\n",
              "      <td>0.0</td>\n",
              "      <td>0.0</td>\n",
              "      <td>0.0</td>\n",
              "      <td>0.0</td>\n",
              "      <td>0.0</td>\n",
              "      <td>0.0</td>\n",
              "      <td>0.0</td>\n",
              "    </tr>\n",
              "    <tr>\n",
              "      <th>5691</th>\n",
              "      <td>0.0</td>\n",
              "      <td>0.0</td>\n",
              "      <td>0.0</td>\n",
              "      <td>0.0</td>\n",
              "      <td>0.0</td>\n",
              "      <td>0.0</td>\n",
              "      <td>0.0</td>\n",
              "      <td>0.0</td>\n",
              "      <td>0.0</td>\n",
              "      <td>0.0</td>\n",
              "      <td>...</td>\n",
              "      <td>0.0</td>\n",
              "      <td>0.0</td>\n",
              "      <td>0.0</td>\n",
              "      <td>0.0</td>\n",
              "      <td>0.0</td>\n",
              "      <td>0.0</td>\n",
              "      <td>0.0</td>\n",
              "      <td>0.0</td>\n",
              "      <td>0.0</td>\n",
              "      <td>0.0</td>\n",
              "    </tr>\n",
              "    <tr>\n",
              "      <th>5692</th>\n",
              "      <td>0.0</td>\n",
              "      <td>0.0</td>\n",
              "      <td>0.0</td>\n",
              "      <td>0.0</td>\n",
              "      <td>0.0</td>\n",
              "      <td>0.0</td>\n",
              "      <td>0.0</td>\n",
              "      <td>0.0</td>\n",
              "      <td>0.0</td>\n",
              "      <td>0.0</td>\n",
              "      <td>...</td>\n",
              "      <td>0.0</td>\n",
              "      <td>0.0</td>\n",
              "      <td>0.0</td>\n",
              "      <td>0.0</td>\n",
              "      <td>0.0</td>\n",
              "      <td>0.0</td>\n",
              "      <td>0.0</td>\n",
              "      <td>0.0</td>\n",
              "      <td>0.0</td>\n",
              "      <td>0.0</td>\n",
              "    </tr>\n",
              "    <tr>\n",
              "      <th>5693</th>\n",
              "      <td>0.0</td>\n",
              "      <td>0.0</td>\n",
              "      <td>0.0</td>\n",
              "      <td>0.0</td>\n",
              "      <td>0.0</td>\n",
              "      <td>0.0</td>\n",
              "      <td>0.0</td>\n",
              "      <td>0.0</td>\n",
              "      <td>0.0</td>\n",
              "      <td>0.0</td>\n",
              "      <td>...</td>\n",
              "      <td>0.0</td>\n",
              "      <td>0.0</td>\n",
              "      <td>0.0</td>\n",
              "      <td>0.0</td>\n",
              "      <td>0.0</td>\n",
              "      <td>0.0</td>\n",
              "      <td>0.0</td>\n",
              "      <td>0.0</td>\n",
              "      <td>0.0</td>\n",
              "      <td>0.0</td>\n",
              "    </tr>\n",
              "    <tr>\n",
              "      <th>5694</th>\n",
              "      <td>0.0</td>\n",
              "      <td>0.0</td>\n",
              "      <td>0.0</td>\n",
              "      <td>0.0</td>\n",
              "      <td>0.0</td>\n",
              "      <td>0.0</td>\n",
              "      <td>0.0</td>\n",
              "      <td>0.0</td>\n",
              "      <td>0.0</td>\n",
              "      <td>0.0</td>\n",
              "      <td>...</td>\n",
              "      <td>0.0</td>\n",
              "      <td>0.0</td>\n",
              "      <td>0.0</td>\n",
              "      <td>0.0</td>\n",
              "      <td>0.0</td>\n",
              "      <td>0.0</td>\n",
              "      <td>0.0</td>\n",
              "      <td>0.0</td>\n",
              "      <td>0.0</td>\n",
              "      <td>0.0</td>\n",
              "    </tr>\n",
              "  </tbody>\n",
              "</table>\n",
              "<p>5695 rows × 25653 columns</p>\n",
              "</div>\n",
              "      <button class=\"colab-df-convert\" onclick=\"convertToInteractive('df-2c1be136-f448-417f-8e46-c34aa07166d3')\"\n",
              "              title=\"Convert this dataframe to an interactive table.\"\n",
              "              style=\"display:none;\">\n",
              "        \n",
              "  <svg xmlns=\"http://www.w3.org/2000/svg\" height=\"24px\"viewBox=\"0 0 24 24\"\n",
              "       width=\"24px\">\n",
              "    <path d=\"M0 0h24v24H0V0z\" fill=\"none\"/>\n",
              "    <path d=\"M18.56 5.44l.94 2.06.94-2.06 2.06-.94-2.06-.94-.94-2.06-.94 2.06-2.06.94zm-11 1L8.5 8.5l.94-2.06 2.06-.94-2.06-.94L8.5 2.5l-.94 2.06-2.06.94zm10 10l.94 2.06.94-2.06 2.06-.94-2.06-.94-.94-2.06-.94 2.06-2.06.94z\"/><path d=\"M17.41 7.96l-1.37-1.37c-.4-.4-.92-.59-1.43-.59-.52 0-1.04.2-1.43.59L10.3 9.45l-7.72 7.72c-.78.78-.78 2.05 0 2.83L4 21.41c.39.39.9.59 1.41.59.51 0 1.02-.2 1.41-.59l7.78-7.78 2.81-2.81c.8-.78.8-2.07 0-2.86zM5.41 20L4 18.59l7.72-7.72 1.47 1.35L5.41 20z\"/>\n",
              "  </svg>\n",
              "      </button>\n",
              "      \n",
              "  <style>\n",
              "    .colab-df-container {\n",
              "      display:flex;\n",
              "      flex-wrap:wrap;\n",
              "      gap: 12px;\n",
              "    }\n",
              "\n",
              "    .colab-df-convert {\n",
              "      background-color: #E8F0FE;\n",
              "      border: none;\n",
              "      border-radius: 50%;\n",
              "      cursor: pointer;\n",
              "      display: none;\n",
              "      fill: #1967D2;\n",
              "      height: 32px;\n",
              "      padding: 0 0 0 0;\n",
              "      width: 32px;\n",
              "    }\n",
              "\n",
              "    .colab-df-convert:hover {\n",
              "      background-color: #E2EBFA;\n",
              "      box-shadow: 0px 1px 2px rgba(60, 64, 67, 0.3), 0px 1px 3px 1px rgba(60, 64, 67, 0.15);\n",
              "      fill: #174EA6;\n",
              "    }\n",
              "\n",
              "    [theme=dark] .colab-df-convert {\n",
              "      background-color: #3B4455;\n",
              "      fill: #D2E3FC;\n",
              "    }\n",
              "\n",
              "    [theme=dark] .colab-df-convert:hover {\n",
              "      background-color: #434B5C;\n",
              "      box-shadow: 0px 1px 3px 1px rgba(0, 0, 0, 0.15);\n",
              "      filter: drop-shadow(0px 1px 2px rgba(0, 0, 0, 0.3));\n",
              "      fill: #FFFFFF;\n",
              "    }\n",
              "  </style>\n",
              "\n",
              "      <script>\n",
              "        const buttonEl =\n",
              "          document.querySelector('#df-2c1be136-f448-417f-8e46-c34aa07166d3 button.colab-df-convert');\n",
              "        buttonEl.style.display =\n",
              "          google.colab.kernel.accessAllowed ? 'block' : 'none';\n",
              "\n",
              "        async function convertToInteractive(key) {\n",
              "          const element = document.querySelector('#df-2c1be136-f448-417f-8e46-c34aa07166d3');\n",
              "          const dataTable =\n",
              "            await google.colab.kernel.invokeFunction('convertToInteractive',\n",
              "                                                     [key], {});\n",
              "          if (!dataTable) return;\n",
              "\n",
              "          const docLinkHtml = 'Like what you see? Visit the ' +\n",
              "            '<a target=\"_blank\" href=https://colab.research.google.com/notebooks/data_table.ipynb>data table notebook</a>'\n",
              "            + ' to learn more about interactive tables.';\n",
              "          element.innerHTML = '';\n",
              "          dataTable['output_type'] = 'display_data';\n",
              "          await google.colab.output.renderOutput(dataTable, element);\n",
              "          const docLink = document.createElement('div');\n",
              "          docLink.innerHTML = docLinkHtml;\n",
              "          element.appendChild(docLink);\n",
              "        }\n",
              "      </script>\n",
              "    </div>\n",
              "  </div>\n",
              "  "
            ]
          },
          "metadata": {},
          "execution_count": 30
        }
      ]
    },
    {
      "cell_type": "markdown",
      "source": [
        "**Question:**\n",
        "\n",
        "How many terms are in dtm?\n",
        "\n",
        "**Answer:**  \n",
        "\n",
        "There are 25653 terms in the document term matrix."
      ],
      "metadata": {
        "id": "xcWe-Dw68Hal"
      }
    },
    {
      "cell_type": "markdown",
      "metadata": {
        "gradient": {
          "editing": false,
          "id": "OeovTfoTinXb",
          "kernelId": "d1bfc924-61a6-48a4-b370-40dbb13a3636"
        },
        "id": "OeovTfoTinXb"
      },
      "source": [
        "We convert the processed text to a matrix of TF-IDF features using TfidfVectorizer which is equivalent to CountVectorizer followed by TfidfTransformer."
      ]
    },
    {
      "cell_type": "markdown",
      "metadata": {
        "gradient": {
          "editing": false,
          "id": "JSxkMtOvlhh9",
          "kernelId": "d1bfc924-61a6-48a4-b370-40dbb13a3636"
        },
        "id": "JSxkMtOvlhh9"
      },
      "source": [
        "### **3.1 – Building machine learning model**"
      ]
    },
    {
      "cell_type": "code",
      "source": [
        "emailsSparse = pd.DataFrame(dtm)\n",
        "print(emailsSparse.shape)"
      ],
      "metadata": {
        "colab": {
          "base_uri": "https://localhost:8080/"
        },
        "id": "yh9jwoRN8rBs",
        "outputId": "9643d337-c307-4e40-aa7c-1bd95f32eae1"
      },
      "execution_count": null,
      "outputs": [
        {
          "output_type": "stream",
          "name": "stdout",
          "text": [
            "(5695, 25654)\n"
          ]
        }
      ]
    },
    {
      "cell_type": "code",
      "source": [
        "emailsSparse['spamOrNot'] = data['spam']"
      ],
      "metadata": {
        "id": "paaLYrq88q_F"
      },
      "execution_count": null,
      "outputs": []
    },
    {
      "cell_type": "code",
      "source": [
        "emailsSparse.head()"
      ],
      "metadata": {
        "colab": {
          "base_uri": "https://localhost:8080/",
          "height": 299
        },
        "id": "BVn_7_6i8q8h",
        "outputId": "bd94be97-5638-4b2f-cc59-8c45fd415989"
      },
      "execution_count": null,
      "outputs": [
        {
          "output_type": "execute_result",
          "data": {
            "text/plain": [
              "    aa  aaa  aaaenerfax  aadedeji  aagraw  aal  aaldou  aaliyah  aall  \\\n",
              "0  0.0  0.0         0.0       0.0     0.0  0.0     0.0      0.0   0.0   \n",
              "1  0.0  0.0         0.0       0.0     0.0  0.0     0.0      0.0   0.0   \n",
              "2  0.0  0.0         0.0       0.0     0.0  0.0     0.0      0.0   0.0   \n",
              "3  0.0  0.0         0.0       0.0     0.0  0.0     0.0      0.0   0.0   \n",
              "4  0.0  0.0         0.0       0.0     0.0  0.0     0.0      0.0   0.0   \n",
              "\n",
              "   aanalysi  ...  zxghlajf  zyban  zyc  zygoma  zymg  zzmacmac  zzn  zzncacst  \\\n",
              "0       0.0  ...       0.0    0.0  0.0     0.0   0.0       0.0  0.0       0.0   \n",
              "1       0.0  ...       0.0    0.0  0.0     0.0   0.0       0.0  0.0       0.0   \n",
              "2       0.0  ...       0.0    0.0  0.0     0.0   0.0       0.0  0.0       0.0   \n",
              "3       0.0  ...       0.0    0.0  0.0     0.0   0.0       0.0  0.0       0.0   \n",
              "4       0.0  ...       0.0    0.0  0.0     0.0   0.0       0.0  0.0       0.0   \n",
              "\n",
              "   zzzz  spamOrNot  \n",
              "0   0.0          1  \n",
              "1   0.0          1  \n",
              "2   0.0          1  \n",
              "3   0.0          1  \n",
              "4   0.0          1  \n",
              "\n",
              "[5 rows x 25654 columns]"
            ],
            "text/html": [
              "\n",
              "  <div id=\"df-a3d58a80-808f-4927-9706-c25189e59c86\">\n",
              "    <div class=\"colab-df-container\">\n",
              "      <div>\n",
              "<style scoped>\n",
              "    .dataframe tbody tr th:only-of-type {\n",
              "        vertical-align: middle;\n",
              "    }\n",
              "\n",
              "    .dataframe tbody tr th {\n",
              "        vertical-align: top;\n",
              "    }\n",
              "\n",
              "    .dataframe thead th {\n",
              "        text-align: right;\n",
              "    }\n",
              "</style>\n",
              "<table border=\"1\" class=\"dataframe\">\n",
              "  <thead>\n",
              "    <tr style=\"text-align: right;\">\n",
              "      <th></th>\n",
              "      <th>aa</th>\n",
              "      <th>aaa</th>\n",
              "      <th>aaaenerfax</th>\n",
              "      <th>aadedeji</th>\n",
              "      <th>aagraw</th>\n",
              "      <th>aal</th>\n",
              "      <th>aaldou</th>\n",
              "      <th>aaliyah</th>\n",
              "      <th>aall</th>\n",
              "      <th>aanalysi</th>\n",
              "      <th>...</th>\n",
              "      <th>zxghlajf</th>\n",
              "      <th>zyban</th>\n",
              "      <th>zyc</th>\n",
              "      <th>zygoma</th>\n",
              "      <th>zymg</th>\n",
              "      <th>zzmacmac</th>\n",
              "      <th>zzn</th>\n",
              "      <th>zzncacst</th>\n",
              "      <th>zzzz</th>\n",
              "      <th>spamOrNot</th>\n",
              "    </tr>\n",
              "  </thead>\n",
              "  <tbody>\n",
              "    <tr>\n",
              "      <th>0</th>\n",
              "      <td>0.0</td>\n",
              "      <td>0.0</td>\n",
              "      <td>0.0</td>\n",
              "      <td>0.0</td>\n",
              "      <td>0.0</td>\n",
              "      <td>0.0</td>\n",
              "      <td>0.0</td>\n",
              "      <td>0.0</td>\n",
              "      <td>0.0</td>\n",
              "      <td>0.0</td>\n",
              "      <td>...</td>\n",
              "      <td>0.0</td>\n",
              "      <td>0.0</td>\n",
              "      <td>0.0</td>\n",
              "      <td>0.0</td>\n",
              "      <td>0.0</td>\n",
              "      <td>0.0</td>\n",
              "      <td>0.0</td>\n",
              "      <td>0.0</td>\n",
              "      <td>0.0</td>\n",
              "      <td>1</td>\n",
              "    </tr>\n",
              "    <tr>\n",
              "      <th>1</th>\n",
              "      <td>0.0</td>\n",
              "      <td>0.0</td>\n",
              "      <td>0.0</td>\n",
              "      <td>0.0</td>\n",
              "      <td>0.0</td>\n",
              "      <td>0.0</td>\n",
              "      <td>0.0</td>\n",
              "      <td>0.0</td>\n",
              "      <td>0.0</td>\n",
              "      <td>0.0</td>\n",
              "      <td>...</td>\n",
              "      <td>0.0</td>\n",
              "      <td>0.0</td>\n",
              "      <td>0.0</td>\n",
              "      <td>0.0</td>\n",
              "      <td>0.0</td>\n",
              "      <td>0.0</td>\n",
              "      <td>0.0</td>\n",
              "      <td>0.0</td>\n",
              "      <td>0.0</td>\n",
              "      <td>1</td>\n",
              "    </tr>\n",
              "    <tr>\n",
              "      <th>2</th>\n",
              "      <td>0.0</td>\n",
              "      <td>0.0</td>\n",
              "      <td>0.0</td>\n",
              "      <td>0.0</td>\n",
              "      <td>0.0</td>\n",
              "      <td>0.0</td>\n",
              "      <td>0.0</td>\n",
              "      <td>0.0</td>\n",
              "      <td>0.0</td>\n",
              "      <td>0.0</td>\n",
              "      <td>...</td>\n",
              "      <td>0.0</td>\n",
              "      <td>0.0</td>\n",
              "      <td>0.0</td>\n",
              "      <td>0.0</td>\n",
              "      <td>0.0</td>\n",
              "      <td>0.0</td>\n",
              "      <td>0.0</td>\n",
              "      <td>0.0</td>\n",
              "      <td>0.0</td>\n",
              "      <td>1</td>\n",
              "    </tr>\n",
              "    <tr>\n",
              "      <th>3</th>\n",
              "      <td>0.0</td>\n",
              "      <td>0.0</td>\n",
              "      <td>0.0</td>\n",
              "      <td>0.0</td>\n",
              "      <td>0.0</td>\n",
              "      <td>0.0</td>\n",
              "      <td>0.0</td>\n",
              "      <td>0.0</td>\n",
              "      <td>0.0</td>\n",
              "      <td>0.0</td>\n",
              "      <td>...</td>\n",
              "      <td>0.0</td>\n",
              "      <td>0.0</td>\n",
              "      <td>0.0</td>\n",
              "      <td>0.0</td>\n",
              "      <td>0.0</td>\n",
              "      <td>0.0</td>\n",
              "      <td>0.0</td>\n",
              "      <td>0.0</td>\n",
              "      <td>0.0</td>\n",
              "      <td>1</td>\n",
              "    </tr>\n",
              "    <tr>\n",
              "      <th>4</th>\n",
              "      <td>0.0</td>\n",
              "      <td>0.0</td>\n",
              "      <td>0.0</td>\n",
              "      <td>0.0</td>\n",
              "      <td>0.0</td>\n",
              "      <td>0.0</td>\n",
              "      <td>0.0</td>\n",
              "      <td>0.0</td>\n",
              "      <td>0.0</td>\n",
              "      <td>0.0</td>\n",
              "      <td>...</td>\n",
              "      <td>0.0</td>\n",
              "      <td>0.0</td>\n",
              "      <td>0.0</td>\n",
              "      <td>0.0</td>\n",
              "      <td>0.0</td>\n",
              "      <td>0.0</td>\n",
              "      <td>0.0</td>\n",
              "      <td>0.0</td>\n",
              "      <td>0.0</td>\n",
              "      <td>1</td>\n",
              "    </tr>\n",
              "  </tbody>\n",
              "</table>\n",
              "<p>5 rows × 25654 columns</p>\n",
              "</div>\n",
              "      <button class=\"colab-df-convert\" onclick=\"convertToInteractive('df-a3d58a80-808f-4927-9706-c25189e59c86')\"\n",
              "              title=\"Convert this dataframe to an interactive table.\"\n",
              "              style=\"display:none;\">\n",
              "        \n",
              "  <svg xmlns=\"http://www.w3.org/2000/svg\" height=\"24px\"viewBox=\"0 0 24 24\"\n",
              "       width=\"24px\">\n",
              "    <path d=\"M0 0h24v24H0V0z\" fill=\"none\"/>\n",
              "    <path d=\"M18.56 5.44l.94 2.06.94-2.06 2.06-.94-2.06-.94-.94-2.06-.94 2.06-2.06.94zm-11 1L8.5 8.5l.94-2.06 2.06-.94-2.06-.94L8.5 2.5l-.94 2.06-2.06.94zm10 10l.94 2.06.94-2.06 2.06-.94-2.06-.94-.94-2.06-.94 2.06-2.06.94z\"/><path d=\"M17.41 7.96l-1.37-1.37c-.4-.4-.92-.59-1.43-.59-.52 0-1.04.2-1.43.59L10.3 9.45l-7.72 7.72c-.78.78-.78 2.05 0 2.83L4 21.41c.39.39.9.59 1.41.59.51 0 1.02-.2 1.41-.59l7.78-7.78 2.81-2.81c.8-.78.8-2.07 0-2.86zM5.41 20L4 18.59l7.72-7.72 1.47 1.35L5.41 20z\"/>\n",
              "  </svg>\n",
              "      </button>\n",
              "      \n",
              "  <style>\n",
              "    .colab-df-container {\n",
              "      display:flex;\n",
              "      flex-wrap:wrap;\n",
              "      gap: 12px;\n",
              "    }\n",
              "\n",
              "    .colab-df-convert {\n",
              "      background-color: #E8F0FE;\n",
              "      border: none;\n",
              "      border-radius: 50%;\n",
              "      cursor: pointer;\n",
              "      display: none;\n",
              "      fill: #1967D2;\n",
              "      height: 32px;\n",
              "      padding: 0 0 0 0;\n",
              "      width: 32px;\n",
              "    }\n",
              "\n",
              "    .colab-df-convert:hover {\n",
              "      background-color: #E2EBFA;\n",
              "      box-shadow: 0px 1px 2px rgba(60, 64, 67, 0.3), 0px 1px 3px 1px rgba(60, 64, 67, 0.15);\n",
              "      fill: #174EA6;\n",
              "    }\n",
              "\n",
              "    [theme=dark] .colab-df-convert {\n",
              "      background-color: #3B4455;\n",
              "      fill: #D2E3FC;\n",
              "    }\n",
              "\n",
              "    [theme=dark] .colab-df-convert:hover {\n",
              "      background-color: #434B5C;\n",
              "      box-shadow: 0px 1px 3px 1px rgba(0, 0, 0, 0.15);\n",
              "      filter: drop-shadow(0px 1px 2px rgba(0, 0, 0, 0.3));\n",
              "      fill: #FFFFFF;\n",
              "    }\n",
              "  </style>\n",
              "\n",
              "      <script>\n",
              "        const buttonEl =\n",
              "          document.querySelector('#df-a3d58a80-808f-4927-9706-c25189e59c86 button.colab-df-convert');\n",
              "        buttonEl.style.display =\n",
              "          google.colab.kernel.accessAllowed ? 'block' : 'none';\n",
              "\n",
              "        async function convertToInteractive(key) {\n",
              "          const element = document.querySelector('#df-a3d58a80-808f-4927-9706-c25189e59c86');\n",
              "          const dataTable =\n",
              "            await google.colab.kernel.invokeFunction('convertToInteractive',\n",
              "                                                     [key], {});\n",
              "          if (!dataTable) return;\n",
              "\n",
              "          const docLinkHtml = 'Like what you see? Visit the ' +\n",
              "            '<a target=\"_blank\" href=https://colab.research.google.com/notebooks/data_table.ipynb>data table notebook</a>'\n",
              "            + ' to learn more about interactive tables.';\n",
              "          element.innerHTML = '';\n",
              "          dataTable['output_type'] = 'display_data';\n",
              "          await google.colab.output.renderOutput(dataTable, element);\n",
              "          const docLink = document.createElement('div');\n",
              "          docLink.innerHTML = docLinkHtml;\n",
              "          element.appendChild(docLink);\n",
              "        }\n",
              "      </script>\n",
              "    </div>\n",
              "  </div>\n",
              "  "
            ]
          },
          "metadata": {},
          "execution_count": 112
        }
      ]
    },
    {
      "cell_type": "code",
      "source": [
        "emailsSparse.shape"
      ],
      "metadata": {
        "colab": {
          "base_uri": "https://localhost:8080/"
        },
        "id": "EbC1u5TXO7cS",
        "outputId": "e64c9bfe-cb8d-4157-c430-95a41f9e4d79"
      },
      "execution_count": null,
      "outputs": [
        {
          "output_type": "execute_result",
          "data": {
            "text/plain": [
              "(5695, 25654)"
            ]
          },
          "metadata": {},
          "execution_count": 113
        }
      ]
    },
    {
      "cell_type": "code",
      "source": [
        "from sklearn.model_selection import train_test_split\n",
        "#Splitting the data intro training & testing sets\n",
        "\n",
        "np.random.seed(123)\n",
        "X_train, X_test, y_train, y_test = train_test_split(emailsSparse.drop(['spamOrNot'], axis=1), emailsSparse['spamOrNot'], train_size=0.7)\n",
        "print(\"Training set size: \", X_train.shape[0])\n",
        "print(\"Testing set size: \", X_test.shape[0])"
      ],
      "metadata": {
        "colab": {
          "base_uri": "https://localhost:8080/"
        },
        "id": "emcz-Doe9qsp",
        "outputId": "5dd8d41f-09f5-417c-8798-808271b59f47"
      },
      "execution_count": null,
      "outputs": [
        {
          "output_type": "stream",
          "name": "stdout",
          "text": [
            "Training set size:  3986\n",
            "Testing set size:  1709\n"
          ]
        }
      ]
    },
    {
      "cell_type": "code",
      "source": [
        "X_train.head()"
      ],
      "metadata": {
        "colab": {
          "base_uri": "https://localhost:8080/",
          "height": 299
        },
        "id": "TPLkG3ru-DUm",
        "outputId": "71384c37-1ac3-4309-ba9f-bf5325fa5861"
      },
      "execution_count": null,
      "outputs": [
        {
          "output_type": "execute_result",
          "data": {
            "text/plain": [
              "       aa  aaa  aaaenerfax  aadedeji  aagraw  aal  aaldou  aaliyah  aall  \\\n",
              "3216  0.0  0.0         0.0       0.0     0.0  0.0     0.0      0.0   0.0   \n",
              "4773  0.0  0.0         0.0       0.0     0.0  0.0     0.0      0.0   0.0   \n",
              "4505  0.0  0.0         0.0       0.0     0.0  0.0     0.0      0.0   0.0   \n",
              "5624  0.0  0.0         0.0       0.0     0.0  0.0     0.0      0.0   0.0   \n",
              "5449  0.0  0.0         0.0       0.0     0.0  0.0     0.0      0.0   0.0   \n",
              "\n",
              "      aanalysi  ...  zwzm  zxghlajf  zyban  zyc  zygoma  zymg  zzmacmac  zzn  \\\n",
              "3216       0.0  ...   0.0       0.0    0.0  0.0     0.0   0.0       0.0  0.0   \n",
              "4773       0.0  ...   0.0       0.0    0.0  0.0     0.0   0.0       0.0  0.0   \n",
              "4505       0.0  ...   0.0       0.0    0.0  0.0     0.0   0.0       0.0  0.0   \n",
              "5624       0.0  ...   0.0       0.0    0.0  0.0     0.0   0.0       0.0  0.0   \n",
              "5449       0.0  ...   0.0       0.0    0.0  0.0     0.0   0.0       0.0  0.0   \n",
              "\n",
              "      zzncacst  zzzz  \n",
              "3216       0.0   0.0  \n",
              "4773       0.0   0.0  \n",
              "4505       0.0   0.0  \n",
              "5624       0.0   0.0  \n",
              "5449       0.0   0.0  \n",
              "\n",
              "[5 rows x 25653 columns]"
            ],
            "text/html": [
              "\n",
              "  <div id=\"df-dce3844a-487e-4907-bd72-c32ee8f2e32f\">\n",
              "    <div class=\"colab-df-container\">\n",
              "      <div>\n",
              "<style scoped>\n",
              "    .dataframe tbody tr th:only-of-type {\n",
              "        vertical-align: middle;\n",
              "    }\n",
              "\n",
              "    .dataframe tbody tr th {\n",
              "        vertical-align: top;\n",
              "    }\n",
              "\n",
              "    .dataframe thead th {\n",
              "        text-align: right;\n",
              "    }\n",
              "</style>\n",
              "<table border=\"1\" class=\"dataframe\">\n",
              "  <thead>\n",
              "    <tr style=\"text-align: right;\">\n",
              "      <th></th>\n",
              "      <th>aa</th>\n",
              "      <th>aaa</th>\n",
              "      <th>aaaenerfax</th>\n",
              "      <th>aadedeji</th>\n",
              "      <th>aagraw</th>\n",
              "      <th>aal</th>\n",
              "      <th>aaldou</th>\n",
              "      <th>aaliyah</th>\n",
              "      <th>aall</th>\n",
              "      <th>aanalysi</th>\n",
              "      <th>...</th>\n",
              "      <th>zwzm</th>\n",
              "      <th>zxghlajf</th>\n",
              "      <th>zyban</th>\n",
              "      <th>zyc</th>\n",
              "      <th>zygoma</th>\n",
              "      <th>zymg</th>\n",
              "      <th>zzmacmac</th>\n",
              "      <th>zzn</th>\n",
              "      <th>zzncacst</th>\n",
              "      <th>zzzz</th>\n",
              "    </tr>\n",
              "  </thead>\n",
              "  <tbody>\n",
              "    <tr>\n",
              "      <th>3216</th>\n",
              "      <td>0.0</td>\n",
              "      <td>0.0</td>\n",
              "      <td>0.0</td>\n",
              "      <td>0.0</td>\n",
              "      <td>0.0</td>\n",
              "      <td>0.0</td>\n",
              "      <td>0.0</td>\n",
              "      <td>0.0</td>\n",
              "      <td>0.0</td>\n",
              "      <td>0.0</td>\n",
              "      <td>...</td>\n",
              "      <td>0.0</td>\n",
              "      <td>0.0</td>\n",
              "      <td>0.0</td>\n",
              "      <td>0.0</td>\n",
              "      <td>0.0</td>\n",
              "      <td>0.0</td>\n",
              "      <td>0.0</td>\n",
              "      <td>0.0</td>\n",
              "      <td>0.0</td>\n",
              "      <td>0.0</td>\n",
              "    </tr>\n",
              "    <tr>\n",
              "      <th>4773</th>\n",
              "      <td>0.0</td>\n",
              "      <td>0.0</td>\n",
              "      <td>0.0</td>\n",
              "      <td>0.0</td>\n",
              "      <td>0.0</td>\n",
              "      <td>0.0</td>\n",
              "      <td>0.0</td>\n",
              "      <td>0.0</td>\n",
              "      <td>0.0</td>\n",
              "      <td>0.0</td>\n",
              "      <td>...</td>\n",
              "      <td>0.0</td>\n",
              "      <td>0.0</td>\n",
              "      <td>0.0</td>\n",
              "      <td>0.0</td>\n",
              "      <td>0.0</td>\n",
              "      <td>0.0</td>\n",
              "      <td>0.0</td>\n",
              "      <td>0.0</td>\n",
              "      <td>0.0</td>\n",
              "      <td>0.0</td>\n",
              "    </tr>\n",
              "    <tr>\n",
              "      <th>4505</th>\n",
              "      <td>0.0</td>\n",
              "      <td>0.0</td>\n",
              "      <td>0.0</td>\n",
              "      <td>0.0</td>\n",
              "      <td>0.0</td>\n",
              "      <td>0.0</td>\n",
              "      <td>0.0</td>\n",
              "      <td>0.0</td>\n",
              "      <td>0.0</td>\n",
              "      <td>0.0</td>\n",
              "      <td>...</td>\n",
              "      <td>0.0</td>\n",
              "      <td>0.0</td>\n",
              "      <td>0.0</td>\n",
              "      <td>0.0</td>\n",
              "      <td>0.0</td>\n",
              "      <td>0.0</td>\n",
              "      <td>0.0</td>\n",
              "      <td>0.0</td>\n",
              "      <td>0.0</td>\n",
              "      <td>0.0</td>\n",
              "    </tr>\n",
              "    <tr>\n",
              "      <th>5624</th>\n",
              "      <td>0.0</td>\n",
              "      <td>0.0</td>\n",
              "      <td>0.0</td>\n",
              "      <td>0.0</td>\n",
              "      <td>0.0</td>\n",
              "      <td>0.0</td>\n",
              "      <td>0.0</td>\n",
              "      <td>0.0</td>\n",
              "      <td>0.0</td>\n",
              "      <td>0.0</td>\n",
              "      <td>...</td>\n",
              "      <td>0.0</td>\n",
              "      <td>0.0</td>\n",
              "      <td>0.0</td>\n",
              "      <td>0.0</td>\n",
              "      <td>0.0</td>\n",
              "      <td>0.0</td>\n",
              "      <td>0.0</td>\n",
              "      <td>0.0</td>\n",
              "      <td>0.0</td>\n",
              "      <td>0.0</td>\n",
              "    </tr>\n",
              "    <tr>\n",
              "      <th>5449</th>\n",
              "      <td>0.0</td>\n",
              "      <td>0.0</td>\n",
              "      <td>0.0</td>\n",
              "      <td>0.0</td>\n",
              "      <td>0.0</td>\n",
              "      <td>0.0</td>\n",
              "      <td>0.0</td>\n",
              "      <td>0.0</td>\n",
              "      <td>0.0</td>\n",
              "      <td>0.0</td>\n",
              "      <td>...</td>\n",
              "      <td>0.0</td>\n",
              "      <td>0.0</td>\n",
              "      <td>0.0</td>\n",
              "      <td>0.0</td>\n",
              "      <td>0.0</td>\n",
              "      <td>0.0</td>\n",
              "      <td>0.0</td>\n",
              "      <td>0.0</td>\n",
              "      <td>0.0</td>\n",
              "      <td>0.0</td>\n",
              "    </tr>\n",
              "  </tbody>\n",
              "</table>\n",
              "<p>5 rows × 25653 columns</p>\n",
              "</div>\n",
              "      <button class=\"colab-df-convert\" onclick=\"convertToInteractive('df-dce3844a-487e-4907-bd72-c32ee8f2e32f')\"\n",
              "              title=\"Convert this dataframe to an interactive table.\"\n",
              "              style=\"display:none;\">\n",
              "        \n",
              "  <svg xmlns=\"http://www.w3.org/2000/svg\" height=\"24px\"viewBox=\"0 0 24 24\"\n",
              "       width=\"24px\">\n",
              "    <path d=\"M0 0h24v24H0V0z\" fill=\"none\"/>\n",
              "    <path d=\"M18.56 5.44l.94 2.06.94-2.06 2.06-.94-2.06-.94-.94-2.06-.94 2.06-2.06.94zm-11 1L8.5 8.5l.94-2.06 2.06-.94-2.06-.94L8.5 2.5l-.94 2.06-2.06.94zm10 10l.94 2.06.94-2.06 2.06-.94-2.06-.94-.94-2.06-.94 2.06-2.06.94z\"/><path d=\"M17.41 7.96l-1.37-1.37c-.4-.4-.92-.59-1.43-.59-.52 0-1.04.2-1.43.59L10.3 9.45l-7.72 7.72c-.78.78-.78 2.05 0 2.83L4 21.41c.39.39.9.59 1.41.59.51 0 1.02-.2 1.41-.59l7.78-7.78 2.81-2.81c.8-.78.8-2.07 0-2.86zM5.41 20L4 18.59l7.72-7.72 1.47 1.35L5.41 20z\"/>\n",
              "  </svg>\n",
              "      </button>\n",
              "      \n",
              "  <style>\n",
              "    .colab-df-container {\n",
              "      display:flex;\n",
              "      flex-wrap:wrap;\n",
              "      gap: 12px;\n",
              "    }\n",
              "\n",
              "    .colab-df-convert {\n",
              "      background-color: #E8F0FE;\n",
              "      border: none;\n",
              "      border-radius: 50%;\n",
              "      cursor: pointer;\n",
              "      display: none;\n",
              "      fill: #1967D2;\n",
              "      height: 32px;\n",
              "      padding: 0 0 0 0;\n",
              "      width: 32px;\n",
              "    }\n",
              "\n",
              "    .colab-df-convert:hover {\n",
              "      background-color: #E2EBFA;\n",
              "      box-shadow: 0px 1px 2px rgba(60, 64, 67, 0.3), 0px 1px 3px 1px rgba(60, 64, 67, 0.15);\n",
              "      fill: #174EA6;\n",
              "    }\n",
              "\n",
              "    [theme=dark] .colab-df-convert {\n",
              "      background-color: #3B4455;\n",
              "      fill: #D2E3FC;\n",
              "    }\n",
              "\n",
              "    [theme=dark] .colab-df-convert:hover {\n",
              "      background-color: #434B5C;\n",
              "      box-shadow: 0px 1px 3px 1px rgba(0, 0, 0, 0.15);\n",
              "      filter: drop-shadow(0px 1px 2px rgba(0, 0, 0, 0.3));\n",
              "      fill: #FFFFFF;\n",
              "    }\n",
              "  </style>\n",
              "\n",
              "      <script>\n",
              "        const buttonEl =\n",
              "          document.querySelector('#df-dce3844a-487e-4907-bd72-c32ee8f2e32f button.colab-df-convert');\n",
              "        buttonEl.style.display =\n",
              "          google.colab.kernel.accessAllowed ? 'block' : 'none';\n",
              "\n",
              "        async function convertToInteractive(key) {\n",
              "          const element = document.querySelector('#df-dce3844a-487e-4907-bd72-c32ee8f2e32f');\n",
              "          const dataTable =\n",
              "            await google.colab.kernel.invokeFunction('convertToInteractive',\n",
              "                                                     [key], {});\n",
              "          if (!dataTable) return;\n",
              "\n",
              "          const docLinkHtml = 'Like what you see? Visit the ' +\n",
              "            '<a target=\"_blank\" href=https://colab.research.google.com/notebooks/data_table.ipynb>data table notebook</a>'\n",
              "            + ' to learn more about interactive tables.';\n",
              "          element.innerHTML = '';\n",
              "          dataTable['output_type'] = 'display_data';\n",
              "          await google.colab.output.renderOutput(dataTable, element);\n",
              "          const docLink = document.createElement('div');\n",
              "          docLink.innerHTML = docLinkHtml;\n",
              "          element.appendChild(docLink);\n",
              "        }\n",
              "      </script>\n",
              "    </div>\n",
              "  </div>\n",
              "  "
            ]
          },
          "metadata": {},
          "execution_count": 115
        }
      ]
    },
    {
      "cell_type": "code",
      "source": [
        "y_train.head()"
      ],
      "metadata": {
        "colab": {
          "base_uri": "https://localhost:8080/"
        },
        "id": "skaDueyIALfe",
        "outputId": "022ef41b-7ac7-4ba0-ba99-20e4b72fb6d2"
      },
      "execution_count": null,
      "outputs": [
        {
          "output_type": "execute_result",
          "data": {
            "text/plain": [
              "3216    0\n",
              "4773    0\n",
              "4505    0\n",
              "5624    0\n",
              "5449    0\n",
              "Name: spamOrNot, dtype: int64"
            ]
          },
          "metadata": {},
          "execution_count": 116
        }
      ]
    },
    {
      "cell_type": "code",
      "execution_count": null,
      "metadata": {
        "colab": {
          "base_uri": "https://localhost:8080/",
          "height": 112
        },
        "gradient": {
          "editing": false,
          "id": "4cfcbf09",
          "kernelId": "d1bfc924-61a6-48a4-b370-40dbb13a3636"
        },
        "id": "4cfcbf09",
        "outputId": "85f2da92-3eb5-4e5f-d460-9cf17985ad55"
      },
      "outputs": [
        {
          "output_type": "execute_result",
          "data": {
            "text/plain": [
              "                        Accuracy  Precision  Recall  F1-score  AUC-ROC score\n",
              "CART (spamCART)              0.0        0.0     0.0       0.0            0.0\n",
              "Random Forest (spamRF)       0.0        0.0     0.0       0.0            0.0"
            ],
            "text/html": [
              "\n",
              "  <div id=\"df-1ff090d5-221e-473f-abd7-b3e55a17c239\">\n",
              "    <div class=\"colab-df-container\">\n",
              "      <div>\n",
              "<style scoped>\n",
              "    .dataframe tbody tr th:only-of-type {\n",
              "        vertical-align: middle;\n",
              "    }\n",
              "\n",
              "    .dataframe tbody tr th {\n",
              "        vertical-align: top;\n",
              "    }\n",
              "\n",
              "    .dataframe thead th {\n",
              "        text-align: right;\n",
              "    }\n",
              "</style>\n",
              "<table border=\"1\" class=\"dataframe\">\n",
              "  <thead>\n",
              "    <tr style=\"text-align: right;\">\n",
              "      <th></th>\n",
              "      <th>Accuracy</th>\n",
              "      <th>Precision</th>\n",
              "      <th>Recall</th>\n",
              "      <th>F1-score</th>\n",
              "      <th>AUC-ROC score</th>\n",
              "    </tr>\n",
              "  </thead>\n",
              "  <tbody>\n",
              "    <tr>\n",
              "      <th>CART (spamCART)</th>\n",
              "      <td>0.0</td>\n",
              "      <td>0.0</td>\n",
              "      <td>0.0</td>\n",
              "      <td>0.0</td>\n",
              "      <td>0.0</td>\n",
              "    </tr>\n",
              "    <tr>\n",
              "      <th>Random Forest (spamRF)</th>\n",
              "      <td>0.0</td>\n",
              "      <td>0.0</td>\n",
              "      <td>0.0</td>\n",
              "      <td>0.0</td>\n",
              "      <td>0.0</td>\n",
              "    </tr>\n",
              "  </tbody>\n",
              "</table>\n",
              "</div>\n",
              "      <button class=\"colab-df-convert\" onclick=\"convertToInteractive('df-1ff090d5-221e-473f-abd7-b3e55a17c239')\"\n",
              "              title=\"Convert this dataframe to an interactive table.\"\n",
              "              style=\"display:none;\">\n",
              "        \n",
              "  <svg xmlns=\"http://www.w3.org/2000/svg\" height=\"24px\"viewBox=\"0 0 24 24\"\n",
              "       width=\"24px\">\n",
              "    <path d=\"M0 0h24v24H0V0z\" fill=\"none\"/>\n",
              "    <path d=\"M18.56 5.44l.94 2.06.94-2.06 2.06-.94-2.06-.94-.94-2.06-.94 2.06-2.06.94zm-11 1L8.5 8.5l.94-2.06 2.06-.94-2.06-.94L8.5 2.5l-.94 2.06-2.06.94zm10 10l.94 2.06.94-2.06 2.06-.94-2.06-.94-.94-2.06-.94 2.06-2.06.94z\"/><path d=\"M17.41 7.96l-1.37-1.37c-.4-.4-.92-.59-1.43-.59-.52 0-1.04.2-1.43.59L10.3 9.45l-7.72 7.72c-.78.78-.78 2.05 0 2.83L4 21.41c.39.39.9.59 1.41.59.51 0 1.02-.2 1.41-.59l7.78-7.78 2.81-2.81c.8-.78.8-2.07 0-2.86zM5.41 20L4 18.59l7.72-7.72 1.47 1.35L5.41 20z\"/>\n",
              "  </svg>\n",
              "      </button>\n",
              "      \n",
              "  <style>\n",
              "    .colab-df-container {\n",
              "      display:flex;\n",
              "      flex-wrap:wrap;\n",
              "      gap: 12px;\n",
              "    }\n",
              "\n",
              "    .colab-df-convert {\n",
              "      background-color: #E8F0FE;\n",
              "      border: none;\n",
              "      border-radius: 50%;\n",
              "      cursor: pointer;\n",
              "      display: none;\n",
              "      fill: #1967D2;\n",
              "      height: 32px;\n",
              "      padding: 0 0 0 0;\n",
              "      width: 32px;\n",
              "    }\n",
              "\n",
              "    .colab-df-convert:hover {\n",
              "      background-color: #E2EBFA;\n",
              "      box-shadow: 0px 1px 2px rgba(60, 64, 67, 0.3), 0px 1px 3px 1px rgba(60, 64, 67, 0.15);\n",
              "      fill: #174EA6;\n",
              "    }\n",
              "\n",
              "    [theme=dark] .colab-df-convert {\n",
              "      background-color: #3B4455;\n",
              "      fill: #D2E3FC;\n",
              "    }\n",
              "\n",
              "    [theme=dark] .colab-df-convert:hover {\n",
              "      background-color: #434B5C;\n",
              "      box-shadow: 0px 1px 3px 1px rgba(0, 0, 0, 0.15);\n",
              "      filter: drop-shadow(0px 1px 2px rgba(0, 0, 0, 0.3));\n",
              "      fill: #FFFFFF;\n",
              "    }\n",
              "  </style>\n",
              "\n",
              "      <script>\n",
              "        const buttonEl =\n",
              "          document.querySelector('#df-1ff090d5-221e-473f-abd7-b3e55a17c239 button.colab-df-convert');\n",
              "        buttonEl.style.display =\n",
              "          google.colab.kernel.accessAllowed ? 'block' : 'none';\n",
              "\n",
              "        async function convertToInteractive(key) {\n",
              "          const element = document.querySelector('#df-1ff090d5-221e-473f-abd7-b3e55a17c239');\n",
              "          const dataTable =\n",
              "            await google.colab.kernel.invokeFunction('convertToInteractive',\n",
              "                                                     [key], {});\n",
              "          if (!dataTable) return;\n",
              "\n",
              "          const docLinkHtml = 'Like what you see? Visit the ' +\n",
              "            '<a target=\"_blank\" href=https://colab.research.google.com/notebooks/data_table.ipynb>data table notebook</a>'\n",
              "            + ' to learn more about interactive tables.';\n",
              "          element.innerHTML = '';\n",
              "          dataTable['output_type'] = 'display_data';\n",
              "          await google.colab.output.renderOutput(dataTable, element);\n",
              "          const docLink = document.createElement('div');\n",
              "          docLink.innerHTML = docLinkHtml;\n",
              "          element.appendChild(docLink);\n",
              "        }\n",
              "      </script>\n",
              "    </div>\n",
              "  </div>\n",
              "  "
            ]
          },
          "metadata": {},
          "execution_count": 128
        }
      ],
      "source": [
        "#Lets create a table to store the results of various models \n",
        "\n",
        "metrics = pd.DataFrame(np.zeros((2,5)), columns=['Accuracy', 'Precision','Recall','F1-score','AUC-ROC score'])\n",
        "metrics.index=['CART (spamCART)','Random Forest (spamRF)']\n",
        "metrics\n"
      ]
    },
    {
      "cell_type": "code",
      "source": [
        "#Classification Summary Function\n",
        "def train_classification_summary(model, i):\n",
        "    training_acc = round(accuracy_score(y_train, model.predict(X_train)),3)*100  \n",
        "    print('{}{}\\033[1m Training Evaluation of {} \\033[0m{}{}\\n'.format('<'*3,'-'*35,metrics.index[i], '-'*35,'>'*3))\n",
        "    print('Training Accuracy = {}%'.format(training_acc))\n",
        "    print('\\n \\033[1mConfusiton Matrix:\\033[0m\\n',confusion_matrix(y_train, model.predict(X_train)))\n",
        "    print('\\n\\033[1mClassification Report:\\033[0m\\n',classification_report(y_train, model.predict(X_train)))\n",
        "    print(\"AUC: \", roc_auc_score(y_train, model.predict_proba(X_train)[:, 1]))\n",
        "    auc_roc(y_train, model.predict_proba(X_train), curves=['each_class'])\n",
        "    plt.show()"
      ],
      "metadata": {
        "id": "-nM_QPL7ZqS4"
      },
      "execution_count": null,
      "outputs": []
    },
    {
      "cell_type": "code",
      "execution_count": null,
      "metadata": {
        "gradient": {
          "editing": false,
          "id": "0bf1735b",
          "kernelId": "d1bfc924-61a6-48a4-b370-40dbb13a3636"
        },
        "id": "0bf1735b"
      },
      "outputs": [],
      "source": [
        "#Classification Summary Function\n",
        "def test_classification_summary(model, pred, i):\n",
        "    metrics.iloc[i]['Accuracy']=round(accuracy_score(y_test, pred),3)*100   \n",
        "    metrics.iloc[i]['Precision']=round(precision_score(y_test, pred),3)*100 #, average='weighted'\n",
        "    metrics.iloc[i]['Recall']=round(recall_score(y_test, pred),3)*100 #, average='weighted'\n",
        "    metrics.iloc[i]['F1-score']=round(f1_score(y_test, pred),3)*100 #, average='weighted'\n",
        "    metrics.iloc[i]['AUC-ROC score']=round(roc_auc_score(y_test, pred),3)*100 #, multi_class='ovr'\n",
        "    print('{}{}\\033[1m Testing Evaluation of {} \\033[0m{}{}\\n'.format('<'*3,'-'*35,metrics.index[i], '-'*35,'>'*3))\n",
        "    print('Testing Accuracy = {}%'.format(round(accuracy_score(y_test, pred),3)*100))\n",
        "    print('F1 Score = {}'.format(round(f1_score(y_test, pred),3)*100)) #, average='weighted'\n",
        "    print('\\n \\033[1mConfusiton Matrix:\\033[0m\\n',confusion_matrix(y_test, pred))\n",
        "    print('\\n\\033[1mClassification Report:\\033[0m\\n',classification_report(y_test, pred))\n",
        "    print(\"AUC: \", roc_auc_score(y_test, model.predict_proba(X_test)[:, 1]))\n",
        "    auc_roc(y_test, model.predict_proba(X_test), curves=['each_class'])\n",
        "    plt.show()\n"
      ]
    },
    {
      "cell_type": "markdown",
      "metadata": {
        "gradient": {
          "editing": false,
          "id": "3b572ffe",
          "kernelId": "d1bfc924-61a6-48a4-b370-40dbb13a3636"
        },
        "id": "3b572ffe"
      },
      "source": [
        "### **1. Classfication and Regression Tree (CART):**"
      ]
    },
    {
      "cell_type": "code",
      "execution_count": null,
      "metadata": {
        "colab": {
          "base_uri": "https://localhost:8080/",
          "height": 758
        },
        "gradient": {
          "editing": false,
          "id": "1f3116a4",
          "kernelId": "d1bfc924-61a6-48a4-b370-40dbb13a3636"
        },
        "id": "1f3116a4",
        "outputId": "6da5e817-28f4-4cbf-dbb2-0cc444b80ea6"
      },
      "outputs": [
        {
          "output_type": "stream",
          "name": "stdout",
          "text": [
            "<<<-----------------------------------\u001b[1m Training Evaluation of CART (spamCART) \u001b[0m----------------------------------->>>\n",
            "\n",
            "Training Accuracy = 100.0%\n",
            "\n",
            " \u001b[1mConfusiton Matrix:\u001b[0m\n",
            " [[3018    0]\n",
            " [   0  968]]\n",
            "\n",
            "\u001b[1mClassification Report:\u001b[0m\n",
            "               precision    recall  f1-score   support\n",
            "\n",
            "           0       1.00      1.00      1.00      3018\n",
            "           1       1.00      1.00      1.00       968\n",
            "\n",
            "    accuracy                           1.00      3986\n",
            "   macro avg       1.00      1.00      1.00      3986\n",
            "weighted avg       1.00      1.00      1.00      3986\n",
            "\n",
            "AUC:  1.0\n"
          ]
        },
        {
          "output_type": "stream",
          "name": "stderr",
          "text": [
            "/usr/local/lib/python3.7/dist-packages/sklearn/utils/deprecation.py:87: FutureWarning: Function plot_roc_curve is deprecated; This will be removed in v0.5.0. Please use scikitplot.metrics.plot_roc instead.\n",
            "  warnings.warn(msg, category=FutureWarning)\n"
          ]
        },
        {
          "output_type": "display_data",
          "data": {
            "text/plain": [
              "<Figure size 1080x576 with 1 Axes>"
            ],
            "image/png": "[encoded data removed]"
          },
          "metadata": {
            "needs_background": "light"
          }
        }
      ],
      "source": [
        "# Fitting the Classfication and Regression Tree (CART)\n",
        "\n",
        "np.random.seed(123)\n",
        "spamCART = DecisionTreeClassifier()\n",
        "cart = spamCART.fit(X_train, y_train)\n",
        "train_classification_summary(cart, 0)"
      ]
    },
    {
      "cell_type": "code",
      "source": [
        "plt.figure(figsize=(20,20))\n",
        "plot_tree(cart)\n",
        "plt.show()"
      ],
      "metadata": {
        "colab": {
          "base_uri": "https://localhost:8080/",
          "height": 646
        },
        "id": "ZbbjsbI2XM5e",
        "outputId": "063cf6a9-8b33-4d32-d086-2519d5b0fd9a"
      },
      "execution_count": null,
      "outputs": [
        {
          "output_type": "display_data",
          "data": {
            "text/plain": [
              "<Figure size 1440x1440 with 1 Axes>"
            ],
            "image/png": "[encoded data removed]"
          },
          "metadata": {
            "needs_background": "light"
          }
        }
      ]
    },
    {
      "cell_type": "markdown",
      "metadata": {
        "gradient": {
          "editing": false,
          "id": "3b572ffe",
          "kernelId": "d1bfc924-61a6-48a4-b370-40dbb13a3636"
        },
        "id": "kUqyMiEOVZyu"
      },
      "source": [
        "### **2. Random Forest Classifier (RF):**"
      ]
    },
    {
      "cell_type": "code",
      "source": [
        "# Fitting the Random Forest Classifier (RF)\n",
        "\n",
        "np.random.seed(123)\n",
        "spamRF = RandomForestClassifier()\n",
        "RF = spamRF.fit(X_train, y_train)\n",
        "train_classification_summary(RF, 1)"
      ],
      "metadata": {
        "colab": {
          "base_uri": "https://localhost:8080/",
          "height": 758
        },
        "id": "kE-I516aUZ-P",
        "outputId": "bfc0ec10-1971-48b4-bd08-3e3d033de0e2"
      },
      "execution_count": null,
      "outputs": [
        {
          "output_type": "stream",
          "name": "stdout",
          "text": [
            "<<<-----------------------------------\u001b[1m Training Evaluation of Random Forest (spamRF) \u001b[0m----------------------------------->>>\n",
            "\n",
            "Training Accuracy = 100.0%\n",
            "\n",
            " \u001b[1mConfusiton Matrix:\u001b[0m\n",
            " [[3018    0]\n",
            " [   0  968]]\n",
            "\n",
            "\u001b[1mClassification Report:\u001b[0m\n",
            "               precision    recall  f1-score   support\n",
            "\n",
            "           0       1.00      1.00      1.00      3018\n",
            "           1       1.00      1.00      1.00       968\n",
            "\n",
            "    accuracy                           1.00      3986\n",
            "   macro avg       1.00      1.00      1.00      3986\n",
            "weighted avg       1.00      1.00      1.00      3986\n",
            "\n",
            "AUC:  1.0\n"
          ]
        },
        {
          "output_type": "stream",
          "name": "stderr",
          "text": [
            "/usr/local/lib/python3.7/dist-packages/sklearn/utils/deprecation.py:87: FutureWarning: Function plot_roc_curve is deprecated; This will be removed in v0.5.0. Please use scikitplot.metrics.plot_roc instead.\n",
            "  warnings.warn(msg, category=FutureWarning)\n"
          ]
        },
        {
          "output_type": "display_data",
          "data": {
            "text/plain": [
              "<Figure size 1080x576 with 1 Axes>"
            ],
            "image/png": "[encoded data removed]"
          },
          "metadata": {
            "needs_background": "light"
          }
        }
      ]
    },
    {
      "cell_type": "markdown",
      "metadata": {
        "gradient": {
          "editing": false,
          "id": "JSxkMtOvlhh9",
          "kernelId": "d1bfc924-61a6-48a4-b370-40dbb13a3636"
        },
        "id": "ioVv9vj4Ywa9"
      },
      "source": [
        "### **4.1 – Evaluating on the Test Set**"
      ]
    },
    {
      "cell_type": "code",
      "source": [
        "pred = cart.predict(X_test)\n",
        "test_classification_summary(cart, pred, 0)"
      ],
      "metadata": {
        "colab": {
          "base_uri": "https://localhost:8080/",
          "height": 776
        },
        "id": "dNka8jt3azLg",
        "outputId": "7e9b529d-11ad-4b0f-d46b-2faf5e2816d7"
      },
      "execution_count": null,
      "outputs": [
        {
          "output_type": "stream",
          "name": "stdout",
          "text": [
            "<<<-----------------------------------\u001b[1m Testing Evaluation of CART (spamCART) \u001b[0m----------------------------------->>>\n",
            "\n",
            "Testing Accuracy = 95.5%\n",
            "F1 Score = 90.4\n",
            "\n",
            " \u001b[1mConfusiton Matrix:\u001b[0m\n",
            " [[1270   39]\n",
            " [  38  362]]\n",
            "\n",
            "\u001b[1mClassification Report:\u001b[0m\n",
            "               precision    recall  f1-score   support\n",
            "\n",
            "           0       0.97      0.97      0.97      1309\n",
            "           1       0.90      0.91      0.90       400\n",
            "\n",
            "    accuracy                           0.95      1709\n",
            "   macro avg       0.94      0.94      0.94      1709\n",
            "weighted avg       0.95      0.95      0.95      1709\n",
            "\n",
            "AUC:  0.9376031321619557\n"
          ]
        },
        {
          "output_type": "stream",
          "name": "stderr",
          "text": [
            "/usr/local/lib/python3.7/dist-packages/sklearn/utils/deprecation.py:87: FutureWarning: Function plot_roc_curve is deprecated; This will be removed in v0.5.0. Please use scikitplot.metrics.plot_roc instead.\n",
            "  warnings.warn(msg, category=FutureWarning)\n"
          ]
        },
        {
          "output_type": "display_data",
          "data": {
            "text/plain": [
              "<Figure size 1080x576 with 1 Axes>"
            ],
            "image/png": "[encoded data removed]"
          },
          "metadata": {
            "needs_background": "light"
          }
        }
      ]
    },
    {
      "cell_type": "code",
      "source": [
        "pred = RF.predict(X_test)\n",
        "test_classification_summary(RF, pred, 1)"
      ],
      "metadata": {
        "colab": {
          "base_uri": "https://localhost:8080/",
          "height": 776
        },
        "id": "n52yXb9Xbl0I",
        "outputId": "71f690ee-d5c8-4da5-e295-54dcc6478ba2"
      },
      "execution_count": null,
      "outputs": [
        {
          "output_type": "stream",
          "name": "stdout",
          "text": [
            "<<<-----------------------------------\u001b[1m Testing Evaluation of Random Forest (spamRF) \u001b[0m----------------------------------->>>\n",
            "\n",
            "Testing Accuracy = 97.39999999999999%\n",
            "F1 Score = 94.1\n",
            "\n",
            " \u001b[1mConfusiton Matrix:\u001b[0m\n",
            " [[1305    4]\n",
            " [  41  359]]\n",
            "\n",
            "\u001b[1mClassification Report:\u001b[0m\n",
            "               precision    recall  f1-score   support\n",
            "\n",
            "           0       0.97      1.00      0.98      1309\n",
            "           1       0.99      0.90      0.94       400\n",
            "\n",
            "    accuracy                           0.97      1709\n",
            "   macro avg       0.98      0.95      0.96      1709\n",
            "weighted avg       0.97      0.97      0.97      1709\n",
            "\n",
            "AUC:  0.9979153934300993\n"
          ]
        },
        {
          "output_type": "stream",
          "name": "stderr",
          "text": [
            "/usr/local/lib/python3.7/dist-packages/sklearn/utils/deprecation.py:87: FutureWarning: Function plot_roc_curve is deprecated; This will be removed in v0.5.0. Please use scikitplot.metrics.plot_roc instead.\n",
            "  warnings.warn(msg, category=FutureWarning)\n"
          ]
        },
        {
          "output_type": "display_data",
          "data": {
            "text/plain": [
              "<Figure size 1080x576 with 1 Axes>"
            ],
            "image/png": "[encoded data removed]"
          },
          "metadata": {
            "needs_background": "light"
          }
        }
      ]
    },
    {
      "cell_type": "markdown",
      "metadata": {
        "gradient": {
          "editing": false,
          "id": "fa368706",
          "kernelId": "d1bfc924-61a6-48a4-b370-40dbb13a3636"
        },
        "id": "fa368706"
      },
      "source": [
        "**Analysis:**  \n",
        "\n",
        "After comparing both the models,  we see that Random Forest outperforms the CART model in all the aspects such as AUC, Accuracy, Precision, recall and F1 Score."
      ]
    },
    {
      "cell_type": "markdown",
      "source": [
        "### **Conclusion -**\n",
        "\n",
        "Through this experiment, I understood how to analysis textual data.\n",
        "\n",
        "I understood how to preprocess text data, transform into vectorizers and then pass it for training.\n",
        "\n",
        "I also understood that ensemble models like random forests are a strong modeling technique and much more robust than a single decision tree. The aggregation of multiple decision trees limit overfitting as well as error due to bias and therefore yield useful results.\n"
      ],
      "metadata": {
        "id": "pXjWdv12DL4S"
      }
    }
  ]
}